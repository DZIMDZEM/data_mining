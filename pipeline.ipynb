{
 "cells": [
  {
   "cell_type": "code",
   "execution_count": 39,
   "outputs": [],
   "source": [
    "import time\n",
    "from typing import List\n",
    "\n",
    "import eli5\n",
    "import numpy as np\n",
    "import pandas as pd\n",
    "from catboost import CatBoostClassifier\n",
    "from category_encoders import TargetEncoder\n",
    "from lightgbm import LGBMClassifier\n",
    "from matplotlib import pyplot as plt\n",
    "from sklearn.base import BaseEstimator, TransformerMixin\n",
    "from sklearn.compose import ColumnTransformer\n",
    "from sklearn.dummy import DummyClassifier\n",
    "from sklearn.ensemble import RandomForestClassifier\n",
    "from sklearn.impute import SimpleImputer\n",
    "from sklearn.linear_model import LogisticRegression\n",
    "from sklearn.metrics import classification_report\n",
    "from sklearn.metrics import confusion_matrix\n",
    "from sklearn.neural_network import MLPClassifier\n",
    "from sklearn.pipeline import Pipeline\n",
    "from sklearn.pipeline import make_pipeline\n",
    "from sklearn.preprocessing import StandardScaler, OneHotEncoder\n",
    "from sklearn.svm import SVC\n",
    "from xgboost import XGBClassifier\n",
    "\n",
    "\n"
   ],
   "metadata": {
    "collapsed": false,
    "pycharm": {
     "name": "#%%\n"
    }
   }
  },
  {
   "cell_type": "code",
   "execution_count": 6,
   "outputs": [],
   "source": [
    "# plt.rcParams['figure.facecolor'] = 'white'"
   ],
   "metadata": {
    "collapsed": false,
    "pycharm": {
     "name": "#%%\n"
    }
   }
  },
  {
   "cell_type": "code",
   "execution_count": 7,
   "outputs": [],
   "source": [
    "# %load_ext autoreload\n",
    "# %autoreload 2"
   ],
   "metadata": {
    "collapsed": false,
    "pycharm": {
     "name": "#%%\n"
    }
   }
  },
  {
   "cell_type": "markdown",
   "source": [
    "#### Custom Transformers"
   ],
   "metadata": {
    "collapsed": false,
    "pycharm": {
     "name": "#%% md\n"
    }
   }
  },
  {
   "cell_type": "code",
   "execution_count": 8,
   "outputs": [],
   "source": [
    "# Define custom transformer to compute ratio of two columns\n",
    "class FraudFeatureGenerator(BaseEstimator, TransformerMixin):\n",
    "    def __init__(\n",
    "            self,\n",
    "            handle_unknown: str = \"ignore\",\n",
    "            unknown_value: float = 0.0,\n",
    "            ratio_upper_threshold: float = 100,\n",
    "            ratio_lower_threshold: float = 0,\n",
    "            algorithm: str = \"linear\",\n",
    "    ):\n",
    "        self.handle_unknown = handle_unknown\n",
    "        self.unknown_value = unknown_value\n",
    "        self.ratio_upper_threshold = ratio_upper_threshold\n",
    "        self.ratio_lower_threshold = ratio_lower_threshold\n",
    "        self.algorithm = algorithm\n",
    "\n",
    "        self.epsilon = 1e-4\n",
    "        self.numeric_features = [\n",
    "            'amount',\n",
    "            'oldbalanceOrg',\n",
    "            'newbalanceOrig',\n",
    "            'oldbalanceDest',\n",
    "            'newbalanceDest',\n",
    "        ]\n",
    "\n",
    "        self.medians = None\n",
    "        self.means = None\n",
    "        self.feature_names_out = None\n",
    "\n",
    "    def _compute_ratio_(self, X: pd.DataFrame, x_col: str, y_col: str) -> pd.Series:\n",
    "        ratios = X[x_col] / X[y_col]\n",
    "\n",
    "        # return pd.Series(np.where(ratios < self.ratio_threshold, self.ratio_threshold, ratios))\n",
    "        return ratios.apply(lambda x: np.where(x > self.ratio_upper_threshold, self.ratio_upper_threshold, x)).apply(\n",
    "            lambda x: np.where(x < self.ratio_lower_threshold, self.ratio_lower_threshold, x))\n",
    "\n",
    "    def fit(self, X, y=None) -> None:\n",
    "        self.means = {feat: X[feat].mean() for feat in self.numeric_features}\n",
    "        self.medians = {feat: X[feat].median() for feat in self.numeric_features}\n",
    "\n",
    "        return self\n",
    "\n",
    "    def transform(self, X: pd.DataFrame) -> pd.DataFrame:\n",
    "\n",
    "        new_df = pd.DataFrame()\n",
    "\n",
    "        for feat in self.numeric_features:\n",
    "            if feat != 'amount':\n",
    "                new_df[f'{feat}_amount_ratio'] = self._compute_ratio_(X, feat, 'amount')\n",
    "\n",
    "            if self.algorithm == 'linear':\n",
    "                new_df[f'{feat}_is_zero'] = (X[feat] > self.epsilon).astype(int)\n",
    "                new_df[f'{feat}_is_bigger_mean'] = (X[feat] > self.means[feat]).astype(int)\n",
    "                new_df[f'{feat}_is_bigger_median'] = (X[feat] > self.medians[feat]).astype(int)\n",
    "\n",
    "        new_df['dest_is_bigger_org'] = (X['oldbalanceDest'] > X['oldbalanceOrg']).astype(int)\n",
    "\n",
    "        self.feature_names_out = new_df.columns.tolist()\n",
    "\n",
    "        return new_df\n",
    "\n",
    "    def get_feature_names_out(self, input_features=None):\n",
    "        return self.feature_names_out"
   ],
   "metadata": {
    "collapsed": false,
    "pycharm": {
     "name": "#%%\n"
    }
   }
  },
  {
   "cell_type": "code",
   "execution_count": 9,
   "outputs": [],
   "source": [
    "class LogTransformer(TransformerMixin, BaseEstimator):\n",
    "    def __init__(self, handle_inf=\"median\", fill_value=0):\n",
    "        self.handle_inf = handle_inf\n",
    "        self.fill_value = fill_value\n",
    "        self.feature_names_out = None\n",
    "\n",
    "    def fit(self, X, y=None):\n",
    "\n",
    "        if self.handle_inf == \"median\":\n",
    "            logged_X = np.log(X)\n",
    "            self.fill_value = np.nanmedian(logged_X, axis=0)\n",
    "        elif self.handle_inf == \"mean\":\n",
    "            logged_X = np.log(X)\n",
    "            self.fill_value = np.nanmean(logged_X, axis=0)\n",
    "        elif self.handle_inf == \"const\":\n",
    "            pass\n",
    "\n",
    "        self.feature_names_out = [f\"{feat}_log\" for feat in X.columns]\n",
    "\n",
    "        return self\n",
    "\n",
    "    def transform(self, X):\n",
    "        logged_X = np.log(X)\n",
    "\n",
    "        return np.where(np.isinf(logged_X), np.expand_dims(self.fill_value, axis=0), logged_X)\n",
    "\n",
    "    def get_feature_names_out(self, input_features=None):\n",
    "        if input_features is not None:\n",
    "            return input_features\n",
    "\n",
    "        return self.feature_names_out\n"
   ],
   "metadata": {
    "collapsed": false,
    "pycharm": {
     "name": "#%%\n"
    }
   }
  },
  {
   "cell_type": "code",
   "execution_count": 10,
   "outputs": [],
   "source": [
    "class TargetEncoderFixed(TargetEncoder):\n",
    "    def get_feature_names_out(self, *arg, **kargs) -> List[str]:\n",
    "        return self.feature_names_out_"
   ],
   "metadata": {
    "collapsed": false,
    "pycharm": {
     "name": "#%%\n"
    }
   }
  },
  {
   "cell_type": "markdown",
   "source": [
    "#### Loading data"
   ],
   "metadata": {
    "collapsed": false,
    "pycharm": {
     "name": "#%% md\n"
    }
   }
  },
  {
   "cell_type": "code",
   "execution_count": 11,
   "outputs": [],
   "source": [
    "fraud = pd.read_csv(r'onlinefraud\\onlinefraud.csv', nrows=500000)  #nrows=100000"
   ],
   "metadata": {
    "collapsed": false,
    "pycharm": {
     "name": "#%%\n"
    }
   }
  },
  {
   "cell_type": "code",
   "execution_count": 12,
   "outputs": [],
   "source": [
    "d = fraud.head(1000)"
   ],
   "metadata": {
    "collapsed": false,
    "pycharm": {
     "name": "#%%\n"
    }
   }
  },
  {
   "cell_type": "code",
   "execution_count": 13,
   "outputs": [],
   "source": [
    "data = fraud"
   ],
   "metadata": {
    "collapsed": false,
    "pycharm": {
     "name": "#%%\n"
    }
   }
  },
  {
   "cell_type": "markdown",
   "metadata": {
    "pycharm": {
     "name": "#%% md\n"
    }
   },
   "source": [
    "#### Features"
   ]
  },
  {
   "cell_type": "code",
   "execution_count": 14,
   "outputs": [],
   "source": [
    "features_to_exclude = [\n",
    "    'isFlaggedFraud',\n",
    "    'nameOrig',\n",
    "    'nameDest',\n",
    "]"
   ],
   "metadata": {
    "collapsed": false,
    "pycharm": {
     "name": "#%%\n"
    }
   }
  },
  {
   "cell_type": "code",
   "execution_count": 15,
   "outputs": [
    {
     "data": {
      "text/plain": "['isFlaggedFraud', 'nameOrig', 'nameDest']"
     },
     "execution_count": 15,
     "metadata": {},
     "output_type": "execute_result"
    }
   ],
   "source": [
    "features_to_exclude"
   ],
   "metadata": {
    "collapsed": false,
    "pycharm": {
     "name": "#%%\n"
    }
   }
  },
  {
   "cell_type": "code",
   "execution_count": 16,
   "metadata": {
    "pycharm": {
     "name": "#%%\n"
    }
   },
   "outputs": [],
   "source": [
    "target_features = ['isFraud', 'isFlaggedFraud']\n",
    "\n",
    "target = \"isFraud\""
   ]
  },
  {
   "cell_type": "code",
   "execution_count": 17,
   "outputs": [],
   "source": [
    "features = [col for col in data.columns if col not in target_features + features_to_exclude]"
   ],
   "metadata": {
    "collapsed": false,
    "pycharm": {
     "name": "#%%\n"
    }
   }
  },
  {
   "cell_type": "code",
   "execution_count": 18,
   "outputs": [
    {
     "data": {
      "text/plain": "Index(['step', 'type', 'amount', 'nameOrig', 'oldbalanceOrg', 'newbalanceOrig',\n       'nameDest', 'oldbalanceDest', 'newbalanceDest', 'isFraud',\n       'isFlaggedFraud'],\n      dtype='object')"
     },
     "execution_count": 18,
     "metadata": {},
     "output_type": "execute_result"
    }
   ],
   "source": [
    "data.columns"
   ],
   "metadata": {
    "collapsed": false,
    "pycharm": {
     "name": "#%%\n"
    }
   }
  },
  {
   "cell_type": "code",
   "execution_count": 19,
   "outputs": [],
   "source": [
    "numeric_features = [\n",
    "    \"amount\",\n",
    "    \"oldbalanceOrg\",\n",
    "    \"newbalanceOrig\",\n",
    "    \"oldbalanceDest\",\n",
    "    \"newbalanceDest\",\n",
    "]"
   ],
   "metadata": {
    "collapsed": false,
    "pycharm": {
     "name": "#%%\n"
    }
   }
  },
  {
   "cell_type": "code",
   "execution_count": 20,
   "metadata": {
    "pycharm": {
     "name": "#%%\n"
    }
   },
   "outputs": [],
   "source": [
    "nominal_features = [\n",
    "    \"type\",\n",
    "]"
   ]
  },
  {
   "cell_type": "code",
   "execution_count": 21,
   "metadata": {
    "pycharm": {
     "name": "#%%\n"
    }
   },
   "outputs": [
    {
     "data": {
      "text/plain": "   step      type    amount  oldbalanceOrg  newbalanceOrig  oldbalanceDest  \\\n0     1   PAYMENT   9839.64       170136.0       160296.36             0.0   \n1     1   PAYMENT   1864.28        21249.0        19384.72             0.0   \n2     1  TRANSFER    181.00          181.0            0.00             0.0   \n3     1  CASH_OUT    181.00          181.0            0.00         21182.0   \n4     1   PAYMENT  11668.14        41554.0        29885.86             0.0   \n\n   newbalanceDest  \n0             0.0  \n1             0.0  \n2             0.0  \n3             0.0  \n4             0.0  ",
      "text/html": "<div>\n<style scoped>\n    .dataframe tbody tr th:only-of-type {\n        vertical-align: middle;\n    }\n\n    .dataframe tbody tr th {\n        vertical-align: top;\n    }\n\n    .dataframe thead th {\n        text-align: right;\n    }\n</style>\n<table border=\"1\" class=\"dataframe\">\n  <thead>\n    <tr style=\"text-align: right;\">\n      <th></th>\n      <th>step</th>\n      <th>type</th>\n      <th>amount</th>\n      <th>oldbalanceOrg</th>\n      <th>newbalanceOrig</th>\n      <th>oldbalanceDest</th>\n      <th>newbalanceDest</th>\n    </tr>\n  </thead>\n  <tbody>\n    <tr>\n      <th>0</th>\n      <td>1</td>\n      <td>PAYMENT</td>\n      <td>9839.64</td>\n      <td>170136.0</td>\n      <td>160296.36</td>\n      <td>0.0</td>\n      <td>0.0</td>\n    </tr>\n    <tr>\n      <th>1</th>\n      <td>1</td>\n      <td>PAYMENT</td>\n      <td>1864.28</td>\n      <td>21249.0</td>\n      <td>19384.72</td>\n      <td>0.0</td>\n      <td>0.0</td>\n    </tr>\n    <tr>\n      <th>2</th>\n      <td>1</td>\n      <td>TRANSFER</td>\n      <td>181.00</td>\n      <td>181.0</td>\n      <td>0.00</td>\n      <td>0.0</td>\n      <td>0.0</td>\n    </tr>\n    <tr>\n      <th>3</th>\n      <td>1</td>\n      <td>CASH_OUT</td>\n      <td>181.00</td>\n      <td>181.0</td>\n      <td>0.00</td>\n      <td>21182.0</td>\n      <td>0.0</td>\n    </tr>\n    <tr>\n      <th>4</th>\n      <td>1</td>\n      <td>PAYMENT</td>\n      <td>11668.14</td>\n      <td>41554.0</td>\n      <td>29885.86</td>\n      <td>0.0</td>\n      <td>0.0</td>\n    </tr>\n  </tbody>\n</table>\n</div>"
     },
     "execution_count": 21,
     "metadata": {},
     "output_type": "execute_result"
    }
   ],
   "source": [
    "data[features].head()"
   ]
  },
  {
   "cell_type": "code",
   "execution_count": 22,
   "outputs": [
    {
     "data": {
      "text/plain": "   step      type    amount     nameOrig  oldbalanceOrg  newbalanceOrig  \\\n0     1   PAYMENT   9839.64  C1231006815       170136.0       160296.36   \n1     1   PAYMENT   1864.28  C1666544295        21249.0        19384.72   \n2     1  TRANSFER    181.00  C1305486145          181.0            0.00   \n3     1  CASH_OUT    181.00   C840083671          181.0            0.00   \n4     1   PAYMENT  11668.14  C2048537720        41554.0        29885.86   \n\n      nameDest  oldbalanceDest  newbalanceDest  isFraud  isFlaggedFraud  \n0  M1979787155             0.0             0.0        0               0  \n1  M2044282225             0.0             0.0        0               0  \n2   C553264065             0.0             0.0        1               0  \n3    C38997010         21182.0             0.0        1               0  \n4  M1230701703             0.0             0.0        0               0  ",
      "text/html": "<div>\n<style scoped>\n    .dataframe tbody tr th:only-of-type {\n        vertical-align: middle;\n    }\n\n    .dataframe tbody tr th {\n        vertical-align: top;\n    }\n\n    .dataframe thead th {\n        text-align: right;\n    }\n</style>\n<table border=\"1\" class=\"dataframe\">\n  <thead>\n    <tr style=\"text-align: right;\">\n      <th></th>\n      <th>step</th>\n      <th>type</th>\n      <th>amount</th>\n      <th>nameOrig</th>\n      <th>oldbalanceOrg</th>\n      <th>newbalanceOrig</th>\n      <th>nameDest</th>\n      <th>oldbalanceDest</th>\n      <th>newbalanceDest</th>\n      <th>isFraud</th>\n      <th>isFlaggedFraud</th>\n    </tr>\n  </thead>\n  <tbody>\n    <tr>\n      <th>0</th>\n      <td>1</td>\n      <td>PAYMENT</td>\n      <td>9839.64</td>\n      <td>C1231006815</td>\n      <td>170136.0</td>\n      <td>160296.36</td>\n      <td>M1979787155</td>\n      <td>0.0</td>\n      <td>0.0</td>\n      <td>0</td>\n      <td>0</td>\n    </tr>\n    <tr>\n      <th>1</th>\n      <td>1</td>\n      <td>PAYMENT</td>\n      <td>1864.28</td>\n      <td>C1666544295</td>\n      <td>21249.0</td>\n      <td>19384.72</td>\n      <td>M2044282225</td>\n      <td>0.0</td>\n      <td>0.0</td>\n      <td>0</td>\n      <td>0</td>\n    </tr>\n    <tr>\n      <th>2</th>\n      <td>1</td>\n      <td>TRANSFER</td>\n      <td>181.00</td>\n      <td>C1305486145</td>\n      <td>181.0</td>\n      <td>0.00</td>\n      <td>C553264065</td>\n      <td>0.0</td>\n      <td>0.0</td>\n      <td>1</td>\n      <td>0</td>\n    </tr>\n    <tr>\n      <th>3</th>\n      <td>1</td>\n      <td>CASH_OUT</td>\n      <td>181.00</td>\n      <td>C840083671</td>\n      <td>181.0</td>\n      <td>0.00</td>\n      <td>C38997010</td>\n      <td>21182.0</td>\n      <td>0.0</td>\n      <td>1</td>\n      <td>0</td>\n    </tr>\n    <tr>\n      <th>4</th>\n      <td>1</td>\n      <td>PAYMENT</td>\n      <td>11668.14</td>\n      <td>C2048537720</td>\n      <td>41554.0</td>\n      <td>29885.86</td>\n      <td>M1230701703</td>\n      <td>0.0</td>\n      <td>0.0</td>\n      <td>0</td>\n      <td>0</td>\n    </tr>\n  </tbody>\n</table>\n</div>"
     },
     "execution_count": 22,
     "metadata": {},
     "output_type": "execute_result"
    }
   ],
   "source": [
    "data.head()"
   ],
   "metadata": {
    "collapsed": false,
    "pycharm": {
     "name": "#%%\n"
    }
   }
  },
  {
   "cell_type": "markdown",
   "source": [
    "#### Pipelines"
   ],
   "metadata": {
    "collapsed": false,
    "pycharm": {
     "name": "#%% md\n"
    }
   }
  },
  {
   "cell_type": "code",
   "execution_count": 23,
   "outputs": [],
   "source": [
    "linear_generator = ColumnTransformer(\n",
    "    transformers=[\n",
    "        ('ffg', FraudFeatureGenerator(), numeric_features),\n",
    "        ('cat', OneHotEncoder(handle_unknown=\"ignore\"), nominal_features),\n",
    "    ],\n",
    "    remainder='drop'\n",
    ")\n",
    "\n",
    "linear_preprocessor = ColumnTransformer(\n",
    "    transformers=[\n",
    "        ('log', LogTransformer(handle_inf='const', fill_value=0), numeric_features),\n",
    "        ('scl', StandardScaler(), numeric_features),\n",
    "    ],\n",
    "    remainder='drop'\n",
    ")\n",
    "\n",
    "liner_data_pipeline = ColumnTransformer(\n",
    "    transformers=[\n",
    "        ('generator', linear_generator, features),\n",
    "        ('preprocessor', linear_preprocessor, features),\n",
    "    ],\n",
    "    remainder='drop'\n",
    ")\n",
    "\n",
    "# Define the pipeline\n",
    "pipeline = Pipeline([\n",
    "    ('general_proc', liner_data_pipeline),\n",
    "    ('regressor', LogisticRegression())\n",
    "])"
   ],
   "metadata": {
    "collapsed": false,
    "pycharm": {
     "name": "#%%\n"
    }
   }
  },
  {
   "cell_type": "code",
   "execution_count": 24,
   "outputs": [],
   "source": [
    "tree_generator = ColumnTransformer(\n",
    "    transformers=[\n",
    "        ('ffg', FraudFeatureGenerator(algorithm='tree'), numeric_features),\n",
    "        ('cat', TargetEncoderFixed(handle_unknown=\"median\"), nominal_features),\n",
    "    ],\n",
    "    remainder='drop'\n",
    ")\n",
    "\n",
    "tree_preprocessor = ColumnTransformer(\n",
    "    transformers=[\n",
    "        ('imputer', SimpleImputer(fill_value=-1), numeric_features),\n",
    "    ],\n",
    "    remainder='drop'\n",
    ")\n",
    "\n",
    "tree_data_pipeline = ColumnTransformer(\n",
    "    transformers=[\n",
    "        ('generator', tree_generator, features),\n",
    "        ('preprocessor', tree_preprocessor, features),\n",
    "    ],\n",
    "    remainder='drop'\n",
    ")\n",
    "\n",
    "# Define the pipeline\n",
    "pipeline = Pipeline([\n",
    "    ('general_proc', tree_data_pipeline),\n",
    "    ('regressor', RandomForestClassifier())\n",
    "])\n"
   ],
   "metadata": {
    "collapsed": false,
    "pycharm": {
     "name": "#%%\n"
    }
   }
  },
  {
   "cell_type": "markdown",
   "source": [
    "##### test transformers"
   ],
   "metadata": {
    "collapsed": false,
    "pycharm": {
     "name": "#%% md\n"
    }
   }
  },
  {
   "cell_type": "code",
   "execution_count": 25,
   "outputs": [
    {
     "data": {
      "text/plain": "array([[17.2908765 , 16.2908765 ,  0.        ,  0.        ,  0.        ,\n         0.        ],\n       [11.39796597, 10.39796597,  0.        ,  0.        ,  0.        ,\n         0.        ],\n       [ 1.        ,  0.        ,  0.        ,  0.        ,  0.        ,\n         0.0403924 ],\n       ...,\n       [ 5.45425101,  4.45425101,  0.        ,  0.        ,  0.        ,\n         0.        ],\n       [ 7.7631187 ,  6.7631187 ,  0.        ,  0.        ,  0.        ,\n         0.        ],\n       [ 0.23593371,  0.        ,  0.        ,  0.        ,  0.        ,\n         0.        ]])"
     },
     "execution_count": 25,
     "metadata": {},
     "output_type": "execute_result"
    }
   ],
   "source": [
    "tree_generator.fit_transform(d, d['isFraud'])"
   ],
   "metadata": {
    "collapsed": false,
    "pycharm": {
     "name": "#%%\n"
    }
   }
  },
  {
   "cell_type": "code",
   "execution_count": 26,
   "outputs": [
    {
     "data": {
      "text/plain": "array(['ffg__oldbalanceOrg_amount_ratio',\n       'ffg__newbalanceOrig_amount_ratio',\n       'ffg__oldbalanceDest_amount_ratio',\n       'ffg__newbalanceDest_amount_ratio', 'ffg__dest_is_bigger_org',\n       'cat__type'], dtype=object)"
     },
     "execution_count": 26,
     "metadata": {},
     "output_type": "execute_result"
    }
   ],
   "source": [
    "tree_generator.get_feature_names_out()"
   ],
   "metadata": {
    "collapsed": false,
    "pycharm": {
     "name": "#%%\n"
    }
   }
  },
  {
   "cell_type": "code",
   "execution_count": 23,
   "outputs": [],
   "source": [
    "# generator.fit_transform(d)"
   ],
   "metadata": {
    "collapsed": false,
    "pycharm": {
     "name": "#%%\n"
    }
   }
  },
  {
   "cell_type": "code",
   "execution_count": 24,
   "outputs": [],
   "source": [
    "# generator.get_feature_names_out()"
   ],
   "metadata": {
    "collapsed": false,
    "pycharm": {
     "name": "#%%\n"
    }
   }
  },
  {
   "cell_type": "code",
   "execution_count": 25,
   "outputs": [],
   "source": [
    "# preprocessor.fit_transform(d)"
   ],
   "metadata": {
    "collapsed": false,
    "pycharm": {
     "name": "#%%\n"
    }
   }
  },
  {
   "cell_type": "code",
   "execution_count": 26,
   "outputs": [
    {
     "data": {
      "text/plain": "Pipeline(steps=[('general_proc',\n                 ColumnTransformer(transformers=[('generator',\n                                                  ColumnTransformer(transformers=[('ffg',\n                                                                                   FraudFeatureGenerator(algorithm='tree'),\n                                                                                   ['amount',\n                                                                                    'oldbalanceOrg',\n                                                                                    'newbalanceOrig',\n                                                                                    'oldbalanceDest',\n                                                                                    'newbalanceDest']),\n                                                                                  ('cat',\n                                                                                   TargetEncoderFixed(handle_unknown='median'),\n                                                                                   ['type'])]),\n                                                  ['step', 'type', 'amount',\n                                                   'oldbalanceOrg',\n                                                   'newbalanceOrig',\n                                                   'oldbalanceDest',\n                                                   'newbalanceDest']),\n                                                 ('preprocessor',\n                                                  ColumnTransformer(transformers=[('imputer',\n                                                                                   SimpleImputer(fill_value=-1),\n                                                                                   ['amount',\n                                                                                    'oldbalanceOrg',\n                                                                                    'newbalanceOrig',\n                                                                                    'oldbalanceDest',\n                                                                                    'newbalanceDest'])]),\n                                                  ['step', 'type', 'amount',\n                                                   'oldbalanceOrg',\n                                                   'newbalanceOrig',\n                                                   'oldbalanceDest',\n                                                   'newbalanceDest'])])),\n                ('regressor', RandomForestClassifier())])",
      "text/html": "<style>#sk-container-id-1 {color: black;background-color: white;}#sk-container-id-1 pre{padding: 0;}#sk-container-id-1 div.sk-toggleable {background-color: white;}#sk-container-id-1 label.sk-toggleable__label {cursor: pointer;display: block;width: 100%;margin-bottom: 0;padding: 0.3em;box-sizing: border-box;text-align: center;}#sk-container-id-1 label.sk-toggleable__label-arrow:before {content: \"▸\";float: left;margin-right: 0.25em;color: #696969;}#sk-container-id-1 label.sk-toggleable__label-arrow:hover:before {color: black;}#sk-container-id-1 div.sk-estimator:hover label.sk-toggleable__label-arrow:before {color: black;}#sk-container-id-1 div.sk-toggleable__content {max-height: 0;max-width: 0;overflow: hidden;text-align: left;background-color: #f0f8ff;}#sk-container-id-1 div.sk-toggleable__content pre {margin: 0.2em;color: black;border-radius: 0.25em;background-color: #f0f8ff;}#sk-container-id-1 input.sk-toggleable__control:checked~div.sk-toggleable__content {max-height: 200px;max-width: 100%;overflow: auto;}#sk-container-id-1 input.sk-toggleable__control:checked~label.sk-toggleable__label-arrow:before {content: \"▾\";}#sk-container-id-1 div.sk-estimator input.sk-toggleable__control:checked~label.sk-toggleable__label {background-color: #d4ebff;}#sk-container-id-1 div.sk-label input.sk-toggleable__control:checked~label.sk-toggleable__label {background-color: #d4ebff;}#sk-container-id-1 input.sk-hidden--visually {border: 0;clip: rect(1px 1px 1px 1px);clip: rect(1px, 1px, 1px, 1px);height: 1px;margin: -1px;overflow: hidden;padding: 0;position: absolute;width: 1px;}#sk-container-id-1 div.sk-estimator {font-family: monospace;background-color: #f0f8ff;border: 1px dotted black;border-radius: 0.25em;box-sizing: border-box;margin-bottom: 0.5em;}#sk-container-id-1 div.sk-estimator:hover {background-color: #d4ebff;}#sk-container-id-1 div.sk-parallel-item::after {content: \"\";width: 100%;border-bottom: 1px solid gray;flex-grow: 1;}#sk-container-id-1 div.sk-label:hover label.sk-toggleable__label {background-color: #d4ebff;}#sk-container-id-1 div.sk-serial::before {content: \"\";position: absolute;border-left: 1px solid gray;box-sizing: border-box;top: 0;bottom: 0;left: 50%;z-index: 0;}#sk-container-id-1 div.sk-serial {display: flex;flex-direction: column;align-items: center;background-color: white;padding-right: 0.2em;padding-left: 0.2em;position: relative;}#sk-container-id-1 div.sk-item {position: relative;z-index: 1;}#sk-container-id-1 div.sk-parallel {display: flex;align-items: stretch;justify-content: center;background-color: white;position: relative;}#sk-container-id-1 div.sk-item::before, #sk-container-id-1 div.sk-parallel-item::before {content: \"\";position: absolute;border-left: 1px solid gray;box-sizing: border-box;top: 0;bottom: 0;left: 50%;z-index: -1;}#sk-container-id-1 div.sk-parallel-item {display: flex;flex-direction: column;z-index: 1;position: relative;background-color: white;}#sk-container-id-1 div.sk-parallel-item:first-child::after {align-self: flex-end;width: 50%;}#sk-container-id-1 div.sk-parallel-item:last-child::after {align-self: flex-start;width: 50%;}#sk-container-id-1 div.sk-parallel-item:only-child::after {width: 0;}#sk-container-id-1 div.sk-dashed-wrapped {border: 1px dashed gray;margin: 0 0.4em 0.5em 0.4em;box-sizing: border-box;padding-bottom: 0.4em;background-color: white;}#sk-container-id-1 div.sk-label label {font-family: monospace;font-weight: bold;display: inline-block;line-height: 1.2em;}#sk-container-id-1 div.sk-label-container {text-align: center;}#sk-container-id-1 div.sk-container {/* jupyter's `normalize.less` sets `[hidden] { display: none; }` but bootstrap.min.css set `[hidden] { display: none !important; }` so we also need the `!important` here to be able to override the default hidden behavior on the sphinx rendered scikit-learn.org. See: https://github.com/scikit-learn/scikit-learn/issues/21755 */display: inline-block !important;position: relative;}#sk-container-id-1 div.sk-text-repr-fallback {display: none;}</style><div id=\"sk-container-id-1\" class=\"sk-top-container\"><div class=\"sk-text-repr-fallback\"><pre>Pipeline(steps=[(&#x27;general_proc&#x27;,\n                 ColumnTransformer(transformers=[(&#x27;generator&#x27;,\n                                                  ColumnTransformer(transformers=[(&#x27;ffg&#x27;,\n                                                                                   FraudFeatureGenerator(algorithm=&#x27;tree&#x27;),\n                                                                                   [&#x27;amount&#x27;,\n                                                                                    &#x27;oldbalanceOrg&#x27;,\n                                                                                    &#x27;newbalanceOrig&#x27;,\n                                                                                    &#x27;oldbalanceDest&#x27;,\n                                                                                    &#x27;newbalanceDest&#x27;]),\n                                                                                  (&#x27;cat&#x27;,\n                                                                                   TargetEncoderFixed(handle_unknown=&#x27;median&#x27;),\n                                                                                   [&#x27;type&#x27;])]),\n                                                  [&#x27;step&#x27;, &#x27;type&#x27;, &#x27;amount&#x27;,\n                                                   &#x27;oldbalanceOrg&#x27;,\n                                                   &#x27;newbalanceOrig&#x27;,\n                                                   &#x27;oldbalanceDest&#x27;,\n                                                   &#x27;newbalanceDest&#x27;]),\n                                                 (&#x27;preprocessor&#x27;,\n                                                  ColumnTransformer(transformers=[(&#x27;imputer&#x27;,\n                                                                                   SimpleImputer(fill_value=-1),\n                                                                                   [&#x27;amount&#x27;,\n                                                                                    &#x27;oldbalanceOrg&#x27;,\n                                                                                    &#x27;newbalanceOrig&#x27;,\n                                                                                    &#x27;oldbalanceDest&#x27;,\n                                                                                    &#x27;newbalanceDest&#x27;])]),\n                                                  [&#x27;step&#x27;, &#x27;type&#x27;, &#x27;amount&#x27;,\n                                                   &#x27;oldbalanceOrg&#x27;,\n                                                   &#x27;newbalanceOrig&#x27;,\n                                                   &#x27;oldbalanceDest&#x27;,\n                                                   &#x27;newbalanceDest&#x27;])])),\n                (&#x27;regressor&#x27;, RandomForestClassifier())])</pre><b>In a Jupyter environment, please rerun this cell to show the HTML representation or trust the notebook. <br />On GitHub, the HTML representation is unable to render, please try loading this page with nbviewer.org.</b></div><div class=\"sk-container\" hidden><div class=\"sk-item sk-dashed-wrapped\"><div class=\"sk-label-container\"><div class=\"sk-label sk-toggleable\"><input class=\"sk-toggleable__control sk-hidden--visually\" id=\"sk-estimator-id-1\" type=\"checkbox\" ><label for=\"sk-estimator-id-1\" class=\"sk-toggleable__label sk-toggleable__label-arrow\">Pipeline</label><div class=\"sk-toggleable__content\"><pre>Pipeline(steps=[(&#x27;general_proc&#x27;,\n                 ColumnTransformer(transformers=[(&#x27;generator&#x27;,\n                                                  ColumnTransformer(transformers=[(&#x27;ffg&#x27;,\n                                                                                   FraudFeatureGenerator(algorithm=&#x27;tree&#x27;),\n                                                                                   [&#x27;amount&#x27;,\n                                                                                    &#x27;oldbalanceOrg&#x27;,\n                                                                                    &#x27;newbalanceOrig&#x27;,\n                                                                                    &#x27;oldbalanceDest&#x27;,\n                                                                                    &#x27;newbalanceDest&#x27;]),\n                                                                                  (&#x27;cat&#x27;,\n                                                                                   TargetEncoderFixed(handle_unknown=&#x27;median&#x27;),\n                                                                                   [&#x27;type&#x27;])]),\n                                                  [&#x27;step&#x27;, &#x27;type&#x27;, &#x27;amount&#x27;,\n                                                   &#x27;oldbalanceOrg&#x27;,\n                                                   &#x27;newbalanceOrig&#x27;,\n                                                   &#x27;oldbalanceDest&#x27;,\n                                                   &#x27;newbalanceDest&#x27;]),\n                                                 (&#x27;preprocessor&#x27;,\n                                                  ColumnTransformer(transformers=[(&#x27;imputer&#x27;,\n                                                                                   SimpleImputer(fill_value=-1),\n                                                                                   [&#x27;amount&#x27;,\n                                                                                    &#x27;oldbalanceOrg&#x27;,\n                                                                                    &#x27;newbalanceOrig&#x27;,\n                                                                                    &#x27;oldbalanceDest&#x27;,\n                                                                                    &#x27;newbalanceDest&#x27;])]),\n                                                  [&#x27;step&#x27;, &#x27;type&#x27;, &#x27;amount&#x27;,\n                                                   &#x27;oldbalanceOrg&#x27;,\n                                                   &#x27;newbalanceOrig&#x27;,\n                                                   &#x27;oldbalanceDest&#x27;,\n                                                   &#x27;newbalanceDest&#x27;])])),\n                (&#x27;regressor&#x27;, RandomForestClassifier())])</pre></div></div></div><div class=\"sk-serial\"><div class=\"sk-item sk-dashed-wrapped\"><div class=\"sk-label-container\"><div class=\"sk-label sk-toggleable\"><input class=\"sk-toggleable__control sk-hidden--visually\" id=\"sk-estimator-id-2\" type=\"checkbox\" ><label for=\"sk-estimator-id-2\" class=\"sk-toggleable__label sk-toggleable__label-arrow\">general_proc: ColumnTransformer</label><div class=\"sk-toggleable__content\"><pre>ColumnTransformer(transformers=[(&#x27;generator&#x27;,\n                                 ColumnTransformer(transformers=[(&#x27;ffg&#x27;,\n                                                                  FraudFeatureGenerator(algorithm=&#x27;tree&#x27;),\n                                                                  [&#x27;amount&#x27;,\n                                                                   &#x27;oldbalanceOrg&#x27;,\n                                                                   &#x27;newbalanceOrig&#x27;,\n                                                                   &#x27;oldbalanceDest&#x27;,\n                                                                   &#x27;newbalanceDest&#x27;]),\n                                                                 (&#x27;cat&#x27;,\n                                                                  TargetEncoderFixed(handle_unknown=&#x27;median&#x27;),\n                                                                  [&#x27;type&#x27;])]),\n                                 [&#x27;step&#x27;, &#x27;type&#x27;, &#x27;amount&#x27;, &#x27;oldbalanceOrg&#x27;,\n                                  &#x27;newbalanceOrig&#x27;, &#x27;oldbalanceDest&#x27;,\n                                  &#x27;newbalanceDest&#x27;]),\n                                (&#x27;preprocessor&#x27;,\n                                 ColumnTransformer(transformers=[(&#x27;imputer&#x27;,\n                                                                  SimpleImputer(fill_value=-1),\n                                                                  [&#x27;amount&#x27;,\n                                                                   &#x27;oldbalanceOrg&#x27;,\n                                                                   &#x27;newbalanceOrig&#x27;,\n                                                                   &#x27;oldbalanceDest&#x27;,\n                                                                   &#x27;newbalanceDest&#x27;])]),\n                                 [&#x27;step&#x27;, &#x27;type&#x27;, &#x27;amount&#x27;, &#x27;oldbalanceOrg&#x27;,\n                                  &#x27;newbalanceOrig&#x27;, &#x27;oldbalanceDest&#x27;,\n                                  &#x27;newbalanceDest&#x27;])])</pre></div></div></div><div class=\"sk-parallel\"><div class=\"sk-parallel-item\"><div class=\"sk-item\"><div class=\"sk-label-container\"><div class=\"sk-label sk-toggleable\"><input class=\"sk-toggleable__control sk-hidden--visually\" id=\"sk-estimator-id-3\" type=\"checkbox\" ><label for=\"sk-estimator-id-3\" class=\"sk-toggleable__label sk-toggleable__label-arrow\">generator</label><div class=\"sk-toggleable__content\"><pre>[&#x27;step&#x27;, &#x27;type&#x27;, &#x27;amount&#x27;, &#x27;oldbalanceOrg&#x27;, &#x27;newbalanceOrig&#x27;, &#x27;oldbalanceDest&#x27;, &#x27;newbalanceDest&#x27;]</pre></div></div></div><div class=\"sk-serial\"><div class=\"sk-item sk-dashed-wrapped\"><div class=\"sk-parallel\"><div class=\"sk-parallel-item\"><div class=\"sk-item\"><div class=\"sk-label-container\"><div class=\"sk-label sk-toggleable\"><input class=\"sk-toggleable__control sk-hidden--visually\" id=\"sk-estimator-id-4\" type=\"checkbox\" ><label for=\"sk-estimator-id-4\" class=\"sk-toggleable__label sk-toggleable__label-arrow\">ffg</label><div class=\"sk-toggleable__content\"><pre>[&#x27;amount&#x27;, &#x27;oldbalanceOrg&#x27;, &#x27;newbalanceOrig&#x27;, &#x27;oldbalanceDest&#x27;, &#x27;newbalanceDest&#x27;]</pre></div></div></div><div class=\"sk-serial\"><div class=\"sk-item\"><div class=\"sk-estimator sk-toggleable\"><input class=\"sk-toggleable__control sk-hidden--visually\" id=\"sk-estimator-id-5\" type=\"checkbox\" ><label for=\"sk-estimator-id-5\" class=\"sk-toggleable__label sk-toggleable__label-arrow\">FraudFeatureGenerator</label><div class=\"sk-toggleable__content\"><pre>FraudFeatureGenerator(algorithm=&#x27;tree&#x27;)</pre></div></div></div></div></div></div><div class=\"sk-parallel-item\"><div class=\"sk-item\"><div class=\"sk-label-container\"><div class=\"sk-label sk-toggleable\"><input class=\"sk-toggleable__control sk-hidden--visually\" id=\"sk-estimator-id-6\" type=\"checkbox\" ><label for=\"sk-estimator-id-6\" class=\"sk-toggleable__label sk-toggleable__label-arrow\">cat</label><div class=\"sk-toggleable__content\"><pre>[&#x27;type&#x27;]</pre></div></div></div><div class=\"sk-serial\"><div class=\"sk-item\"><div class=\"sk-estimator sk-toggleable\"><input class=\"sk-toggleable__control sk-hidden--visually\" id=\"sk-estimator-id-7\" type=\"checkbox\" ><label for=\"sk-estimator-id-7\" class=\"sk-toggleable__label sk-toggleable__label-arrow\">TargetEncoderFixed</label><div class=\"sk-toggleable__content\"><pre>TargetEncoderFixed(handle_unknown=&#x27;median&#x27;)</pre></div></div></div></div></div></div></div></div></div></div></div><div class=\"sk-parallel-item\"><div class=\"sk-item\"><div class=\"sk-label-container\"><div class=\"sk-label sk-toggleable\"><input class=\"sk-toggleable__control sk-hidden--visually\" id=\"sk-estimator-id-8\" type=\"checkbox\" ><label for=\"sk-estimator-id-8\" class=\"sk-toggleable__label sk-toggleable__label-arrow\">preprocessor</label><div class=\"sk-toggleable__content\"><pre>[&#x27;step&#x27;, &#x27;type&#x27;, &#x27;amount&#x27;, &#x27;oldbalanceOrg&#x27;, &#x27;newbalanceOrig&#x27;, &#x27;oldbalanceDest&#x27;, &#x27;newbalanceDest&#x27;]</pre></div></div></div><div class=\"sk-serial\"><div class=\"sk-item sk-dashed-wrapped\"><div class=\"sk-parallel\"><div class=\"sk-parallel-item\"><div class=\"sk-item\"><div class=\"sk-label-container\"><div class=\"sk-label sk-toggleable\"><input class=\"sk-toggleable__control sk-hidden--visually\" id=\"sk-estimator-id-9\" type=\"checkbox\" ><label for=\"sk-estimator-id-9\" class=\"sk-toggleable__label sk-toggleable__label-arrow\">imputer</label><div class=\"sk-toggleable__content\"><pre>[&#x27;amount&#x27;, &#x27;oldbalanceOrg&#x27;, &#x27;newbalanceOrig&#x27;, &#x27;oldbalanceDest&#x27;, &#x27;newbalanceDest&#x27;]</pre></div></div></div><div class=\"sk-serial\"><div class=\"sk-item\"><div class=\"sk-estimator sk-toggleable\"><input class=\"sk-toggleable__control sk-hidden--visually\" id=\"sk-estimator-id-10\" type=\"checkbox\" ><label for=\"sk-estimator-id-10\" class=\"sk-toggleable__label sk-toggleable__label-arrow\">SimpleImputer</label><div class=\"sk-toggleable__content\"><pre>SimpleImputer(fill_value=-1)</pre></div></div></div></div></div></div></div></div></div></div></div></div></div><div class=\"sk-item\"><div class=\"sk-estimator sk-toggleable\"><input class=\"sk-toggleable__control sk-hidden--visually\" id=\"sk-estimator-id-11\" type=\"checkbox\" ><label for=\"sk-estimator-id-11\" class=\"sk-toggleable__label sk-toggleable__label-arrow\">RandomForestClassifier</label><div class=\"sk-toggleable__content\"><pre>RandomForestClassifier()</pre></div></div></div></div></div></div></div>"
     },
     "execution_count": 26,
     "metadata": {},
     "output_type": "execute_result"
    }
   ],
   "source": [
    "pipeline.fit(d, d['isFraud'])"
   ],
   "metadata": {
    "collapsed": false,
    "pycharm": {
     "name": "#%%\n"
    }
   }
  },
  {
   "cell_type": "code",
   "execution_count": 27,
   "outputs": [
    {
     "data": {
      "text/plain": "                                        feature    weight       std\n0    generator__ffg__oldbalanceOrg_amount_ratio  0.311519  0.311484\n1                 preprocessor__imputer__amount  0.162009  0.169020\n2         preprocessor__imputer__oldbalanceDest  0.123631  0.182555\n3   generator__ffg__oldbalanceDest_amount_ratio  0.116195  0.185613\n4          preprocessor__imputer__oldbalanceOrg  0.079014  0.133722\n5                          generator__cat__type  0.064649  0.108893\n6   generator__ffg__newbalanceDest_amount_ratio  0.045492  0.097958\n7         preprocessor__imputer__newbalanceDest  0.044861  0.084029\n8   generator__ffg__newbalanceOrig_amount_ratio  0.021930  0.096987\n9            generator__ffg__dest_is_bigger_org  0.021797  0.064910\n10        preprocessor__imputer__newbalanceOrig  0.008903  0.033004",
      "text/html": "<div>\n<style scoped>\n    .dataframe tbody tr th:only-of-type {\n        vertical-align: middle;\n    }\n\n    .dataframe tbody tr th {\n        vertical-align: top;\n    }\n\n    .dataframe thead th {\n        text-align: right;\n    }\n</style>\n<table border=\"1\" class=\"dataframe\">\n  <thead>\n    <tr style=\"text-align: right;\">\n      <th></th>\n      <th>feature</th>\n      <th>weight</th>\n      <th>std</th>\n    </tr>\n  </thead>\n  <tbody>\n    <tr>\n      <th>0</th>\n      <td>generator__ffg__oldbalanceOrg_amount_ratio</td>\n      <td>0.311519</td>\n      <td>0.311484</td>\n    </tr>\n    <tr>\n      <th>1</th>\n      <td>preprocessor__imputer__amount</td>\n      <td>0.162009</td>\n      <td>0.169020</td>\n    </tr>\n    <tr>\n      <th>2</th>\n      <td>preprocessor__imputer__oldbalanceDest</td>\n      <td>0.123631</td>\n      <td>0.182555</td>\n    </tr>\n    <tr>\n      <th>3</th>\n      <td>generator__ffg__oldbalanceDest_amount_ratio</td>\n      <td>0.116195</td>\n      <td>0.185613</td>\n    </tr>\n    <tr>\n      <th>4</th>\n      <td>preprocessor__imputer__oldbalanceOrg</td>\n      <td>0.079014</td>\n      <td>0.133722</td>\n    </tr>\n    <tr>\n      <th>5</th>\n      <td>generator__cat__type</td>\n      <td>0.064649</td>\n      <td>0.108893</td>\n    </tr>\n    <tr>\n      <th>6</th>\n      <td>generator__ffg__newbalanceDest_amount_ratio</td>\n      <td>0.045492</td>\n      <td>0.097958</td>\n    </tr>\n    <tr>\n      <th>7</th>\n      <td>preprocessor__imputer__newbalanceDest</td>\n      <td>0.044861</td>\n      <td>0.084029</td>\n    </tr>\n    <tr>\n      <th>8</th>\n      <td>generator__ffg__newbalanceOrig_amount_ratio</td>\n      <td>0.021930</td>\n      <td>0.096987</td>\n    </tr>\n    <tr>\n      <th>9</th>\n      <td>generator__ffg__dest_is_bigger_org</td>\n      <td>0.021797</td>\n      <td>0.064910</td>\n    </tr>\n    <tr>\n      <th>10</th>\n      <td>preprocessor__imputer__newbalanceOrig</td>\n      <td>0.008903</td>\n      <td>0.033004</td>\n    </tr>\n  </tbody>\n</table>\n</div>"
     },
     "execution_count": 27,
     "metadata": {},
     "output_type": "execute_result"
    }
   ],
   "source": [
    "eli5.explain_weights_df(pipeline[-1], feature_names=pipeline[:-1].get_feature_names_out())"
   ],
   "metadata": {
    "collapsed": false,
    "pycharm": {
     "name": "#%%\n"
    }
   }
  },
  {
   "cell_type": "markdown",
   "metadata": {
    "pycharm": {
     "name": "#%% md\n"
    }
   },
   "source": [
    "#### Models"
   ]
  },
  {
   "cell_type": "code",
   "execution_count": 28,
   "metadata": {
    "pycharm": {
     "name": "#%%\n"
    }
   },
   "outputs": [],
   "source": [
    "dummy_mf = make_pipeline(\n",
    "    DummyClassifier(strategy='most_frequent'),\n",
    ")\n",
    "dummy_strf = make_pipeline(\n",
    "    DummyClassifier(strategy='stratified'),\n",
    ")"
   ]
  },
  {
   "cell_type": "code",
   "execution_count": 29,
   "metadata": {
    "pycharm": {
     "name": "#%%\n"
    }
   },
   "outputs": [],
   "source": [
    "\n",
    "lr = Pipeline([\n",
    "    ('general_proc', liner_data_pipeline),\n",
    "    ('regressor', LogisticRegression())\n",
    "])\n",
    "\n",
    "svm = Pipeline([\n",
    "    ('general_proc', liner_data_pipeline),\n",
    "    ('regressor', SVC())\n",
    "])\n",
    "\n",
    "mlp = Pipeline([\n",
    "    ('general_proc', liner_data_pipeline),\n",
    "    ('regressor', MLPClassifier())\n",
    "])"
   ]
  },
  {
   "cell_type": "code",
   "execution_count": 30,
   "metadata": {
    "pycharm": {
     "name": "#%%\n"
    }
   },
   "outputs": [],
   "source": [
    "\n",
    "\n",
    "ctb = Pipeline([\n",
    "    ('general_proc', tree_data_pipeline),\n",
    "    ('regressor', CatBoostClassifier())\n",
    "])\n",
    "xgb = Pipeline([\n",
    "    ('general_proc', tree_data_pipeline),\n",
    "    ('regressor', XGBClassifier())\n",
    "])\n",
    "lgbm = Pipeline([\n",
    "    ('general_proc', tree_data_pipeline),\n",
    "    ('regressor', LGBMClassifier())\n",
    "])\n",
    "rfc = Pipeline([\n",
    "    ('general_proc', tree_data_pipeline),\n",
    "    ('regressor', RandomForestClassifier())\n",
    "])"
   ]
  },
  {
   "cell_type": "code",
   "execution_count": 58,
   "metadata": {
    "pycharm": {
     "name": "#%%\n"
    }
   },
   "outputs": [],
   "source": [
    "pipelines = [\n",
    "    (\"Dummy_mf\", dummy_mf),\n",
    "    (\"Dummy_strf\", dummy_strf),\n",
    "    (\"LinReg\", lr),\n",
    "    (\"XGB\", xgb),\n",
    "    (\"LGBM\", lgbm),\n",
    "    (\"RFC\", rfc),\n",
    "    (\"CatBoost\", ctb),\n",
    "    (\"MLP\", mlp),\n",
    "    # (\"SVM\", svm),\n",
    "]"
   ]
  },
  {
   "cell_type": "markdown",
   "metadata": {
    "pycharm": {
     "name": "#%% md\n"
    }
   },
   "source": [
    "#### Data split"
   ]
  },
  {
   "cell_type": "code",
   "execution_count": 69,
   "outputs": [],
   "source": [
    "from sklearn.model_selection import train_test_split\n",
    "\n",
    "X_train, X_test, y_train, y_test = train_test_split(data[features], data[target], test_size=0.2, stratify=data[target])"
   ],
   "metadata": {
    "collapsed": false,
    "pycharm": {
     "name": "#%%\n"
    }
   }
  },
  {
   "cell_type": "code",
   "execution_count": 70,
   "metadata": {
    "pycharm": {
     "name": "#%%\n"
    }
   },
   "outputs": [
    {
     "data": {
      "text/plain": "((400000, 7), (100000, 7))"
     },
     "execution_count": 70,
     "metadata": {},
     "output_type": "execute_result"
    }
   ],
   "source": [
    "X_train.shape, X_test.shape"
   ]
  },
  {
   "cell_type": "code",
   "execution_count": 34,
   "outputs": [
    {
     "data": {
      "text/plain": "0    399814\n1       186\nName: isFraud, dtype: int64"
     },
     "execution_count": 34,
     "metadata": {},
     "output_type": "execute_result"
    }
   ],
   "source": [
    "y_train.value_counts()"
   ],
   "metadata": {
    "collapsed": false,
    "pycharm": {
     "name": "#%%\n"
    }
   }
  },
  {
   "cell_type": "code",
   "execution_count": 68,
   "outputs": [
    {
     "data": {
      "text/plain": "0    99953\n1       47\nName: isFraud, dtype: int64"
     },
     "execution_count": 68,
     "metadata": {},
     "output_type": "execute_result"
    }
   ],
   "source": [
    "y_test.value_counts()"
   ],
   "metadata": {
    "collapsed": false,
    "pycharm": {
     "name": "#%%\n"
    }
   }
  },
  {
   "cell_type": "code",
   "execution_count": 36,
   "outputs": [
    {
     "data": {
      "text/plain": "Pipeline(steps=[('dummyclassifier', DummyClassifier(strategy='stratified'))])",
      "text/html": "<style>#sk-container-id-1 {color: black;background-color: white;}#sk-container-id-1 pre{padding: 0;}#sk-container-id-1 div.sk-toggleable {background-color: white;}#sk-container-id-1 label.sk-toggleable__label {cursor: pointer;display: block;width: 100%;margin-bottom: 0;padding: 0.3em;box-sizing: border-box;text-align: center;}#sk-container-id-1 label.sk-toggleable__label-arrow:before {content: \"▸\";float: left;margin-right: 0.25em;color: #696969;}#sk-container-id-1 label.sk-toggleable__label-arrow:hover:before {color: black;}#sk-container-id-1 div.sk-estimator:hover label.sk-toggleable__label-arrow:before {color: black;}#sk-container-id-1 div.sk-toggleable__content {max-height: 0;max-width: 0;overflow: hidden;text-align: left;background-color: #f0f8ff;}#sk-container-id-1 div.sk-toggleable__content pre {margin: 0.2em;color: black;border-radius: 0.25em;background-color: #f0f8ff;}#sk-container-id-1 input.sk-toggleable__control:checked~div.sk-toggleable__content {max-height: 200px;max-width: 100%;overflow: auto;}#sk-container-id-1 input.sk-toggleable__control:checked~label.sk-toggleable__label-arrow:before {content: \"▾\";}#sk-container-id-1 div.sk-estimator input.sk-toggleable__control:checked~label.sk-toggleable__label {background-color: #d4ebff;}#sk-container-id-1 div.sk-label input.sk-toggleable__control:checked~label.sk-toggleable__label {background-color: #d4ebff;}#sk-container-id-1 input.sk-hidden--visually {border: 0;clip: rect(1px 1px 1px 1px);clip: rect(1px, 1px, 1px, 1px);height: 1px;margin: -1px;overflow: hidden;padding: 0;position: absolute;width: 1px;}#sk-container-id-1 div.sk-estimator {font-family: monospace;background-color: #f0f8ff;border: 1px dotted black;border-radius: 0.25em;box-sizing: border-box;margin-bottom: 0.5em;}#sk-container-id-1 div.sk-estimator:hover {background-color: #d4ebff;}#sk-container-id-1 div.sk-parallel-item::after {content: \"\";width: 100%;border-bottom: 1px solid gray;flex-grow: 1;}#sk-container-id-1 div.sk-label:hover label.sk-toggleable__label {background-color: #d4ebff;}#sk-container-id-1 div.sk-serial::before {content: \"\";position: absolute;border-left: 1px solid gray;box-sizing: border-box;top: 0;bottom: 0;left: 50%;z-index: 0;}#sk-container-id-1 div.sk-serial {display: flex;flex-direction: column;align-items: center;background-color: white;padding-right: 0.2em;padding-left: 0.2em;position: relative;}#sk-container-id-1 div.sk-item {position: relative;z-index: 1;}#sk-container-id-1 div.sk-parallel {display: flex;align-items: stretch;justify-content: center;background-color: white;position: relative;}#sk-container-id-1 div.sk-item::before, #sk-container-id-1 div.sk-parallel-item::before {content: \"\";position: absolute;border-left: 1px solid gray;box-sizing: border-box;top: 0;bottom: 0;left: 50%;z-index: -1;}#sk-container-id-1 div.sk-parallel-item {display: flex;flex-direction: column;z-index: 1;position: relative;background-color: white;}#sk-container-id-1 div.sk-parallel-item:first-child::after {align-self: flex-end;width: 50%;}#sk-container-id-1 div.sk-parallel-item:last-child::after {align-self: flex-start;width: 50%;}#sk-container-id-1 div.sk-parallel-item:only-child::after {width: 0;}#sk-container-id-1 div.sk-dashed-wrapped {border: 1px dashed gray;margin: 0 0.4em 0.5em 0.4em;box-sizing: border-box;padding-bottom: 0.4em;background-color: white;}#sk-container-id-1 div.sk-label label {font-family: monospace;font-weight: bold;display: inline-block;line-height: 1.2em;}#sk-container-id-1 div.sk-label-container {text-align: center;}#sk-container-id-1 div.sk-container {/* jupyter's `normalize.less` sets `[hidden] { display: none; }` but bootstrap.min.css set `[hidden] { display: none !important; }` so we also need the `!important` here to be able to override the default hidden behavior on the sphinx rendered scikit-learn.org. See: https://github.com/scikit-learn/scikit-learn/issues/21755 */display: inline-block !important;position: relative;}#sk-container-id-1 div.sk-text-repr-fallback {display: none;}</style><div id=\"sk-container-id-1\" class=\"sk-top-container\"><div class=\"sk-text-repr-fallback\"><pre>Pipeline(steps=[(&#x27;dummyclassifier&#x27;, DummyClassifier(strategy=&#x27;stratified&#x27;))])</pre><b>In a Jupyter environment, please rerun this cell to show the HTML representation or trust the notebook. <br />On GitHub, the HTML representation is unable to render, please try loading this page with nbviewer.org.</b></div><div class=\"sk-container\" hidden><div class=\"sk-item sk-dashed-wrapped\"><div class=\"sk-label-container\"><div class=\"sk-label sk-toggleable\"><input class=\"sk-toggleable__control sk-hidden--visually\" id=\"sk-estimator-id-1\" type=\"checkbox\" ><label for=\"sk-estimator-id-1\" class=\"sk-toggleable__label sk-toggleable__label-arrow\">Pipeline</label><div class=\"sk-toggleable__content\"><pre>Pipeline(steps=[(&#x27;dummyclassifier&#x27;, DummyClassifier(strategy=&#x27;stratified&#x27;))])</pre></div></div></div><div class=\"sk-serial\"><div class=\"sk-item\"><div class=\"sk-estimator sk-toggleable\"><input class=\"sk-toggleable__control sk-hidden--visually\" id=\"sk-estimator-id-2\" type=\"checkbox\" ><label for=\"sk-estimator-id-2\" class=\"sk-toggleable__label sk-toggleable__label-arrow\">DummyClassifier</label><div class=\"sk-toggleable__content\"><pre>DummyClassifier(strategy=&#x27;stratified&#x27;)</pre></div></div></div></div></div></div></div>"
     },
     "execution_count": 36,
     "metadata": {},
     "output_type": "execute_result"
    }
   ],
   "source": [
    "dummy_mf.fit(X_train, y_train)\n",
    "dummy_strf.fit(X_train, y_train)"
   ],
   "metadata": {
    "collapsed": false,
    "pycharm": {
     "name": "#%%\n"
    }
   }
  },
  {
   "cell_type": "code",
   "execution_count": 42,
   "outputs": [],
   "source": [
    "model = mlp"
   ],
   "metadata": {
    "collapsed": false,
    "pycharm": {
     "name": "#%%\n"
    }
   }
  },
  {
   "cell_type": "code",
   "execution_count": 43,
   "outputs": [
    {
     "name": "stderr",
     "output_type": "stream",
     "text": [
      "C:\\Users\\dzmit\\anaconda3\\envs\\eurostars\\lib\\site-packages\\pandas\\core\\internals\\blocks.py:352: RuntimeWarning: divide by zero encountered in log\n",
      "  result = func(self.values, **kwargs)\n"
     ]
    },
    {
     "data": {
      "text/plain": "Pipeline(steps=[('general_proc',\n                 ColumnTransformer(transformers=[('generator',\n                                                  ColumnTransformer(transformers=[('ffg',\n                                                                                   FraudFeatureGenerator(),\n                                                                                   ['amount',\n                                                                                    'oldbalanceOrg',\n                                                                                    'newbalanceOrig',\n                                                                                    'oldbalanceDest',\n                                                                                    'newbalanceDest']),\n                                                                                  ('cat',\n                                                                                   OneHotEncoder(handle_unknown='ignore'),\n                                                                                   ['type'])]),\n                                                  ['step', 'type', 'amount',\n                                                   'oldbalanceOrg',\n                                                   'newbalanceOrig',\n                                                   'oldbalanceDest'...\n                                                  ColumnTransformer(transformers=[('log',\n                                                                                   LogTransformer(handle_inf='const'),\n                                                                                   ['amount',\n                                                                                    'oldbalanceOrg',\n                                                                                    'newbalanceOrig',\n                                                                                    'oldbalanceDest',\n                                                                                    'newbalanceDest']),\n                                                                                  ('scl',\n                                                                                   StandardScaler(),\n                                                                                   ['amount',\n                                                                                    'oldbalanceOrg',\n                                                                                    'newbalanceOrig',\n                                                                                    'oldbalanceDest',\n                                                                                    'newbalanceDest'])]),\n                                                  ['step', 'type', 'amount',\n                                                   'oldbalanceOrg',\n                                                   'newbalanceOrig',\n                                                   'oldbalanceDest',\n                                                   'newbalanceDest'])])),\n                ('regressor', MLPClassifier())])",
      "text/html": "<style>#sk-container-id-3 {color: black;background-color: white;}#sk-container-id-3 pre{padding: 0;}#sk-container-id-3 div.sk-toggleable {background-color: white;}#sk-container-id-3 label.sk-toggleable__label {cursor: pointer;display: block;width: 100%;margin-bottom: 0;padding: 0.3em;box-sizing: border-box;text-align: center;}#sk-container-id-3 label.sk-toggleable__label-arrow:before {content: \"▸\";float: left;margin-right: 0.25em;color: #696969;}#sk-container-id-3 label.sk-toggleable__label-arrow:hover:before {color: black;}#sk-container-id-3 div.sk-estimator:hover label.sk-toggleable__label-arrow:before {color: black;}#sk-container-id-3 div.sk-toggleable__content {max-height: 0;max-width: 0;overflow: hidden;text-align: left;background-color: #f0f8ff;}#sk-container-id-3 div.sk-toggleable__content pre {margin: 0.2em;color: black;border-radius: 0.25em;background-color: #f0f8ff;}#sk-container-id-3 input.sk-toggleable__control:checked~div.sk-toggleable__content {max-height: 200px;max-width: 100%;overflow: auto;}#sk-container-id-3 input.sk-toggleable__control:checked~label.sk-toggleable__label-arrow:before {content: \"▾\";}#sk-container-id-3 div.sk-estimator input.sk-toggleable__control:checked~label.sk-toggleable__label {background-color: #d4ebff;}#sk-container-id-3 div.sk-label input.sk-toggleable__control:checked~label.sk-toggleable__label {background-color: #d4ebff;}#sk-container-id-3 input.sk-hidden--visually {border: 0;clip: rect(1px 1px 1px 1px);clip: rect(1px, 1px, 1px, 1px);height: 1px;margin: -1px;overflow: hidden;padding: 0;position: absolute;width: 1px;}#sk-container-id-3 div.sk-estimator {font-family: monospace;background-color: #f0f8ff;border: 1px dotted black;border-radius: 0.25em;box-sizing: border-box;margin-bottom: 0.5em;}#sk-container-id-3 div.sk-estimator:hover {background-color: #d4ebff;}#sk-container-id-3 div.sk-parallel-item::after {content: \"\";width: 100%;border-bottom: 1px solid gray;flex-grow: 1;}#sk-container-id-3 div.sk-label:hover label.sk-toggleable__label {background-color: #d4ebff;}#sk-container-id-3 div.sk-serial::before {content: \"\";position: absolute;border-left: 1px solid gray;box-sizing: border-box;top: 0;bottom: 0;left: 50%;z-index: 0;}#sk-container-id-3 div.sk-serial {display: flex;flex-direction: column;align-items: center;background-color: white;padding-right: 0.2em;padding-left: 0.2em;position: relative;}#sk-container-id-3 div.sk-item {position: relative;z-index: 1;}#sk-container-id-3 div.sk-parallel {display: flex;align-items: stretch;justify-content: center;background-color: white;position: relative;}#sk-container-id-3 div.sk-item::before, #sk-container-id-3 div.sk-parallel-item::before {content: \"\";position: absolute;border-left: 1px solid gray;box-sizing: border-box;top: 0;bottom: 0;left: 50%;z-index: -1;}#sk-container-id-3 div.sk-parallel-item {display: flex;flex-direction: column;z-index: 1;position: relative;background-color: white;}#sk-container-id-3 div.sk-parallel-item:first-child::after {align-self: flex-end;width: 50%;}#sk-container-id-3 div.sk-parallel-item:last-child::after {align-self: flex-start;width: 50%;}#sk-container-id-3 div.sk-parallel-item:only-child::after {width: 0;}#sk-container-id-3 div.sk-dashed-wrapped {border: 1px dashed gray;margin: 0 0.4em 0.5em 0.4em;box-sizing: border-box;padding-bottom: 0.4em;background-color: white;}#sk-container-id-3 div.sk-label label {font-family: monospace;font-weight: bold;display: inline-block;line-height: 1.2em;}#sk-container-id-3 div.sk-label-container {text-align: center;}#sk-container-id-3 div.sk-container {/* jupyter's `normalize.less` sets `[hidden] { display: none; }` but bootstrap.min.css set `[hidden] { display: none !important; }` so we also need the `!important` here to be able to override the default hidden behavior on the sphinx rendered scikit-learn.org. See: https://github.com/scikit-learn/scikit-learn/issues/21755 */display: inline-block !important;position: relative;}#sk-container-id-3 div.sk-text-repr-fallback {display: none;}</style><div id=\"sk-container-id-3\" class=\"sk-top-container\"><div class=\"sk-text-repr-fallback\"><pre>Pipeline(steps=[(&#x27;general_proc&#x27;,\n                 ColumnTransformer(transformers=[(&#x27;generator&#x27;,\n                                                  ColumnTransformer(transformers=[(&#x27;ffg&#x27;,\n                                                                                   FraudFeatureGenerator(),\n                                                                                   [&#x27;amount&#x27;,\n                                                                                    &#x27;oldbalanceOrg&#x27;,\n                                                                                    &#x27;newbalanceOrig&#x27;,\n                                                                                    &#x27;oldbalanceDest&#x27;,\n                                                                                    &#x27;newbalanceDest&#x27;]),\n                                                                                  (&#x27;cat&#x27;,\n                                                                                   OneHotEncoder(handle_unknown=&#x27;ignore&#x27;),\n                                                                                   [&#x27;type&#x27;])]),\n                                                  [&#x27;step&#x27;, &#x27;type&#x27;, &#x27;amount&#x27;,\n                                                   &#x27;oldbalanceOrg&#x27;,\n                                                   &#x27;newbalanceOrig&#x27;,\n                                                   &#x27;oldbalanceDest&#x27;...\n                                                  ColumnTransformer(transformers=[(&#x27;log&#x27;,\n                                                                                   LogTransformer(handle_inf=&#x27;const&#x27;),\n                                                                                   [&#x27;amount&#x27;,\n                                                                                    &#x27;oldbalanceOrg&#x27;,\n                                                                                    &#x27;newbalanceOrig&#x27;,\n                                                                                    &#x27;oldbalanceDest&#x27;,\n                                                                                    &#x27;newbalanceDest&#x27;]),\n                                                                                  (&#x27;scl&#x27;,\n                                                                                   StandardScaler(),\n                                                                                   [&#x27;amount&#x27;,\n                                                                                    &#x27;oldbalanceOrg&#x27;,\n                                                                                    &#x27;newbalanceOrig&#x27;,\n                                                                                    &#x27;oldbalanceDest&#x27;,\n                                                                                    &#x27;newbalanceDest&#x27;])]),\n                                                  [&#x27;step&#x27;, &#x27;type&#x27;, &#x27;amount&#x27;,\n                                                   &#x27;oldbalanceOrg&#x27;,\n                                                   &#x27;newbalanceOrig&#x27;,\n                                                   &#x27;oldbalanceDest&#x27;,\n                                                   &#x27;newbalanceDest&#x27;])])),\n                (&#x27;regressor&#x27;, MLPClassifier())])</pre><b>In a Jupyter environment, please rerun this cell to show the HTML representation or trust the notebook. <br />On GitHub, the HTML representation is unable to render, please try loading this page with nbviewer.org.</b></div><div class=\"sk-container\" hidden><div class=\"sk-item sk-dashed-wrapped\"><div class=\"sk-label-container\"><div class=\"sk-label sk-toggleable\"><input class=\"sk-toggleable__control sk-hidden--visually\" id=\"sk-estimator-id-16\" type=\"checkbox\" ><label for=\"sk-estimator-id-16\" class=\"sk-toggleable__label sk-toggleable__label-arrow\">Pipeline</label><div class=\"sk-toggleable__content\"><pre>Pipeline(steps=[(&#x27;general_proc&#x27;,\n                 ColumnTransformer(transformers=[(&#x27;generator&#x27;,\n                                                  ColumnTransformer(transformers=[(&#x27;ffg&#x27;,\n                                                                                   FraudFeatureGenerator(),\n                                                                                   [&#x27;amount&#x27;,\n                                                                                    &#x27;oldbalanceOrg&#x27;,\n                                                                                    &#x27;newbalanceOrig&#x27;,\n                                                                                    &#x27;oldbalanceDest&#x27;,\n                                                                                    &#x27;newbalanceDest&#x27;]),\n                                                                                  (&#x27;cat&#x27;,\n                                                                                   OneHotEncoder(handle_unknown=&#x27;ignore&#x27;),\n                                                                                   [&#x27;type&#x27;])]),\n                                                  [&#x27;step&#x27;, &#x27;type&#x27;, &#x27;amount&#x27;,\n                                                   &#x27;oldbalanceOrg&#x27;,\n                                                   &#x27;newbalanceOrig&#x27;,\n                                                   &#x27;oldbalanceDest&#x27;...\n                                                  ColumnTransformer(transformers=[(&#x27;log&#x27;,\n                                                                                   LogTransformer(handle_inf=&#x27;const&#x27;),\n                                                                                   [&#x27;amount&#x27;,\n                                                                                    &#x27;oldbalanceOrg&#x27;,\n                                                                                    &#x27;newbalanceOrig&#x27;,\n                                                                                    &#x27;oldbalanceDest&#x27;,\n                                                                                    &#x27;newbalanceDest&#x27;]),\n                                                                                  (&#x27;scl&#x27;,\n                                                                                   StandardScaler(),\n                                                                                   [&#x27;amount&#x27;,\n                                                                                    &#x27;oldbalanceOrg&#x27;,\n                                                                                    &#x27;newbalanceOrig&#x27;,\n                                                                                    &#x27;oldbalanceDest&#x27;,\n                                                                                    &#x27;newbalanceDest&#x27;])]),\n                                                  [&#x27;step&#x27;, &#x27;type&#x27;, &#x27;amount&#x27;,\n                                                   &#x27;oldbalanceOrg&#x27;,\n                                                   &#x27;newbalanceOrig&#x27;,\n                                                   &#x27;oldbalanceDest&#x27;,\n                                                   &#x27;newbalanceDest&#x27;])])),\n                (&#x27;regressor&#x27;, MLPClassifier())])</pre></div></div></div><div class=\"sk-serial\"><div class=\"sk-item sk-dashed-wrapped\"><div class=\"sk-label-container\"><div class=\"sk-label sk-toggleable\"><input class=\"sk-toggleable__control sk-hidden--visually\" id=\"sk-estimator-id-17\" type=\"checkbox\" ><label for=\"sk-estimator-id-17\" class=\"sk-toggleable__label sk-toggleable__label-arrow\">general_proc: ColumnTransformer</label><div class=\"sk-toggleable__content\"><pre>ColumnTransformer(transformers=[(&#x27;generator&#x27;,\n                                 ColumnTransformer(transformers=[(&#x27;ffg&#x27;,\n                                                                  FraudFeatureGenerator(),\n                                                                  [&#x27;amount&#x27;,\n                                                                   &#x27;oldbalanceOrg&#x27;,\n                                                                   &#x27;newbalanceOrig&#x27;,\n                                                                   &#x27;oldbalanceDest&#x27;,\n                                                                   &#x27;newbalanceDest&#x27;]),\n                                                                 (&#x27;cat&#x27;,\n                                                                  OneHotEncoder(handle_unknown=&#x27;ignore&#x27;),\n                                                                  [&#x27;type&#x27;])]),\n                                 [&#x27;step&#x27;, &#x27;type&#x27;, &#x27;amount&#x27;, &#x27;oldbalanceOrg&#x27;,\n                                  &#x27;newbalanceOrig&#x27;, &#x27;oldbalanceDest&#x27;,\n                                  &#x27;newbalanceDest&#x27;]),\n                                (&#x27;preprocess...\n                                 ColumnTransformer(transformers=[(&#x27;log&#x27;,\n                                                                  LogTransformer(handle_inf=&#x27;const&#x27;),\n                                                                  [&#x27;amount&#x27;,\n                                                                   &#x27;oldbalanceOrg&#x27;,\n                                                                   &#x27;newbalanceOrig&#x27;,\n                                                                   &#x27;oldbalanceDest&#x27;,\n                                                                   &#x27;newbalanceDest&#x27;]),\n                                                                 (&#x27;scl&#x27;,\n                                                                  StandardScaler(),\n                                                                  [&#x27;amount&#x27;,\n                                                                   &#x27;oldbalanceOrg&#x27;,\n                                                                   &#x27;newbalanceOrig&#x27;,\n                                                                   &#x27;oldbalanceDest&#x27;,\n                                                                   &#x27;newbalanceDest&#x27;])]),\n                                 [&#x27;step&#x27;, &#x27;type&#x27;, &#x27;amount&#x27;, &#x27;oldbalanceOrg&#x27;,\n                                  &#x27;newbalanceOrig&#x27;, &#x27;oldbalanceDest&#x27;,\n                                  &#x27;newbalanceDest&#x27;])])</pre></div></div></div><div class=\"sk-parallel\"><div class=\"sk-parallel-item\"><div class=\"sk-item\"><div class=\"sk-label-container\"><div class=\"sk-label sk-toggleable\"><input class=\"sk-toggleable__control sk-hidden--visually\" id=\"sk-estimator-id-18\" type=\"checkbox\" ><label for=\"sk-estimator-id-18\" class=\"sk-toggleable__label sk-toggleable__label-arrow\">generator</label><div class=\"sk-toggleable__content\"><pre>[&#x27;step&#x27;, &#x27;type&#x27;, &#x27;amount&#x27;, &#x27;oldbalanceOrg&#x27;, &#x27;newbalanceOrig&#x27;, &#x27;oldbalanceDest&#x27;, &#x27;newbalanceDest&#x27;]</pre></div></div></div><div class=\"sk-serial\"><div class=\"sk-item sk-dashed-wrapped\"><div class=\"sk-parallel\"><div class=\"sk-parallel-item\"><div class=\"sk-item\"><div class=\"sk-label-container\"><div class=\"sk-label sk-toggleable\"><input class=\"sk-toggleable__control sk-hidden--visually\" id=\"sk-estimator-id-19\" type=\"checkbox\" ><label for=\"sk-estimator-id-19\" class=\"sk-toggleable__label sk-toggleable__label-arrow\">ffg</label><div class=\"sk-toggleable__content\"><pre>[&#x27;amount&#x27;, &#x27;oldbalanceOrg&#x27;, &#x27;newbalanceOrig&#x27;, &#x27;oldbalanceDest&#x27;, &#x27;newbalanceDest&#x27;]</pre></div></div></div><div class=\"sk-serial\"><div class=\"sk-item\"><div class=\"sk-estimator sk-toggleable\"><input class=\"sk-toggleable__control sk-hidden--visually\" id=\"sk-estimator-id-20\" type=\"checkbox\" ><label for=\"sk-estimator-id-20\" class=\"sk-toggleable__label sk-toggleable__label-arrow\">FraudFeatureGenerator</label><div class=\"sk-toggleable__content\"><pre>FraudFeatureGenerator()</pre></div></div></div></div></div></div><div class=\"sk-parallel-item\"><div class=\"sk-item\"><div class=\"sk-label-container\"><div class=\"sk-label sk-toggleable\"><input class=\"sk-toggleable__control sk-hidden--visually\" id=\"sk-estimator-id-21\" type=\"checkbox\" ><label for=\"sk-estimator-id-21\" class=\"sk-toggleable__label sk-toggleable__label-arrow\">cat</label><div class=\"sk-toggleable__content\"><pre>[&#x27;type&#x27;]</pre></div></div></div><div class=\"sk-serial\"><div class=\"sk-item\"><div class=\"sk-estimator sk-toggleable\"><input class=\"sk-toggleable__control sk-hidden--visually\" id=\"sk-estimator-id-22\" type=\"checkbox\" ><label for=\"sk-estimator-id-22\" class=\"sk-toggleable__label sk-toggleable__label-arrow\">OneHotEncoder</label><div class=\"sk-toggleable__content\"><pre>OneHotEncoder(handle_unknown=&#x27;ignore&#x27;)</pre></div></div></div></div></div></div></div></div></div></div></div><div class=\"sk-parallel-item\"><div class=\"sk-item\"><div class=\"sk-label-container\"><div class=\"sk-label sk-toggleable\"><input class=\"sk-toggleable__control sk-hidden--visually\" id=\"sk-estimator-id-23\" type=\"checkbox\" ><label for=\"sk-estimator-id-23\" class=\"sk-toggleable__label sk-toggleable__label-arrow\">preprocessor</label><div class=\"sk-toggleable__content\"><pre>[&#x27;step&#x27;, &#x27;type&#x27;, &#x27;amount&#x27;, &#x27;oldbalanceOrg&#x27;, &#x27;newbalanceOrig&#x27;, &#x27;oldbalanceDest&#x27;, &#x27;newbalanceDest&#x27;]</pre></div></div></div><div class=\"sk-serial\"><div class=\"sk-item sk-dashed-wrapped\"><div class=\"sk-parallel\"><div class=\"sk-parallel-item\"><div class=\"sk-item\"><div class=\"sk-label-container\"><div class=\"sk-label sk-toggleable\"><input class=\"sk-toggleable__control sk-hidden--visually\" id=\"sk-estimator-id-24\" type=\"checkbox\" ><label for=\"sk-estimator-id-24\" class=\"sk-toggleable__label sk-toggleable__label-arrow\">log</label><div class=\"sk-toggleable__content\"><pre>[&#x27;amount&#x27;, &#x27;oldbalanceOrg&#x27;, &#x27;newbalanceOrig&#x27;, &#x27;oldbalanceDest&#x27;, &#x27;newbalanceDest&#x27;]</pre></div></div></div><div class=\"sk-serial\"><div class=\"sk-item\"><div class=\"sk-estimator sk-toggleable\"><input class=\"sk-toggleable__control sk-hidden--visually\" id=\"sk-estimator-id-25\" type=\"checkbox\" ><label for=\"sk-estimator-id-25\" class=\"sk-toggleable__label sk-toggleable__label-arrow\">LogTransformer</label><div class=\"sk-toggleable__content\"><pre>LogTransformer(handle_inf=&#x27;const&#x27;)</pre></div></div></div></div></div></div><div class=\"sk-parallel-item\"><div class=\"sk-item\"><div class=\"sk-label-container\"><div class=\"sk-label sk-toggleable\"><input class=\"sk-toggleable__control sk-hidden--visually\" id=\"sk-estimator-id-26\" type=\"checkbox\" ><label for=\"sk-estimator-id-26\" class=\"sk-toggleable__label sk-toggleable__label-arrow\">scl</label><div class=\"sk-toggleable__content\"><pre>[&#x27;amount&#x27;, &#x27;oldbalanceOrg&#x27;, &#x27;newbalanceOrig&#x27;, &#x27;oldbalanceDest&#x27;, &#x27;newbalanceDest&#x27;]</pre></div></div></div><div class=\"sk-serial\"><div class=\"sk-item\"><div class=\"sk-estimator sk-toggleable\"><input class=\"sk-toggleable__control sk-hidden--visually\" id=\"sk-estimator-id-27\" type=\"checkbox\" ><label for=\"sk-estimator-id-27\" class=\"sk-toggleable__label sk-toggleable__label-arrow\">StandardScaler</label><div class=\"sk-toggleable__content\"><pre>StandardScaler()</pre></div></div></div></div></div></div></div></div></div></div></div></div></div><div class=\"sk-item\"><div class=\"sk-estimator sk-toggleable\"><input class=\"sk-toggleable__control sk-hidden--visually\" id=\"sk-estimator-id-28\" type=\"checkbox\" ><label for=\"sk-estimator-id-28\" class=\"sk-toggleable__label sk-toggleable__label-arrow\">MLPClassifier</label><div class=\"sk-toggleable__content\"><pre>MLPClassifier()</pre></div></div></div></div></div></div></div>"
     },
     "execution_count": 43,
     "metadata": {},
     "output_type": "execute_result"
    }
   ],
   "source": [
    "model.fit(X_train, y_train)"
   ],
   "metadata": {
    "collapsed": false,
    "pycharm": {
     "name": "#%%\n"
    }
   }
  },
  {
   "cell_type": "code",
   "execution_count": 44,
   "outputs": [
    {
     "name": "stderr",
     "output_type": "stream",
     "text": [
      "C:\\Users\\dzmit\\anaconda3\\envs\\eurostars\\lib\\site-packages\\pandas\\core\\internals\\blocks.py:352: RuntimeWarning: divide by zero encountered in log\n",
      "  result = func(self.values, **kwargs)\n"
     ]
    },
    {
     "name": "stdout",
     "output_type": "stream",
     "text": [
      "              precision    recall  f1-score   support\n",
      "\n",
      "           0       1.00      1.00      1.00     99953\n",
      "           1       1.00      0.62      0.76        47\n",
      "\n",
      "    accuracy                           1.00    100000\n",
      "   macro avg       1.00      0.81      0.88    100000\n",
      "weighted avg       1.00      1.00      1.00    100000\n",
      "\n",
      "Confusion matrix:\n",
      "[[99953     0]\n",
      " [   18    29]]\n"
     ]
    }
   ],
   "source": [
    "y_pred = model.predict(X_test)\n",
    "cm = confusion_matrix(y_test, y_pred)\n",
    "\n",
    "print(classification_report(y_test, y_pred))\n",
    "\n",
    "print(\"Confusion matrix:\")\n",
    "print(cm)\n",
    "\n"
   ],
   "metadata": {
    "collapsed": false,
    "pycharm": {
     "name": "#%%\n"
    }
   }
  },
  {
   "cell_type": "code",
   "execution_count": 45,
   "outputs": [
    {
     "name": "stderr",
     "output_type": "stream",
     "text": [
      "C:\\Users\\dzmit\\anaconda3\\envs\\eurostars\\lib\\site-packages\\pandas\\core\\internals\\blocks.py:352: RuntimeWarning: divide by zero encountered in log\n",
      "  result = func(self.values, **kwargs)\n"
     ]
    },
    {
     "name": "stdout",
     "output_type": "stream",
     "text": [
      "              precision    recall  f1-score   support\n",
      "\n",
      "           0       1.00      1.00      1.00    399814\n",
      "           1       0.97      0.58      0.73       186\n",
      "\n",
      "    accuracy                           1.00    400000\n",
      "   macro avg       0.99      0.79      0.86    400000\n",
      "weighted avg       1.00      1.00      1.00    400000\n",
      "\n",
      "Confusion matrix:\n",
      "[[399811      3]\n",
      " [    78    108]]\n"
     ]
    }
   ],
   "source": [
    "y_pred = model.predict(X_train)\n",
    "cm = confusion_matrix(y_train, y_pred)\n",
    "\n",
    "print(classification_report(y_train, y_pred))\n",
    "\n",
    "print(\"Confusion matrix:\")\n",
    "print(cm)"
   ],
   "metadata": {
    "collapsed": false,
    "pycharm": {
     "name": "#%%\n"
    }
   }
  },
  {
   "cell_type": "code",
   "execution_count": 55,
   "outputs": [],
   "source": [
    "weights = eli5.explain_weights_df(model[-1], feature_names=model[:-1].get_feature_names_out())"
   ],
   "metadata": {
    "collapsed": false,
    "pycharm": {
     "name": "#%%\n"
    }
   }
  },
  {
   "cell_type": "code",
   "execution_count": 56,
   "outputs": [],
   "source": [
    "weights"
   ],
   "metadata": {
    "collapsed": false,
    "pycharm": {
     "name": "#%%\n"
    }
   }
  },
  {
   "cell_type": "markdown",
   "source": [
    "#### Advanced (don't run)"
   ],
   "metadata": {
    "collapsed": false,
    "pycharm": {
     "name": "#%% md\n"
    }
   }
  },
  {
   "cell_type": "code",
   "execution_count": 59,
   "metadata": {
    "pycharm": {
     "name": "#%%\n"
    }
   },
   "outputs": [
    {
     "name": "stderr",
     "output_type": "stream",
     "text": [
      "C:\\Users\\dzmit\\anaconda3\\envs\\eurostars\\lib\\site-packages\\sklearn\\metrics\\_classification.py:1334: UndefinedMetricWarning: Precision is ill-defined and being set to 0.0 due to no predicted samples. Use `zero_division` parameter to control this behavior.\n",
      "  _warn_prf(average, modifier, msg_start, len(result))\n",
      "C:\\Users\\dzmit\\anaconda3\\envs\\eurostars\\lib\\site-packages\\sklearn\\metrics\\_classification.py:1334: UndefinedMetricWarning: Precision is ill-defined and being set to 0.0 due to no predicted samples. Use `zero_division` parameter to control this behavior.\n",
      "  _warn_prf(average, modifier, msg_start, len(result))\n",
      "C:\\Users\\dzmit\\anaconda3\\envs\\eurostars\\lib\\site-packages\\pandas\\core\\internals\\blocks.py:352: RuntimeWarning: divide by zero encountered in log\n",
      "  result = func(self.values, **kwargs)\n",
      "C:\\Users\\dzmit\\anaconda3\\envs\\eurostars\\lib\\site-packages\\sklearn\\linear_model\\_logistic.py:444: ConvergenceWarning: lbfgs failed to converge (status=1):\n",
      "STOP: TOTAL NO. of ITERATIONS REACHED LIMIT.\n",
      "\n",
      "Increase the number of iterations (max_iter) or scale the data as shown in:\n",
      "    https://scikit-learn.org/stable/modules/preprocessing.html\n",
      "Please also refer to the documentation for alternative solver options:\n",
      "    https://scikit-learn.org/stable/modules/linear_model.html#logistic-regression\n",
      "  n_iter_i = _check_optimize_result(\n",
      "C:\\Users\\dzmit\\anaconda3\\envs\\eurostars\\lib\\site-packages\\pandas\\core\\internals\\blocks.py:352: RuntimeWarning: divide by zero encountered in log\n",
      "  result = func(self.values, **kwargs)\n",
      "C:\\Users\\dzmit\\anaconda3\\envs\\eurostars\\lib\\site-packages\\pandas\\core\\internals\\blocks.py:352: RuntimeWarning: divide by zero encountered in log\n",
      "  result = func(self.values, **kwargs)\n"
     ]
    },
    {
     "name": "stdout",
     "output_type": "stream",
     "text": [
      "Learning rate set to 0.13305\n",
      "0:\tlearn: 0.2696743\ttotal: 49.7ms\tremaining: 49.7s\n",
      "1:\tlearn: 0.1087424\ttotal: 96.3ms\tremaining: 48s\n",
      "2:\tlearn: 0.0412317\ttotal: 140ms\tremaining: 46.7s\n",
      "3:\tlearn: 0.0180308\ttotal: 191ms\tremaining: 47.7s\n",
      "4:\tlearn: 0.0086005\ttotal: 243ms\tremaining: 48.4s\n",
      "5:\tlearn: 0.0049101\ttotal: 293ms\tremaining: 48.6s\n",
      "6:\tlearn: 0.0029461\ttotal: 347ms\tremaining: 49.3s\n",
      "7:\tlearn: 0.0019898\ttotal: 394ms\tremaining: 48.9s\n",
      "8:\tlearn: 0.0014412\ttotal: 441ms\tremaining: 48.6s\n",
      "9:\tlearn: 0.0012119\ttotal: 489ms\tremaining: 48.4s\n",
      "10:\tlearn: 0.0010730\ttotal: 530ms\tremaining: 47.6s\n",
      "11:\tlearn: 0.0009188\ttotal: 579ms\tremaining: 47.7s\n",
      "12:\tlearn: 0.0008855\ttotal: 629ms\tremaining: 47.8s\n",
      "13:\tlearn: 0.0007995\ttotal: 680ms\tremaining: 47.9s\n",
      "14:\tlearn: 0.0007460\ttotal: 725ms\tremaining: 47.6s\n",
      "15:\tlearn: 0.0007060\ttotal: 772ms\tremaining: 47.5s\n",
      "16:\tlearn: 0.0006729\ttotal: 817ms\tremaining: 47.2s\n",
      "17:\tlearn: 0.0006645\ttotal: 865ms\tremaining: 47.2s\n",
      "18:\tlearn: 0.0006446\ttotal: 914ms\tremaining: 47.2s\n",
      "19:\tlearn: 0.0006294\ttotal: 958ms\tremaining: 46.9s\n",
      "20:\tlearn: 0.0006172\ttotal: 1s\tremaining: 46.8s\n",
      "21:\tlearn: 0.0006002\ttotal: 1.04s\tremaining: 46.5s\n",
      "22:\tlearn: 0.0005887\ttotal: 1.09s\tremaining: 46.2s\n",
      "23:\tlearn: 0.0005870\ttotal: 1.13s\tremaining: 46s\n",
      "24:\tlearn: 0.0005792\ttotal: 1.18s\tremaining: 46s\n",
      "25:\tlearn: 0.0005703\ttotal: 1.22s\tremaining: 45.9s\n",
      "26:\tlearn: 0.0005688\ttotal: 1.27s\tremaining: 46s\n",
      "27:\tlearn: 0.0005662\ttotal: 1.32s\tremaining: 45.9s\n",
      "28:\tlearn: 0.0005593\ttotal: 1.37s\tremaining: 45.9s\n",
      "29:\tlearn: 0.0005567\ttotal: 1.42s\tremaining: 45.8s\n",
      "30:\tlearn: 0.0005558\ttotal: 1.46s\tremaining: 45.8s\n",
      "31:\tlearn: 0.0005448\ttotal: 1.51s\tremaining: 45.7s\n",
      "32:\tlearn: 0.0005390\ttotal: 1.55s\tremaining: 45.6s\n",
      "33:\tlearn: 0.0005380\ttotal: 1.6s\tremaining: 45.6s\n",
      "34:\tlearn: 0.0005351\ttotal: 1.65s\tremaining: 45.4s\n",
      "35:\tlearn: 0.0005332\ttotal: 1.69s\tremaining: 45.3s\n",
      "36:\tlearn: 0.0005267\ttotal: 1.74s\tremaining: 45.4s\n",
      "37:\tlearn: 0.0005233\ttotal: 1.79s\tremaining: 45.4s\n",
      "38:\tlearn: 0.0005201\ttotal: 1.84s\tremaining: 45.4s\n",
      "39:\tlearn: 0.0005198\ttotal: 1.89s\tremaining: 45.3s\n",
      "40:\tlearn: 0.0005193\ttotal: 1.93s\tremaining: 45.2s\n",
      "41:\tlearn: 0.0005154\ttotal: 1.98s\tremaining: 45.1s\n",
      "42:\tlearn: 0.0005144\ttotal: 2.02s\tremaining: 45s\n",
      "43:\tlearn: 0.0005140\ttotal: 2.07s\tremaining: 45s\n",
      "44:\tlearn: 0.0005130\ttotal: 2.12s\tremaining: 45s\n",
      "45:\tlearn: 0.0005120\ttotal: 2.16s\tremaining: 44.8s\n",
      "46:\tlearn: 0.0005028\ttotal: 2.21s\tremaining: 44.8s\n",
      "47:\tlearn: 0.0004949\ttotal: 2.26s\tremaining: 44.8s\n",
      "48:\tlearn: 0.0004938\ttotal: 2.31s\tremaining: 44.8s\n",
      "49:\tlearn: 0.0004932\ttotal: 2.36s\tremaining: 44.8s\n",
      "50:\tlearn: 0.0004890\ttotal: 2.41s\tremaining: 44.8s\n",
      "51:\tlearn: 0.0004842\ttotal: 2.45s\tremaining: 44.8s\n",
      "52:\tlearn: 0.0004822\ttotal: 2.5s\tremaining: 44.7s\n",
      "53:\tlearn: 0.0004812\ttotal: 2.55s\tremaining: 44.6s\n",
      "54:\tlearn: 0.0004733\ttotal: 2.6s\tremaining: 44.7s\n",
      "55:\tlearn: 0.0004710\ttotal: 2.65s\tremaining: 44.6s\n",
      "56:\tlearn: 0.0004709\ttotal: 2.69s\tremaining: 44.5s\n",
      "57:\tlearn: 0.0004665\ttotal: 2.74s\tremaining: 44.5s\n",
      "58:\tlearn: 0.0004649\ttotal: 2.79s\tremaining: 44.4s\n",
      "59:\tlearn: 0.0004637\ttotal: 2.84s\tremaining: 44.5s\n",
      "60:\tlearn: 0.0004600\ttotal: 2.89s\tremaining: 44.5s\n",
      "61:\tlearn: 0.0004592\ttotal: 2.95s\tremaining: 44.6s\n",
      "62:\tlearn: 0.0004552\ttotal: 3s\tremaining: 44.7s\n",
      "63:\tlearn: 0.0004545\ttotal: 3.06s\tremaining: 44.8s\n",
      "64:\tlearn: 0.0004537\ttotal: 3.11s\tremaining: 44.8s\n",
      "65:\tlearn: 0.0004518\ttotal: 3.17s\tremaining: 44.8s\n",
      "66:\tlearn: 0.0004467\ttotal: 3.22s\tremaining: 44.8s\n",
      "67:\tlearn: 0.0004442\ttotal: 3.27s\tremaining: 44.8s\n",
      "68:\tlearn: 0.0004419\ttotal: 3.31s\tremaining: 44.7s\n",
      "69:\tlearn: 0.0004399\ttotal: 3.36s\tremaining: 44.7s\n",
      "70:\tlearn: 0.0004371\ttotal: 3.41s\tremaining: 44.6s\n",
      "71:\tlearn: 0.0004329\ttotal: 3.46s\tremaining: 44.6s\n",
      "72:\tlearn: 0.0004286\ttotal: 3.51s\tremaining: 44.6s\n",
      "73:\tlearn: 0.0004227\ttotal: 3.56s\tremaining: 44.6s\n",
      "74:\tlearn: 0.0004193\ttotal: 3.62s\tremaining: 44.6s\n",
      "75:\tlearn: 0.0004169\ttotal: 3.68s\tremaining: 44.7s\n",
      "76:\tlearn: 0.0004142\ttotal: 3.73s\tremaining: 44.8s\n",
      "77:\tlearn: 0.0004114\ttotal: 3.78s\tremaining: 44.7s\n",
      "78:\tlearn: 0.0004091\ttotal: 3.84s\tremaining: 44.8s\n",
      "79:\tlearn: 0.0004064\ttotal: 3.89s\tremaining: 44.7s\n",
      "80:\tlearn: 0.0004035\ttotal: 3.94s\tremaining: 44.7s\n",
      "81:\tlearn: 0.0004008\ttotal: 4s\tremaining: 44.8s\n",
      "82:\tlearn: 0.0003991\ttotal: 4.05s\tremaining: 44.8s\n",
      "83:\tlearn: 0.0003980\ttotal: 4.11s\tremaining: 44.8s\n",
      "84:\tlearn: 0.0003978\ttotal: 4.17s\tremaining: 44.9s\n",
      "85:\tlearn: 0.0003962\ttotal: 4.22s\tremaining: 44.8s\n",
      "86:\tlearn: 0.0003926\ttotal: 4.27s\tremaining: 44.8s\n",
      "87:\tlearn: 0.0003915\ttotal: 4.32s\tremaining: 44.8s\n",
      "88:\tlearn: 0.0003893\ttotal: 4.37s\tremaining: 44.8s\n",
      "89:\tlearn: 0.0003859\ttotal: 4.43s\tremaining: 44.8s\n",
      "90:\tlearn: 0.0003838\ttotal: 4.5s\tremaining: 44.9s\n",
      "91:\tlearn: 0.0003817\ttotal: 4.55s\tremaining: 44.9s\n",
      "92:\tlearn: 0.0003800\ttotal: 4.62s\tremaining: 45.1s\n",
      "93:\tlearn: 0.0003787\ttotal: 4.68s\tremaining: 45.1s\n",
      "94:\tlearn: 0.0003786\ttotal: 4.74s\tremaining: 45.1s\n",
      "95:\tlearn: 0.0003770\ttotal: 4.8s\tremaining: 45.2s\n",
      "96:\tlearn: 0.0003753\ttotal: 4.88s\tremaining: 45.4s\n",
      "97:\tlearn: 0.0003751\ttotal: 4.94s\tremaining: 45.5s\n",
      "98:\tlearn: 0.0003735\ttotal: 5s\tremaining: 45.5s\n",
      "99:\tlearn: 0.0003734\ttotal: 5.05s\tremaining: 45.5s\n",
      "100:\tlearn: 0.0003712\ttotal: 5.11s\tremaining: 45.5s\n",
      "101:\tlearn: 0.0003701\ttotal: 5.17s\tremaining: 45.6s\n",
      "102:\tlearn: 0.0003675\ttotal: 5.25s\tremaining: 45.7s\n",
      "103:\tlearn: 0.0003669\ttotal: 5.31s\tremaining: 45.8s\n",
      "104:\tlearn: 0.0003668\ttotal: 5.37s\tremaining: 45.8s\n",
      "105:\tlearn: 0.0003654\ttotal: 5.42s\tremaining: 45.7s\n",
      "106:\tlearn: 0.0003631\ttotal: 5.47s\tremaining: 45.7s\n",
      "107:\tlearn: 0.0003618\ttotal: 5.53s\tremaining: 45.6s\n",
      "108:\tlearn: 0.0003617\ttotal: 5.57s\tremaining: 45.6s\n",
      "109:\tlearn: 0.0003605\ttotal: 5.62s\tremaining: 45.5s\n",
      "110:\tlearn: 0.0003590\ttotal: 5.67s\tremaining: 45.4s\n",
      "111:\tlearn: 0.0003578\ttotal: 5.72s\tremaining: 45.4s\n",
      "112:\tlearn: 0.0003565\ttotal: 5.78s\tremaining: 45.4s\n",
      "113:\tlearn: 0.0003556\ttotal: 5.83s\tremaining: 45.3s\n",
      "114:\tlearn: 0.0003551\ttotal: 5.88s\tremaining: 45.2s\n",
      "115:\tlearn: 0.0003538\ttotal: 5.92s\tremaining: 45.1s\n",
      "116:\tlearn: 0.0003535\ttotal: 5.98s\tremaining: 45.1s\n",
      "117:\tlearn: 0.0003525\ttotal: 6.03s\tremaining: 45.1s\n",
      "118:\tlearn: 0.0003510\ttotal: 6.08s\tremaining: 45s\n",
      "119:\tlearn: 0.0003500\ttotal: 6.13s\tremaining: 45s\n",
      "120:\tlearn: 0.0003493\ttotal: 6.18s\tremaining: 44.9s\n",
      "121:\tlearn: 0.0003492\ttotal: 6.23s\tremaining: 44.9s\n",
      "122:\tlearn: 0.0003484\ttotal: 6.29s\tremaining: 44.8s\n",
      "123:\tlearn: 0.0003476\ttotal: 6.34s\tremaining: 44.8s\n",
      "124:\tlearn: 0.0003466\ttotal: 6.39s\tremaining: 44.8s\n",
      "125:\tlearn: 0.0003447\ttotal: 6.45s\tremaining: 44.7s\n",
      "126:\tlearn: 0.0003427\ttotal: 6.5s\tremaining: 44.7s\n",
      "127:\tlearn: 0.0003410\ttotal: 6.55s\tremaining: 44.7s\n",
      "128:\tlearn: 0.0003402\ttotal: 6.6s\tremaining: 44.6s\n",
      "129:\tlearn: 0.0003401\ttotal: 6.65s\tremaining: 44.5s\n",
      "130:\tlearn: 0.0003379\ttotal: 6.7s\tremaining: 44.4s\n",
      "131:\tlearn: 0.0003357\ttotal: 6.74s\tremaining: 44.3s\n",
      "132:\tlearn: 0.0003347\ttotal: 6.78s\tremaining: 44.2s\n",
      "133:\tlearn: 0.0003340\ttotal: 6.83s\tremaining: 44.1s\n",
      "134:\tlearn: 0.0003340\ttotal: 6.87s\tremaining: 44s\n",
      "135:\tlearn: 0.0003334\ttotal: 6.92s\tremaining: 44s\n",
      "136:\tlearn: 0.0003333\ttotal: 6.97s\tremaining: 43.9s\n",
      "137:\tlearn: 0.0003321\ttotal: 7.01s\tremaining: 43.8s\n",
      "138:\tlearn: 0.0003312\ttotal: 7.06s\tremaining: 43.7s\n",
      "139:\tlearn: 0.0003292\ttotal: 7.11s\tremaining: 43.7s\n",
      "140:\tlearn: 0.0003264\ttotal: 7.17s\tremaining: 43.7s\n",
      "141:\tlearn: 0.0003253\ttotal: 7.22s\tremaining: 43.6s\n",
      "142:\tlearn: 0.0003253\ttotal: 7.27s\tremaining: 43.6s\n",
      "143:\tlearn: 0.0003244\ttotal: 7.32s\tremaining: 43.5s\n",
      "144:\tlearn: 0.0003239\ttotal: 7.37s\tremaining: 43.4s\n",
      "145:\tlearn: 0.0003238\ttotal: 7.41s\tremaining: 43.4s\n",
      "146:\tlearn: 0.0003231\ttotal: 7.46s\tremaining: 43.3s\n",
      "147:\tlearn: 0.0003229\ttotal: 7.51s\tremaining: 43.2s\n",
      "148:\tlearn: 0.0003229\ttotal: 7.55s\tremaining: 43.1s\n",
      "149:\tlearn: 0.0003210\ttotal: 7.6s\tremaining: 43s\n",
      "150:\tlearn: 0.0003204\ttotal: 7.64s\tremaining: 43s\n",
      "151:\tlearn: 0.0003183\ttotal: 7.68s\tremaining: 42.9s\n",
      "152:\tlearn: 0.0003182\ttotal: 7.73s\tremaining: 42.8s\n",
      "153:\tlearn: 0.0003161\ttotal: 7.79s\tremaining: 42.8s\n",
      "154:\tlearn: 0.0003149\ttotal: 7.85s\tremaining: 42.8s\n",
      "155:\tlearn: 0.0003125\ttotal: 7.91s\tremaining: 42.8s\n",
      "156:\tlearn: 0.0003126\ttotal: 7.96s\tremaining: 42.8s\n",
      "157:\tlearn: 0.0003122\ttotal: 8.01s\tremaining: 42.7s\n",
      "158:\tlearn: 0.0003119\ttotal: 8.07s\tremaining: 42.7s\n",
      "159:\tlearn: 0.0003104\ttotal: 8.12s\tremaining: 42.6s\n",
      "160:\tlearn: 0.0003103\ttotal: 8.18s\tremaining: 42.6s\n",
      "161:\tlearn: 0.0003068\ttotal: 8.26s\tremaining: 42.7s\n",
      "162:\tlearn: 0.0003063\ttotal: 8.33s\tremaining: 42.8s\n",
      "163:\tlearn: 0.0003048\ttotal: 8.4s\tremaining: 42.8s\n",
      "164:\tlearn: 0.0003047\ttotal: 8.46s\tremaining: 42.8s\n",
      "165:\tlearn: 0.0003029\ttotal: 8.53s\tremaining: 42.9s\n",
      "166:\tlearn: 0.0003027\ttotal: 8.6s\tremaining: 42.9s\n",
      "167:\tlearn: 0.0003026\ttotal: 8.67s\tremaining: 42.9s\n",
      "168:\tlearn: 0.0003011\ttotal: 8.75s\tremaining: 43s\n",
      "169:\tlearn: 0.0002976\ttotal: 8.83s\tremaining: 43.1s\n",
      "170:\tlearn: 0.0002964\ttotal: 8.89s\tremaining: 43.1s\n",
      "171:\tlearn: 0.0002952\ttotal: 8.95s\tremaining: 43.1s\n",
      "172:\tlearn: 0.0002951\ttotal: 9.01s\tremaining: 43.1s\n",
      "173:\tlearn: 0.0002938\ttotal: 9.07s\tremaining: 43.1s\n",
      "174:\tlearn: 0.0002920\ttotal: 9.12s\tremaining: 43s\n",
      "175:\tlearn: 0.0002909\ttotal: 9.17s\tremaining: 42.9s\n",
      "176:\tlearn: 0.0002895\ttotal: 9.23s\tremaining: 42.9s\n",
      "177:\tlearn: 0.0002893\ttotal: 9.28s\tremaining: 42.8s\n",
      "178:\tlearn: 0.0002877\ttotal: 9.34s\tremaining: 42.9s\n",
      "179:\tlearn: 0.0002864\ttotal: 9.4s\tremaining: 42.8s\n",
      "180:\tlearn: 0.0002857\ttotal: 9.45s\tremaining: 42.8s\n",
      "181:\tlearn: 0.0002851\ttotal: 9.49s\tremaining: 42.7s\n",
      "182:\tlearn: 0.0002848\ttotal: 9.55s\tremaining: 42.6s\n",
      "183:\tlearn: 0.0002839\ttotal: 9.61s\tremaining: 42.6s\n",
      "184:\tlearn: 0.0002828\ttotal: 9.66s\tremaining: 42.6s\n",
      "185:\tlearn: 0.0002810\ttotal: 9.72s\tremaining: 42.5s\n",
      "186:\tlearn: 0.0002794\ttotal: 9.77s\tremaining: 42.5s\n",
      "187:\tlearn: 0.0002787\ttotal: 9.82s\tremaining: 42.4s\n",
      "188:\tlearn: 0.0002778\ttotal: 9.88s\tremaining: 42.4s\n",
      "189:\tlearn: 0.0002760\ttotal: 9.95s\tremaining: 42.4s\n",
      "190:\tlearn: 0.0002753\ttotal: 10s\tremaining: 42.4s\n",
      "191:\tlearn: 0.0002733\ttotal: 10.1s\tremaining: 42.3s\n",
      "192:\tlearn: 0.0002726\ttotal: 10.1s\tremaining: 42.3s\n",
      "193:\tlearn: 0.0002718\ttotal: 10.2s\tremaining: 42.3s\n",
      "194:\tlearn: 0.0002705\ttotal: 10.2s\tremaining: 42.2s\n",
      "195:\tlearn: 0.0002697\ttotal: 10.3s\tremaining: 42.2s\n",
      "196:\tlearn: 0.0002685\ttotal: 10.3s\tremaining: 42.2s\n",
      "197:\tlearn: 0.0002674\ttotal: 10.4s\tremaining: 42.1s\n",
      "198:\tlearn: 0.0002671\ttotal: 10.4s\tremaining: 42s\n",
      "199:\tlearn: 0.0002664\ttotal: 10.5s\tremaining: 41.9s\n",
      "200:\tlearn: 0.0002655\ttotal: 10.5s\tremaining: 41.9s\n",
      "201:\tlearn: 0.0002640\ttotal: 10.6s\tremaining: 41.9s\n",
      "202:\tlearn: 0.0002628\ttotal: 10.7s\tremaining: 41.8s\n",
      "203:\tlearn: 0.0002615\ttotal: 10.7s\tremaining: 41.8s\n",
      "204:\tlearn: 0.0002604\ttotal: 10.8s\tremaining: 41.7s\n",
      "205:\tlearn: 0.0002591\ttotal: 10.8s\tremaining: 41.7s\n",
      "206:\tlearn: 0.0002583\ttotal: 10.9s\tremaining: 41.7s\n",
      "207:\tlearn: 0.0002581\ttotal: 10.9s\tremaining: 41.6s\n",
      "208:\tlearn: 0.0002577\ttotal: 11s\tremaining: 41.6s\n",
      "209:\tlearn: 0.0002567\ttotal: 11s\tremaining: 41.5s\n",
      "210:\tlearn: 0.0002557\ttotal: 11.1s\tremaining: 41.5s\n",
      "211:\tlearn: 0.0002548\ttotal: 11.1s\tremaining: 41.4s\n",
      "212:\tlearn: 0.0002535\ttotal: 11.2s\tremaining: 41.3s\n",
      "213:\tlearn: 0.0002525\ttotal: 11.2s\tremaining: 41.2s\n",
      "214:\tlearn: 0.0002516\ttotal: 11.3s\tremaining: 41.3s\n",
      "215:\tlearn: 0.0002513\ttotal: 11.4s\tremaining: 41.2s\n",
      "216:\tlearn: 0.0002504\ttotal: 11.4s\tremaining: 41.2s\n",
      "217:\tlearn: 0.0002494\ttotal: 11.5s\tremaining: 41.2s\n",
      "218:\tlearn: 0.0002482\ttotal: 11.5s\tremaining: 41.1s\n",
      "219:\tlearn: 0.0002474\ttotal: 11.6s\tremaining: 41.1s\n",
      "220:\tlearn: 0.0002467\ttotal: 11.7s\tremaining: 41.1s\n",
      "221:\tlearn: 0.0002464\ttotal: 11.7s\tremaining: 41.1s\n",
      "222:\tlearn: 0.0002445\ttotal: 11.8s\tremaining: 41.1s\n",
      "223:\tlearn: 0.0002437\ttotal: 11.9s\tremaining: 41.1s\n",
      "224:\tlearn: 0.0002431\ttotal: 11.9s\tremaining: 41s\n",
      "225:\tlearn: 0.0002421\ttotal: 12s\tremaining: 41s\n",
      "226:\tlearn: 0.0002415\ttotal: 12s\tremaining: 41s\n",
      "227:\tlearn: 0.0002413\ttotal: 12.1s\tremaining: 41s\n",
      "228:\tlearn: 0.0002405\ttotal: 12.2s\tremaining: 41s\n",
      "229:\tlearn: 0.0002386\ttotal: 12.2s\tremaining: 40.9s\n",
      "230:\tlearn: 0.0002378\ttotal: 12.3s\tremaining: 40.9s\n",
      "231:\tlearn: 0.0002376\ttotal: 12.3s\tremaining: 40.8s\n",
      "232:\tlearn: 0.0002371\ttotal: 12.4s\tremaining: 40.7s\n",
      "233:\tlearn: 0.0002345\ttotal: 12.4s\tremaining: 40.6s\n",
      "234:\tlearn: 0.0002337\ttotal: 12.5s\tremaining: 40.6s\n",
      "235:\tlearn: 0.0002325\ttotal: 12.5s\tremaining: 40.5s\n",
      "236:\tlearn: 0.0002325\ttotal: 12.6s\tremaining: 40.4s\n",
      "237:\tlearn: 0.0002324\ttotal: 12.6s\tremaining: 40.3s\n",
      "238:\tlearn: 0.0002301\ttotal: 12.6s\tremaining: 40.3s\n",
      "239:\tlearn: 0.0002297\ttotal: 12.7s\tremaining: 40.2s\n",
      "240:\tlearn: 0.0002286\ttotal: 12.8s\tremaining: 40.2s\n",
      "241:\tlearn: 0.0002275\ttotal: 12.8s\tremaining: 40.1s\n",
      "242:\tlearn: 0.0002272\ttotal: 12.9s\tremaining: 40s\n",
      "243:\tlearn: 0.0002269\ttotal: 12.9s\tremaining: 40s\n",
      "244:\tlearn: 0.0002259\ttotal: 12.9s\tremaining: 39.9s\n",
      "245:\tlearn: 0.0002256\ttotal: 13s\tremaining: 39.8s\n",
      "246:\tlearn: 0.0002249\ttotal: 13s\tremaining: 39.8s\n",
      "247:\tlearn: 0.0002249\ttotal: 13.1s\tremaining: 39.7s\n",
      "248:\tlearn: 0.0002248\ttotal: 13.1s\tremaining: 39.6s\n",
      "249:\tlearn: 0.0002246\ttotal: 13.2s\tremaining: 39.5s\n",
      "250:\tlearn: 0.0002237\ttotal: 13.2s\tremaining: 39.5s\n",
      "251:\tlearn: 0.0002228\ttotal: 13.3s\tremaining: 39.4s\n",
      "252:\tlearn: 0.0002223\ttotal: 13.3s\tremaining: 39.4s\n",
      "253:\tlearn: 0.0002222\ttotal: 13.4s\tremaining: 39.4s\n",
      "254:\tlearn: 0.0002209\ttotal: 13.5s\tremaining: 39.3s\n",
      "255:\tlearn: 0.0002207\ttotal: 13.5s\tremaining: 39.3s\n",
      "256:\tlearn: 0.0002202\ttotal: 13.6s\tremaining: 39.2s\n",
      "257:\tlearn: 0.0002197\ttotal: 13.6s\tremaining: 39.2s\n",
      "258:\tlearn: 0.0002191\ttotal: 13.7s\tremaining: 39.1s\n",
      "259:\tlearn: 0.0002188\ttotal: 13.7s\tremaining: 39.1s\n",
      "260:\tlearn: 0.0002175\ttotal: 13.8s\tremaining: 39s\n",
      "261:\tlearn: 0.0002170\ttotal: 13.8s\tremaining: 39s\n",
      "262:\tlearn: 0.0002170\ttotal: 13.9s\tremaining: 38.9s\n",
      "263:\tlearn: 0.0002149\ttotal: 13.9s\tremaining: 38.8s\n",
      "264:\tlearn: 0.0002141\ttotal: 14s\tremaining: 38.8s\n",
      "265:\tlearn: 0.0002140\ttotal: 14s\tremaining: 38.7s\n",
      "266:\tlearn: 0.0002137\ttotal: 14.1s\tremaining: 38.7s\n",
      "267:\tlearn: 0.0002128\ttotal: 14.1s\tremaining: 38.6s\n",
      "268:\tlearn: 0.0002116\ttotal: 14.2s\tremaining: 38.6s\n",
      "269:\tlearn: 0.0002095\ttotal: 14.2s\tremaining: 38.5s\n",
      "270:\tlearn: 0.0002085\ttotal: 14.3s\tremaining: 38.5s\n",
      "271:\tlearn: 0.0002085\ttotal: 14.4s\tremaining: 38.4s\n",
      "272:\tlearn: 0.0002083\ttotal: 14.4s\tremaining: 38.4s\n",
      "273:\tlearn: 0.0002083\ttotal: 14.5s\tremaining: 38.3s\n",
      "274:\tlearn: 0.0002073\ttotal: 14.5s\tremaining: 38.3s\n",
      "275:\tlearn: 0.0002068\ttotal: 14.6s\tremaining: 38.3s\n",
      "276:\tlearn: 0.0002058\ttotal: 14.6s\tremaining: 38.2s\n",
      "277:\tlearn: 0.0002056\ttotal: 14.7s\tremaining: 38.2s\n",
      "278:\tlearn: 0.0002052\ttotal: 14.8s\tremaining: 38.2s\n",
      "279:\tlearn: 0.0002040\ttotal: 14.8s\tremaining: 38.1s\n",
      "280:\tlearn: 0.0002037\ttotal: 14.9s\tremaining: 38.1s\n",
      "281:\tlearn: 0.0002024\ttotal: 14.9s\tremaining: 38s\n",
      "282:\tlearn: 0.0002016\ttotal: 15s\tremaining: 37.9s\n",
      "283:\tlearn: 0.0002010\ttotal: 15s\tremaining: 37.9s\n",
      "284:\tlearn: 0.0002002\ttotal: 15.1s\tremaining: 37.8s\n",
      "285:\tlearn: 0.0001994\ttotal: 15.1s\tremaining: 37.8s\n",
      "286:\tlearn: 0.0001985\ttotal: 15.2s\tremaining: 37.7s\n",
      "287:\tlearn: 0.0001983\ttotal: 15.2s\tremaining: 37.6s\n",
      "288:\tlearn: 0.0001970\ttotal: 15.3s\tremaining: 37.6s\n",
      "289:\tlearn: 0.0001966\ttotal: 15.3s\tremaining: 37.5s\n",
      "290:\tlearn: 0.0001965\ttotal: 15.4s\tremaining: 37.4s\n",
      "291:\tlearn: 0.0001959\ttotal: 15.4s\tremaining: 37.4s\n",
      "292:\tlearn: 0.0001950\ttotal: 15.5s\tremaining: 37.3s\n",
      "293:\tlearn: 0.0001948\ttotal: 15.5s\tremaining: 37.2s\n",
      "294:\tlearn: 0.0001944\ttotal: 15.5s\tremaining: 37.2s\n",
      "295:\tlearn: 0.0001939\ttotal: 15.6s\tremaining: 37.1s\n",
      "296:\tlearn: 0.0001926\ttotal: 15.6s\tremaining: 37s\n",
      "297:\tlearn: 0.0001922\ttotal: 15.7s\tremaining: 37s\n",
      "298:\tlearn: 0.0001917\ttotal: 15.7s\tremaining: 36.9s\n",
      "299:\tlearn: 0.0001917\ttotal: 15.8s\tremaining: 36.8s\n",
      "300:\tlearn: 0.0001904\ttotal: 15.8s\tremaining: 36.8s\n",
      "301:\tlearn: 0.0001893\ttotal: 15.9s\tremaining: 36.7s\n",
      "302:\tlearn: 0.0001893\ttotal: 15.9s\tremaining: 36.6s\n",
      "303:\tlearn: 0.0001886\ttotal: 16s\tremaining: 36.6s\n",
      "304:\tlearn: 0.0001874\ttotal: 16s\tremaining: 36.5s\n",
      "305:\tlearn: 0.0001862\ttotal: 16.1s\tremaining: 36.5s\n",
      "306:\tlearn: 0.0001850\ttotal: 16.1s\tremaining: 36.4s\n",
      "307:\tlearn: 0.0001842\ttotal: 16.2s\tremaining: 36.3s\n",
      "308:\tlearn: 0.0001831\ttotal: 16.2s\tremaining: 36.3s\n",
      "309:\tlearn: 0.0001817\ttotal: 16.3s\tremaining: 36.2s\n",
      "310:\tlearn: 0.0001807\ttotal: 16.3s\tremaining: 36.1s\n",
      "311:\tlearn: 0.0001798\ttotal: 16.4s\tremaining: 36.1s\n",
      "312:\tlearn: 0.0001787\ttotal: 16.4s\tremaining: 36s\n",
      "313:\tlearn: 0.0001776\ttotal: 16.4s\tremaining: 35.9s\n",
      "314:\tlearn: 0.0001768\ttotal: 16.5s\tremaining: 35.9s\n",
      "315:\tlearn: 0.0001762\ttotal: 16.5s\tremaining: 35.8s\n",
      "316:\tlearn: 0.0001758\ttotal: 16.6s\tremaining: 35.7s\n",
      "317:\tlearn: 0.0001742\ttotal: 16.6s\tremaining: 35.7s\n",
      "318:\tlearn: 0.0001735\ttotal: 16.7s\tremaining: 35.6s\n",
      "319:\tlearn: 0.0001730\ttotal: 16.7s\tremaining: 35.6s\n",
      "320:\tlearn: 0.0001728\ttotal: 16.8s\tremaining: 35.5s\n",
      "321:\tlearn: 0.0001724\ttotal: 16.8s\tremaining: 35.4s\n",
      "322:\tlearn: 0.0001723\ttotal: 16.9s\tremaining: 35.4s\n",
      "323:\tlearn: 0.0001719\ttotal: 16.9s\tremaining: 35.3s\n",
      "324:\tlearn: 0.0001719\ttotal: 17s\tremaining: 35.2s\n",
      "325:\tlearn: 0.0001711\ttotal: 17s\tremaining: 35.2s\n",
      "326:\tlearn: 0.0001698\ttotal: 17.1s\tremaining: 35.1s\n",
      "327:\tlearn: 0.0001690\ttotal: 17.1s\tremaining: 35.1s\n",
      "328:\tlearn: 0.0001687\ttotal: 17.2s\tremaining: 35s\n",
      "329:\tlearn: 0.0001687\ttotal: 17.2s\tremaining: 34.9s\n",
      "330:\tlearn: 0.0001681\ttotal: 17.2s\tremaining: 34.8s\n",
      "331:\tlearn: 0.0001681\ttotal: 17.3s\tremaining: 34.8s\n",
      "332:\tlearn: 0.0001678\ttotal: 17.3s\tremaining: 34.7s\n",
      "333:\tlearn: 0.0001678\ttotal: 17.4s\tremaining: 34.6s\n",
      "334:\tlearn: 0.0001673\ttotal: 17.4s\tremaining: 34.6s\n",
      "335:\tlearn: 0.0001669\ttotal: 17.5s\tremaining: 34.5s\n",
      "336:\tlearn: 0.0001662\ttotal: 17.5s\tremaining: 34.4s\n",
      "337:\tlearn: 0.0001662\ttotal: 17.5s\tremaining: 34.4s\n",
      "338:\tlearn: 0.0001657\ttotal: 17.6s\tremaining: 34.3s\n",
      "339:\tlearn: 0.0001653\ttotal: 17.6s\tremaining: 34.3s\n",
      "340:\tlearn: 0.0001653\ttotal: 17.7s\tremaining: 34.2s\n",
      "341:\tlearn: 0.0001648\ttotal: 17.7s\tremaining: 34.1s\n",
      "342:\tlearn: 0.0001641\ttotal: 17.8s\tremaining: 34.1s\n",
      "343:\tlearn: 0.0001631\ttotal: 17.8s\tremaining: 34s\n",
      "344:\tlearn: 0.0001624\ttotal: 17.9s\tremaining: 34s\n",
      "345:\tlearn: 0.0001620\ttotal: 18s\tremaining: 33.9s\n",
      "346:\tlearn: 0.0001619\ttotal: 18s\tremaining: 33.9s\n",
      "347:\tlearn: 0.0001613\ttotal: 18.1s\tremaining: 33.8s\n",
      "348:\tlearn: 0.0001613\ttotal: 18.1s\tremaining: 33.8s\n",
      "349:\tlearn: 0.0001605\ttotal: 18.2s\tremaining: 33.7s\n",
      "350:\tlearn: 0.0001601\ttotal: 18.2s\tremaining: 33.7s\n",
      "351:\tlearn: 0.0001601\ttotal: 18.3s\tremaining: 33.6s\n",
      "352:\tlearn: 0.0001601\ttotal: 18.3s\tremaining: 33.5s\n",
      "353:\tlearn: 0.0001596\ttotal: 18.4s\tremaining: 33.5s\n",
      "354:\tlearn: 0.0001592\ttotal: 18.4s\tremaining: 33.4s\n",
      "355:\tlearn: 0.0001590\ttotal: 18.4s\tremaining: 33.4s\n",
      "356:\tlearn: 0.0001586\ttotal: 18.5s\tremaining: 33.3s\n",
      "357:\tlearn: 0.0001581\ttotal: 18.5s\tremaining: 33.3s\n",
      "358:\tlearn: 0.0001575\ttotal: 18.6s\tremaining: 33.2s\n",
      "359:\tlearn: 0.0001572\ttotal: 18.6s\tremaining: 33.1s\n",
      "360:\tlearn: 0.0001568\ttotal: 18.7s\tremaining: 33.1s\n",
      "361:\tlearn: 0.0001566\ttotal: 18.7s\tremaining: 33s\n",
      "362:\tlearn: 0.0001564\ttotal: 18.8s\tremaining: 32.9s\n",
      "363:\tlearn: 0.0001561\ttotal: 18.8s\tremaining: 32.9s\n",
      "364:\tlearn: 0.0001556\ttotal: 18.9s\tremaining: 32.8s\n",
      "365:\tlearn: 0.0001546\ttotal: 18.9s\tremaining: 32.8s\n",
      "366:\tlearn: 0.0001545\ttotal: 19s\tremaining: 32.7s\n",
      "367:\tlearn: 0.0001540\ttotal: 19s\tremaining: 32.7s\n",
      "368:\tlearn: 0.0001522\ttotal: 19.1s\tremaining: 32.6s\n",
      "369:\tlearn: 0.0001519\ttotal: 19.1s\tremaining: 32.6s\n",
      "370:\tlearn: 0.0001514\ttotal: 19.2s\tremaining: 32.5s\n",
      "371:\tlearn: 0.0001511\ttotal: 19.2s\tremaining: 32.5s\n",
      "372:\tlearn: 0.0001506\ttotal: 19.3s\tremaining: 32.4s\n",
      "373:\tlearn: 0.0001504\ttotal: 19.3s\tremaining: 32.4s\n",
      "374:\tlearn: 0.0001493\ttotal: 19.4s\tremaining: 32.3s\n",
      "375:\tlearn: 0.0001488\ttotal: 19.5s\tremaining: 32.3s\n",
      "376:\tlearn: 0.0001487\ttotal: 19.5s\tremaining: 32.2s\n",
      "377:\tlearn: 0.0001483\ttotal: 19.6s\tremaining: 32.2s\n",
      "378:\tlearn: 0.0001481\ttotal: 19.6s\tremaining: 32.1s\n",
      "379:\tlearn: 0.0001471\ttotal: 19.7s\tremaining: 32.1s\n",
      "380:\tlearn: 0.0001468\ttotal: 19.7s\tremaining: 32s\n",
      "381:\tlearn: 0.0001464\ttotal: 19.8s\tremaining: 32s\n",
      "382:\tlearn: 0.0001456\ttotal: 19.8s\tremaining: 31.9s\n",
      "383:\tlearn: 0.0001449\ttotal: 19.9s\tremaining: 31.9s\n",
      "384:\tlearn: 0.0001445\ttotal: 19.9s\tremaining: 31.8s\n",
      "385:\tlearn: 0.0001443\ttotal: 20s\tremaining: 31.8s\n",
      "386:\tlearn: 0.0001441\ttotal: 20s\tremaining: 31.7s\n",
      "387:\tlearn: 0.0001436\ttotal: 20.1s\tremaining: 31.6s\n",
      "388:\tlearn: 0.0001434\ttotal: 20.1s\tremaining: 31.6s\n",
      "389:\tlearn: 0.0001425\ttotal: 20.2s\tremaining: 31.6s\n",
      "390:\tlearn: 0.0001420\ttotal: 20.2s\tremaining: 31.5s\n",
      "391:\tlearn: 0.0001417\ttotal: 20.3s\tremaining: 31.4s\n",
      "392:\tlearn: 0.0001408\ttotal: 20.3s\tremaining: 31.4s\n",
      "393:\tlearn: 0.0001405\ttotal: 20.4s\tremaining: 31.4s\n",
      "394:\tlearn: 0.0001398\ttotal: 20.4s\tremaining: 31.3s\n",
      "395:\tlearn: 0.0001391\ttotal: 20.5s\tremaining: 31.3s\n",
      "396:\tlearn: 0.0001384\ttotal: 20.5s\tremaining: 31.2s\n",
      "397:\tlearn: 0.0001377\ttotal: 20.6s\tremaining: 31.2s\n",
      "398:\tlearn: 0.0001373\ttotal: 20.7s\tremaining: 31.1s\n",
      "399:\tlearn: 0.0001370\ttotal: 20.7s\tremaining: 31.1s\n",
      "400:\tlearn: 0.0001367\ttotal: 20.8s\tremaining: 31s\n",
      "401:\tlearn: 0.0001367\ttotal: 20.8s\tremaining: 31s\n",
      "402:\tlearn: 0.0001363\ttotal: 20.9s\tremaining: 30.9s\n",
      "403:\tlearn: 0.0001360\ttotal: 20.9s\tremaining: 30.9s\n",
      "404:\tlearn: 0.0001358\ttotal: 21s\tremaining: 30.8s\n",
      "405:\tlearn: 0.0001356\ttotal: 21s\tremaining: 30.8s\n",
      "406:\tlearn: 0.0001354\ttotal: 21.1s\tremaining: 30.7s\n",
      "407:\tlearn: 0.0001350\ttotal: 21.1s\tremaining: 30.6s\n",
      "408:\tlearn: 0.0001343\ttotal: 21.2s\tremaining: 30.6s\n",
      "409:\tlearn: 0.0001340\ttotal: 21.2s\tremaining: 30.5s\n",
      "410:\tlearn: 0.0001339\ttotal: 21.3s\tremaining: 30.5s\n",
      "411:\tlearn: 0.0001336\ttotal: 21.3s\tremaining: 30.4s\n",
      "412:\tlearn: 0.0001334\ttotal: 21.4s\tremaining: 30.4s\n",
      "413:\tlearn: 0.0001330\ttotal: 21.4s\tremaining: 30.3s\n",
      "414:\tlearn: 0.0001330\ttotal: 21.5s\tremaining: 30.3s\n",
      "415:\tlearn: 0.0001326\ttotal: 21.5s\tremaining: 30.2s\n",
      "416:\tlearn: 0.0001323\ttotal: 21.6s\tremaining: 30.2s\n",
      "417:\tlearn: 0.0001321\ttotal: 21.7s\tremaining: 30.2s\n",
      "418:\tlearn: 0.0001317\ttotal: 21.7s\tremaining: 30.1s\n",
      "419:\tlearn: 0.0001312\ttotal: 21.8s\tremaining: 30.1s\n",
      "420:\tlearn: 0.0001311\ttotal: 21.8s\tremaining: 30s\n",
      "421:\tlearn: 0.0001310\ttotal: 21.9s\tremaining: 30s\n",
      "422:\tlearn: 0.0001302\ttotal: 21.9s\tremaining: 29.9s\n",
      "423:\tlearn: 0.0001302\ttotal: 22s\tremaining: 29.8s\n",
      "424:\tlearn: 0.0001298\ttotal: 22s\tremaining: 29.8s\n",
      "425:\tlearn: 0.0001293\ttotal: 22.1s\tremaining: 29.7s\n",
      "426:\tlearn: 0.0001292\ttotal: 22.1s\tremaining: 29.7s\n",
      "427:\tlearn: 0.0001290\ttotal: 22.2s\tremaining: 29.6s\n",
      "428:\tlearn: 0.0001290\ttotal: 22.2s\tremaining: 29.6s\n",
      "429:\tlearn: 0.0001287\ttotal: 22.3s\tremaining: 29.5s\n",
      "430:\tlearn: 0.0001285\ttotal: 22.3s\tremaining: 29.5s\n",
      "431:\tlearn: 0.0001284\ttotal: 22.4s\tremaining: 29.4s\n",
      "432:\tlearn: 0.0001284\ttotal: 22.4s\tremaining: 29.3s\n",
      "433:\tlearn: 0.0001282\ttotal: 22.5s\tremaining: 29.3s\n",
      "434:\tlearn: 0.0001281\ttotal: 22.5s\tremaining: 29.2s\n",
      "435:\tlearn: 0.0001280\ttotal: 22.6s\tremaining: 29.2s\n",
      "436:\tlearn: 0.0001278\ttotal: 22.6s\tremaining: 29.1s\n",
      "437:\tlearn: 0.0001274\ttotal: 22.7s\tremaining: 29.1s\n",
      "438:\tlearn: 0.0001274\ttotal: 22.7s\tremaining: 29s\n",
      "439:\tlearn: 0.0001273\ttotal: 22.8s\tremaining: 29s\n",
      "440:\tlearn: 0.0001272\ttotal: 22.8s\tremaining: 28.9s\n",
      "441:\tlearn: 0.0001268\ttotal: 22.9s\tremaining: 28.9s\n",
      "442:\tlearn: 0.0001266\ttotal: 22.9s\tremaining: 28.8s\n",
      "443:\tlearn: 0.0001253\ttotal: 23s\tremaining: 28.8s\n",
      "444:\tlearn: 0.0001251\ttotal: 23s\tremaining: 28.7s\n",
      "445:\tlearn: 0.0001247\ttotal: 23.1s\tremaining: 28.7s\n",
      "446:\tlearn: 0.0001247\ttotal: 23.1s\tremaining: 28.6s\n",
      "447:\tlearn: 0.0001236\ttotal: 23.2s\tremaining: 28.6s\n",
      "448:\tlearn: 0.0001236\ttotal: 23.2s\tremaining: 28.5s\n",
      "449:\tlearn: 0.0001233\ttotal: 23.3s\tremaining: 28.5s\n",
      "450:\tlearn: 0.0001228\ttotal: 23.3s\tremaining: 28.4s\n",
      "451:\tlearn: 0.0001224\ttotal: 23.4s\tremaining: 28.4s\n",
      "452:\tlearn: 0.0001218\ttotal: 23.4s\tremaining: 28.3s\n",
      "453:\tlearn: 0.0001215\ttotal: 23.5s\tremaining: 28.3s\n",
      "454:\tlearn: 0.0001208\ttotal: 23.5s\tremaining: 28.2s\n",
      "455:\tlearn: 0.0001207\ttotal: 23.6s\tremaining: 28.2s\n",
      "456:\tlearn: 0.0001204\ttotal: 23.7s\tremaining: 28.1s\n",
      "457:\tlearn: 0.0001203\ttotal: 23.7s\tremaining: 28.1s\n",
      "458:\tlearn: 0.0001202\ttotal: 23.8s\tremaining: 28s\n",
      "459:\tlearn: 0.0001202\ttotal: 23.8s\tremaining: 28s\n",
      "460:\tlearn: 0.0001201\ttotal: 23.9s\tremaining: 27.9s\n",
      "461:\tlearn: 0.0001197\ttotal: 23.9s\tremaining: 27.9s\n",
      "462:\tlearn: 0.0001195\ttotal: 24s\tremaining: 27.8s\n",
      "463:\tlearn: 0.0001190\ttotal: 24s\tremaining: 27.8s\n",
      "464:\tlearn: 0.0001188\ttotal: 24.1s\tremaining: 27.7s\n",
      "465:\tlearn: 0.0001187\ttotal: 24.1s\tremaining: 27.6s\n",
      "466:\tlearn: 0.0001182\ttotal: 24.2s\tremaining: 27.6s\n",
      "467:\tlearn: 0.0001171\ttotal: 24.2s\tremaining: 27.5s\n",
      "468:\tlearn: 0.0001167\ttotal: 24.3s\tremaining: 27.5s\n",
      "469:\tlearn: 0.0001165\ttotal: 24.3s\tremaining: 27.4s\n",
      "470:\tlearn: 0.0001161\ttotal: 24.4s\tremaining: 27.4s\n",
      "471:\tlearn: 0.0001158\ttotal: 24.4s\tremaining: 27.3s\n",
      "472:\tlearn: 0.0001158\ttotal: 24.5s\tremaining: 27.3s\n",
      "473:\tlearn: 0.0001156\ttotal: 24.5s\tremaining: 27.2s\n",
      "474:\tlearn: 0.0001154\ttotal: 24.6s\tremaining: 27.2s\n",
      "475:\tlearn: 0.0001151\ttotal: 24.6s\tremaining: 27.1s\n",
      "476:\tlearn: 0.0001150\ttotal: 24.7s\tremaining: 27.1s\n",
      "477:\tlearn: 0.0001149\ttotal: 24.7s\tremaining: 27s\n",
      "478:\tlearn: 0.0001148\ttotal: 24.8s\tremaining: 27s\n",
      "479:\tlearn: 0.0001146\ttotal: 24.8s\tremaining: 26.9s\n",
      "480:\tlearn: 0.0001145\ttotal: 24.9s\tremaining: 26.8s\n",
      "481:\tlearn: 0.0001139\ttotal: 24.9s\tremaining: 26.8s\n",
      "482:\tlearn: 0.0001137\ttotal: 25s\tremaining: 26.7s\n",
      "483:\tlearn: 0.0001123\ttotal: 25s\tremaining: 26.7s\n",
      "484:\tlearn: 0.0001121\ttotal: 25.1s\tremaining: 26.7s\n",
      "485:\tlearn: 0.0001118\ttotal: 25.2s\tremaining: 26.6s\n",
      "486:\tlearn: 0.0001117\ttotal: 25.2s\tremaining: 26.6s\n",
      "487:\tlearn: 0.0001117\ttotal: 25.3s\tremaining: 26.5s\n",
      "488:\tlearn: 0.0001117\ttotal: 25.3s\tremaining: 26.4s\n",
      "489:\tlearn: 0.0001106\ttotal: 25.4s\tremaining: 26.4s\n",
      "490:\tlearn: 0.0001104\ttotal: 25.4s\tremaining: 26.4s\n",
      "491:\tlearn: 0.0001103\ttotal: 25.5s\tremaining: 26.3s\n",
      "492:\tlearn: 0.0001100\ttotal: 25.5s\tremaining: 26.3s\n",
      "493:\tlearn: 0.0001098\ttotal: 25.6s\tremaining: 26.2s\n",
      "494:\tlearn: 0.0001095\ttotal: 25.6s\tremaining: 26.2s\n",
      "495:\tlearn: 0.0001095\ttotal: 25.7s\tremaining: 26.1s\n",
      "496:\tlearn: 0.0001095\ttotal: 25.7s\tremaining: 26s\n",
      "497:\tlearn: 0.0001095\ttotal: 25.8s\tremaining: 26s\n",
      "498:\tlearn: 0.0001092\ttotal: 25.8s\tremaining: 25.9s\n",
      "499:\tlearn: 0.0001090\ttotal: 25.9s\tremaining: 25.9s\n",
      "500:\tlearn: 0.0001088\ttotal: 25.9s\tremaining: 25.8s\n",
      "501:\tlearn: 0.0001082\ttotal: 26s\tremaining: 25.8s\n",
      "502:\tlearn: 0.0001081\ttotal: 26s\tremaining: 25.7s\n",
      "503:\tlearn: 0.0001079\ttotal: 26.1s\tremaining: 25.7s\n",
      "504:\tlearn: 0.0001070\ttotal: 26.1s\tremaining: 25.6s\n",
      "505:\tlearn: 0.0001067\ttotal: 26.2s\tremaining: 25.6s\n",
      "506:\tlearn: 0.0001064\ttotal: 26.2s\tremaining: 25.5s\n",
      "507:\tlearn: 0.0001060\ttotal: 26.3s\tremaining: 25.5s\n",
      "508:\tlearn: 0.0001058\ttotal: 26.3s\tremaining: 25.4s\n",
      "509:\tlearn: 0.0001053\ttotal: 26.4s\tremaining: 25.4s\n",
      "510:\tlearn: 0.0001049\ttotal: 26.5s\tremaining: 25.3s\n",
      "511:\tlearn: 0.0001041\ttotal: 26.5s\tremaining: 25.3s\n",
      "512:\tlearn: 0.0001040\ttotal: 26.6s\tremaining: 25.2s\n",
      "513:\tlearn: 0.0001038\ttotal: 26.6s\tremaining: 25.2s\n",
      "514:\tlearn: 0.0001038\ttotal: 26.7s\tremaining: 25.1s\n",
      "515:\tlearn: 0.0001037\ttotal: 26.7s\tremaining: 25.1s\n",
      "516:\tlearn: 0.0001033\ttotal: 26.8s\tremaining: 25s\n",
      "517:\tlearn: 0.0001030\ttotal: 26.8s\tremaining: 25s\n",
      "518:\tlearn: 0.0001027\ttotal: 26.9s\tremaining: 24.9s\n",
      "519:\tlearn: 0.0001026\ttotal: 26.9s\tremaining: 24.9s\n",
      "520:\tlearn: 0.0001024\ttotal: 27s\tremaining: 24.8s\n",
      "521:\tlearn: 0.0001024\ttotal: 27s\tremaining: 24.7s\n",
      "522:\tlearn: 0.0001024\ttotal: 27.1s\tremaining: 24.7s\n",
      "523:\tlearn: 0.0001021\ttotal: 27.1s\tremaining: 24.6s\n",
      "524:\tlearn: 0.0001020\ttotal: 27.2s\tremaining: 24.6s\n",
      "525:\tlearn: 0.0001017\ttotal: 27.2s\tremaining: 24.5s\n",
      "526:\tlearn: 0.0001016\ttotal: 27.3s\tremaining: 24.5s\n",
      "527:\tlearn: 0.0001012\ttotal: 27.3s\tremaining: 24.4s\n",
      "528:\tlearn: 0.0001011\ttotal: 27.4s\tremaining: 24.4s\n",
      "529:\tlearn: 0.0001008\ttotal: 27.4s\tremaining: 24.3s\n",
      "530:\tlearn: 0.0001004\ttotal: 27.5s\tremaining: 24.3s\n",
      "531:\tlearn: 0.0001001\ttotal: 27.5s\tremaining: 24.2s\n",
      "532:\tlearn: 0.0000994\ttotal: 27.6s\tremaining: 24.2s\n",
      "533:\tlearn: 0.0000993\ttotal: 27.7s\tremaining: 24.1s\n",
      "534:\tlearn: 0.0000986\ttotal: 27.7s\tremaining: 24.1s\n",
      "535:\tlearn: 0.0000983\ttotal: 27.8s\tremaining: 24s\n",
      "536:\tlearn: 0.0000979\ttotal: 27.8s\tremaining: 24s\n",
      "537:\tlearn: 0.0000978\ttotal: 27.9s\tremaining: 23.9s\n",
      "538:\tlearn: 0.0000976\ttotal: 27.9s\tremaining: 23.9s\n",
      "539:\tlearn: 0.0000976\ttotal: 28s\tremaining: 23.8s\n",
      "540:\tlearn: 0.0000975\ttotal: 28s\tremaining: 23.8s\n",
      "541:\tlearn: 0.0000975\ttotal: 28.1s\tremaining: 23.7s\n",
      "542:\tlearn: 0.0000975\ttotal: 28.1s\tremaining: 23.7s\n",
      "543:\tlearn: 0.0000971\ttotal: 28.2s\tremaining: 23.6s\n",
      "544:\tlearn: 0.0000966\ttotal: 28.2s\tremaining: 23.6s\n",
      "545:\tlearn: 0.0000962\ttotal: 28.3s\tremaining: 23.5s\n",
      "546:\tlearn: 0.0000962\ttotal: 28.3s\tremaining: 23.5s\n",
      "547:\tlearn: 0.0000962\ttotal: 28.4s\tremaining: 23.4s\n",
      "548:\tlearn: 0.0000957\ttotal: 28.4s\tremaining: 23.3s\n",
      "549:\tlearn: 0.0000954\ttotal: 28.5s\tremaining: 23.3s\n",
      "550:\tlearn: 0.0000954\ttotal: 28.5s\tremaining: 23.2s\n",
      "551:\tlearn: 0.0000953\ttotal: 28.6s\tremaining: 23.2s\n",
      "552:\tlearn: 0.0000951\ttotal: 28.6s\tremaining: 23.1s\n",
      "553:\tlearn: 0.0000947\ttotal: 28.7s\tremaining: 23.1s\n",
      "554:\tlearn: 0.0000945\ttotal: 28.7s\tremaining: 23s\n",
      "555:\tlearn: 0.0000939\ttotal: 28.8s\tremaining: 23s\n",
      "556:\tlearn: 0.0000939\ttotal: 28.8s\tremaining: 22.9s\n",
      "557:\tlearn: 0.0000938\ttotal: 28.9s\tremaining: 22.9s\n",
      "558:\tlearn: 0.0000936\ttotal: 28.9s\tremaining: 22.8s\n",
      "559:\tlearn: 0.0000936\ttotal: 29s\tremaining: 22.8s\n",
      "560:\tlearn: 0.0000936\ttotal: 29s\tremaining: 22.7s\n",
      "561:\tlearn: 0.0000935\ttotal: 29.1s\tremaining: 22.7s\n",
      "562:\tlearn: 0.0000933\ttotal: 29.1s\tremaining: 22.6s\n",
      "563:\tlearn: 0.0000933\ttotal: 29.2s\tremaining: 22.6s\n",
      "564:\tlearn: 0.0000930\ttotal: 29.2s\tremaining: 22.5s\n",
      "565:\tlearn: 0.0000927\ttotal: 29.3s\tremaining: 22.5s\n",
      "566:\tlearn: 0.0000925\ttotal: 29.3s\tremaining: 22.4s\n",
      "567:\tlearn: 0.0000925\ttotal: 29.4s\tremaining: 22.4s\n",
      "568:\tlearn: 0.0000924\ttotal: 29.4s\tremaining: 22.3s\n",
      "569:\tlearn: 0.0000922\ttotal: 29.5s\tremaining: 22.3s\n",
      "570:\tlearn: 0.0000920\ttotal: 29.6s\tremaining: 22.2s\n",
      "571:\tlearn: 0.0000918\ttotal: 29.6s\tremaining: 22.2s\n",
      "572:\tlearn: 0.0000916\ttotal: 29.7s\tremaining: 22.1s\n",
      "573:\tlearn: 0.0000915\ttotal: 29.7s\tremaining: 22.1s\n",
      "574:\tlearn: 0.0000913\ttotal: 29.8s\tremaining: 22s\n",
      "575:\tlearn: 0.0000910\ttotal: 29.8s\tremaining: 22s\n",
      "576:\tlearn: 0.0000907\ttotal: 29.9s\tremaining: 21.9s\n",
      "577:\tlearn: 0.0000905\ttotal: 29.9s\tremaining: 21.8s\n",
      "578:\tlearn: 0.0000904\ttotal: 30s\tremaining: 21.8s\n",
      "579:\tlearn: 0.0000900\ttotal: 30s\tremaining: 21.7s\n",
      "580:\tlearn: 0.0000898\ttotal: 30.1s\tremaining: 21.7s\n",
      "581:\tlearn: 0.0000896\ttotal: 30.1s\tremaining: 21.6s\n",
      "582:\tlearn: 0.0000895\ttotal: 30.2s\tremaining: 21.6s\n",
      "583:\tlearn: 0.0000894\ttotal: 30.2s\tremaining: 21.5s\n",
      "584:\tlearn: 0.0000893\ttotal: 30.3s\tremaining: 21.5s\n",
      "585:\tlearn: 0.0000890\ttotal: 30.3s\tremaining: 21.4s\n",
      "586:\tlearn: 0.0000888\ttotal: 30.4s\tremaining: 21.4s\n",
      "587:\tlearn: 0.0000886\ttotal: 30.5s\tremaining: 21.3s\n",
      "588:\tlearn: 0.0000885\ttotal: 30.5s\tremaining: 21.3s\n",
      "589:\tlearn: 0.0000884\ttotal: 30.6s\tremaining: 21.2s\n",
      "590:\tlearn: 0.0000882\ttotal: 30.6s\tremaining: 21.2s\n",
      "591:\tlearn: 0.0000881\ttotal: 30.7s\tremaining: 21.1s\n",
      "592:\tlearn: 0.0000879\ttotal: 30.7s\tremaining: 21.1s\n",
      "593:\tlearn: 0.0000879\ttotal: 30.8s\tremaining: 21s\n",
      "594:\tlearn: 0.0000878\ttotal: 30.8s\tremaining: 21s\n",
      "595:\tlearn: 0.0000876\ttotal: 30.9s\tremaining: 20.9s\n",
      "596:\tlearn: 0.0000873\ttotal: 30.9s\tremaining: 20.9s\n",
      "597:\tlearn: 0.0000872\ttotal: 31s\tremaining: 20.8s\n",
      "598:\tlearn: 0.0000870\ttotal: 31s\tremaining: 20.8s\n",
      "599:\tlearn: 0.0000869\ttotal: 31.1s\tremaining: 20.7s\n",
      "600:\tlearn: 0.0000867\ttotal: 31.1s\tremaining: 20.7s\n",
      "601:\tlearn: 0.0000865\ttotal: 31.2s\tremaining: 20.6s\n",
      "602:\tlearn: 0.0000864\ttotal: 31.2s\tremaining: 20.6s\n",
      "603:\tlearn: 0.0000863\ttotal: 31.3s\tremaining: 20.5s\n",
      "604:\tlearn: 0.0000861\ttotal: 31.3s\tremaining: 20.5s\n",
      "605:\tlearn: 0.0000860\ttotal: 31.4s\tremaining: 20.4s\n",
      "606:\tlearn: 0.0000859\ttotal: 31.4s\tremaining: 20.4s\n",
      "607:\tlearn: 0.0000856\ttotal: 31.5s\tremaining: 20.3s\n",
      "608:\tlearn: 0.0000855\ttotal: 31.6s\tremaining: 20.3s\n",
      "609:\tlearn: 0.0000852\ttotal: 31.6s\tremaining: 20.2s\n",
      "610:\tlearn: 0.0000852\ttotal: 31.7s\tremaining: 20.2s\n",
      "611:\tlearn: 0.0000851\ttotal: 31.7s\tremaining: 20.1s\n",
      "612:\tlearn: 0.0000851\ttotal: 31.8s\tremaining: 20s\n",
      "613:\tlearn: 0.0000851\ttotal: 31.8s\tremaining: 20s\n",
      "614:\tlearn: 0.0000849\ttotal: 31.9s\tremaining: 19.9s\n",
      "615:\tlearn: 0.0000845\ttotal: 31.9s\tremaining: 19.9s\n",
      "616:\tlearn: 0.0000845\ttotal: 32s\tremaining: 19.8s\n",
      "617:\tlearn: 0.0000843\ttotal: 32s\tremaining: 19.8s\n",
      "618:\tlearn: 0.0000843\ttotal: 32.1s\tremaining: 19.7s\n",
      "619:\tlearn: 0.0000840\ttotal: 32.1s\tremaining: 19.7s\n",
      "620:\tlearn: 0.0000839\ttotal: 32.2s\tremaining: 19.6s\n",
      "621:\tlearn: 0.0000837\ttotal: 32.2s\tremaining: 19.6s\n",
      "622:\tlearn: 0.0000836\ttotal: 32.3s\tremaining: 19.5s\n",
      "623:\tlearn: 0.0000835\ttotal: 32.3s\tremaining: 19.5s\n",
      "624:\tlearn: 0.0000834\ttotal: 32.4s\tremaining: 19.4s\n",
      "625:\tlearn: 0.0000833\ttotal: 32.4s\tremaining: 19.4s\n",
      "626:\tlearn: 0.0000831\ttotal: 32.5s\tremaining: 19.3s\n",
      "627:\tlearn: 0.0000831\ttotal: 32.6s\tremaining: 19.3s\n",
      "628:\tlearn: 0.0000830\ttotal: 32.6s\tremaining: 19.3s\n",
      "629:\tlearn: 0.0000828\ttotal: 32.7s\tremaining: 19.2s\n",
      "630:\tlearn: 0.0000825\ttotal: 32.8s\tremaining: 19.2s\n",
      "631:\tlearn: 0.0000823\ttotal: 32.9s\tremaining: 19.1s\n",
      "632:\tlearn: 0.0000820\ttotal: 32.9s\tremaining: 19.1s\n",
      "633:\tlearn: 0.0000818\ttotal: 33s\tremaining: 19.1s\n",
      "634:\tlearn: 0.0000817\ttotal: 33.1s\tremaining: 19s\n",
      "635:\tlearn: 0.0000813\ttotal: 33.1s\tremaining: 19s\n",
      "636:\tlearn: 0.0000812\ttotal: 33.2s\tremaining: 18.9s\n",
      "637:\tlearn: 0.0000812\ttotal: 33.3s\tremaining: 18.9s\n",
      "638:\tlearn: 0.0000811\ttotal: 33.3s\tremaining: 18.8s\n",
      "639:\tlearn: 0.0000811\ttotal: 33.4s\tremaining: 18.8s\n",
      "640:\tlearn: 0.0000810\ttotal: 33.5s\tremaining: 18.7s\n",
      "641:\tlearn: 0.0000806\ttotal: 33.5s\tremaining: 18.7s\n",
      "642:\tlearn: 0.0000804\ttotal: 33.6s\tremaining: 18.7s\n",
      "643:\tlearn: 0.0000802\ttotal: 33.7s\tremaining: 18.6s\n",
      "644:\tlearn: 0.0000802\ttotal: 33.7s\tremaining: 18.6s\n",
      "645:\tlearn: 0.0000799\ttotal: 33.8s\tremaining: 18.5s\n",
      "646:\tlearn: 0.0000798\ttotal: 33.9s\tremaining: 18.5s\n",
      "647:\tlearn: 0.0000797\ttotal: 33.9s\tremaining: 18.4s\n",
      "648:\tlearn: 0.0000796\ttotal: 34s\tremaining: 18.4s\n",
      "649:\tlearn: 0.0000796\ttotal: 34.1s\tremaining: 18.3s\n",
      "650:\tlearn: 0.0000796\ttotal: 34.1s\tremaining: 18.3s\n",
      "651:\tlearn: 0.0000795\ttotal: 34.2s\tremaining: 18.2s\n",
      "652:\tlearn: 0.0000793\ttotal: 34.2s\tremaining: 18.2s\n",
      "653:\tlearn: 0.0000792\ttotal: 34.3s\tremaining: 18.1s\n",
      "654:\tlearn: 0.0000791\ttotal: 34.4s\tremaining: 18.1s\n",
      "655:\tlearn: 0.0000790\ttotal: 34.4s\tremaining: 18.1s\n",
      "656:\tlearn: 0.0000788\ttotal: 34.5s\tremaining: 18s\n",
      "657:\tlearn: 0.0000788\ttotal: 34.6s\tremaining: 18s\n",
      "658:\tlearn: 0.0000787\ttotal: 34.6s\tremaining: 17.9s\n",
      "659:\tlearn: 0.0000787\ttotal: 34.7s\tremaining: 17.9s\n",
      "660:\tlearn: 0.0000786\ttotal: 34.7s\tremaining: 17.8s\n",
      "661:\tlearn: 0.0000786\ttotal: 34.8s\tremaining: 17.8s\n",
      "662:\tlearn: 0.0000784\ttotal: 34.8s\tremaining: 17.7s\n",
      "663:\tlearn: 0.0000783\ttotal: 34.9s\tremaining: 17.7s\n",
      "664:\tlearn: 0.0000782\ttotal: 35s\tremaining: 17.6s\n",
      "665:\tlearn: 0.0000781\ttotal: 35.1s\tremaining: 17.6s\n",
      "666:\tlearn: 0.0000780\ttotal: 35.1s\tremaining: 17.5s\n",
      "667:\tlearn: 0.0000778\ttotal: 35.2s\tremaining: 17.5s\n",
      "668:\tlearn: 0.0000778\ttotal: 35.2s\tremaining: 17.4s\n",
      "669:\tlearn: 0.0000777\ttotal: 35.3s\tremaining: 17.4s\n",
      "670:\tlearn: 0.0000777\ttotal: 35.4s\tremaining: 17.3s\n",
      "671:\tlearn: 0.0000772\ttotal: 35.4s\tremaining: 17.3s\n",
      "672:\tlearn: 0.0000770\ttotal: 35.5s\tremaining: 17.2s\n",
      "673:\tlearn: 0.0000770\ttotal: 35.5s\tremaining: 17.2s\n",
      "674:\tlearn: 0.0000767\ttotal: 35.6s\tremaining: 17.1s\n",
      "675:\tlearn: 0.0000767\ttotal: 35.6s\tremaining: 17.1s\n",
      "676:\tlearn: 0.0000766\ttotal: 35.7s\tremaining: 17s\n",
      "677:\tlearn: 0.0000766\ttotal: 35.8s\tremaining: 17s\n",
      "678:\tlearn: 0.0000764\ttotal: 35.8s\tremaining: 16.9s\n",
      "679:\tlearn: 0.0000762\ttotal: 35.9s\tremaining: 16.9s\n",
      "680:\tlearn: 0.0000762\ttotal: 35.9s\tremaining: 16.8s\n",
      "681:\tlearn: 0.0000762\ttotal: 36s\tremaining: 16.8s\n",
      "682:\tlearn: 0.0000761\ttotal: 36s\tremaining: 16.7s\n",
      "683:\tlearn: 0.0000759\ttotal: 36.1s\tremaining: 16.7s\n",
      "684:\tlearn: 0.0000759\ttotal: 36.1s\tremaining: 16.6s\n",
      "685:\tlearn: 0.0000756\ttotal: 36.2s\tremaining: 16.6s\n",
      "686:\tlearn: 0.0000754\ttotal: 36.3s\tremaining: 16.5s\n",
      "687:\tlearn: 0.0000753\ttotal: 36.3s\tremaining: 16.5s\n",
      "688:\tlearn: 0.0000752\ttotal: 36.4s\tremaining: 16.4s\n",
      "689:\tlearn: 0.0000751\ttotal: 36.5s\tremaining: 16.4s\n",
      "690:\tlearn: 0.0000750\ttotal: 36.5s\tremaining: 16.3s\n",
      "691:\tlearn: 0.0000748\ttotal: 36.6s\tremaining: 16.3s\n",
      "692:\tlearn: 0.0000747\ttotal: 36.7s\tremaining: 16.2s\n",
      "693:\tlearn: 0.0000745\ttotal: 36.7s\tremaining: 16.2s\n",
      "694:\tlearn: 0.0000744\ttotal: 36.8s\tremaining: 16.1s\n",
      "695:\tlearn: 0.0000743\ttotal: 36.8s\tremaining: 16.1s\n",
      "696:\tlearn: 0.0000742\ttotal: 36.9s\tremaining: 16s\n",
      "697:\tlearn: 0.0000742\ttotal: 37s\tremaining: 16s\n",
      "698:\tlearn: 0.0000741\ttotal: 37s\tremaining: 15.9s\n",
      "699:\tlearn: 0.0000740\ttotal: 37.1s\tremaining: 15.9s\n",
      "700:\tlearn: 0.0000739\ttotal: 37.2s\tremaining: 15.8s\n",
      "701:\tlearn: 0.0000738\ttotal: 37.2s\tremaining: 15.8s\n",
      "702:\tlearn: 0.0000737\ttotal: 37.3s\tremaining: 15.7s\n",
      "703:\tlearn: 0.0000737\ttotal: 37.3s\tremaining: 15.7s\n",
      "704:\tlearn: 0.0000736\ttotal: 37.4s\tremaining: 15.6s\n",
      "705:\tlearn: 0.0000735\ttotal: 37.4s\tremaining: 15.6s\n",
      "706:\tlearn: 0.0000734\ttotal: 37.5s\tremaining: 15.5s\n",
      "707:\tlearn: 0.0000732\ttotal: 37.5s\tremaining: 15.5s\n",
      "708:\tlearn: 0.0000732\ttotal: 37.6s\tremaining: 15.4s\n",
      "709:\tlearn: 0.0000731\ttotal: 37.7s\tremaining: 15.4s\n",
      "710:\tlearn: 0.0000727\ttotal: 37.7s\tremaining: 15.3s\n",
      "711:\tlearn: 0.0000727\ttotal: 37.8s\tremaining: 15.3s\n",
      "712:\tlearn: 0.0000725\ttotal: 37.8s\tremaining: 15.2s\n",
      "713:\tlearn: 0.0000723\ttotal: 37.9s\tremaining: 15.2s\n",
      "714:\tlearn: 0.0000723\ttotal: 38s\tremaining: 15.1s\n",
      "715:\tlearn: 0.0000722\ttotal: 38s\tremaining: 15.1s\n",
      "716:\tlearn: 0.0000722\ttotal: 38.1s\tremaining: 15s\n",
      "717:\tlearn: 0.0000722\ttotal: 38.1s\tremaining: 15s\n",
      "718:\tlearn: 0.0000721\ttotal: 38.2s\tremaining: 14.9s\n",
      "719:\tlearn: 0.0000720\ttotal: 38.3s\tremaining: 14.9s\n",
      "720:\tlearn: 0.0000719\ttotal: 38.3s\tremaining: 14.8s\n",
      "721:\tlearn: 0.0000718\ttotal: 38.4s\tremaining: 14.8s\n",
      "722:\tlearn: 0.0000717\ttotal: 38.5s\tremaining: 14.7s\n",
      "723:\tlearn: 0.0000717\ttotal: 38.5s\tremaining: 14.7s\n",
      "724:\tlearn: 0.0000716\ttotal: 38.6s\tremaining: 14.6s\n",
      "725:\tlearn: 0.0000716\ttotal: 38.6s\tremaining: 14.6s\n",
      "726:\tlearn: 0.0000716\ttotal: 38.7s\tremaining: 14.5s\n",
      "727:\tlearn: 0.0000716\ttotal: 38.8s\tremaining: 14.5s\n",
      "728:\tlearn: 0.0000715\ttotal: 38.8s\tremaining: 14.4s\n",
      "729:\tlearn: 0.0000714\ttotal: 38.9s\tremaining: 14.4s\n",
      "730:\tlearn: 0.0000714\ttotal: 39s\tremaining: 14.3s\n",
      "731:\tlearn: 0.0000713\ttotal: 39s\tremaining: 14.3s\n",
      "732:\tlearn: 0.0000713\ttotal: 39.1s\tremaining: 14.2s\n",
      "733:\tlearn: 0.0000713\ttotal: 39.1s\tremaining: 14.2s\n",
      "734:\tlearn: 0.0000712\ttotal: 39.2s\tremaining: 14.1s\n",
      "735:\tlearn: 0.0000711\ttotal: 39.2s\tremaining: 14.1s\n",
      "736:\tlearn: 0.0000711\ttotal: 39.3s\tremaining: 14s\n",
      "737:\tlearn: 0.0000711\ttotal: 39.4s\tremaining: 14s\n",
      "738:\tlearn: 0.0000710\ttotal: 39.4s\tremaining: 13.9s\n",
      "739:\tlearn: 0.0000710\ttotal: 39.5s\tremaining: 13.9s\n",
      "740:\tlearn: 0.0000710\ttotal: 39.5s\tremaining: 13.8s\n",
      "741:\tlearn: 0.0000709\ttotal: 39.6s\tremaining: 13.8s\n",
      "742:\tlearn: 0.0000707\ttotal: 39.7s\tremaining: 13.7s\n",
      "743:\tlearn: 0.0000705\ttotal: 39.7s\tremaining: 13.7s\n",
      "744:\tlearn: 0.0000705\ttotal: 39.8s\tremaining: 13.6s\n",
      "745:\tlearn: 0.0000705\ttotal: 39.8s\tremaining: 13.6s\n",
      "746:\tlearn: 0.0000703\ttotal: 39.9s\tremaining: 13.5s\n",
      "747:\tlearn: 0.0000700\ttotal: 40s\tremaining: 13.5s\n",
      "748:\tlearn: 0.0000700\ttotal: 40s\tremaining: 13.4s\n",
      "749:\tlearn: 0.0000700\ttotal: 40.1s\tremaining: 13.4s\n",
      "750:\tlearn: 0.0000699\ttotal: 40.1s\tremaining: 13.3s\n",
      "751:\tlearn: 0.0000698\ttotal: 40.2s\tremaining: 13.3s\n",
      "752:\tlearn: 0.0000698\ttotal: 40.3s\tremaining: 13.2s\n",
      "753:\tlearn: 0.0000697\ttotal: 40.3s\tremaining: 13.2s\n",
      "754:\tlearn: 0.0000696\ttotal: 40.4s\tremaining: 13.1s\n",
      "755:\tlearn: 0.0000695\ttotal: 40.5s\tremaining: 13.1s\n",
      "756:\tlearn: 0.0000694\ttotal: 40.5s\tremaining: 13s\n",
      "757:\tlearn: 0.0000693\ttotal: 40.6s\tremaining: 13s\n",
      "758:\tlearn: 0.0000693\ttotal: 40.6s\tremaining: 12.9s\n",
      "759:\tlearn: 0.0000689\ttotal: 40.7s\tremaining: 12.9s\n",
      "760:\tlearn: 0.0000688\ttotal: 40.8s\tremaining: 12.8s\n",
      "761:\tlearn: 0.0000688\ttotal: 40.8s\tremaining: 12.7s\n",
      "762:\tlearn: 0.0000687\ttotal: 40.9s\tremaining: 12.7s\n",
      "763:\tlearn: 0.0000686\ttotal: 40.9s\tremaining: 12.6s\n",
      "764:\tlearn: 0.0000685\ttotal: 41s\tremaining: 12.6s\n",
      "765:\tlearn: 0.0000683\ttotal: 41.1s\tremaining: 12.5s\n",
      "766:\tlearn: 0.0000681\ttotal: 41.1s\tremaining: 12.5s\n",
      "767:\tlearn: 0.0000680\ttotal: 41.2s\tremaining: 12.4s\n",
      "768:\tlearn: 0.0000680\ttotal: 41.2s\tremaining: 12.4s\n",
      "769:\tlearn: 0.0000680\ttotal: 41.3s\tremaining: 12.3s\n",
      "770:\tlearn: 0.0000679\ttotal: 41.4s\tremaining: 12.3s\n",
      "771:\tlearn: 0.0000677\ttotal: 41.4s\tremaining: 12.2s\n",
      "772:\tlearn: 0.0000676\ttotal: 41.5s\tremaining: 12.2s\n",
      "773:\tlearn: 0.0000675\ttotal: 41.5s\tremaining: 12.1s\n",
      "774:\tlearn: 0.0000674\ttotal: 41.6s\tremaining: 12.1s\n",
      "775:\tlearn: 0.0000673\ttotal: 41.7s\tremaining: 12s\n",
      "776:\tlearn: 0.0000670\ttotal: 41.7s\tremaining: 12s\n",
      "777:\tlearn: 0.0000669\ttotal: 41.8s\tremaining: 11.9s\n",
      "778:\tlearn: 0.0000668\ttotal: 41.9s\tremaining: 11.9s\n",
      "779:\tlearn: 0.0000667\ttotal: 41.9s\tremaining: 11.8s\n",
      "780:\tlearn: 0.0000666\ttotal: 42s\tremaining: 11.8s\n",
      "781:\tlearn: 0.0000665\ttotal: 42s\tremaining: 11.7s\n",
      "782:\tlearn: 0.0000664\ttotal: 42.1s\tremaining: 11.7s\n",
      "783:\tlearn: 0.0000664\ttotal: 42.1s\tremaining: 11.6s\n",
      "784:\tlearn: 0.0000664\ttotal: 42.2s\tremaining: 11.6s\n",
      "785:\tlearn: 0.0000662\ttotal: 42.3s\tremaining: 11.5s\n",
      "786:\tlearn: 0.0000662\ttotal: 42.3s\tremaining: 11.5s\n",
      "787:\tlearn: 0.0000660\ttotal: 42.4s\tremaining: 11.4s\n",
      "788:\tlearn: 0.0000659\ttotal: 42.4s\tremaining: 11.4s\n",
      "789:\tlearn: 0.0000659\ttotal: 42.5s\tremaining: 11.3s\n",
      "790:\tlearn: 0.0000658\ttotal: 42.6s\tremaining: 11.2s\n",
      "791:\tlearn: 0.0000657\ttotal: 42.6s\tremaining: 11.2s\n",
      "792:\tlearn: 0.0000655\ttotal: 42.7s\tremaining: 11.1s\n",
      "793:\tlearn: 0.0000652\ttotal: 42.8s\tremaining: 11.1s\n",
      "794:\tlearn: 0.0000650\ttotal: 42.8s\tremaining: 11s\n",
      "795:\tlearn: 0.0000650\ttotal: 42.9s\tremaining: 11s\n",
      "796:\tlearn: 0.0000649\ttotal: 43s\tremaining: 10.9s\n",
      "797:\tlearn: 0.0000648\ttotal: 43s\tremaining: 10.9s\n",
      "798:\tlearn: 0.0000647\ttotal: 43.1s\tremaining: 10.8s\n",
      "799:\tlearn: 0.0000646\ttotal: 43.1s\tremaining: 10.8s\n",
      "800:\tlearn: 0.0000645\ttotal: 43.2s\tremaining: 10.7s\n",
      "801:\tlearn: 0.0000645\ttotal: 43.2s\tremaining: 10.7s\n",
      "802:\tlearn: 0.0000644\ttotal: 43.3s\tremaining: 10.6s\n",
      "803:\tlearn: 0.0000643\ttotal: 43.4s\tremaining: 10.6s\n",
      "804:\tlearn: 0.0000642\ttotal: 43.4s\tremaining: 10.5s\n",
      "805:\tlearn: 0.0000642\ttotal: 43.5s\tremaining: 10.5s\n",
      "806:\tlearn: 0.0000641\ttotal: 43.6s\tremaining: 10.4s\n",
      "807:\tlearn: 0.0000640\ttotal: 43.6s\tremaining: 10.4s\n",
      "808:\tlearn: 0.0000639\ttotal: 43.7s\tremaining: 10.3s\n",
      "809:\tlearn: 0.0000639\ttotal: 43.7s\tremaining: 10.3s\n",
      "810:\tlearn: 0.0000638\ttotal: 43.8s\tremaining: 10.2s\n",
      "811:\tlearn: 0.0000638\ttotal: 43.9s\tremaining: 10.2s\n",
      "812:\tlearn: 0.0000637\ttotal: 43.9s\tremaining: 10.1s\n",
      "813:\tlearn: 0.0000636\ttotal: 44s\tremaining: 10.1s\n",
      "814:\tlearn: 0.0000636\ttotal: 44s\tremaining: 10s\n",
      "815:\tlearn: 0.0000635\ttotal: 44.1s\tremaining: 9.95s\n",
      "816:\tlearn: 0.0000634\ttotal: 44.2s\tremaining: 9.89s\n",
      "817:\tlearn: 0.0000634\ttotal: 44.2s\tremaining: 9.84s\n",
      "818:\tlearn: 0.0000634\ttotal: 44.3s\tremaining: 9.78s\n",
      "819:\tlearn: 0.0000633\ttotal: 44.3s\tremaining: 9.73s\n",
      "820:\tlearn: 0.0000633\ttotal: 44.4s\tremaining: 9.68s\n",
      "821:\tlearn: 0.0000632\ttotal: 44.5s\tremaining: 9.63s\n",
      "822:\tlearn: 0.0000632\ttotal: 44.5s\tremaining: 9.57s\n",
      "823:\tlearn: 0.0000631\ttotal: 44.6s\tremaining: 9.52s\n",
      "824:\tlearn: 0.0000629\ttotal: 44.6s\tremaining: 9.47s\n",
      "825:\tlearn: 0.0000629\ttotal: 44.7s\tremaining: 9.41s\n",
      "826:\tlearn: 0.0000626\ttotal: 44.7s\tremaining: 9.36s\n",
      "827:\tlearn: 0.0000626\ttotal: 44.8s\tremaining: 9.31s\n",
      "828:\tlearn: 0.0000626\ttotal: 44.9s\tremaining: 9.25s\n",
      "829:\tlearn: 0.0000624\ttotal: 44.9s\tremaining: 9.2s\n",
      "830:\tlearn: 0.0000624\ttotal: 45s\tremaining: 9.15s\n",
      "831:\tlearn: 0.0000621\ttotal: 45.1s\tremaining: 9.1s\n",
      "832:\tlearn: 0.0000620\ttotal: 45.1s\tremaining: 9.05s\n",
      "833:\tlearn: 0.0000620\ttotal: 45.2s\tremaining: 9s\n",
      "834:\tlearn: 0.0000619\ttotal: 45.3s\tremaining: 8.94s\n",
      "835:\tlearn: 0.0000619\ttotal: 45.3s\tremaining: 8.89s\n",
      "836:\tlearn: 0.0000618\ttotal: 45.4s\tremaining: 8.84s\n",
      "837:\tlearn: 0.0000617\ttotal: 45.5s\tremaining: 8.79s\n",
      "838:\tlearn: 0.0000617\ttotal: 45.5s\tremaining: 8.73s\n",
      "839:\tlearn: 0.0000615\ttotal: 45.6s\tremaining: 8.68s\n",
      "840:\tlearn: 0.0000614\ttotal: 45.7s\tremaining: 8.63s\n",
      "841:\tlearn: 0.0000614\ttotal: 45.7s\tremaining: 8.58s\n",
      "842:\tlearn: 0.0000613\ttotal: 45.8s\tremaining: 8.53s\n",
      "843:\tlearn: 0.0000612\ttotal: 45.8s\tremaining: 8.47s\n",
      "844:\tlearn: 0.0000611\ttotal: 45.9s\tremaining: 8.42s\n",
      "845:\tlearn: 0.0000610\ttotal: 46s\tremaining: 8.37s\n",
      "846:\tlearn: 0.0000610\ttotal: 46s\tremaining: 8.31s\n",
      "847:\tlearn: 0.0000609\ttotal: 46.1s\tremaining: 8.26s\n",
      "848:\tlearn: 0.0000609\ttotal: 46.2s\tremaining: 8.21s\n",
      "849:\tlearn: 0.0000609\ttotal: 46.2s\tremaining: 8.16s\n",
      "850:\tlearn: 0.0000609\ttotal: 46.3s\tremaining: 8.1s\n",
      "851:\tlearn: 0.0000608\ttotal: 46.3s\tremaining: 8.05s\n",
      "852:\tlearn: 0.0000607\ttotal: 46.4s\tremaining: 8s\n",
      "853:\tlearn: 0.0000606\ttotal: 46.5s\tremaining: 7.94s\n",
      "854:\tlearn: 0.0000606\ttotal: 46.5s\tremaining: 7.89s\n",
      "855:\tlearn: 0.0000605\ttotal: 46.6s\tremaining: 7.84s\n",
      "856:\tlearn: 0.0000604\ttotal: 46.7s\tremaining: 7.79s\n",
      "857:\tlearn: 0.0000604\ttotal: 46.7s\tremaining: 7.74s\n",
      "858:\tlearn: 0.0000603\ttotal: 46.8s\tremaining: 7.68s\n",
      "859:\tlearn: 0.0000602\ttotal: 46.9s\tremaining: 7.63s\n",
      "860:\tlearn: 0.0000601\ttotal: 47s\tremaining: 7.58s\n",
      "861:\tlearn: 0.0000599\ttotal: 47s\tremaining: 7.53s\n",
      "862:\tlearn: 0.0000597\ttotal: 47.1s\tremaining: 7.48s\n",
      "863:\tlearn: 0.0000596\ttotal: 47.2s\tremaining: 7.42s\n",
      "864:\tlearn: 0.0000595\ttotal: 47.2s\tremaining: 7.37s\n",
      "865:\tlearn: 0.0000595\ttotal: 47.3s\tremaining: 7.32s\n",
      "866:\tlearn: 0.0000595\ttotal: 47.4s\tremaining: 7.26s\n",
      "867:\tlearn: 0.0000594\ttotal: 47.4s\tremaining: 7.21s\n",
      "868:\tlearn: 0.0000593\ttotal: 47.5s\tremaining: 7.16s\n",
      "869:\tlearn: 0.0000592\ttotal: 47.5s\tremaining: 7.1s\n",
      "870:\tlearn: 0.0000591\ttotal: 47.6s\tremaining: 7.05s\n",
      "871:\tlearn: 0.0000590\ttotal: 47.7s\tremaining: 7s\n",
      "872:\tlearn: 0.0000589\ttotal: 47.7s\tremaining: 6.95s\n",
      "873:\tlearn: 0.0000589\ttotal: 47.8s\tremaining: 6.89s\n",
      "874:\tlearn: 0.0000589\ttotal: 47.9s\tremaining: 6.84s\n",
      "875:\tlearn: 0.0000588\ttotal: 47.9s\tremaining: 6.79s\n",
      "876:\tlearn: 0.0000587\ttotal: 48s\tremaining: 6.73s\n",
      "877:\tlearn: 0.0000587\ttotal: 48.1s\tremaining: 6.68s\n",
      "878:\tlearn: 0.0000585\ttotal: 48.1s\tremaining: 6.62s\n",
      "879:\tlearn: 0.0000585\ttotal: 48.2s\tremaining: 6.57s\n",
      "880:\tlearn: 0.0000584\ttotal: 48.2s\tremaining: 6.51s\n",
      "881:\tlearn: 0.0000583\ttotal: 48.3s\tremaining: 6.46s\n",
      "882:\tlearn: 0.0000582\ttotal: 48.4s\tremaining: 6.41s\n",
      "883:\tlearn: 0.0000582\ttotal: 48.4s\tremaining: 6.35s\n",
      "884:\tlearn: 0.0000582\ttotal: 48.5s\tremaining: 6.3s\n",
      "885:\tlearn: 0.0000582\ttotal: 48.5s\tremaining: 6.24s\n",
      "886:\tlearn: 0.0000580\ttotal: 48.6s\tremaining: 6.19s\n",
      "887:\tlearn: 0.0000580\ttotal: 48.6s\tremaining: 6.13s\n",
      "888:\tlearn: 0.0000579\ttotal: 48.7s\tremaining: 6.08s\n",
      "889:\tlearn: 0.0000579\ttotal: 48.8s\tremaining: 6.03s\n",
      "890:\tlearn: 0.0000578\ttotal: 48.8s\tremaining: 5.97s\n",
      "891:\tlearn: 0.0000577\ttotal: 48.9s\tremaining: 5.92s\n",
      "892:\tlearn: 0.0000576\ttotal: 49s\tremaining: 5.87s\n",
      "893:\tlearn: 0.0000576\ttotal: 49s\tremaining: 5.81s\n",
      "894:\tlearn: 0.0000575\ttotal: 49.1s\tremaining: 5.76s\n",
      "895:\tlearn: 0.0000575\ttotal: 49.2s\tremaining: 5.71s\n",
      "896:\tlearn: 0.0000575\ttotal: 49.2s\tremaining: 5.65s\n",
      "897:\tlearn: 0.0000575\ttotal: 49.3s\tremaining: 5.59s\n",
      "898:\tlearn: 0.0000575\ttotal: 49.3s\tremaining: 5.54s\n",
      "899:\tlearn: 0.0000574\ttotal: 49.4s\tremaining: 5.49s\n",
      "900:\tlearn: 0.0000573\ttotal: 49.5s\tremaining: 5.43s\n",
      "901:\tlearn: 0.0000573\ttotal: 49.5s\tremaining: 5.38s\n",
      "902:\tlearn: 0.0000573\ttotal: 49.6s\tremaining: 5.33s\n",
      "903:\tlearn: 0.0000572\ttotal: 49.6s\tremaining: 5.27s\n",
      "904:\tlearn: 0.0000572\ttotal: 49.7s\tremaining: 5.22s\n",
      "905:\tlearn: 0.0000572\ttotal: 49.8s\tremaining: 5.16s\n",
      "906:\tlearn: 0.0000571\ttotal: 49.8s\tremaining: 5.11s\n",
      "907:\tlearn: 0.0000571\ttotal: 49.9s\tremaining: 5.05s\n",
      "908:\tlearn: 0.0000570\ttotal: 50s\tremaining: 5s\n",
      "909:\tlearn: 0.0000568\ttotal: 50s\tremaining: 4.95s\n",
      "910:\tlearn: 0.0000567\ttotal: 50.1s\tremaining: 4.89s\n",
      "911:\tlearn: 0.0000567\ttotal: 50.1s\tremaining: 4.84s\n",
      "912:\tlearn: 0.0000567\ttotal: 50.2s\tremaining: 4.78s\n",
      "913:\tlearn: 0.0000566\ttotal: 50.3s\tremaining: 4.73s\n",
      "914:\tlearn: 0.0000566\ttotal: 50.4s\tremaining: 4.68s\n",
      "915:\tlearn: 0.0000565\ttotal: 50.4s\tremaining: 4.62s\n",
      "916:\tlearn: 0.0000565\ttotal: 50.5s\tremaining: 4.57s\n",
      "917:\tlearn: 0.0000564\ttotal: 50.6s\tremaining: 4.52s\n",
      "918:\tlearn: 0.0000564\ttotal: 50.6s\tremaining: 4.46s\n",
      "919:\tlearn: 0.0000563\ttotal: 50.7s\tremaining: 4.41s\n",
      "920:\tlearn: 0.0000563\ttotal: 50.8s\tremaining: 4.35s\n",
      "921:\tlearn: 0.0000561\ttotal: 50.8s\tremaining: 4.3s\n",
      "922:\tlearn: 0.0000559\ttotal: 50.9s\tremaining: 4.25s\n",
      "923:\tlearn: 0.0000558\ttotal: 50.9s\tremaining: 4.19s\n",
      "924:\tlearn: 0.0000558\ttotal: 51s\tremaining: 4.14s\n",
      "925:\tlearn: 0.0000557\ttotal: 51.1s\tremaining: 4.08s\n",
      "926:\tlearn: 0.0000554\ttotal: 51.1s\tremaining: 4.03s\n",
      "927:\tlearn: 0.0000554\ttotal: 51.2s\tremaining: 3.97s\n",
      "928:\tlearn: 0.0000553\ttotal: 51.3s\tremaining: 3.92s\n",
      "929:\tlearn: 0.0000553\ttotal: 51.4s\tremaining: 3.87s\n",
      "930:\tlearn: 0.0000553\ttotal: 51.4s\tremaining: 3.81s\n",
      "931:\tlearn: 0.0000552\ttotal: 51.5s\tremaining: 3.76s\n",
      "932:\tlearn: 0.0000551\ttotal: 51.6s\tremaining: 3.7s\n",
      "933:\tlearn: 0.0000551\ttotal: 51.6s\tremaining: 3.65s\n",
      "934:\tlearn: 0.0000551\ttotal: 51.7s\tremaining: 3.59s\n",
      "935:\tlearn: 0.0000550\ttotal: 51.7s\tremaining: 3.54s\n",
      "936:\tlearn: 0.0000550\ttotal: 51.8s\tremaining: 3.48s\n",
      "937:\tlearn: 0.0000550\ttotal: 51.9s\tremaining: 3.43s\n",
      "938:\tlearn: 0.0000549\ttotal: 51.9s\tremaining: 3.37s\n",
      "939:\tlearn: 0.0000549\ttotal: 52s\tremaining: 3.32s\n",
      "940:\tlearn: 0.0000548\ttotal: 52s\tremaining: 3.26s\n",
      "941:\tlearn: 0.0000547\ttotal: 52.1s\tremaining: 3.21s\n",
      "942:\tlearn: 0.0000545\ttotal: 52.2s\tremaining: 3.15s\n",
      "943:\tlearn: 0.0000544\ttotal: 52.2s\tremaining: 3.1s\n",
      "944:\tlearn: 0.0000543\ttotal: 52.3s\tremaining: 3.04s\n",
      "945:\tlearn: 0.0000543\ttotal: 52.3s\tremaining: 2.99s\n",
      "946:\tlearn: 0.0000542\ttotal: 52.4s\tremaining: 2.93s\n",
      "947:\tlearn: 0.0000542\ttotal: 52.5s\tremaining: 2.88s\n",
      "948:\tlearn: 0.0000542\ttotal: 52.5s\tremaining: 2.82s\n",
      "949:\tlearn: 0.0000540\ttotal: 52.6s\tremaining: 2.77s\n",
      "950:\tlearn: 0.0000540\ttotal: 52.7s\tremaining: 2.71s\n",
      "951:\tlearn: 0.0000540\ttotal: 52.7s\tremaining: 2.66s\n",
      "952:\tlearn: 0.0000539\ttotal: 52.8s\tremaining: 2.6s\n",
      "953:\tlearn: 0.0000538\ttotal: 52.9s\tremaining: 2.55s\n",
      "954:\tlearn: 0.0000538\ttotal: 52.9s\tremaining: 2.49s\n",
      "955:\tlearn: 0.0000537\ttotal: 53s\tremaining: 2.44s\n",
      "956:\tlearn: 0.0000537\ttotal: 53.1s\tremaining: 2.38s\n",
      "957:\tlearn: 0.0000536\ttotal: 53.1s\tremaining: 2.33s\n",
      "958:\tlearn: 0.0000536\ttotal: 53.2s\tremaining: 2.27s\n",
      "959:\tlearn: 0.0000535\ttotal: 53.2s\tremaining: 2.22s\n",
      "960:\tlearn: 0.0000535\ttotal: 53.3s\tremaining: 2.16s\n",
      "961:\tlearn: 0.0000533\ttotal: 53.4s\tremaining: 2.11s\n",
      "962:\tlearn: 0.0000533\ttotal: 53.4s\tremaining: 2.05s\n",
      "963:\tlearn: 0.0000533\ttotal: 53.5s\tremaining: 2s\n",
      "964:\tlearn: 0.0000532\ttotal: 53.5s\tremaining: 1.94s\n",
      "965:\tlearn: 0.0000532\ttotal: 53.6s\tremaining: 1.89s\n",
      "966:\tlearn: 0.0000532\ttotal: 53.6s\tremaining: 1.83s\n",
      "967:\tlearn: 0.0000531\ttotal: 53.7s\tremaining: 1.77s\n",
      "968:\tlearn: 0.0000530\ttotal: 53.8s\tremaining: 1.72s\n",
      "969:\tlearn: 0.0000530\ttotal: 53.8s\tremaining: 1.66s\n",
      "970:\tlearn: 0.0000530\ttotal: 53.9s\tremaining: 1.61s\n",
      "971:\tlearn: 0.0000530\ttotal: 53.9s\tremaining: 1.55s\n",
      "972:\tlearn: 0.0000530\ttotal: 54s\tremaining: 1.5s\n",
      "973:\tlearn: 0.0000529\ttotal: 54.1s\tremaining: 1.44s\n",
      "974:\tlearn: 0.0000528\ttotal: 54.1s\tremaining: 1.39s\n",
      "975:\tlearn: 0.0000527\ttotal: 54.2s\tremaining: 1.33s\n",
      "976:\tlearn: 0.0000527\ttotal: 54.2s\tremaining: 1.28s\n",
      "977:\tlearn: 0.0000527\ttotal: 54.3s\tremaining: 1.22s\n",
      "978:\tlearn: 0.0000527\ttotal: 54.3s\tremaining: 1.17s\n",
      "979:\tlearn: 0.0000527\ttotal: 54.4s\tremaining: 1.11s\n",
      "980:\tlearn: 0.0000526\ttotal: 54.5s\tremaining: 1.05s\n",
      "981:\tlearn: 0.0000524\ttotal: 54.5s\tremaining: 999ms\n",
      "982:\tlearn: 0.0000523\ttotal: 54.6s\tremaining: 944ms\n",
      "983:\tlearn: 0.0000523\ttotal: 54.6s\tremaining: 889ms\n",
      "984:\tlearn: 0.0000523\ttotal: 54.7s\tremaining: 833ms\n",
      "985:\tlearn: 0.0000522\ttotal: 54.8s\tremaining: 778ms\n",
      "986:\tlearn: 0.0000521\ttotal: 54.8s\tremaining: 722ms\n",
      "987:\tlearn: 0.0000521\ttotal: 54.9s\tremaining: 667ms\n",
      "988:\tlearn: 0.0000521\ttotal: 55s\tremaining: 611ms\n",
      "989:\tlearn: 0.0000521\ttotal: 55s\tremaining: 556ms\n",
      "990:\tlearn: 0.0000520\ttotal: 55.1s\tremaining: 500ms\n",
      "991:\tlearn: 0.0000520\ttotal: 55.1s\tremaining: 445ms\n",
      "992:\tlearn: 0.0000520\ttotal: 55.2s\tremaining: 389ms\n",
      "993:\tlearn: 0.0000519\ttotal: 55.3s\tremaining: 334ms\n",
      "994:\tlearn: 0.0000519\ttotal: 55.3s\tremaining: 278ms\n",
      "995:\tlearn: 0.0000519\ttotal: 55.4s\tremaining: 222ms\n",
      "996:\tlearn: 0.0000519\ttotal: 55.4s\tremaining: 167ms\n",
      "997:\tlearn: 0.0000518\ttotal: 55.5s\tremaining: 111ms\n",
      "998:\tlearn: 0.0000518\ttotal: 55.6s\tremaining: 55.6ms\n",
      "999:\tlearn: 0.0000518\ttotal: 55.6s\tremaining: 0us\n"
     ]
    },
    {
     "name": "stderr",
     "output_type": "stream",
     "text": [
      "C:\\Users\\dzmit\\anaconda3\\envs\\eurostars\\lib\\site-packages\\pandas\\core\\internals\\blocks.py:352: RuntimeWarning: divide by zero encountered in log\n",
      "  result = func(self.values, **kwargs)\n",
      "C:\\Users\\dzmit\\anaconda3\\envs\\eurostars\\lib\\site-packages\\pandas\\core\\internals\\blocks.py:352: RuntimeWarning: divide by zero encountered in log\n",
      "  result = func(self.values, **kwargs)\n",
      "C:\\Users\\dzmit\\anaconda3\\envs\\eurostars\\lib\\site-packages\\pandas\\core\\internals\\blocks.py:352: RuntimeWarning: divide by zero encountered in log\n",
      "  result = func(self.values, **kwargs)\n"
     ]
    }
   ],
   "source": [
    "from notebooks.Dzim.data_mining.validation.training import estimate_multiple_models\n",
    "from notebooks.Dzim.data_mining.validation.training import estimate_model\n",
    "\n",
    "#### training\n",
    "model_names, model_pipelines = zip(*pipelines)\n",
    "metrics, weights = estimate_multiple_models(\n",
    "    model_pipelines,\n",
    "    lambda pipeline, _: estimate_model(\n",
    "        pipeline,\n",
    "        (X_train, X_test, y_train, y_test),\n",
    "    ),\n",
    "    model_names\n",
    ")"
   ]
  },
  {
   "cell_type": "code",
   "execution_count": 60,
   "metadata": {
    "pycharm": {
     "name": "#%%\n"
    }
   },
   "outputs": [
    {
     "data": {
      "text/plain": "set           train                                                    test  \\\nmetric     f1_score cohen_kappa_score precision_score recall_score f1_score   \nmodel                                                                         \nDummy_mf      0.000             0.000           0.000        0.000    0.000   \nDummy_strf    0.005             0.005           0.005        0.005    0.022   \nLinReg        0.588             0.588           0.930        0.430    0.658   \nXGB           0.981             0.981           1.000        0.962    0.956   \nLGBM          0.040             0.039           0.028        0.070    0.000   \nRFC           1.000             1.000           1.000        1.000    0.956   \nCatBoost      0.989             0.989           1.000        0.978    0.805   \nMLP           0.714             0.714           0.955        0.570    0.720   \n\nset                                                        \nmetric     cohen_kappa_score precision_score recall_score  \nmodel                                                      \nDummy_mf               0.000           0.000        0.000  \nDummy_strf             0.022           0.023        0.021  \nLinReg                 0.657           0.923        0.511  \nXGB                    0.956           1.000        0.915  \nLGBM                  -0.001           0.000        0.000  \nRFC                    0.956           1.000        0.915  \nCatBoost               0.805           0.875        0.745  \nMLP                    0.720           0.964        0.574  ",
      "text/html": "<div>\n<style scoped>\n    .dataframe tbody tr th:only-of-type {\n        vertical-align: middle;\n    }\n\n    .dataframe tbody tr th {\n        vertical-align: top;\n    }\n\n    .dataframe thead tr th {\n        text-align: left;\n    }\n\n    .dataframe thead tr:last-of-type th {\n        text-align: right;\n    }\n</style>\n<table border=\"1\" class=\"dataframe\">\n  <thead>\n    <tr>\n      <th>set</th>\n      <th colspan=\"4\" halign=\"left\">train</th>\n      <th colspan=\"4\" halign=\"left\">test</th>\n    </tr>\n    <tr>\n      <th>metric</th>\n      <th>f1_score</th>\n      <th>cohen_kappa_score</th>\n      <th>precision_score</th>\n      <th>recall_score</th>\n      <th>f1_score</th>\n      <th>cohen_kappa_score</th>\n      <th>precision_score</th>\n      <th>recall_score</th>\n    </tr>\n    <tr>\n      <th>model</th>\n      <th></th>\n      <th></th>\n      <th></th>\n      <th></th>\n      <th></th>\n      <th></th>\n      <th></th>\n      <th></th>\n    </tr>\n  </thead>\n  <tbody>\n    <tr>\n      <th>Dummy_mf</th>\n      <td>0.000</td>\n      <td>0.000</td>\n      <td>0.000</td>\n      <td>0.000</td>\n      <td>0.000</td>\n      <td>0.000</td>\n      <td>0.000</td>\n      <td>0.000</td>\n    </tr>\n    <tr>\n      <th>Dummy_strf</th>\n      <td>0.005</td>\n      <td>0.005</td>\n      <td>0.005</td>\n      <td>0.005</td>\n      <td>0.022</td>\n      <td>0.022</td>\n      <td>0.023</td>\n      <td>0.021</td>\n    </tr>\n    <tr>\n      <th>LinReg</th>\n      <td>0.588</td>\n      <td>0.588</td>\n      <td>0.930</td>\n      <td>0.430</td>\n      <td>0.658</td>\n      <td>0.657</td>\n      <td>0.923</td>\n      <td>0.511</td>\n    </tr>\n    <tr>\n      <th>XGB</th>\n      <td>0.981</td>\n      <td>0.981</td>\n      <td>1.000</td>\n      <td>0.962</td>\n      <td>0.956</td>\n      <td>0.956</td>\n      <td>1.000</td>\n      <td>0.915</td>\n    </tr>\n    <tr>\n      <th>LGBM</th>\n      <td>0.040</td>\n      <td>0.039</td>\n      <td>0.028</td>\n      <td>0.070</td>\n      <td>0.000</td>\n      <td>-0.001</td>\n      <td>0.000</td>\n      <td>0.000</td>\n    </tr>\n    <tr>\n      <th>RFC</th>\n      <td>1.000</td>\n      <td>1.000</td>\n      <td>1.000</td>\n      <td>1.000</td>\n      <td>0.956</td>\n      <td>0.956</td>\n      <td>1.000</td>\n      <td>0.915</td>\n    </tr>\n    <tr>\n      <th>CatBoost</th>\n      <td>0.989</td>\n      <td>0.989</td>\n      <td>1.000</td>\n      <td>0.978</td>\n      <td>0.805</td>\n      <td>0.805</td>\n      <td>0.875</td>\n      <td>0.745</td>\n    </tr>\n    <tr>\n      <th>MLP</th>\n      <td>0.714</td>\n      <td>0.714</td>\n      <td>0.955</td>\n      <td>0.570</td>\n      <td>0.720</td>\n      <td>0.720</td>\n      <td>0.964</td>\n      <td>0.574</td>\n    </tr>\n  </tbody>\n</table>\n</div>"
     },
     "execution_count": 60,
     "metadata": {},
     "output_type": "execute_result"
    }
   ],
   "source": [
    "metrics"
   ]
  },
  {
   "cell_type": "code",
   "execution_count": 49,
   "metadata": {
    "pycharm": {
     "name": "#%%\n"
    }
   },
   "outputs": [
    {
     "name": "stdout",
     "output_type": "stream",
     "text": [
      "                                                       weight\n",
      "model    feature                                             \n",
      "LinReg   generator__ffg__oldbalanceOrg_amount_ratio     5.090\n",
      "         generator__cat__type_TRANSFER                  4.133\n",
      "         generator__ffg__oldbalanceOrg_is_bigger_mean   2.925\n",
      "         generator__cat__type_CASH_OUT                  2.765\n",
      "         preprocessor__scl__oldbalanceOrg               1.874\n",
      "...                                                       ...\n",
      "CatBoost preprocessor__imputer__oldbalanceDest          0.063\n",
      "         generator__ffg__newbalanceDest_amount_ratio    0.061\n",
      "         generator__ffg__newbalanceOrig_amount_ratio    0.045\n",
      "         preprocessor__imputer__newbalanceOrig          0.031\n",
      "         generator__ffg__dest_is_bigger_org             0.017\n",
      "\n",
      "[69 rows x 1 columns]\n"
     ]
    }
   ],
   "source": [
    "print(weights)"
   ]
  },
  {
   "cell_type": "code",
   "execution_count": 56,
   "metadata": {
    "pycharm": {
     "name": "#%%\n"
    }
   },
   "outputs": [
    {
     "name": "stdout",
     "output_type": "stream",
     "text": [
      "################################################################################\n",
      "Dummy_mf\n",
      "Not Supported\n",
      "################################################################################\n",
      "Dummy_strf\n",
      "Not Supported\n",
      "################################################################################\n",
      "LinReg\n",
      "                                                 weight\n",
      "feature                                                \n",
      "generator__ffg__oldbalanceOrg_amount_ratio        5.090\n",
      "generator__cat__type_TRANSFER                     4.133\n",
      "generator__ffg__oldbalanceOrg_is_bigger_mean      2.925\n",
      "generator__cat__type_CASH_OUT                     2.765\n",
      "preprocessor__scl__oldbalanceOrg                  1.874\n",
      "generator__ffg__amount_is_bigger_mean             0.620\n",
      "preprocessor__scl__oldbalanceDest                 0.563\n",
      "preprocessor__scl__amount                         0.297\n",
      "preprocessor__log__oldbalanceOrg                  0.186\n",
      "generator__ffg__dest_is_bigger_org                0.155\n",
      "generator__ffg__newbalanceDest_is_zero            0.149\n",
      "generator__ffg__amount_is_bigger_median           0.118\n",
      "generator__ffg__oldbalanceDest_is_bigger_median   0.104\n",
      "generator__ffg__newbalanceDest_amount_ratio       0.019\n",
      "generator__ffg__newbalanceOrig_is_bigger_mean    -0.001\n",
      "generator__ffg__oldbalanceDest_amount_ratio      -0.010\n",
      "generator__ffg__newbalanceDest_is_bigger_mean    -0.013\n",
      "generator__cat__type_CASH_IN                     -0.049\n",
      "preprocessor__scl__newbalanceOrig                -0.060\n",
      "preprocessor__log__oldbalanceDest                -0.095\n",
      "preprocessor__log__newbalanceDest                -0.168\n",
      "generator__ffg__amount_is_zero                   -0.219\n",
      "generator__ffg__oldbalanceOrg_is_bigger_median   -0.237\n",
      "generator__ffg__newbalanceDest_is_bigger_median  -0.251\n",
      "<BIAS>                                           -0.294\n",
      "generator__ffg__oldbalanceDest_is_zero           -0.296\n",
      "generator__ffg__newbalanceOrig_is_zero           -0.317\n",
      "generator__ffg__newbalanceOrig_is_bigger_median  -0.317\n",
      "preprocessor__scl__newbalanceDest                -0.328\n",
      "generator__cat__type_DEBIT                       -0.380\n",
      "preprocessor__log__newbalanceOrig                -0.527\n",
      "generator__ffg__oldbalanceDest_is_bigger_mean    -0.757\n",
      "preprocessor__log__amount                        -0.791\n",
      "generator__ffg__oldbalanceOrg_is_zero            -1.181\n",
      "generator__ffg__newbalanceOrig_amount_ratio      -5.185\n",
      "generator__cat__type_PAYMENT                     -6.689\n",
      "################################################################################\n",
      "XGB\n",
      "Not Supported\n",
      "################################################################################\n",
      "LGBM\n",
      "                                             weight\n",
      "feature                                            \n",
      "preprocessor__imputer__oldbalanceOrg          0.752\n",
      "generator__ffg__oldbalanceDest_amount_ratio   0.097\n",
      "preprocessor__imputer__amount                 0.048\n",
      "preprocessor__imputer__newbalanceDest         0.033\n",
      "generator__ffg__newbalanceOrig_amount_ratio   0.030\n",
      "generator__ffg__oldbalanceOrg_amount_ratio    0.019\n",
      "preprocessor__imputer__newbalanceOrig         0.013\n",
      "generator__ffg__newbalanceDest_amount_ratio   0.005\n",
      "generator__cat__type                          0.002\n",
      "preprocessor__imputer__oldbalanceDest         0.002\n",
      "generator__ffg__dest_is_bigger_org            0.000\n",
      "################################################################################\n",
      "RFC\n",
      "                                             weight\n",
      "feature                                            \n",
      "generator__ffg__oldbalanceOrg_amount_ratio    0.426\n",
      "generator__ffg__newbalanceOrig_amount_ratio   0.151\n",
      "preprocessor__imputer__newbalanceOrig         0.148\n",
      "preprocessor__imputer__amount                 0.075\n",
      "preprocessor__imputer__oldbalanceOrg          0.048\n",
      "preprocessor__imputer__newbalanceDest         0.044\n",
      "generator__ffg__newbalanceDest_amount_ratio   0.034\n",
      "generator__ffg__oldbalanceDest_amount_ratio   0.032\n",
      "preprocessor__imputer__oldbalanceDest         0.030\n",
      "generator__cat__type                          0.008\n",
      "generator__ffg__dest_is_bigger_org            0.002\n",
      "################################################################################\n",
      "CatBoost\n",
      "                                             weight\n",
      "feature                                            \n",
      "generator__ffg__oldbalanceOrg_amount_ratio    0.194\n",
      "preprocessor__imputer__oldbalanceOrg          0.180\n",
      "generator__cat__type                          0.145\n",
      "preprocessor__imputer__amount                 0.099\n",
      "generator__ffg__oldbalanceDest_amount_ratio   0.097\n",
      "preprocessor__imputer__newbalanceDest         0.069\n",
      "preprocessor__imputer__oldbalanceDest         0.063\n",
      "generator__ffg__newbalanceDest_amount_ratio   0.061\n",
      "generator__ffg__newbalanceOrig_amount_ratio   0.045\n",
      "preprocessor__imputer__newbalanceOrig         0.031\n",
      "generator__ffg__dest_is_bigger_org            0.017\n",
      "################################################################################\n",
      "MLP\n",
      "Not Supported\n",
      "################################################################################\n",
      "SVM\n",
      "Not Supported\n"
     ]
    }
   ],
   "source": [
    "for name, _ in pipelines:\n",
    "    try:\n",
    "        print(\"#\" * 80)\n",
    "        print(name)\n",
    "        print(weights.loc[name])\n",
    "    except KeyError:\n",
    "        print('Not Supported')"
   ]
  },
  {
   "cell_type": "markdown",
   "source": [
    "##### Hyperparameter optimization"
   ],
   "metadata": {
    "collapsed": false,
    "pycharm": {
     "name": "#%% md\n"
    }
   }
  },
  {
   "cell_type": "code",
   "execution_count": 96,
   "outputs": [],
   "source": [
    "processed_data = tree_data_pipeline.fit_transform(data[features], data[target])"
   ],
   "metadata": {
    "collapsed": false,
    "pycharm": {
     "name": "#%%\n"
    }
   }
  },
  {
   "cell_type": "code",
   "execution_count": 97,
   "outputs": [],
   "source": [
    "from sklearn.model_selection import train_test_split\n",
    "\n",
    "X_train, X_test, y_train, y_test = train_test_split(processed_data, data[target], test_size=0.2, stratify=data[target])\n",
    "# X_train, X_cv, y_train, y_cv = train_test_split(X_train, y_train, test_size=0.2, stratify=y_train)"
   ],
   "metadata": {
    "collapsed": false,
    "pycharm": {
     "name": "#%%\n"
    }
   }
  },
  {
   "cell_type": "code",
   "execution_count": 98,
   "outputs": [
    {
     "data": {
      "text/plain": "((400000, 11), (100000, 11))"
     },
     "execution_count": 98,
     "metadata": {},
     "output_type": "execute_result"
    }
   ],
   "source": [
    "X_train.shape, X_test.shape  # X_cv.shape"
   ],
   "metadata": {
    "collapsed": false,
    "pycharm": {
     "name": "#%%\n"
    }
   }
  },
  {
   "cell_type": "code",
   "execution_count": 99,
   "outputs": [],
   "source": [
    "from sklearn.ensemble import RandomForestClassifier\n",
    "from sklearn.model_selection import GridSearchCV\n",
    "import time\n",
    "\n",
    "# Define the parameter grid to search over\n",
    "param_grid = {\n",
    "    'n_estimators': [20, 50, 100, 200],\n",
    "    'max_depth': [None, 2, 5, 10],\n",
    "    'min_samples_split': [2, 5, 10],\n",
    "    'min_samples_leaf': [1, 2, 4],\n",
    "}\n",
    "\n",
    "# Create a RandomForestClassifier object\n",
    "rfc = RandomForestClassifier()"
   ],
   "metadata": {
    "collapsed": false,
    "pycharm": {
     "name": "#%%\n"
    }
   }
  },
  {
   "cell_type": "code",
   "execution_count": null,
   "outputs": [],
   "source": [
    "\n",
    "# Create a GridSearchCV object and fit the data\n",
    "start = time.time()\n",
    "grid_search = GridSearchCV(rfc, param_grid=param_grid, cv=3, n_jobs=-1)\n",
    "grid_search.fit(X_train, y_train)\n",
    "\n",
    "# Print the best hyperparameters and accuracy score\n",
    "print(\"Best parameters: \", grid_search.best_params_)\n",
    "print(\"Best accuracy: \", grid_search.best_score_)\n",
    "end = time.time()\n",
    "print(f\"Computation tmie: {end-start}\")"
   ],
   "metadata": {
    "collapsed": false,
    "pycharm": {
     "name": "#%%\n",
     "is_executing": true
    }
   }
  },
  {
   "cell_type": "code",
   "execution_count": null,
   "outputs": [],
   "source": [],
   "metadata": {
    "collapsed": false,
    "pycharm": {
     "name": "#%%\n"
    }
   }
  }
 ],
 "metadata": {
  "kernelspec": {
   "display_name": "Python 3 (ipykernel)",
   "language": "python",
   "name": "python3"
  },
  "language_info": {
   "codemirror_mode": {
    "name": "ipython",
    "version": 3
   },
   "file_extension": ".py",
   "mimetype": "text/x-python",
   "name": "python",
   "nbconvert_exporter": "python",
   "pygments_lexer": "ipython3",
   "version": "3.10.9"
  },
  "vscode": {
   "interpreter": {
    "hash": "7f55550e77323d67b6ecc193cd2e5d66a57e017d7db72e2119e5097fca24649a"
   }
  }
 },
 "nbformat": 4,
 "nbformat_minor": 2
}