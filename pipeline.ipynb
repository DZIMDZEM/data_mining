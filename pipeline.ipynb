{
 "cells": [
  {
   "cell_type": "code",
   "execution_count": 39,
   "outputs": [],
   "source": [
    "\n",
    "from typing import List\n",
    "\n",
    "import eli5\n",
    "import numpy as np\n",
    "import pandas as pd\n",
    "from catboost import CatBoostClassifier\n",
    "from category_encoders import TargetEncoder\n",
    "from lightgbm import LGBMClassifier\n",
    "from matplotlib import pyplot as plt\n",
    "from sklearn.base import BaseEstimator, TransformerMixin\n",
    "from sklearn.compose import ColumnTransformer\n",
    "from sklearn.dummy import DummyClassifier\n",
    "from sklearn.ensemble import RandomForestClassifier\n",
    "from sklearn.impute import SimpleImputer\n",
    "from sklearn.linear_model import LogisticRegression\n",
    "from sklearn.metrics import classification_report\n",
    "from sklearn.metrics import confusion_matrix\n",
    "from sklearn.neural_network import MLPClassifier\n",
    "from sklearn.pipeline import Pipeline\n",
    "from sklearn.pipeline import make_pipeline\n",
    "from sklearn.preprocessing import StandardScaler, OneHotEncoder\n",
    "from sklearn.svm import SVC\n",
    "from xgboost import XGBClassifier\n",
    "\n",
    "\n"
   ],
   "metadata": {
    "collapsed": false,
    "pycharm": {
     "name": "#%%\n"
    }
   }
  },
  {
   "cell_type": "code",
   "execution_count": 6,
   "outputs": [],
   "source": [
    "# plt.rcParams['figure.facecolor'] = 'white'"
   ],
   "metadata": {
    "collapsed": false,
    "pycharm": {
     "name": "#%%\n"
    }
   }
  },
  {
   "cell_type": "code",
   "execution_count": 7,
   "outputs": [],
   "source": [
    "# %load_ext autoreload\n",
    "# %autoreload 2"
   ],
   "metadata": {
    "collapsed": false,
    "pycharm": {
     "name": "#%%\n"
    }
   }
  },
  {
   "cell_type": "markdown",
   "source": [
    "#### Custom Transformers"
   ],
   "metadata": {
    "collapsed": false,
    "pycharm": {
     "name": "#%% md\n"
    }
   }
  },
  {
   "cell_type": "code",
   "execution_count": 8,
   "outputs": [],
   "source": [
    "# Define custom transformer to compute ratio of two columns\n",
    "class FraudFeatureGenerator(BaseEstimator, TransformerMixin):\n",
    "    def __init__(\n",
    "            self,\n",
    "            handle_unknown: str = \"ignore\",\n",
    "            unknown_value: float = 0.0,\n",
    "            ratio_upper_threshold: float = 100,\n",
    "            ratio_lower_threshold: float = 0,\n",
    "            algorithm: str = \"linear\",\n",
    "    ):\n",
    "        self.handle_unknown = handle_unknown\n",
    "        self.unknown_value = unknown_value\n",
    "        self.ratio_upper_threshold = ratio_upper_threshold\n",
    "        self.ratio_lower_threshold = ratio_lower_threshold\n",
    "        self.algorithm = algorithm\n",
    "\n",
    "        self.epsilon = 1e-4\n",
    "        self.numeric_features = [\n",
    "            'amount',\n",
    "            'oldbalanceOrg',\n",
    "            'newbalanceOrig',\n",
    "            'oldbalanceDest',\n",
    "            'newbalanceDest',\n",
    "        ]\n",
    "\n",
    "        self.medians = None\n",
    "        self.means = None\n",
    "        self.feature_names_out = None\n",
    "\n",
    "    def _compute_ratio_(self, X: pd.DataFrame, x_col: str, y_col: str) -> pd.Series:\n",
    "        ratios = X[x_col] / X[y_col]\n",
    "\n",
    "        # return pd.Series(np.where(ratios < self.ratio_threshold, self.ratio_threshold, ratios))\n",
    "        return ratios.apply(lambda x: np.where(x > self.ratio_upper_threshold, self.ratio_upper_threshold, x)).apply(\n",
    "            lambda x: np.where(x < self.ratio_lower_threshold, self.ratio_lower_threshold, x))\n",
    "\n",
    "    def fit(self, X, y=None) -> None:\n",
    "        self.means = {feat: X[feat].mean() for feat in self.numeric_features}\n",
    "        self.medians = {feat: X[feat].median() for feat in self.numeric_features}\n",
    "\n",
    "        return self\n",
    "\n",
    "    def transform(self, X: pd.DataFrame) -> pd.DataFrame:\n",
    "\n",
    "        new_df = pd.DataFrame()\n",
    "\n",
    "        for feat in self.numeric_features:\n",
    "            if feat != 'amount':\n",
    "                new_df[f'{feat}_amount_ratio'] = self._compute_ratio_(X, feat, 'amount')\n",
    "\n",
    "            if self.algorithm == 'linear':\n",
    "                new_df[f'{feat}_is_zero'] = (X[feat] > self.epsilon).astype(int)\n",
    "                new_df[f'{feat}_is_bigger_mean'] = (X[feat] > self.means[feat]).astype(int)\n",
    "                new_df[f'{feat}_is_bigger_median'] = (X[feat] > self.medians[feat]).astype(int)\n",
    "\n",
    "        new_df['dest_is_bigger_org'] = (X['oldbalanceDest'] > X['oldbalanceOrg']).astype(int)\n",
    "\n",
    "        self.feature_names_out = new_df.columns.tolist()\n",
    "\n",
    "        return new_df\n",
    "\n",
    "    def get_feature_names_out(self, input_features=None):\n",
    "        return self.feature_names_out"
   ],
   "metadata": {
    "collapsed": false,
    "pycharm": {
     "name": "#%%\n"
    }
   }
  },
  {
   "cell_type": "code",
   "execution_count": 9,
   "outputs": [],
   "source": [
    "class LogTransformer(TransformerMixin, BaseEstimator):\n",
    "    def __init__(self, handle_inf=\"median\", fill_value=0):\n",
    "        self.handle_inf = handle_inf\n",
    "        self.fill_value = fill_value\n",
    "        self.feature_names_out = None\n",
    "\n",
    "    def fit(self, X, y=None):\n",
    "\n",
    "        if self.handle_inf == \"median\":\n",
    "            logged_X = np.log(X)\n",
    "            self.fill_value = np.nanmedian(logged_X, axis=0)\n",
    "        elif self.handle_inf == \"mean\":\n",
    "            logged_X = np.log(X)\n",
    "            self.fill_value = np.nanmean(logged_X, axis=0)\n",
    "        elif self.handle_inf == \"const\":\n",
    "            pass\n",
    "\n",
    "        self.feature_names_out = [f\"{feat}_log\" for feat in X.columns]\n",
    "\n",
    "        return self\n",
    "\n",
    "    def transform(self, X):\n",
    "        logged_X = np.log(X)\n",
    "\n",
    "        return np.where(np.isinf(logged_X), np.expand_dims(self.fill_value, axis=0), logged_X)\n",
    "\n",
    "    def get_feature_names_out(self, input_features=None):\n",
    "        if input_features is not None:\n",
    "            return input_features\n",
    "\n",
    "        return self.feature_names_out\n"
   ],
   "metadata": {
    "collapsed": false,
    "pycharm": {
     "name": "#%%\n"
    }
   }
  },
  {
   "cell_type": "code",
   "execution_count": 10,
   "outputs": [],
   "source": [
    "class TargetEncoderFixed(TargetEncoder):\n",
    "    def get_feature_names_out(self, *arg, **kargs) -> List[str]:\n",
    "        return self.feature_names_out_"
   ],
   "metadata": {
    "collapsed": false,
    "pycharm": {
     "name": "#%%\n"
    }
   }
  },
  {
   "cell_type": "markdown",
   "source": [
    "#### Loading data"
   ],
   "metadata": {
    "collapsed": false,
    "pycharm": {
     "name": "#%% md\n"
    }
   }
  },
  {
   "cell_type": "code",
   "execution_count": 11,
   "outputs": [],
   "source": [
    "fraud = pd.read_csv(r'onlinefraud\\onlinefraud.csv', nrows=500000)  #nrows=100000"
   ],
   "metadata": {
    "collapsed": false,
    "pycharm": {
     "name": "#%%\n"
    }
   }
  },
  {
   "cell_type": "code",
   "execution_count": 12,
   "outputs": [],
   "source": [
    "d = fraud.head(1000)"
   ],
   "metadata": {
    "collapsed": false,
    "pycharm": {
     "name": "#%%\n"
    }
   }
  },
  {
   "cell_type": "code",
   "execution_count": 13,
   "outputs": [],
   "source": [
    "data = fraud"
   ],
   "metadata": {
    "collapsed": false,
    "pycharm": {
     "name": "#%%\n"
    }
   }
  },
  {
   "cell_type": "markdown",
   "metadata": {
    "pycharm": {
     "name": "#%% md\n"
    }
   },
   "source": [
    "#### Features"
   ]
  },
  {
   "cell_type": "code",
   "execution_count": 14,
   "outputs": [],
   "source": [
    "features_to_exclude = [\n",
    "    'isFlaggedFraud',\n",
    "    'nameOrig',\n",
    "    'nameDest',\n",
    "]"
   ],
   "metadata": {
    "collapsed": false,
    "pycharm": {
     "name": "#%%\n"
    }
   }
  },
  {
   "cell_type": "code",
   "execution_count": 15,
   "outputs": [
    {
     "data": {
      "text/plain": "['isFlaggedFraud', 'nameOrig', 'nameDest']"
     },
     "execution_count": 15,
     "metadata": {},
     "output_type": "execute_result"
    }
   ],
   "source": [
    "features_to_exclude"
   ],
   "metadata": {
    "collapsed": false,
    "pycharm": {
     "name": "#%%\n"
    }
   }
  },
  {
   "cell_type": "code",
   "execution_count": 16,
   "metadata": {
    "pycharm": {
     "name": "#%%\n"
    }
   },
   "outputs": [],
   "source": [
    "target_features = ['isFraud', 'isFlaggedFraud']\n",
    "\n",
    "target = \"isFraud\""
   ]
  },
  {
   "cell_type": "code",
   "execution_count": 17,
   "outputs": [],
   "source": [
    "features = [col for col in data.columns if col not in target_features + features_to_exclude]"
   ],
   "metadata": {
    "collapsed": false,
    "pycharm": {
     "name": "#%%\n"
    }
   }
  },
  {
   "cell_type": "code",
   "execution_count": 18,
   "outputs": [
    {
     "data": {
      "text/plain": "Index(['step', 'type', 'amount', 'nameOrig', 'oldbalanceOrg', 'newbalanceOrig',\n       'nameDest', 'oldbalanceDest', 'newbalanceDest', 'isFraud',\n       'isFlaggedFraud'],\n      dtype='object')"
     },
     "execution_count": 18,
     "metadata": {},
     "output_type": "execute_result"
    }
   ],
   "source": [
    "data.columns"
   ],
   "metadata": {
    "collapsed": false,
    "pycharm": {
     "name": "#%%\n"
    }
   }
  },
  {
   "cell_type": "code",
   "execution_count": 19,
   "outputs": [],
   "source": [
    "numeric_features = [\n",
    "    \"amount\",\n",
    "    \"oldbalanceOrg\",\n",
    "    \"newbalanceOrig\",\n",
    "    \"oldbalanceDest\",\n",
    "    \"newbalanceDest\",\n",
    "]"
   ],
   "metadata": {
    "collapsed": false,
    "pycharm": {
     "name": "#%%\n"
    }
   }
  },
  {
   "cell_type": "code",
   "execution_count": 20,
   "metadata": {
    "pycharm": {
     "name": "#%%\n"
    }
   },
   "outputs": [],
   "source": [
    "nominal_features = [\n",
    "    \"type\",\n",
    "]"
   ]
  },
  {
   "cell_type": "code",
   "execution_count": 21,
   "metadata": {
    "pycharm": {
     "name": "#%%\n"
    }
   },
   "outputs": [
    {
     "data": {
      "text/plain": "   step      type    amount  oldbalanceOrg  newbalanceOrig  oldbalanceDest  \\\n0     1   PAYMENT   9839.64       170136.0       160296.36             0.0   \n1     1   PAYMENT   1864.28        21249.0        19384.72             0.0   \n2     1  TRANSFER    181.00          181.0            0.00             0.0   \n3     1  CASH_OUT    181.00          181.0            0.00         21182.0   \n4     1   PAYMENT  11668.14        41554.0        29885.86             0.0   \n\n   newbalanceDest  \n0             0.0  \n1             0.0  \n2             0.0  \n3             0.0  \n4             0.0  ",
      "text/html": "<div>\n<style scoped>\n    .dataframe tbody tr th:only-of-type {\n        vertical-align: middle;\n    }\n\n    .dataframe tbody tr th {\n        vertical-align: top;\n    }\n\n    .dataframe thead th {\n        text-align: right;\n    }\n</style>\n<table border=\"1\" class=\"dataframe\">\n  <thead>\n    <tr style=\"text-align: right;\">\n      <th></th>\n      <th>step</th>\n      <th>type</th>\n      <th>amount</th>\n      <th>oldbalanceOrg</th>\n      <th>newbalanceOrig</th>\n      <th>oldbalanceDest</th>\n      <th>newbalanceDest</th>\n    </tr>\n  </thead>\n  <tbody>\n    <tr>\n      <th>0</th>\n      <td>1</td>\n      <td>PAYMENT</td>\n      <td>9839.64</td>\n      <td>170136.0</td>\n      <td>160296.36</td>\n      <td>0.0</td>\n      <td>0.0</td>\n    </tr>\n    <tr>\n      <th>1</th>\n      <td>1</td>\n      <td>PAYMENT</td>\n      <td>1864.28</td>\n      <td>21249.0</td>\n      <td>19384.72</td>\n      <td>0.0</td>\n      <td>0.0</td>\n    </tr>\n    <tr>\n      <th>2</th>\n      <td>1</td>\n      <td>TRANSFER</td>\n      <td>181.00</td>\n      <td>181.0</td>\n      <td>0.00</td>\n      <td>0.0</td>\n      <td>0.0</td>\n    </tr>\n    <tr>\n      <th>3</th>\n      <td>1</td>\n      <td>CASH_OUT</td>\n      <td>181.00</td>\n      <td>181.0</td>\n      <td>0.00</td>\n      <td>21182.0</td>\n      <td>0.0</td>\n    </tr>\n    <tr>\n      <th>4</th>\n      <td>1</td>\n      <td>PAYMENT</td>\n      <td>11668.14</td>\n      <td>41554.0</td>\n      <td>29885.86</td>\n      <td>0.0</td>\n      <td>0.0</td>\n    </tr>\n  </tbody>\n</table>\n</div>"
     },
     "execution_count": 21,
     "metadata": {},
     "output_type": "execute_result"
    }
   ],
   "source": [
    "data[features].head()"
   ]
  },
  {
   "cell_type": "code",
   "execution_count": 22,
   "outputs": [
    {
     "data": {
      "text/plain": "   step      type    amount     nameOrig  oldbalanceOrg  newbalanceOrig  \\\n0     1   PAYMENT   9839.64  C1231006815       170136.0       160296.36   \n1     1   PAYMENT   1864.28  C1666544295        21249.0        19384.72   \n2     1  TRANSFER    181.00  C1305486145          181.0            0.00   \n3     1  CASH_OUT    181.00   C840083671          181.0            0.00   \n4     1   PAYMENT  11668.14  C2048537720        41554.0        29885.86   \n\n      nameDest  oldbalanceDest  newbalanceDest  isFraud  isFlaggedFraud  \n0  M1979787155             0.0             0.0        0               0  \n1  M2044282225             0.0             0.0        0               0  \n2   C553264065             0.0             0.0        1               0  \n3    C38997010         21182.0             0.0        1               0  \n4  M1230701703             0.0             0.0        0               0  ",
      "text/html": "<div>\n<style scoped>\n    .dataframe tbody tr th:only-of-type {\n        vertical-align: middle;\n    }\n\n    .dataframe tbody tr th {\n        vertical-align: top;\n    }\n\n    .dataframe thead th {\n        text-align: right;\n    }\n</style>\n<table border=\"1\" class=\"dataframe\">\n  <thead>\n    <tr style=\"text-align: right;\">\n      <th></th>\n      <th>step</th>\n      <th>type</th>\n      <th>amount</th>\n      <th>nameOrig</th>\n      <th>oldbalanceOrg</th>\n      <th>newbalanceOrig</th>\n      <th>nameDest</th>\n      <th>oldbalanceDest</th>\n      <th>newbalanceDest</th>\n      <th>isFraud</th>\n      <th>isFlaggedFraud</th>\n    </tr>\n  </thead>\n  <tbody>\n    <tr>\n      <th>0</th>\n      <td>1</td>\n      <td>PAYMENT</td>\n      <td>9839.64</td>\n      <td>C1231006815</td>\n      <td>170136.0</td>\n      <td>160296.36</td>\n      <td>M1979787155</td>\n      <td>0.0</td>\n      <td>0.0</td>\n      <td>0</td>\n      <td>0</td>\n    </tr>\n    <tr>\n      <th>1</th>\n      <td>1</td>\n      <td>PAYMENT</td>\n      <td>1864.28</td>\n      <td>C1666544295</td>\n      <td>21249.0</td>\n      <td>19384.72</td>\n      <td>M2044282225</td>\n      <td>0.0</td>\n      <td>0.0</td>\n      <td>0</td>\n      <td>0</td>\n    </tr>\n    <tr>\n      <th>2</th>\n      <td>1</td>\n      <td>TRANSFER</td>\n      <td>181.00</td>\n      <td>C1305486145</td>\n      <td>181.0</td>\n      <td>0.00</td>\n      <td>C553264065</td>\n      <td>0.0</td>\n      <td>0.0</td>\n      <td>1</td>\n      <td>0</td>\n    </tr>\n    <tr>\n      <th>3</th>\n      <td>1</td>\n      <td>CASH_OUT</td>\n      <td>181.00</td>\n      <td>C840083671</td>\n      <td>181.0</td>\n      <td>0.00</td>\n      <td>C38997010</td>\n      <td>21182.0</td>\n      <td>0.0</td>\n      <td>1</td>\n      <td>0</td>\n    </tr>\n    <tr>\n      <th>4</th>\n      <td>1</td>\n      <td>PAYMENT</td>\n      <td>11668.14</td>\n      <td>C2048537720</td>\n      <td>41554.0</td>\n      <td>29885.86</td>\n      <td>M1230701703</td>\n      <td>0.0</td>\n      <td>0.0</td>\n      <td>0</td>\n      <td>0</td>\n    </tr>\n  </tbody>\n</table>\n</div>"
     },
     "execution_count": 22,
     "metadata": {},
     "output_type": "execute_result"
    }
   ],
   "source": [
    "data.head()"
   ],
   "metadata": {
    "collapsed": false,
    "pycharm": {
     "name": "#%%\n"
    }
   }
  },
  {
   "cell_type": "markdown",
   "source": [
    "#### Pipelines"
   ],
   "metadata": {
    "collapsed": false,
    "pycharm": {
     "name": "#%% md\n"
    }
   }
  },
  {
   "cell_type": "code",
   "execution_count": 23,
   "outputs": [],
   "source": [
    "linear_generator = ColumnTransformer(\n",
    "    transformers=[\n",
    "        ('ffg', FraudFeatureGenerator(), numeric_features),\n",
    "        ('cat', OneHotEncoder(handle_unknown=\"ignore\"), nominal_features),\n",
    "    ],\n",
    "    remainder='drop'\n",
    ")\n",
    "\n",
    "linear_preprocessor = ColumnTransformer(\n",
    "    transformers=[\n",
    "        ('log', LogTransformer(handle_inf='const', fill_value=0), numeric_features),\n",
    "        ('scl', StandardScaler(), numeric_features),\n",
    "    ],\n",
    "    remainder='drop'\n",
    ")\n",
    "\n",
    "liner_data_pipeline = ColumnTransformer(\n",
    "    transformers=[\n",
    "        ('generator', linear_generator, features),\n",
    "        ('preprocessor', linear_preprocessor, features),\n",
    "    ],\n",
    "    remainder='drop'\n",
    ")\n",
    "\n",
    "# Define the pipeline\n",
    "pipeline = Pipeline([\n",
    "    ('general_proc', liner_data_pipeline),\n",
    "    ('regressor', LogisticRegression())\n",
    "])"
   ],
   "metadata": {
    "collapsed": false,
    "pycharm": {
     "name": "#%%\n"
    }
   }
  },
  {
   "cell_type": "code",
   "execution_count": 24,
   "outputs": [],
   "source": [
    "tree_generator = ColumnTransformer(\n",
    "    transformers=[\n",
    "        ('ffg', FraudFeatureGenerator(algorithm='tree'), numeric_features),\n",
    "        ('cat', TargetEncoderFixed(handle_unknown=\"median\"), nominal_features),\n",
    "    ],\n",
    "    remainder='drop'\n",
    ")\n",
    "\n",
    "tree_preprocessor = ColumnTransformer(\n",
    "    transformers=[\n",
    "        ('imputer', SimpleImputer(fill_value=-1), numeric_features),\n",
    "    ],\n",
    "    remainder='drop'\n",
    ")\n",
    "\n",
    "tree_data_pipeline = ColumnTransformer(\n",
    "    transformers=[\n",
    "        ('generator', tree_generator, features),\n",
    "        ('preprocessor', tree_preprocessor, features),\n",
    "    ],\n",
    "    remainder='drop'\n",
    ")\n",
    "\n",
    "# Define the pipeline\n",
    "pipeline = Pipeline([\n",
    "    ('general_proc', tree_data_pipeline),\n",
    "    ('regressor', RandomForestClassifier())\n",
    "])\n"
   ],
   "metadata": {
    "collapsed": false,
    "pycharm": {
     "name": "#%%\n"
    }
   }
  },
  {
   "cell_type": "markdown",
   "source": [
    "##### test transformers"
   ],
   "metadata": {
    "collapsed": false,
    "pycharm": {
     "name": "#%% md\n"
    }
   }
  },
  {
   "cell_type": "code",
   "execution_count": 25,
   "outputs": [
    {
     "data": {
      "text/plain": "array([[17.2908765 , 16.2908765 ,  0.        ,  0.        ,  0.        ,\n         0.        ],\n       [11.39796597, 10.39796597,  0.        ,  0.        ,  0.        ,\n         0.        ],\n       [ 1.        ,  0.        ,  0.        ,  0.        ,  0.        ,\n         0.0403924 ],\n       ...,\n       [ 5.45425101,  4.45425101,  0.        ,  0.        ,  0.        ,\n         0.        ],\n       [ 7.7631187 ,  6.7631187 ,  0.        ,  0.        ,  0.        ,\n         0.        ],\n       [ 0.23593371,  0.        ,  0.        ,  0.        ,  0.        ,\n         0.        ]])"
     },
     "execution_count": 25,
     "metadata": {},
     "output_type": "execute_result"
    }
   ],
   "source": [
    "tree_generator.fit_transform(d, d['isFraud'])"
   ],
   "metadata": {
    "collapsed": false,
    "pycharm": {
     "name": "#%%\n"
    }
   }
  },
  {
   "cell_type": "code",
   "execution_count": 26,
   "outputs": [
    {
     "data": {
      "text/plain": "array(['ffg__oldbalanceOrg_amount_ratio',\n       'ffg__newbalanceOrig_amount_ratio',\n       'ffg__oldbalanceDest_amount_ratio',\n       'ffg__newbalanceDest_amount_ratio', 'ffg__dest_is_bigger_org',\n       'cat__type'], dtype=object)"
     },
     "execution_count": 26,
     "metadata": {},
     "output_type": "execute_result"
    }
   ],
   "source": [
    "tree_generator.get_feature_names_out()"
   ],
   "metadata": {
    "collapsed": false,
    "pycharm": {
     "name": "#%%\n"
    }
   }
  },
  {
   "cell_type": "code",
   "execution_count": 23,
   "outputs": [],
   "source": [
    "# generator.fit_transform(d)"
   ],
   "metadata": {
    "collapsed": false,
    "pycharm": {
     "name": "#%%\n"
    }
   }
  },
  {
   "cell_type": "code",
   "execution_count": 24,
   "outputs": [],
   "source": [
    "# generator.get_feature_names_out()"
   ],
   "metadata": {
    "collapsed": false,
    "pycharm": {
     "name": "#%%\n"
    }
   }
  },
  {
   "cell_type": "code",
   "execution_count": 25,
   "outputs": [],
   "source": [
    "# preprocessor.fit_transform(d)"
   ],
   "metadata": {
    "collapsed": false,
    "pycharm": {
     "name": "#%%\n"
    }
   }
  },
  {
   "cell_type": "code",
   "execution_count": 26,
   "outputs": [
    {
     "data": {
      "text/plain": "Pipeline(steps=[('general_proc',\n                 ColumnTransformer(transformers=[('generator',\n                                                  ColumnTransformer(transformers=[('ffg',\n                                                                                   FraudFeatureGenerator(algorithm='tree'),\n                                                                                   ['amount',\n                                                                                    'oldbalanceOrg',\n                                                                                    'newbalanceOrig',\n                                                                                    'oldbalanceDest',\n                                                                                    'newbalanceDest']),\n                                                                                  ('cat',\n                                                                                   TargetEncoderFixed(handle_unknown='median'),\n                                                                                   ['type'])]),\n                                                  ['step', 'type', 'amount',\n                                                   'oldbalanceOrg',\n                                                   'newbalanceOrig',\n                                                   'oldbalanceDest',\n                                                   'newbalanceDest']),\n                                                 ('preprocessor',\n                                                  ColumnTransformer(transformers=[('imputer',\n                                                                                   SimpleImputer(fill_value=-1),\n                                                                                   ['amount',\n                                                                                    'oldbalanceOrg',\n                                                                                    'newbalanceOrig',\n                                                                                    'oldbalanceDest',\n                                                                                    'newbalanceDest'])]),\n                                                  ['step', 'type', 'amount',\n                                                   'oldbalanceOrg',\n                                                   'newbalanceOrig',\n                                                   'oldbalanceDest',\n                                                   'newbalanceDest'])])),\n                ('regressor', RandomForestClassifier())])",
      "text/html": "<style>#sk-container-id-1 {color: black;background-color: white;}#sk-container-id-1 pre{padding: 0;}#sk-container-id-1 div.sk-toggleable {background-color: white;}#sk-container-id-1 label.sk-toggleable__label {cursor: pointer;display: block;width: 100%;margin-bottom: 0;padding: 0.3em;box-sizing: border-box;text-align: center;}#sk-container-id-1 label.sk-toggleable__label-arrow:before {content: \"▸\";float: left;margin-right: 0.25em;color: #696969;}#sk-container-id-1 label.sk-toggleable__label-arrow:hover:before {color: black;}#sk-container-id-1 div.sk-estimator:hover label.sk-toggleable__label-arrow:before {color: black;}#sk-container-id-1 div.sk-toggleable__content {max-height: 0;max-width: 0;overflow: hidden;text-align: left;background-color: #f0f8ff;}#sk-container-id-1 div.sk-toggleable__content pre {margin: 0.2em;color: black;border-radius: 0.25em;background-color: #f0f8ff;}#sk-container-id-1 input.sk-toggleable__control:checked~div.sk-toggleable__content {max-height: 200px;max-width: 100%;overflow: auto;}#sk-container-id-1 input.sk-toggleable__control:checked~label.sk-toggleable__label-arrow:before {content: \"▾\";}#sk-container-id-1 div.sk-estimator input.sk-toggleable__control:checked~label.sk-toggleable__label {background-color: #d4ebff;}#sk-container-id-1 div.sk-label input.sk-toggleable__control:checked~label.sk-toggleable__label {background-color: #d4ebff;}#sk-container-id-1 input.sk-hidden--visually {border: 0;clip: rect(1px 1px 1px 1px);clip: rect(1px, 1px, 1px, 1px);height: 1px;margin: -1px;overflow: hidden;padding: 0;position: absolute;width: 1px;}#sk-container-id-1 div.sk-estimator {font-family: monospace;background-color: #f0f8ff;border: 1px dotted black;border-radius: 0.25em;box-sizing: border-box;margin-bottom: 0.5em;}#sk-container-id-1 div.sk-estimator:hover {background-color: #d4ebff;}#sk-container-id-1 div.sk-parallel-item::after {content: \"\";width: 100%;border-bottom: 1px solid gray;flex-grow: 1;}#sk-container-id-1 div.sk-label:hover label.sk-toggleable__label {background-color: #d4ebff;}#sk-container-id-1 div.sk-serial::before {content: \"\";position: absolute;border-left: 1px solid gray;box-sizing: border-box;top: 0;bottom: 0;left: 50%;z-index: 0;}#sk-container-id-1 div.sk-serial {display: flex;flex-direction: column;align-items: center;background-color: white;padding-right: 0.2em;padding-left: 0.2em;position: relative;}#sk-container-id-1 div.sk-item {position: relative;z-index: 1;}#sk-container-id-1 div.sk-parallel {display: flex;align-items: stretch;justify-content: center;background-color: white;position: relative;}#sk-container-id-1 div.sk-item::before, #sk-container-id-1 div.sk-parallel-item::before {content: \"\";position: absolute;border-left: 1px solid gray;box-sizing: border-box;top: 0;bottom: 0;left: 50%;z-index: -1;}#sk-container-id-1 div.sk-parallel-item {display: flex;flex-direction: column;z-index: 1;position: relative;background-color: white;}#sk-container-id-1 div.sk-parallel-item:first-child::after {align-self: flex-end;width: 50%;}#sk-container-id-1 div.sk-parallel-item:last-child::after {align-self: flex-start;width: 50%;}#sk-container-id-1 div.sk-parallel-item:only-child::after {width: 0;}#sk-container-id-1 div.sk-dashed-wrapped {border: 1px dashed gray;margin: 0 0.4em 0.5em 0.4em;box-sizing: border-box;padding-bottom: 0.4em;background-color: white;}#sk-container-id-1 div.sk-label label {font-family: monospace;font-weight: bold;display: inline-block;line-height: 1.2em;}#sk-container-id-1 div.sk-label-container {text-align: center;}#sk-container-id-1 div.sk-container {/* jupyter's `normalize.less` sets `[hidden] { display: none; }` but bootstrap.min.css set `[hidden] { display: none !important; }` so we also need the `!important` here to be able to override the default hidden behavior on the sphinx rendered scikit-learn.org. See: https://github.com/scikit-learn/scikit-learn/issues/21755 */display: inline-block !important;position: relative;}#sk-container-id-1 div.sk-text-repr-fallback {display: none;}</style><div id=\"sk-container-id-1\" class=\"sk-top-container\"><div class=\"sk-text-repr-fallback\"><pre>Pipeline(steps=[(&#x27;general_proc&#x27;,\n                 ColumnTransformer(transformers=[(&#x27;generator&#x27;,\n                                                  ColumnTransformer(transformers=[(&#x27;ffg&#x27;,\n                                                                                   FraudFeatureGenerator(algorithm=&#x27;tree&#x27;),\n                                                                                   [&#x27;amount&#x27;,\n                                                                                    &#x27;oldbalanceOrg&#x27;,\n                                                                                    &#x27;newbalanceOrig&#x27;,\n                                                                                    &#x27;oldbalanceDest&#x27;,\n                                                                                    &#x27;newbalanceDest&#x27;]),\n                                                                                  (&#x27;cat&#x27;,\n                                                                                   TargetEncoderFixed(handle_unknown=&#x27;median&#x27;),\n                                                                                   [&#x27;type&#x27;])]),\n                                                  [&#x27;step&#x27;, &#x27;type&#x27;, &#x27;amount&#x27;,\n                                                   &#x27;oldbalanceOrg&#x27;,\n                                                   &#x27;newbalanceOrig&#x27;,\n                                                   &#x27;oldbalanceDest&#x27;,\n                                                   &#x27;newbalanceDest&#x27;]),\n                                                 (&#x27;preprocessor&#x27;,\n                                                  ColumnTransformer(transformers=[(&#x27;imputer&#x27;,\n                                                                                   SimpleImputer(fill_value=-1),\n                                                                                   [&#x27;amount&#x27;,\n                                                                                    &#x27;oldbalanceOrg&#x27;,\n                                                                                    &#x27;newbalanceOrig&#x27;,\n                                                                                    &#x27;oldbalanceDest&#x27;,\n                                                                                    &#x27;newbalanceDest&#x27;])]),\n                                                  [&#x27;step&#x27;, &#x27;type&#x27;, &#x27;amount&#x27;,\n                                                   &#x27;oldbalanceOrg&#x27;,\n                                                   &#x27;newbalanceOrig&#x27;,\n                                                   &#x27;oldbalanceDest&#x27;,\n                                                   &#x27;newbalanceDest&#x27;])])),\n                (&#x27;regressor&#x27;, RandomForestClassifier())])</pre><b>In a Jupyter environment, please rerun this cell to show the HTML representation or trust the notebook. <br />On GitHub, the HTML representation is unable to render, please try loading this page with nbviewer.org.</b></div><div class=\"sk-container\" hidden><div class=\"sk-item sk-dashed-wrapped\"><div class=\"sk-label-container\"><div class=\"sk-label sk-toggleable\"><input class=\"sk-toggleable__control sk-hidden--visually\" id=\"sk-estimator-id-1\" type=\"checkbox\" ><label for=\"sk-estimator-id-1\" class=\"sk-toggleable__label sk-toggleable__label-arrow\">Pipeline</label><div class=\"sk-toggleable__content\"><pre>Pipeline(steps=[(&#x27;general_proc&#x27;,\n                 ColumnTransformer(transformers=[(&#x27;generator&#x27;,\n                                                  ColumnTransformer(transformers=[(&#x27;ffg&#x27;,\n                                                                                   FraudFeatureGenerator(algorithm=&#x27;tree&#x27;),\n                                                                                   [&#x27;amount&#x27;,\n                                                                                    &#x27;oldbalanceOrg&#x27;,\n                                                                                    &#x27;newbalanceOrig&#x27;,\n                                                                                    &#x27;oldbalanceDest&#x27;,\n                                                                                    &#x27;newbalanceDest&#x27;]),\n                                                                                  (&#x27;cat&#x27;,\n                                                                                   TargetEncoderFixed(handle_unknown=&#x27;median&#x27;),\n                                                                                   [&#x27;type&#x27;])]),\n                                                  [&#x27;step&#x27;, &#x27;type&#x27;, &#x27;amount&#x27;,\n                                                   &#x27;oldbalanceOrg&#x27;,\n                                                   &#x27;newbalanceOrig&#x27;,\n                                                   &#x27;oldbalanceDest&#x27;,\n                                                   &#x27;newbalanceDest&#x27;]),\n                                                 (&#x27;preprocessor&#x27;,\n                                                  ColumnTransformer(transformers=[(&#x27;imputer&#x27;,\n                                                                                   SimpleImputer(fill_value=-1),\n                                                                                   [&#x27;amount&#x27;,\n                                                                                    &#x27;oldbalanceOrg&#x27;,\n                                                                                    &#x27;newbalanceOrig&#x27;,\n                                                                                    &#x27;oldbalanceDest&#x27;,\n                                                                                    &#x27;newbalanceDest&#x27;])]),\n                                                  [&#x27;step&#x27;, &#x27;type&#x27;, &#x27;amount&#x27;,\n                                                   &#x27;oldbalanceOrg&#x27;,\n                                                   &#x27;newbalanceOrig&#x27;,\n                                                   &#x27;oldbalanceDest&#x27;,\n                                                   &#x27;newbalanceDest&#x27;])])),\n                (&#x27;regressor&#x27;, RandomForestClassifier())])</pre></div></div></div><div class=\"sk-serial\"><div class=\"sk-item sk-dashed-wrapped\"><div class=\"sk-label-container\"><div class=\"sk-label sk-toggleable\"><input class=\"sk-toggleable__control sk-hidden--visually\" id=\"sk-estimator-id-2\" type=\"checkbox\" ><label for=\"sk-estimator-id-2\" class=\"sk-toggleable__label sk-toggleable__label-arrow\">general_proc: ColumnTransformer</label><div class=\"sk-toggleable__content\"><pre>ColumnTransformer(transformers=[(&#x27;generator&#x27;,\n                                 ColumnTransformer(transformers=[(&#x27;ffg&#x27;,\n                                                                  FraudFeatureGenerator(algorithm=&#x27;tree&#x27;),\n                                                                  [&#x27;amount&#x27;,\n                                                                   &#x27;oldbalanceOrg&#x27;,\n                                                                   &#x27;newbalanceOrig&#x27;,\n                                                                   &#x27;oldbalanceDest&#x27;,\n                                                                   &#x27;newbalanceDest&#x27;]),\n                                                                 (&#x27;cat&#x27;,\n                                                                  TargetEncoderFixed(handle_unknown=&#x27;median&#x27;),\n                                                                  [&#x27;type&#x27;])]),\n                                 [&#x27;step&#x27;, &#x27;type&#x27;, &#x27;amount&#x27;, &#x27;oldbalanceOrg&#x27;,\n                                  &#x27;newbalanceOrig&#x27;, &#x27;oldbalanceDest&#x27;,\n                                  &#x27;newbalanceDest&#x27;]),\n                                (&#x27;preprocessor&#x27;,\n                                 ColumnTransformer(transformers=[(&#x27;imputer&#x27;,\n                                                                  SimpleImputer(fill_value=-1),\n                                                                  [&#x27;amount&#x27;,\n                                                                   &#x27;oldbalanceOrg&#x27;,\n                                                                   &#x27;newbalanceOrig&#x27;,\n                                                                   &#x27;oldbalanceDest&#x27;,\n                                                                   &#x27;newbalanceDest&#x27;])]),\n                                 [&#x27;step&#x27;, &#x27;type&#x27;, &#x27;amount&#x27;, &#x27;oldbalanceOrg&#x27;,\n                                  &#x27;newbalanceOrig&#x27;, &#x27;oldbalanceDest&#x27;,\n                                  &#x27;newbalanceDest&#x27;])])</pre></div></div></div><div class=\"sk-parallel\"><div class=\"sk-parallel-item\"><div class=\"sk-item\"><div class=\"sk-label-container\"><div class=\"sk-label sk-toggleable\"><input class=\"sk-toggleable__control sk-hidden--visually\" id=\"sk-estimator-id-3\" type=\"checkbox\" ><label for=\"sk-estimator-id-3\" class=\"sk-toggleable__label sk-toggleable__label-arrow\">generator</label><div class=\"sk-toggleable__content\"><pre>[&#x27;step&#x27;, &#x27;type&#x27;, &#x27;amount&#x27;, &#x27;oldbalanceOrg&#x27;, &#x27;newbalanceOrig&#x27;, &#x27;oldbalanceDest&#x27;, &#x27;newbalanceDest&#x27;]</pre></div></div></div><div class=\"sk-serial\"><div class=\"sk-item sk-dashed-wrapped\"><div class=\"sk-parallel\"><div class=\"sk-parallel-item\"><div class=\"sk-item\"><div class=\"sk-label-container\"><div class=\"sk-label sk-toggleable\"><input class=\"sk-toggleable__control sk-hidden--visually\" id=\"sk-estimator-id-4\" type=\"checkbox\" ><label for=\"sk-estimator-id-4\" class=\"sk-toggleable__label sk-toggleable__label-arrow\">ffg</label><div class=\"sk-toggleable__content\"><pre>[&#x27;amount&#x27;, &#x27;oldbalanceOrg&#x27;, &#x27;newbalanceOrig&#x27;, &#x27;oldbalanceDest&#x27;, &#x27;newbalanceDest&#x27;]</pre></div></div></div><div class=\"sk-serial\"><div class=\"sk-item\"><div class=\"sk-estimator sk-toggleable\"><input class=\"sk-toggleable__control sk-hidden--visually\" id=\"sk-estimator-id-5\" type=\"checkbox\" ><label for=\"sk-estimator-id-5\" class=\"sk-toggleable__label sk-toggleable__label-arrow\">FraudFeatureGenerator</label><div class=\"sk-toggleable__content\"><pre>FraudFeatureGenerator(algorithm=&#x27;tree&#x27;)</pre></div></div></div></div></div></div><div class=\"sk-parallel-item\"><div class=\"sk-item\"><div class=\"sk-label-container\"><div class=\"sk-label sk-toggleable\"><input class=\"sk-toggleable__control sk-hidden--visually\" id=\"sk-estimator-id-6\" type=\"checkbox\" ><label for=\"sk-estimator-id-6\" class=\"sk-toggleable__label sk-toggleable__label-arrow\">cat</label><div class=\"sk-toggleable__content\"><pre>[&#x27;type&#x27;]</pre></div></div></div><div class=\"sk-serial\"><div class=\"sk-item\"><div class=\"sk-estimator sk-toggleable\"><input class=\"sk-toggleable__control sk-hidden--visually\" id=\"sk-estimator-id-7\" type=\"checkbox\" ><label for=\"sk-estimator-id-7\" class=\"sk-toggleable__label sk-toggleable__label-arrow\">TargetEncoderFixed</label><div class=\"sk-toggleable__content\"><pre>TargetEncoderFixed(handle_unknown=&#x27;median&#x27;)</pre></div></div></div></div></div></div></div></div></div></div></div><div class=\"sk-parallel-item\"><div class=\"sk-item\"><div class=\"sk-label-container\"><div class=\"sk-label sk-toggleable\"><input class=\"sk-toggleable__control sk-hidden--visually\" id=\"sk-estimator-id-8\" type=\"checkbox\" ><label for=\"sk-estimator-id-8\" class=\"sk-toggleable__label sk-toggleable__label-arrow\">preprocessor</label><div class=\"sk-toggleable__content\"><pre>[&#x27;step&#x27;, &#x27;type&#x27;, &#x27;amount&#x27;, &#x27;oldbalanceOrg&#x27;, &#x27;newbalanceOrig&#x27;, &#x27;oldbalanceDest&#x27;, &#x27;newbalanceDest&#x27;]</pre></div></div></div><div class=\"sk-serial\"><div class=\"sk-item sk-dashed-wrapped\"><div class=\"sk-parallel\"><div class=\"sk-parallel-item\"><div class=\"sk-item\"><div class=\"sk-label-container\"><div class=\"sk-label sk-toggleable\"><input class=\"sk-toggleable__control sk-hidden--visually\" id=\"sk-estimator-id-9\" type=\"checkbox\" ><label for=\"sk-estimator-id-9\" class=\"sk-toggleable__label sk-toggleable__label-arrow\">imputer</label><div class=\"sk-toggleable__content\"><pre>[&#x27;amount&#x27;, &#x27;oldbalanceOrg&#x27;, &#x27;newbalanceOrig&#x27;, &#x27;oldbalanceDest&#x27;, &#x27;newbalanceDest&#x27;]</pre></div></div></div><div class=\"sk-serial\"><div class=\"sk-item\"><div class=\"sk-estimator sk-toggleable\"><input class=\"sk-toggleable__control sk-hidden--visually\" id=\"sk-estimator-id-10\" type=\"checkbox\" ><label for=\"sk-estimator-id-10\" class=\"sk-toggleable__label sk-toggleable__label-arrow\">SimpleImputer</label><div class=\"sk-toggleable__content\"><pre>SimpleImputer(fill_value=-1)</pre></div></div></div></div></div></div></div></div></div></div></div></div></div><div class=\"sk-item\"><div class=\"sk-estimator sk-toggleable\"><input class=\"sk-toggleable__control sk-hidden--visually\" id=\"sk-estimator-id-11\" type=\"checkbox\" ><label for=\"sk-estimator-id-11\" class=\"sk-toggleable__label sk-toggleable__label-arrow\">RandomForestClassifier</label><div class=\"sk-toggleable__content\"><pre>RandomForestClassifier()</pre></div></div></div></div></div></div></div>"
     },
     "execution_count": 26,
     "metadata": {},
     "output_type": "execute_result"
    }
   ],
   "source": [
    "pipeline.fit(d, d['isFraud'])"
   ],
   "metadata": {
    "collapsed": false,
    "pycharm": {
     "name": "#%%\n"
    }
   }
  },
  {
   "cell_type": "code",
   "execution_count": 27,
   "outputs": [
    {
     "data": {
      "text/plain": "                                        feature    weight       std\n0    generator__ffg__oldbalanceOrg_amount_ratio  0.311519  0.311484\n1                 preprocessor__imputer__amount  0.162009  0.169020\n2         preprocessor__imputer__oldbalanceDest  0.123631  0.182555\n3   generator__ffg__oldbalanceDest_amount_ratio  0.116195  0.185613\n4          preprocessor__imputer__oldbalanceOrg  0.079014  0.133722\n5                          generator__cat__type  0.064649  0.108893\n6   generator__ffg__newbalanceDest_amount_ratio  0.045492  0.097958\n7         preprocessor__imputer__newbalanceDest  0.044861  0.084029\n8   generator__ffg__newbalanceOrig_amount_ratio  0.021930  0.096987\n9            generator__ffg__dest_is_bigger_org  0.021797  0.064910\n10        preprocessor__imputer__newbalanceOrig  0.008903  0.033004",
      "text/html": "<div>\n<style scoped>\n    .dataframe tbody tr th:only-of-type {\n        vertical-align: middle;\n    }\n\n    .dataframe tbody tr th {\n        vertical-align: top;\n    }\n\n    .dataframe thead th {\n        text-align: right;\n    }\n</style>\n<table border=\"1\" class=\"dataframe\">\n  <thead>\n    <tr style=\"text-align: right;\">\n      <th></th>\n      <th>feature</th>\n      <th>weight</th>\n      <th>std</th>\n    </tr>\n  </thead>\n  <tbody>\n    <tr>\n      <th>0</th>\n      <td>generator__ffg__oldbalanceOrg_amount_ratio</td>\n      <td>0.311519</td>\n      <td>0.311484</td>\n    </tr>\n    <tr>\n      <th>1</th>\n      <td>preprocessor__imputer__amount</td>\n      <td>0.162009</td>\n      <td>0.169020</td>\n    </tr>\n    <tr>\n      <th>2</th>\n      <td>preprocessor__imputer__oldbalanceDest</td>\n      <td>0.123631</td>\n      <td>0.182555</td>\n    </tr>\n    <tr>\n      <th>3</th>\n      <td>generator__ffg__oldbalanceDest_amount_ratio</td>\n      <td>0.116195</td>\n      <td>0.185613</td>\n    </tr>\n    <tr>\n      <th>4</th>\n      <td>preprocessor__imputer__oldbalanceOrg</td>\n      <td>0.079014</td>\n      <td>0.133722</td>\n    </tr>\n    <tr>\n      <th>5</th>\n      <td>generator__cat__type</td>\n      <td>0.064649</td>\n      <td>0.108893</td>\n    </tr>\n    <tr>\n      <th>6</th>\n      <td>generator__ffg__newbalanceDest_amount_ratio</td>\n      <td>0.045492</td>\n      <td>0.097958</td>\n    </tr>\n    <tr>\n      <th>7</th>\n      <td>preprocessor__imputer__newbalanceDest</td>\n      <td>0.044861</td>\n      <td>0.084029</td>\n    </tr>\n    <tr>\n      <th>8</th>\n      <td>generator__ffg__newbalanceOrig_amount_ratio</td>\n      <td>0.021930</td>\n      <td>0.096987</td>\n    </tr>\n    <tr>\n      <th>9</th>\n      <td>generator__ffg__dest_is_bigger_org</td>\n      <td>0.021797</td>\n      <td>0.064910</td>\n    </tr>\n    <tr>\n      <th>10</th>\n      <td>preprocessor__imputer__newbalanceOrig</td>\n      <td>0.008903</td>\n      <td>0.033004</td>\n    </tr>\n  </tbody>\n</table>\n</div>"
     },
     "execution_count": 27,
     "metadata": {},
     "output_type": "execute_result"
    }
   ],
   "source": [
    "eli5.explain_weights_df(pipeline[-1], feature_names=pipeline[:-1].get_feature_names_out())"
   ],
   "metadata": {
    "collapsed": false,
    "pycharm": {
     "name": "#%%\n"
    }
   }
  },
  {
   "cell_type": "markdown",
   "metadata": {
    "pycharm": {
     "name": "#%% md\n"
    }
   },
   "source": [
    "#### Models"
   ]
  },
  {
   "cell_type": "code",
   "execution_count": 28,
   "metadata": {
    "pycharm": {
     "name": "#%%\n"
    }
   },
   "outputs": [],
   "source": [
    "dummy_mf = make_pipeline(\n",
    "    DummyClassifier(strategy='most_frequent'),\n",
    ")\n",
    "dummy_strf = make_pipeline(\n",
    "    DummyClassifier(strategy='stratified'),\n",
    ")"
   ]
  },
  {
   "cell_type": "code",
   "execution_count": 29,
   "metadata": {
    "pycharm": {
     "name": "#%%\n"
    }
   },
   "outputs": [],
   "source": [
    "\n",
    "lr = Pipeline([\n",
    "    ('general_proc', liner_data_pipeline),\n",
    "    ('regressor', LogisticRegression())\n",
    "])\n",
    "\n",
    "svm = Pipeline([\n",
    "    ('general_proc', liner_data_pipeline),\n",
    "    ('regressor', SVC())\n",
    "])\n",
    "\n",
    "mlp = Pipeline([\n",
    "    ('general_proc', liner_data_pipeline),\n",
    "    ('regressor', MLPClassifier())\n",
    "])"
   ]
  },
  {
   "cell_type": "code",
   "execution_count": 30,
   "metadata": {
    "pycharm": {
     "name": "#%%\n"
    }
   },
   "outputs": [],
   "source": [
    "\n",
    "\n",
    "ctb = Pipeline([\n",
    "    ('general_proc', tree_data_pipeline),\n",
    "    ('regressor', CatBoostClassifier())\n",
    "])\n",
    "xgb = Pipeline([\n",
    "    ('general_proc', tree_data_pipeline),\n",
    "    ('regressor', XGBClassifier())\n",
    "])\n",
    "lgbm = Pipeline([\n",
    "    ('general_proc', tree_data_pipeline),\n",
    "    ('regressor', LGBMClassifier())\n",
    "])\n",
    "rfc = Pipeline([\n",
    "    ('general_proc', tree_data_pipeline),\n",
    "    ('regressor', RandomForestClassifier())\n",
    "])"
   ]
  },
  {
   "cell_type": "code",
   "execution_count": 31,
   "metadata": {
    "pycharm": {
     "name": "#%%\n"
    }
   },
   "outputs": [],
   "source": [
    "pipelines = [\n",
    "    # (\"Dummy_mf\", dummy_mf),\n",
    "    # (\"Dummy_strf\", dummy_strf),\n",
    "    (\"LinReg\", lr),\n",
    "    # (\"XGB\", xgb),\n",
    "    (\"LGBM\", lgbm),\n",
    "    # (\"RFC\", rfc),\n",
    "    # (\"CatBoost\", ctb),\n",
    "]"
   ]
  },
  {
   "cell_type": "markdown",
   "metadata": {
    "pycharm": {
     "name": "#%% md\n"
    }
   },
   "source": [
    "#### Data split"
   ]
  },
  {
   "cell_type": "code",
   "execution_count": 32,
   "outputs": [],
   "source": [
    "from sklearn.model_selection import train_test_split\n",
    "\n",
    "X_train, X_test, y_train, y_test = train_test_split(data[features], data[target], test_size=0.2, stratify=data[target])"
   ],
   "metadata": {
    "collapsed": false,
    "pycharm": {
     "name": "#%%\n"
    }
   }
  },
  {
   "cell_type": "code",
   "execution_count": 33,
   "metadata": {
    "pycharm": {
     "name": "#%%\n"
    }
   },
   "outputs": [
    {
     "data": {
      "text/plain": "((400000, 7), (100000, 7))"
     },
     "execution_count": 33,
     "metadata": {},
     "output_type": "execute_result"
    }
   ],
   "source": [
    "X_train.shape, X_test.shape"
   ]
  },
  {
   "cell_type": "code",
   "execution_count": 34,
   "outputs": [
    {
     "data": {
      "text/plain": "0    399814\n1       186\nName: isFraud, dtype: int64"
     },
     "execution_count": 34,
     "metadata": {},
     "output_type": "execute_result"
    }
   ],
   "source": [
    "y_train.value_counts()"
   ],
   "metadata": {
    "collapsed": false,
    "pycharm": {
     "name": "#%%\n"
    }
   }
  },
  {
   "cell_type": "code",
   "execution_count": 35,
   "outputs": [
    {
     "data": {
      "text/plain": "0    99953\n1       47\nName: isFraud, dtype: int64"
     },
     "execution_count": 35,
     "metadata": {},
     "output_type": "execute_result"
    }
   ],
   "source": [
    "y_test.value_counts()"
   ],
   "metadata": {
    "collapsed": false,
    "pycharm": {
     "name": "#%%\n"
    }
   }
  },
  {
   "cell_type": "code",
   "execution_count": 36,
   "outputs": [
    {
     "data": {
      "text/plain": "Pipeline(steps=[('dummyclassifier', DummyClassifier(strategy='stratified'))])",
      "text/html": "<style>#sk-container-id-1 {color: black;background-color: white;}#sk-container-id-1 pre{padding: 0;}#sk-container-id-1 div.sk-toggleable {background-color: white;}#sk-container-id-1 label.sk-toggleable__label {cursor: pointer;display: block;width: 100%;margin-bottom: 0;padding: 0.3em;box-sizing: border-box;text-align: center;}#sk-container-id-1 label.sk-toggleable__label-arrow:before {content: \"▸\";float: left;margin-right: 0.25em;color: #696969;}#sk-container-id-1 label.sk-toggleable__label-arrow:hover:before {color: black;}#sk-container-id-1 div.sk-estimator:hover label.sk-toggleable__label-arrow:before {color: black;}#sk-container-id-1 div.sk-toggleable__content {max-height: 0;max-width: 0;overflow: hidden;text-align: left;background-color: #f0f8ff;}#sk-container-id-1 div.sk-toggleable__content pre {margin: 0.2em;color: black;border-radius: 0.25em;background-color: #f0f8ff;}#sk-container-id-1 input.sk-toggleable__control:checked~div.sk-toggleable__content {max-height: 200px;max-width: 100%;overflow: auto;}#sk-container-id-1 input.sk-toggleable__control:checked~label.sk-toggleable__label-arrow:before {content: \"▾\";}#sk-container-id-1 div.sk-estimator input.sk-toggleable__control:checked~label.sk-toggleable__label {background-color: #d4ebff;}#sk-container-id-1 div.sk-label input.sk-toggleable__control:checked~label.sk-toggleable__label {background-color: #d4ebff;}#sk-container-id-1 input.sk-hidden--visually {border: 0;clip: rect(1px 1px 1px 1px);clip: rect(1px, 1px, 1px, 1px);height: 1px;margin: -1px;overflow: hidden;padding: 0;position: absolute;width: 1px;}#sk-container-id-1 div.sk-estimator {font-family: monospace;background-color: #f0f8ff;border: 1px dotted black;border-radius: 0.25em;box-sizing: border-box;margin-bottom: 0.5em;}#sk-container-id-1 div.sk-estimator:hover {background-color: #d4ebff;}#sk-container-id-1 div.sk-parallel-item::after {content: \"\";width: 100%;border-bottom: 1px solid gray;flex-grow: 1;}#sk-container-id-1 div.sk-label:hover label.sk-toggleable__label {background-color: #d4ebff;}#sk-container-id-1 div.sk-serial::before {content: \"\";position: absolute;border-left: 1px solid gray;box-sizing: border-box;top: 0;bottom: 0;left: 50%;z-index: 0;}#sk-container-id-1 div.sk-serial {display: flex;flex-direction: column;align-items: center;background-color: white;padding-right: 0.2em;padding-left: 0.2em;position: relative;}#sk-container-id-1 div.sk-item {position: relative;z-index: 1;}#sk-container-id-1 div.sk-parallel {display: flex;align-items: stretch;justify-content: center;background-color: white;position: relative;}#sk-container-id-1 div.sk-item::before, #sk-container-id-1 div.sk-parallel-item::before {content: \"\";position: absolute;border-left: 1px solid gray;box-sizing: border-box;top: 0;bottom: 0;left: 50%;z-index: -1;}#sk-container-id-1 div.sk-parallel-item {display: flex;flex-direction: column;z-index: 1;position: relative;background-color: white;}#sk-container-id-1 div.sk-parallel-item:first-child::after {align-self: flex-end;width: 50%;}#sk-container-id-1 div.sk-parallel-item:last-child::after {align-self: flex-start;width: 50%;}#sk-container-id-1 div.sk-parallel-item:only-child::after {width: 0;}#sk-container-id-1 div.sk-dashed-wrapped {border: 1px dashed gray;margin: 0 0.4em 0.5em 0.4em;box-sizing: border-box;padding-bottom: 0.4em;background-color: white;}#sk-container-id-1 div.sk-label label {font-family: monospace;font-weight: bold;display: inline-block;line-height: 1.2em;}#sk-container-id-1 div.sk-label-container {text-align: center;}#sk-container-id-1 div.sk-container {/* jupyter's `normalize.less` sets `[hidden] { display: none; }` but bootstrap.min.css set `[hidden] { display: none !important; }` so we also need the `!important` here to be able to override the default hidden behavior on the sphinx rendered scikit-learn.org. See: https://github.com/scikit-learn/scikit-learn/issues/21755 */display: inline-block !important;position: relative;}#sk-container-id-1 div.sk-text-repr-fallback {display: none;}</style><div id=\"sk-container-id-1\" class=\"sk-top-container\"><div class=\"sk-text-repr-fallback\"><pre>Pipeline(steps=[(&#x27;dummyclassifier&#x27;, DummyClassifier(strategy=&#x27;stratified&#x27;))])</pre><b>In a Jupyter environment, please rerun this cell to show the HTML representation or trust the notebook. <br />On GitHub, the HTML representation is unable to render, please try loading this page with nbviewer.org.</b></div><div class=\"sk-container\" hidden><div class=\"sk-item sk-dashed-wrapped\"><div class=\"sk-label-container\"><div class=\"sk-label sk-toggleable\"><input class=\"sk-toggleable__control sk-hidden--visually\" id=\"sk-estimator-id-1\" type=\"checkbox\" ><label for=\"sk-estimator-id-1\" class=\"sk-toggleable__label sk-toggleable__label-arrow\">Pipeline</label><div class=\"sk-toggleable__content\"><pre>Pipeline(steps=[(&#x27;dummyclassifier&#x27;, DummyClassifier(strategy=&#x27;stratified&#x27;))])</pre></div></div></div><div class=\"sk-serial\"><div class=\"sk-item\"><div class=\"sk-estimator sk-toggleable\"><input class=\"sk-toggleable__control sk-hidden--visually\" id=\"sk-estimator-id-2\" type=\"checkbox\" ><label for=\"sk-estimator-id-2\" class=\"sk-toggleable__label sk-toggleable__label-arrow\">DummyClassifier</label><div class=\"sk-toggleable__content\"><pre>DummyClassifier(strategy=&#x27;stratified&#x27;)</pre></div></div></div></div></div></div></div>"
     },
     "execution_count": 36,
     "metadata": {},
     "output_type": "execute_result"
    }
   ],
   "source": [
    "dummy_mf.fit(X_train, y_train)\n",
    "dummy_strf.fit(X_train, y_train)"
   ],
   "metadata": {
    "collapsed": false,
    "pycharm": {
     "name": "#%%\n"
    }
   }
  },
  {
   "cell_type": "code",
   "execution_count": 42,
   "outputs": [],
   "source": [
    "model = mlp"
   ],
   "metadata": {
    "collapsed": false,
    "pycharm": {
     "name": "#%%\n"
    }
   }
  },
  {
   "cell_type": "code",
   "execution_count": null,
   "outputs": [],
   "source": [
    "model.fit(X_train, y_train)"
   ],
   "metadata": {
    "collapsed": false,
    "pycharm": {
     "name": "#%%\n",
     "is_executing": true
    }
   }
  },
  {
   "cell_type": "code",
   "execution_count": 40,
   "outputs": [
    {
     "name": "stderr",
     "output_type": "stream",
     "text": [
      "C:\\Users\\dzmit\\anaconda3\\envs\\eurostars\\lib\\site-packages\\pandas\\core\\internals\\blocks.py:352: RuntimeWarning: divide by zero encountered in log\n",
      "  result = func(self.values, **kwargs)\n"
     ]
    },
    {
     "name": "stdout",
     "output_type": "stream",
     "text": [
      "              precision    recall  f1-score   support\n",
      "\n",
      "           0       1.00      1.00      1.00     99953\n",
      "           1       0.92      0.51      0.66        47\n",
      "\n",
      "    accuracy                           1.00    100000\n",
      "   macro avg       0.96      0.76      0.83    100000\n",
      "weighted avg       1.00      1.00      1.00    100000\n",
      "\n",
      "Confusion matrix:\n",
      "[[99951     2]\n",
      " [   23    24]]\n"
     ]
    }
   ],
   "source": [
    "y_pred = model.predict(X_test)\n",
    "cm = confusion_matrix(y_test, y_pred)\n",
    "\n",
    "print(classification_report(y_test, y_pred))\n",
    "\n",
    "print(\"Confusion matrix:\")\n",
    "print(cm)\n",
    "\n"
   ],
   "metadata": {
    "collapsed": false,
    "pycharm": {
     "name": "#%%\n"
    }
   }
  },
  {
   "cell_type": "code",
   "execution_count": 41,
   "outputs": [
    {
     "name": "stderr",
     "output_type": "stream",
     "text": [
      "C:\\Users\\dzmit\\anaconda3\\envs\\eurostars\\lib\\site-packages\\pandas\\core\\internals\\blocks.py:352: RuntimeWarning: divide by zero encountered in log\n",
      "  result = func(self.values, **kwargs)\n"
     ]
    },
    {
     "name": "stdout",
     "output_type": "stream",
     "text": [
      "              precision    recall  f1-score   support\n",
      "\n",
      "           0       1.00      1.00      1.00    399814\n",
      "           1       0.93      0.43      0.59       186\n",
      "\n",
      "    accuracy                           1.00    400000\n",
      "   macro avg       0.96      0.72      0.79    400000\n",
      "weighted avg       1.00      1.00      1.00    400000\n",
      "\n",
      "Confusion matrix:\n",
      "[[399808      6]\n",
      " [   106     80]]\n"
     ]
    }
   ],
   "source": [
    "y_pred = model.predict(X_train)\n",
    "cm = confusion_matrix(y_train, y_pred)\n",
    "\n",
    "print(classification_report(y_train, y_pred))\n",
    "\n",
    "print(\"Confusion matrix:\")\n",
    "print(cm)"
   ],
   "metadata": {
    "collapsed": false,
    "pycharm": {
     "name": "#%%\n"
    }
   }
  },
  {
   "cell_type": "code",
   "execution_count": 55,
   "outputs": [],
   "source": [
    "weights = eli5.explain_weights_df(model[-1], feature_names=model[:-1].get_feature_names_out())"
   ],
   "metadata": {
    "collapsed": false,
    "pycharm": {
     "name": "#%%\n"
    }
   }
  },
  {
   "cell_type": "code",
   "execution_count": 56,
   "outputs": [],
   "source": [
    "weights"
   ],
   "metadata": {
    "collapsed": false,
    "pycharm": {
     "name": "#%%\n"
    }
   }
  },
  {
   "cell_type": "markdown",
   "source": [
    "#### Advanced (don't run)"
   ],
   "metadata": {
    "collapsed": false,
    "pycharm": {
     "name": "#%% md\n"
    }
   }
  },
  {
   "cell_type": "code",
   "execution_count": 57,
   "metadata": {
    "pycharm": {
     "name": "#%%\n"
    }
   },
   "outputs": [
    {
     "name": "stderr",
     "output_type": "stream",
     "text": [
      "C:\\Users\\dzmit\\anaconda3\\envs\\eurostars\\lib\\site-packages\\pandas\\core\\internals\\blocks.py:352: RuntimeWarning: divide by zero encountered in log\n",
      "  result = func(self.values, **kwargs)\n",
      "C:\\Users\\dzmit\\anaconda3\\envs\\eurostars\\lib\\site-packages\\sklearn\\linear_model\\_logistic.py:444: ConvergenceWarning: lbfgs failed to converge (status=1):\n",
      "STOP: TOTAL NO. of ITERATIONS REACHED LIMIT.\n",
      "\n",
      "Increase the number of iterations (max_iter) or scale the data as shown in:\n",
      "    https://scikit-learn.org/stable/modules/preprocessing.html\n",
      "Please also refer to the documentation for alternative solver options:\n",
      "    https://scikit-learn.org/stable/modules/linear_model.html#logistic-regression\n",
      "  n_iter_i = _check_optimize_result(\n",
      "C:\\Users\\dzmit\\anaconda3\\envs\\eurostars\\lib\\site-packages\\pandas\\core\\internals\\blocks.py:352: RuntimeWarning: divide by zero encountered in log\n",
      "  result = func(self.values, **kwargs)\n",
      "C:\\Users\\dzmit\\anaconda3\\envs\\eurostars\\lib\\site-packages\\pandas\\core\\internals\\blocks.py:352: RuntimeWarning: divide by zero encountered in log\n",
      "  result = func(self.values, **kwargs)\n"
     ]
    }
   ],
   "source": [
    "from notebooks.Dzim.data_mining.validation.training import estimate_multiple_models\n",
    "from notebooks.Dzim.data_mining.validation.training import estimate_model\n",
    "\n",
    "#### training\n",
    "model_names, model_pipelines = zip(*pipelines)\n",
    "metrics, weights = estimate_multiple_models(\n",
    "    model_pipelines,\n",
    "    lambda pipeline, _: estimate_model(\n",
    "        pipeline,\n",
    "        (X_train, X_test, y_train, y_test),\n",
    "    ),\n",
    "    model_names\n",
    ")"
   ]
  },
  {
   "cell_type": "code",
   "execution_count": 58,
   "metadata": {
    "pycharm": {
     "name": "#%%\n"
    }
   },
   "outputs": [
    {
     "data": {
      "text/plain": "set       train                                                    test  \\\nmetric f1_score cohen_kappa_score precision_score recall_score f1_score   \nmodel                                                                     \nLinReg    0.520             0.520           0.971        0.355    0.554   \nLGBM      0.003             0.002           0.002        0.005    0.000   \n\nset                                                    \nmetric cohen_kappa_score precision_score recall_score  \nmodel                                                  \nLinReg             0.554             1.0        0.383  \nLGBM              -0.001             0.0        0.000  ",
      "text/html": "<div>\n<style scoped>\n    .dataframe tbody tr th:only-of-type {\n        vertical-align: middle;\n    }\n\n    .dataframe tbody tr th {\n        vertical-align: top;\n    }\n\n    .dataframe thead tr th {\n        text-align: left;\n    }\n\n    .dataframe thead tr:last-of-type th {\n        text-align: right;\n    }\n</style>\n<table border=\"1\" class=\"dataframe\">\n  <thead>\n    <tr>\n      <th>set</th>\n      <th colspan=\"4\" halign=\"left\">train</th>\n      <th colspan=\"4\" halign=\"left\">test</th>\n    </tr>\n    <tr>\n      <th>metric</th>\n      <th>f1_score</th>\n      <th>cohen_kappa_score</th>\n      <th>precision_score</th>\n      <th>recall_score</th>\n      <th>f1_score</th>\n      <th>cohen_kappa_score</th>\n      <th>precision_score</th>\n      <th>recall_score</th>\n    </tr>\n    <tr>\n      <th>model</th>\n      <th></th>\n      <th></th>\n      <th></th>\n      <th></th>\n      <th></th>\n      <th></th>\n      <th></th>\n      <th></th>\n    </tr>\n  </thead>\n  <tbody>\n    <tr>\n      <th>LinReg</th>\n      <td>0.520</td>\n      <td>0.520</td>\n      <td>0.971</td>\n      <td>0.355</td>\n      <td>0.554</td>\n      <td>0.554</td>\n      <td>1.0</td>\n      <td>0.383</td>\n    </tr>\n    <tr>\n      <th>LGBM</th>\n      <td>0.003</td>\n      <td>0.002</td>\n      <td>0.002</td>\n      <td>0.005</td>\n      <td>0.000</td>\n      <td>-0.001</td>\n      <td>0.0</td>\n      <td>0.000</td>\n    </tr>\n  </tbody>\n</table>\n</div>"
     },
     "execution_count": 58,
     "metadata": {},
     "output_type": "execute_result"
    }
   ],
   "source": [
    "metrics"
   ]
  },
  {
   "cell_type": "code",
   "execution_count": 59,
   "metadata": {
    "pycharm": {
     "name": "#%%\n"
    }
   },
   "outputs": [
    {
     "name": "stdout",
     "output_type": "stream",
     "text": [
      "                                                        weight\n",
      "model  feature                                                \n",
      "LinReg generator__ffg__oldbalanceOrg_amount_ratio        5.341\n",
      "       generator__cat__type_TRANSFER                     3.749\n",
      "       generator__cat__type_CASH_OUT                     2.980\n",
      "       generator__ffg__oldbalanceOrg_is_bigger_mean      2.849\n",
      "       preprocessor__scl__oldbalanceOrg                  2.029\n",
      "       preprocessor__scl__oldbalanceDest                 0.543\n",
      "       generator__ffg__amount_is_bigger_mean             0.528\n",
      "       preprocessor__scl__amount                         0.276\n",
      "       generator__ffg__oldbalanceDest_is_bigger_median   0.267\n",
      "       preprocessor__log__oldbalanceOrg                  0.151\n",
      "       generator__ffg__amount_is_bigger_median           0.143\n",
      "       generator__ffg__newbalanceDest_is_zero            0.114\n",
      "       generator__ffg__newbalanceDest_amount_ratio       0.025\n",
      "       generator__ffg__newbalanceDest_is_bigger_mean     0.020\n",
      "       generator__ffg__newbalanceOrig_is_bigger_mean    -0.002\n",
      "       generator__ffg__oldbalanceDest_amount_ratio      -0.019\n",
      "       generator__ffg__newbalanceDest_is_bigger_median  -0.027\n",
      "       generator__cat__type_CASH_IN                     -0.066\n",
      "       generator__ffg__dest_is_bigger_org               -0.073\n",
      "       preprocessor__log__oldbalanceDest                -0.082\n",
      "       preprocessor__scl__newbalanceOrig                -0.145\n",
      "       preprocessor__log__newbalanceDest                -0.200\n",
      "       preprocessor__scl__newbalanceDest                -0.296\n",
      "       generator__ffg__oldbalanceDest_is_zero           -0.297\n",
      "       generator__ffg__oldbalanceOrg_is_bigger_median   -0.303\n",
      "       generator__ffg__newbalanceOrig_is_zero           -0.308\n",
      "       generator__ffg__newbalanceOrig_is_bigger_median  -0.308\n",
      "       generator__cat__type_DEBIT                       -0.341\n",
      "       generator__ffg__amount_is_zero                   -0.363\n",
      "       <BIAS>                                           -0.451\n",
      "       preprocessor__log__newbalanceOrig                -0.469\n",
      "       generator__ffg__oldbalanceDest_is_bigger_mean    -0.594\n",
      "       preprocessor__log__amount                        -0.712\n",
      "       generator__ffg__oldbalanceOrg_is_zero            -1.408\n",
      "       generator__ffg__newbalanceOrig_amount_ratio      -5.823\n",
      "       generator__cat__type_PAYMENT                     -6.685\n",
      "LGBM   generator__ffg__oldbalanceOrg_amount_ratio        0.254\n",
      "       preprocessor__imputer__oldbalanceOrg              0.184\n",
      "       generator__ffg__newbalanceDest_amount_ratio       0.176\n",
      "       generator__ffg__newbalanceOrig_amount_ratio       0.144\n",
      "       preprocessor__imputer__amount                     0.082\n",
      "       preprocessor__imputer__newbalanceDest             0.073\n",
      "       generator__ffg__oldbalanceDest_amount_ratio       0.050\n",
      "       preprocessor__imputer__oldbalanceDest             0.028\n",
      "       generator__cat__type                              0.005\n",
      "       preprocessor__imputer__newbalanceOrig             0.003\n",
      "       generator__ffg__dest_is_bigger_org                0.000\n"
     ]
    }
   ],
   "source": [
    "print(weights)"
   ]
  },
  {
   "cell_type": "code",
   "execution_count": null,
   "metadata": {
    "pycharm": {
     "name": "#%%\n"
    }
   },
   "outputs": [],
   "source": [
    "for name, _ in pipelines:\n",
    "    try:\n",
    "        print(\"#\" * 80)\n",
    "        print(name)\n",
    "        print(weights.loc[name])\n",
    "    except KeyError:\n",
    "        print('Not Supported')"
   ]
  }
 ],
 "metadata": {
  "kernelspec": {
   "display_name": "Python 3 (ipykernel)",
   "language": "python",
   "name": "python3"
  },
  "language_info": {
   "codemirror_mode": {
    "name": "ipython",
    "version": 3
   },
   "file_extension": ".py",
   "mimetype": "text/x-python",
   "name": "python",
   "nbconvert_exporter": "python",
   "pygments_lexer": "ipython3",
   "version": "3.10.9"
  },
  "vscode": {
   "interpreter": {
    "hash": "7f55550e77323d67b6ecc193cd2e5d66a57e017d7db72e2119e5097fca24649a"
   }
  }
 },
 "nbformat": 4,
 "nbformat_minor": 2
}