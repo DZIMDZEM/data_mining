{
 "cells": [
  {
   "cell_type": "code",
   "execution_count": 68,
   "metadata": {
    "pycharm": {
     "name": "#%%\n"
    }
   },
   "outputs": [],
   "source": [
    "import gzip\n",
    "import pickle\n",
    "import time\n",
    "from typing import List\n",
    "\n",
    "import eli5\n",
    "import numpy as np\n",
    "import pandas as pd\n",
    "from catboost import CatBoostClassifier\n",
    "from category_encoders import TargetEncoder\n",
    "from lightgbm import LGBMClassifier\n",
    "from matplotlib import pyplot as plt\n",
    "from sklearn.base import BaseEstimator, TransformerMixin\n",
    "from sklearn.compose import ColumnTransformer\n",
    "from sklearn.dummy import DummyClassifier\n",
    "from sklearn.ensemble import RandomForestClassifier\n",
    "from sklearn.impute import SimpleImputer\n",
    "from sklearn.linear_model import LogisticRegression\n",
    "from sklearn.metrics import roc_auc_score, plot_roc_curve, confusion_matrix, classification_report\n",
    "from sklearn.model_selection import GridSearchCV, train_test_split\n",
    "from sklearn.neural_network import MLPClassifier\n",
    "from sklearn.pipeline import Pipeline\n",
    "from sklearn.pipeline import make_pipeline\n",
    "from sklearn.preprocessing import StandardScaler, OneHotEncoder\n",
    "from sklearn.svm import SVC\n",
    "from xgboost import XGBClassifier"
   ]
  },
  {
   "cell_type": "code",
   "execution_count": 2,
   "metadata": {
    "pycharm": {
     "name": "#%%\n"
    }
   },
   "outputs": [],
   "source": [
    "plt.rcParams['figure.facecolor'] = 'white'"
   ]
  },
  {
   "cell_type": "code",
   "execution_count": 3,
   "metadata": {
    "pycharm": {
     "name": "#%%\n"
    }
   },
   "outputs": [],
   "source": [
    "%load_ext autoreload\n",
    "%autoreload 2"
   ]
  },
  {
   "cell_type": "markdown",
   "metadata": {
    "pycharm": {
     "name": "#%% md\n"
    }
   },
   "source": [
    "#### Custom Transformers"
   ]
  },
  {
   "cell_type": "code",
   "execution_count": 69,
   "metadata": {
    "pycharm": {
     "name": "#%%\n"
    }
   },
   "outputs": [],
   "source": [
    "class FraudFeatureGenerator(BaseEstimator, TransformerMixin):\n",
    "    \"\"\"\n",
    "    The transformer serves a local\n",
    "    (the features names are static)\n",
    "    purpose to generate features.\n",
    "\n",
    "    Still, it is possible to manually change\n",
    "    `numeric_features` attribute, but you\n",
    "    cannot change `amount` feature name\n",
    "    \"\"\"\n",
    "    def __init__(\n",
    "            self,\n",
    "            handle_nan: str = \"median\",\n",
    "            fill_value: float = 0.0,\n",
    "            ratio_upper_threshold: float = 100,\n",
    "            ratio_lower_threshold: float = 0,\n",
    "            algorithm: str = \"linear\",\n",
    "    ):\n",
    "        self.handle_nan = handle_nan\n",
    "        self.fill_value = fill_value\n",
    "        self.ratio_upper_threshold = ratio_upper_threshold\n",
    "        self.ratio_lower_threshold = ratio_lower_threshold\n",
    "        self.algorithm = algorithm\n",
    "\n",
    "        self.epsilon = 1e-4\n",
    "        self.numeric_features = [\n",
    "            'amount',\n",
    "            'oldbalanceOrg',\n",
    "            'newbalanceOrig',\n",
    "            'oldbalanceDest',\n",
    "            'newbalanceDest',\n",
    "        ]\n",
    "\n",
    "        self.medians = None\n",
    "        self.means = None\n",
    "        self.feature_names_out = None\n",
    "\n",
    "    def _compute_ratio_(self, X: pd.DataFrame, x_col: str, y_col: str) -> pd.Series:\n",
    "        ratios = X[x_col] / X[y_col]\n",
    "\n",
    "        # return pd.Series(np.where(ratios < self.ratio_threshold, self.ratio_threshold, ratios))\n",
    "        return ratios.apply(lambda x: np.where(x > self.ratio_upper_threshold, self.ratio_upper_threshold, x)).apply(\n",
    "            lambda x: np.where(x < self.ratio_lower_threshold, self.ratio_lower_threshold, x))\n",
    "\n",
    "    def fit(self, X, y=None) -> None:\n",
    "        self.means = {feat: X[feat].mean() for feat in self.numeric_features}\n",
    "        self.medians = {feat: X[feat].median() for feat in self.numeric_features}\n",
    "\n",
    "        return self\n",
    "\n",
    "    def transform(self, X: pd.DataFrame) -> pd.DataFrame:\n",
    "\n",
    "        new_df = pd.DataFrame()\n",
    "\n",
    "        for feat in self.numeric_features:\n",
    "            if feat != 'amount':\n",
    "                new_df[f'{feat}_amount_ratio'] = self._compute_ratio_(X, feat, 'amount')\n",
    "                if self.handle_nan == 'median':\n",
    "                    new_df[f'{feat}_amount_ratio'].fillna(new_df[f'{feat}_amount_ratio'].median(), inplace=True)\n",
    "                elif self.handle_nan == 'median':\n",
    "                    new_df[f'{feat}_amount_ratio'].fillna(new_df[f'{feat}_amount_ratio'].mean(), inplace=True)\n",
    "                else:\n",
    "                    new_df[f'{feat}_amount_ratio'].fillna(self.fill_value, inplace=True)\n",
    "\n",
    "            if self.algorithm == 'linear':\n",
    "                new_df[f'{feat}_is_zero'] = (X[feat] > self.epsilon).astype(int)\n",
    "                new_df[f'{feat}_is_bigger_mean'] = (X[feat] > self.means[feat]).astype(int)\n",
    "                new_df[f'{feat}_is_bigger_median'] = (X[feat] > self.medians[feat]).astype(int)\n",
    "\n",
    "        new_df['dest_is_bigger_org'] = (X['oldbalanceDest'] > X['oldbalanceOrg']).astype(int)\n",
    "\n",
    "        self.feature_names_out = new_df.columns.tolist()\n",
    "\n",
    "        return new_df\n",
    "\n",
    "    def get_feature_names_out(self, input_features=None):\n",
    "        return self.feature_names_out"
   ]
  },
  {
   "cell_type": "code",
   "execution_count": 70,
   "metadata": {
    "pycharm": {
     "name": "#%%\n"
    }
   },
   "outputs": [],
   "source": [
    "class LogTransformer(TransformerMixin, BaseEstimator):\n",
    "    \"\"\"\n",
    "    Provides log values of numeric features.\n",
    "    None (inf) values can be fit with const, median or mean.\n",
    "    \"\"\"\n",
    "    def __init__(self, handle_inf=\"median\", fill_value=0):\n",
    "        self.handle_inf = handle_inf\n",
    "        self.fill_value = fill_value\n",
    "        self.feature_names_out = None\n",
    "\n",
    "    def fit(self, X, y=None):\n",
    "\n",
    "        if self.handle_inf == \"median\":\n",
    "            logged_X = np.log(X)\n",
    "            self.fill_value = np.nanmedian(logged_X, axis=0)\n",
    "        elif self.handle_inf == \"mean\":\n",
    "            logged_X = np.log(X)\n",
    "            self.fill_value = np.nanmean(logged_X, axis=0)\n",
    "        elif self.handle_inf == \"const\":\n",
    "            pass\n",
    "\n",
    "        self.feature_names_out = [f\"{feat}_log\" for feat in X.columns]\n",
    "\n",
    "        return self\n",
    "\n",
    "    def transform(self, X):\n",
    "        logged_X = np.log(X)\n",
    "\n",
    "        return np.where(np.isinf(logged_X), np.expand_dims(self.fill_value, axis=0), logged_X)\n",
    "\n",
    "    def get_feature_names_out(self, input_features=None):\n",
    "        if input_features is not None:\n",
    "            return input_features\n",
    "\n",
    "        return self.feature_names_out\n"
   ]
  },
  {
   "cell_type": "code",
   "execution_count": 71,
   "metadata": {
    "pycharm": {
     "name": "#%%\n"
    }
   },
   "outputs": [],
   "source": [
    "class TargetEncoderFixed(TargetEncoder):\n",
    "    \"\"\"\n",
    "    At the moment of development, there was an\n",
    "    incompatibility problem in `category_encoders` module.\n",
    "\n",
    "    `get_feature_names_out` method in TargetEncoder took\n",
    "    only 1 argument (self) while sklearn estimators\n",
    "    also take 'feature_names_in=None'.\n",
    "\n",
    "    Simple, lazy and fast solution here :)\n",
    "\n",
    "    Update: The authors responded to our request and\n",
    "    promised to fix the issue in the nearset release.\n",
    "    \"\"\"\n",
    "    def get_feature_names_out(self, *arg, **kargs) -> List[str]:\n",
    "        return self.feature_names_out_"
   ]
  },
  {
   "cell_type": "markdown",
   "source": [
    "#### Loading data"
   ],
   "metadata": {
    "collapsed": false,
    "pycharm": {
     "name": "#%% md\n"
    }
   }
  },
  {
   "cell_type": "code",
   "execution_count": 8,
   "metadata": {
    "pycharm": {
     "name": "#%%\n"
    }
   },
   "outputs": [],
   "source": [
    "data = pd.read_csv(r'onlinefraud\\onlinefraud.csv')  #nrows=100000"
   ]
  },
  {
   "cell_type": "code",
   "execution_count": 9,
   "metadata": {
    "pycharm": {
     "name": "#%%\n"
    }
   },
   "outputs": [],
   "source": [
    "data_sample = data.head(1000)"
   ]
  },
  {
   "cell_type": "markdown",
   "metadata": {
    "pycharm": {
     "name": "#%% md\n"
    }
   },
   "source": [
    "#### Features"
   ]
  },
  {
   "cell_type": "code",
   "execution_count": 114,
   "metadata": {
    "pycharm": {
     "name": "#%%\n"
    }
   },
   "outputs": [],
   "source": [
    "features_to_exclude = [\n",
    "    'step',\n",
    "    'isFlaggedFraud',\n",
    "    'nameOrig',\n",
    "    'nameDest',\n",
    "]"
   ]
  },
  {
   "cell_type": "code",
   "execution_count": 115,
   "metadata": {
    "pycharm": {
     "name": "#%%\n"
    }
   },
   "outputs": [
    {
     "data": {
      "text/plain": "['step', 'isFlaggedFraud', 'nameOrig', 'nameDest']"
     },
     "execution_count": 115,
     "metadata": {},
     "output_type": "execute_result"
    }
   ],
   "source": [
    "features_to_exclude"
   ]
  },
  {
   "cell_type": "code",
   "execution_count": 116,
   "metadata": {
    "pycharm": {
     "name": "#%%\n"
    }
   },
   "outputs": [],
   "source": [
    "target_features = ['isFraud', 'isFlaggedFraud']\n",
    "\n",
    "target = \"isFraud\""
   ]
  },
  {
   "cell_type": "code",
   "execution_count": 117,
   "metadata": {
    "pycharm": {
     "name": "#%%\n"
    }
   },
   "outputs": [],
   "source": [
    "features = [col for col in data.columns if col not in target_features + features_to_exclude]"
   ]
  },
  {
   "cell_type": "code",
   "execution_count": 14,
   "metadata": {
    "pycharm": {
     "name": "#%%\n"
    }
   },
   "outputs": [],
   "source": [
    "numeric_features = [\n",
    "    \"amount\",\n",
    "    \"oldbalanceOrg\",\n",
    "    \"newbalanceOrig\",\n",
    "    \"oldbalanceDest\",\n",
    "    \"newbalanceDest\",\n",
    "]"
   ]
  },
  {
   "cell_type": "code",
   "execution_count": 15,
   "metadata": {
    "pycharm": {
     "name": "#%%\n"
    }
   },
   "outputs": [],
   "source": [
    "nominal_features = [\n",
    "    \"type\",\n",
    "]"
   ]
  },
  {
   "cell_type": "code",
   "execution_count": 16,
   "metadata": {
    "pycharm": {
     "name": "#%%\n"
    }
   },
   "outputs": [
    {
     "data": {
      "text/plain": "   step      type    amount  oldbalanceOrg  newbalanceOrig  oldbalanceDest  \\\n0     1   PAYMENT   9839.64       170136.0       160296.36             0.0   \n1     1   PAYMENT   1864.28        21249.0        19384.72             0.0   \n2     1  TRANSFER    181.00          181.0            0.00             0.0   \n3     1  CASH_OUT    181.00          181.0            0.00         21182.0   \n4     1   PAYMENT  11668.14        41554.0        29885.86             0.0   \n\n   newbalanceDest  \n0             0.0  \n1             0.0  \n2             0.0  \n3             0.0  \n4             0.0  ",
      "text/html": "<div>\n<style scoped>\n    .dataframe tbody tr th:only-of-type {\n        vertical-align: middle;\n    }\n\n    .dataframe tbody tr th {\n        vertical-align: top;\n    }\n\n    .dataframe thead th {\n        text-align: right;\n    }\n</style>\n<table border=\"1\" class=\"dataframe\">\n  <thead>\n    <tr style=\"text-align: right;\">\n      <th></th>\n      <th>step</th>\n      <th>type</th>\n      <th>amount</th>\n      <th>oldbalanceOrg</th>\n      <th>newbalanceOrig</th>\n      <th>oldbalanceDest</th>\n      <th>newbalanceDest</th>\n    </tr>\n  </thead>\n  <tbody>\n    <tr>\n      <th>0</th>\n      <td>1</td>\n      <td>PAYMENT</td>\n      <td>9839.64</td>\n      <td>170136.0</td>\n      <td>160296.36</td>\n      <td>0.0</td>\n      <td>0.0</td>\n    </tr>\n    <tr>\n      <th>1</th>\n      <td>1</td>\n      <td>PAYMENT</td>\n      <td>1864.28</td>\n      <td>21249.0</td>\n      <td>19384.72</td>\n      <td>0.0</td>\n      <td>0.0</td>\n    </tr>\n    <tr>\n      <th>2</th>\n      <td>1</td>\n      <td>TRANSFER</td>\n      <td>181.00</td>\n      <td>181.0</td>\n      <td>0.00</td>\n      <td>0.0</td>\n      <td>0.0</td>\n    </tr>\n    <tr>\n      <th>3</th>\n      <td>1</td>\n      <td>CASH_OUT</td>\n      <td>181.00</td>\n      <td>181.0</td>\n      <td>0.00</td>\n      <td>21182.0</td>\n      <td>0.0</td>\n    </tr>\n    <tr>\n      <th>4</th>\n      <td>1</td>\n      <td>PAYMENT</td>\n      <td>11668.14</td>\n      <td>41554.0</td>\n      <td>29885.86</td>\n      <td>0.0</td>\n      <td>0.0</td>\n    </tr>\n  </tbody>\n</table>\n</div>"
     },
     "execution_count": 16,
     "metadata": {},
     "output_type": "execute_result"
    }
   ],
   "source": [
    "data[features].head()"
   ]
  },
  {
   "cell_type": "code",
   "execution_count": 17,
   "metadata": {
    "pycharm": {
     "name": "#%%\n"
    }
   },
   "outputs": [
    {
     "data": {
      "text/plain": "   step      type    amount     nameOrig  oldbalanceOrg  newbalanceOrig  \\\n0     1   PAYMENT   9839.64  C1231006815       170136.0       160296.36   \n1     1   PAYMENT   1864.28  C1666544295        21249.0        19384.72   \n2     1  TRANSFER    181.00  C1305486145          181.0            0.00   \n3     1  CASH_OUT    181.00   C840083671          181.0            0.00   \n4     1   PAYMENT  11668.14  C2048537720        41554.0        29885.86   \n\n      nameDest  oldbalanceDest  newbalanceDest  isFraud  isFlaggedFraud  \n0  M1979787155             0.0             0.0        0               0  \n1  M2044282225             0.0             0.0        0               0  \n2   C553264065             0.0             0.0        1               0  \n3    C38997010         21182.0             0.0        1               0  \n4  M1230701703             0.0             0.0        0               0  ",
      "text/html": "<div>\n<style scoped>\n    .dataframe tbody tr th:only-of-type {\n        vertical-align: middle;\n    }\n\n    .dataframe tbody tr th {\n        vertical-align: top;\n    }\n\n    .dataframe thead th {\n        text-align: right;\n    }\n</style>\n<table border=\"1\" class=\"dataframe\">\n  <thead>\n    <tr style=\"text-align: right;\">\n      <th></th>\n      <th>step</th>\n      <th>type</th>\n      <th>amount</th>\n      <th>nameOrig</th>\n      <th>oldbalanceOrg</th>\n      <th>newbalanceOrig</th>\n      <th>nameDest</th>\n      <th>oldbalanceDest</th>\n      <th>newbalanceDest</th>\n      <th>isFraud</th>\n      <th>isFlaggedFraud</th>\n    </tr>\n  </thead>\n  <tbody>\n    <tr>\n      <th>0</th>\n      <td>1</td>\n      <td>PAYMENT</td>\n      <td>9839.64</td>\n      <td>C1231006815</td>\n      <td>170136.0</td>\n      <td>160296.36</td>\n      <td>M1979787155</td>\n      <td>0.0</td>\n      <td>0.0</td>\n      <td>0</td>\n      <td>0</td>\n    </tr>\n    <tr>\n      <th>1</th>\n      <td>1</td>\n      <td>PAYMENT</td>\n      <td>1864.28</td>\n      <td>C1666544295</td>\n      <td>21249.0</td>\n      <td>19384.72</td>\n      <td>M2044282225</td>\n      <td>0.0</td>\n      <td>0.0</td>\n      <td>0</td>\n      <td>0</td>\n    </tr>\n    <tr>\n      <th>2</th>\n      <td>1</td>\n      <td>TRANSFER</td>\n      <td>181.00</td>\n      <td>C1305486145</td>\n      <td>181.0</td>\n      <td>0.00</td>\n      <td>C553264065</td>\n      <td>0.0</td>\n      <td>0.0</td>\n      <td>1</td>\n      <td>0</td>\n    </tr>\n    <tr>\n      <th>3</th>\n      <td>1</td>\n      <td>CASH_OUT</td>\n      <td>181.00</td>\n      <td>C840083671</td>\n      <td>181.0</td>\n      <td>0.00</td>\n      <td>C38997010</td>\n      <td>21182.0</td>\n      <td>0.0</td>\n      <td>1</td>\n      <td>0</td>\n    </tr>\n    <tr>\n      <th>4</th>\n      <td>1</td>\n      <td>PAYMENT</td>\n      <td>11668.14</td>\n      <td>C2048537720</td>\n      <td>41554.0</td>\n      <td>29885.86</td>\n      <td>M1230701703</td>\n      <td>0.0</td>\n      <td>0.0</td>\n      <td>0</td>\n      <td>0</td>\n    </tr>\n  </tbody>\n</table>\n</div>"
     },
     "execution_count": 17,
     "metadata": {},
     "output_type": "execute_result"
    }
   ],
   "source": [
    "data.head()"
   ]
  },
  {
   "cell_type": "markdown",
   "metadata": {
    "pycharm": {
     "name": "#%% md\n"
    }
   },
   "source": [
    "#### Pipelines"
   ]
  },
  {
   "cell_type": "markdown",
   "source": [
    "##### linear pipeline"
   ],
   "metadata": {
    "collapsed": false,
    "pycharm": {
     "name": "#%% md\n"
    }
   }
  },
  {
   "cell_type": "code",
   "execution_count": 20,
   "metadata": {
    "pycharm": {
     "name": "#%%\n"
    }
   },
   "outputs": [],
   "source": [
    "linear_generator = ColumnTransformer(\n",
    "    transformers=[\n",
    "        ('ffg', FraudFeatureGenerator(), numeric_features),\n",
    "        ('cat', OneHotEncoder(handle_unknown=\"ignore\"), nominal_features),\n",
    "    ],\n",
    "    remainder='drop'\n",
    ")\n",
    "\n",
    "linear_preprocessor = ColumnTransformer(\n",
    "    transformers=[\n",
    "        ('log', LogTransformer(handle_inf='const', fill_value=0), numeric_features),\n",
    "        ('scl', StandardScaler(), numeric_features),\n",
    "    ],\n",
    "    remainder='drop'\n",
    ")\n",
    "\n",
    "linear_data_pipeline = ColumnTransformer(\n",
    "    transformers=[\n",
    "        ('generator', linear_generator, features),\n",
    "        ('preprocessor', linear_preprocessor, features),\n",
    "    ],\n",
    "    remainder='drop'\n",
    ")"
   ]
  },
  {
   "cell_type": "markdown",
   "source": [
    "##### tree pipeline"
   ],
   "metadata": {
    "collapsed": false,
    "pycharm": {
     "name": "#%% md\n"
    }
   }
  },
  {
   "cell_type": "code",
   "execution_count": 21,
   "metadata": {
    "pycharm": {
     "name": "#%%\n"
    }
   },
   "outputs": [],
   "source": [
    "tree_generator = ColumnTransformer(\n",
    "    transformers=[\n",
    "        ('ffg', FraudFeatureGenerator(algorithm='tree'), numeric_features),\n",
    "        ('cat', TargetEncoderFixed(handle_unknown=\"median\"), nominal_features),\n",
    "    ],\n",
    "    remainder='drop'\n",
    ")\n",
    "\n",
    "tree_preprocessor = ColumnTransformer(\n",
    "    transformers=[\n",
    "        ('imputer', SimpleImputer(fill_value=-1), numeric_features),\n",
    "    ],\n",
    "    remainder='drop'\n",
    ")\n",
    "\n",
    "tree_data_pipeline = ColumnTransformer(\n",
    "    transformers=[\n",
    "        ('generator', tree_generator, features),\n",
    "        ('preprocessor', tree_preprocessor, features),\n",
    "    ],\n",
    "    remainder='drop'\n",
    ")"
   ]
  },
  {
   "cell_type": "markdown",
   "metadata": {
    "pycharm": {
     "name": "#%% md\n"
    }
   },
   "source": [
    "##### test data pipeline"
   ]
  },
  {
   "cell_type": "code",
   "execution_count": 22,
   "outputs": [],
   "source": [
    "# Define the pipeline\n",
    "pipeline = Pipeline([\n",
    "    ('general_proc', linear_data_pipeline),\n",
    "    ('regressor', LogisticRegression())\n",
    "])"
   ],
   "metadata": {
    "collapsed": false,
    "pycharm": {
     "name": "#%%\n"
    }
   }
  },
  {
   "cell_type": "code",
   "execution_count": 23,
   "metadata": {
    "pycharm": {
     "name": "#%%\n"
    }
   },
   "outputs": [
    {
     "data": {
      "text/plain": "   step      type    amount  oldbalanceOrg  newbalanceOrig  oldbalanceDest  \\\n0     1   PAYMENT   9839.64       170136.0       160296.36             0.0   \n1     1   PAYMENT   1864.28        21249.0        19384.72             0.0   \n2     1  TRANSFER    181.00          181.0            0.00             0.0   \n3     1  CASH_OUT    181.00          181.0            0.00         21182.0   \n4     1   PAYMENT  11668.14        41554.0        29885.86             0.0   \n\n   newbalanceDest  \n0             0.0  \n1             0.0  \n2             0.0  \n3             0.0  \n4             0.0  ",
      "text/html": "<div>\n<style scoped>\n    .dataframe tbody tr th:only-of-type {\n        vertical-align: middle;\n    }\n\n    .dataframe tbody tr th {\n        vertical-align: top;\n    }\n\n    .dataframe thead th {\n        text-align: right;\n    }\n</style>\n<table border=\"1\" class=\"dataframe\">\n  <thead>\n    <tr style=\"text-align: right;\">\n      <th></th>\n      <th>step</th>\n      <th>type</th>\n      <th>amount</th>\n      <th>oldbalanceOrg</th>\n      <th>newbalanceOrig</th>\n      <th>oldbalanceDest</th>\n      <th>newbalanceDest</th>\n    </tr>\n  </thead>\n  <tbody>\n    <tr>\n      <th>0</th>\n      <td>1</td>\n      <td>PAYMENT</td>\n      <td>9839.64</td>\n      <td>170136.0</td>\n      <td>160296.36</td>\n      <td>0.0</td>\n      <td>0.0</td>\n    </tr>\n    <tr>\n      <th>1</th>\n      <td>1</td>\n      <td>PAYMENT</td>\n      <td>1864.28</td>\n      <td>21249.0</td>\n      <td>19384.72</td>\n      <td>0.0</td>\n      <td>0.0</td>\n    </tr>\n    <tr>\n      <th>2</th>\n      <td>1</td>\n      <td>TRANSFER</td>\n      <td>181.00</td>\n      <td>181.0</td>\n      <td>0.00</td>\n      <td>0.0</td>\n      <td>0.0</td>\n    </tr>\n    <tr>\n      <th>3</th>\n      <td>1</td>\n      <td>CASH_OUT</td>\n      <td>181.00</td>\n      <td>181.0</td>\n      <td>0.00</td>\n      <td>21182.0</td>\n      <td>0.0</td>\n    </tr>\n    <tr>\n      <th>4</th>\n      <td>1</td>\n      <td>PAYMENT</td>\n      <td>11668.14</td>\n      <td>41554.0</td>\n      <td>29885.86</td>\n      <td>0.0</td>\n      <td>0.0</td>\n    </tr>\n  </tbody>\n</table>\n</div>"
     },
     "execution_count": 23,
     "metadata": {},
     "output_type": "execute_result"
    }
   ],
   "source": [
    "data_sample[features].head()"
   ]
  },
  {
   "cell_type": "code",
   "execution_count": 24,
   "metadata": {
    "pycharm": {
     "name": "#%%\n"
    }
   },
   "outputs": [
    {
     "name": "stderr",
     "output_type": "stream",
     "text": [
      "C:\\Users\\dzmit\\anaconda3\\envs\\eurostars\\lib\\site-packages\\pandas\\core\\internals\\blocks.py:352: RuntimeWarning: divide by zero encountered in log\n",
      "  result = func(self.values, **kwargs)\n"
     ]
    },
    {
     "data": {
      "text/plain": "array([[ 1.        ,  0.        ,  0.        , ..., -0.34075964,\n        -0.32324305, -0.35652105],\n       [ 1.        ,  0.        ,  0.        , ..., -0.40701718,\n        -0.32324305, -0.35652105],\n       [ 1.        ,  0.        ,  0.        , ..., -0.41613199,\n        -0.32324305, -0.35652105],\n       ...,\n       [ 1.        ,  0.        ,  0.        , ..., -0.40901883,\n        -0.32324305, -0.35652105],\n       [ 1.        ,  0.        ,  0.        , ..., -0.3945687 ,\n        -0.32324305, -0.35652105],\n       [ 1.        ,  0.        ,  0.        , ..., -0.41613199,\n        -0.32324305, -0.35652105]])"
     },
     "execution_count": 24,
     "metadata": {},
     "output_type": "execute_result"
    }
   ],
   "source": [
    "linear_data_pipeline.fit_transform(data_sample, data_sample['isFraud'])"
   ]
  },
  {
   "cell_type": "code",
   "execution_count": 28,
   "metadata": {
    "pycharm": {
     "name": "#%%\n"
    }
   },
   "outputs": [
    {
     "name": "stderr",
     "output_type": "stream",
     "text": [
      "C:\\Users\\dzmit\\anaconda3\\envs\\eurostars\\lib\\site-packages\\pandas\\core\\internals\\blocks.py:352: RuntimeWarning: divide by zero encountered in log\n",
      "  result = func(self.values, **kwargs)\n"
     ]
    }
   ],
   "source": [
    "d_processed = pd.DataFrame(linear_data_pipeline.fit_transform(data_sample, data_sample['isFraud']))\n",
    "d_processed.columns = linear_data_pipeline.get_feature_names_out()"
   ]
  },
  {
   "cell_type": "code",
   "execution_count": 29,
   "metadata": {
    "pycharm": {
     "name": "#%%\n"
    }
   },
   "outputs": [
    {
     "data": {
      "text/plain": "     generator__ffg__amount_is_zero  generator__ffg__amount_is_bigger_mean  \\\n0                               1.0                                    0.0   \n1                               1.0                                    0.0   \n2                               1.0                                    0.0   \n3                               1.0                                    0.0   \n4                               1.0                                    0.0   \n..                              ...                                    ...   \n995                             1.0                                    0.0   \n996                             1.0                                    0.0   \n997                             1.0                                    0.0   \n998                             1.0                                    0.0   \n999                             1.0                                    0.0   \n\n     generator__ffg__amount_is_bigger_median  \\\n0                                        0.0   \n1                                        0.0   \n2                                        0.0   \n3                                        0.0   \n4                                        0.0   \n..                                       ...   \n995                                      0.0   \n996                                      0.0   \n997                                      0.0   \n998                                      0.0   \n999                                      0.0   \n\n     generator__ffg__oldbalanceOrg_amount_ratio  \\\n0                                     17.290876   \n1                                     11.397966   \n2                                      1.000000   \n3                                      1.000000   \n4                                      3.561322   \n..                                          ...   \n995                                    6.307042   \n996                                   29.751462   \n997                                    5.454251   \n998                                    7.763119   \n999                                    0.235934   \n\n     generator__ffg__oldbalanceOrg_is_zero  \\\n0                                      1.0   \n1                                      1.0   \n2                                      1.0   \n3                                      1.0   \n4                                      1.0   \n..                                     ...   \n995                                    1.0   \n996                                    1.0   \n997                                    1.0   \n998                                    1.0   \n999                                    1.0   \n\n     generator__ffg__oldbalanceOrg_is_bigger_mean  \\\n0                                             0.0   \n1                                             0.0   \n2                                             0.0   \n3                                             0.0   \n4                                             0.0   \n..                                            ...   \n995                                           0.0   \n996                                           0.0   \n997                                           0.0   \n998                                           0.0   \n999                                           0.0   \n\n     generator__ffg__oldbalanceOrg_is_bigger_median  \\\n0                                               1.0   \n1                                               1.0   \n2                                               0.0   \n3                                               0.0   \n4                                               1.0   \n..                                              ...   \n995                                             0.0   \n996                                             1.0   \n997                                             1.0   \n998                                             1.0   \n999                                             0.0   \n\n     generator__ffg__newbalanceOrig_amount_ratio  \\\n0                                      16.290876   \n1                                      10.397966   \n2                                       0.000000   \n3                                       0.000000   \n4                                       2.561322   \n..                                           ...   \n995                                     5.307042   \n996                                    28.751462   \n997                                     4.454251   \n998                                     6.763119   \n999                                     0.000000   \n\n     generator__ffg__newbalanceOrig_is_zero  \\\n0                                       1.0   \n1                                       1.0   \n2                                       0.0   \n3                                       0.0   \n4                                       1.0   \n..                                      ...   \n995                                     1.0   \n996                                     1.0   \n997                                     1.0   \n998                                     1.0   \n999                                     0.0   \n\n     generator__ffg__newbalanceOrig_is_bigger_mean  ...  \\\n0                                              0.0  ...   \n1                                              0.0  ...   \n2                                              0.0  ...   \n3                                              0.0  ...   \n4                                              0.0  ...   \n..                                             ...  ...   \n995                                            0.0  ...   \n996                                            0.0  ...   \n997                                            0.0  ...   \n998                                            0.0  ...   \n999                                            0.0  ...   \n\n     preprocessor__log__amount  preprocessor__log__oldbalanceOrg  \\\n0                     9.194174                         12.044353   \n1                     7.530630                          9.964065   \n2                     5.198497                          5.198497   \n3                     5.198497                          5.198497   \n4                     9.364617                         10.634749   \n..                         ...                               ...   \n995                   7.681219                          9.522886   \n996                   9.183889                         12.576767   \n997                   8.130427                          9.826822   \n998                   8.821847                         10.871232   \n999                   7.733920                          6.289716   \n\n     preprocessor__log__newbalanceOrig  preprocessor__log__oldbalanceDest  \\\n0                            11.984780                           0.000000   \n1                             9.872240                           0.000000   \n2                             0.000000                           0.000000   \n3                             0.000000                           9.960907   \n4                            10.305141                           0.000000   \n..                                 ...                                ...   \n995                           9.350254                           0.000000   \n996                          12.542577                           0.000000   \n997                           9.624286                           0.000000   \n998                          10.733332                           0.000000   \n999                           0.000000                           0.000000   \n\n     preprocessor__log__newbalanceDest  preprocessor__scl__amount  \\\n0                                  0.0                  -0.436309   \n1                                  0.0                  -0.468422   \n2                                  0.0                  -0.475200   \n3                                  0.0                  -0.475200   \n4                                  0.0                  -0.428947   \n..                                 ...                        ...   \n995                                0.0                  -0.467202   \n996                                0.0                  -0.436715   \n997                                0.0                  -0.462254   \n998                                0.0                  -0.448626   \n999                                0.0                  -0.466730   \n\n     preprocessor__scl__oldbalanceOrg  preprocessor__scl__newbalanceOrig  \\\n0                           -0.334361                          -0.340760   \n1                           -0.406045                          -0.407017   \n2                           -0.416188                          -0.416132   \n3                           -0.416188                          -0.416132   \n4                           -0.396269                          -0.402079   \n..                                ...                                ...   \n995                         -0.409694                          -0.410724   \n996                         -0.276772                          -0.284470   \n997                         -0.407357                          -0.409019   \n998                         -0.390931                          -0.394569   \n999                         -0.416016                          -0.416132   \n\n     preprocessor__scl__oldbalanceDest  preprocessor__scl__newbalanceDest  \n0                            -0.323243                          -0.356521  \n1                            -0.323243                          -0.356521  \n2                            -0.323243                          -0.356521  \n3                            -0.312958                          -0.356521  \n4                            -0.323243                          -0.356521  \n..                                 ...                                ...  \n995                          -0.323243                          -0.356521  \n996                          -0.323243                          -0.356521  \n997                          -0.323243                          -0.356521  \n998                          -0.323243                          -0.356521  \n999                          -0.323243                          -0.356521  \n\n[1000 rows x 35 columns]",
      "text/html": "<div>\n<style scoped>\n    .dataframe tbody tr th:only-of-type {\n        vertical-align: middle;\n    }\n\n    .dataframe tbody tr th {\n        vertical-align: top;\n    }\n\n    .dataframe thead th {\n        text-align: right;\n    }\n</style>\n<table border=\"1\" class=\"dataframe\">\n  <thead>\n    <tr style=\"text-align: right;\">\n      <th></th>\n      <th>generator__ffg__amount_is_zero</th>\n      <th>generator__ffg__amount_is_bigger_mean</th>\n      <th>generator__ffg__amount_is_bigger_median</th>\n      <th>generator__ffg__oldbalanceOrg_amount_ratio</th>\n      <th>generator__ffg__oldbalanceOrg_is_zero</th>\n      <th>generator__ffg__oldbalanceOrg_is_bigger_mean</th>\n      <th>generator__ffg__oldbalanceOrg_is_bigger_median</th>\n      <th>generator__ffg__newbalanceOrig_amount_ratio</th>\n      <th>generator__ffg__newbalanceOrig_is_zero</th>\n      <th>generator__ffg__newbalanceOrig_is_bigger_mean</th>\n      <th>...</th>\n      <th>preprocessor__log__amount</th>\n      <th>preprocessor__log__oldbalanceOrg</th>\n      <th>preprocessor__log__newbalanceOrig</th>\n      <th>preprocessor__log__oldbalanceDest</th>\n      <th>preprocessor__log__newbalanceDest</th>\n      <th>preprocessor__scl__amount</th>\n      <th>preprocessor__scl__oldbalanceOrg</th>\n      <th>preprocessor__scl__newbalanceOrig</th>\n      <th>preprocessor__scl__oldbalanceDest</th>\n      <th>preprocessor__scl__newbalanceDest</th>\n    </tr>\n  </thead>\n  <tbody>\n    <tr>\n      <th>0</th>\n      <td>1.0</td>\n      <td>0.0</td>\n      <td>0.0</td>\n      <td>17.290876</td>\n      <td>1.0</td>\n      <td>0.0</td>\n      <td>1.0</td>\n      <td>16.290876</td>\n      <td>1.0</td>\n      <td>0.0</td>\n      <td>...</td>\n      <td>9.194174</td>\n      <td>12.044353</td>\n      <td>11.984780</td>\n      <td>0.000000</td>\n      <td>0.0</td>\n      <td>-0.436309</td>\n      <td>-0.334361</td>\n      <td>-0.340760</td>\n      <td>-0.323243</td>\n      <td>-0.356521</td>\n    </tr>\n    <tr>\n      <th>1</th>\n      <td>1.0</td>\n      <td>0.0</td>\n      <td>0.0</td>\n      <td>11.397966</td>\n      <td>1.0</td>\n      <td>0.0</td>\n      <td>1.0</td>\n      <td>10.397966</td>\n      <td>1.0</td>\n      <td>0.0</td>\n      <td>...</td>\n      <td>7.530630</td>\n      <td>9.964065</td>\n      <td>9.872240</td>\n      <td>0.000000</td>\n      <td>0.0</td>\n      <td>-0.468422</td>\n      <td>-0.406045</td>\n      <td>-0.407017</td>\n      <td>-0.323243</td>\n      <td>-0.356521</td>\n    </tr>\n    <tr>\n      <th>2</th>\n      <td>1.0</td>\n      <td>0.0</td>\n      <td>0.0</td>\n      <td>1.000000</td>\n      <td>1.0</td>\n      <td>0.0</td>\n      <td>0.0</td>\n      <td>0.000000</td>\n      <td>0.0</td>\n      <td>0.0</td>\n      <td>...</td>\n      <td>5.198497</td>\n      <td>5.198497</td>\n      <td>0.000000</td>\n      <td>0.000000</td>\n      <td>0.0</td>\n      <td>-0.475200</td>\n      <td>-0.416188</td>\n      <td>-0.416132</td>\n      <td>-0.323243</td>\n      <td>-0.356521</td>\n    </tr>\n    <tr>\n      <th>3</th>\n      <td>1.0</td>\n      <td>0.0</td>\n      <td>0.0</td>\n      <td>1.000000</td>\n      <td>1.0</td>\n      <td>0.0</td>\n      <td>0.0</td>\n      <td>0.000000</td>\n      <td>0.0</td>\n      <td>0.0</td>\n      <td>...</td>\n      <td>5.198497</td>\n      <td>5.198497</td>\n      <td>0.000000</td>\n      <td>9.960907</td>\n      <td>0.0</td>\n      <td>-0.475200</td>\n      <td>-0.416188</td>\n      <td>-0.416132</td>\n      <td>-0.312958</td>\n      <td>-0.356521</td>\n    </tr>\n    <tr>\n      <th>4</th>\n      <td>1.0</td>\n      <td>0.0</td>\n      <td>0.0</td>\n      <td>3.561322</td>\n      <td>1.0</td>\n      <td>0.0</td>\n      <td>1.0</td>\n      <td>2.561322</td>\n      <td>1.0</td>\n      <td>0.0</td>\n      <td>...</td>\n      <td>9.364617</td>\n      <td>10.634749</td>\n      <td>10.305141</td>\n      <td>0.000000</td>\n      <td>0.0</td>\n      <td>-0.428947</td>\n      <td>-0.396269</td>\n      <td>-0.402079</td>\n      <td>-0.323243</td>\n      <td>-0.356521</td>\n    </tr>\n    <tr>\n      <th>...</th>\n      <td>...</td>\n      <td>...</td>\n      <td>...</td>\n      <td>...</td>\n      <td>...</td>\n      <td>...</td>\n      <td>...</td>\n      <td>...</td>\n      <td>...</td>\n      <td>...</td>\n      <td>...</td>\n      <td>...</td>\n      <td>...</td>\n      <td>...</td>\n      <td>...</td>\n      <td>...</td>\n      <td>...</td>\n      <td>...</td>\n      <td>...</td>\n      <td>...</td>\n      <td>...</td>\n    </tr>\n    <tr>\n      <th>995</th>\n      <td>1.0</td>\n      <td>0.0</td>\n      <td>0.0</td>\n      <td>6.307042</td>\n      <td>1.0</td>\n      <td>0.0</td>\n      <td>0.0</td>\n      <td>5.307042</td>\n      <td>1.0</td>\n      <td>0.0</td>\n      <td>...</td>\n      <td>7.681219</td>\n      <td>9.522886</td>\n      <td>9.350254</td>\n      <td>0.000000</td>\n      <td>0.0</td>\n      <td>-0.467202</td>\n      <td>-0.409694</td>\n      <td>-0.410724</td>\n      <td>-0.323243</td>\n      <td>-0.356521</td>\n    </tr>\n    <tr>\n      <th>996</th>\n      <td>1.0</td>\n      <td>0.0</td>\n      <td>0.0</td>\n      <td>29.751462</td>\n      <td>1.0</td>\n      <td>0.0</td>\n      <td>1.0</td>\n      <td>28.751462</td>\n      <td>1.0</td>\n      <td>0.0</td>\n      <td>...</td>\n      <td>9.183889</td>\n      <td>12.576767</td>\n      <td>12.542577</td>\n      <td>0.000000</td>\n      <td>0.0</td>\n      <td>-0.436715</td>\n      <td>-0.276772</td>\n      <td>-0.284470</td>\n      <td>-0.323243</td>\n      <td>-0.356521</td>\n    </tr>\n    <tr>\n      <th>997</th>\n      <td>1.0</td>\n      <td>0.0</td>\n      <td>0.0</td>\n      <td>5.454251</td>\n      <td>1.0</td>\n      <td>0.0</td>\n      <td>1.0</td>\n      <td>4.454251</td>\n      <td>1.0</td>\n      <td>0.0</td>\n      <td>...</td>\n      <td>8.130427</td>\n      <td>9.826822</td>\n      <td>9.624286</td>\n      <td>0.000000</td>\n      <td>0.0</td>\n      <td>-0.462254</td>\n      <td>-0.407357</td>\n      <td>-0.409019</td>\n      <td>-0.323243</td>\n      <td>-0.356521</td>\n    </tr>\n    <tr>\n      <th>998</th>\n      <td>1.0</td>\n      <td>0.0</td>\n      <td>0.0</td>\n      <td>7.763119</td>\n      <td>1.0</td>\n      <td>0.0</td>\n      <td>1.0</td>\n      <td>6.763119</td>\n      <td>1.0</td>\n      <td>0.0</td>\n      <td>...</td>\n      <td>8.821847</td>\n      <td>10.871232</td>\n      <td>10.733332</td>\n      <td>0.000000</td>\n      <td>0.0</td>\n      <td>-0.448626</td>\n      <td>-0.390931</td>\n      <td>-0.394569</td>\n      <td>-0.323243</td>\n      <td>-0.356521</td>\n    </tr>\n    <tr>\n      <th>999</th>\n      <td>1.0</td>\n      <td>0.0</td>\n      <td>0.0</td>\n      <td>0.235934</td>\n      <td>1.0</td>\n      <td>0.0</td>\n      <td>0.0</td>\n      <td>0.000000</td>\n      <td>0.0</td>\n      <td>0.0</td>\n      <td>...</td>\n      <td>7.733920</td>\n      <td>6.289716</td>\n      <td>0.000000</td>\n      <td>0.000000</td>\n      <td>0.0</td>\n      <td>-0.466730</td>\n      <td>-0.416016</td>\n      <td>-0.416132</td>\n      <td>-0.323243</td>\n      <td>-0.356521</td>\n    </tr>\n  </tbody>\n</table>\n<p>1000 rows × 35 columns</p>\n</div>"
     },
     "execution_count": 29,
     "metadata": {},
     "output_type": "execute_result"
    }
   ],
   "source": [
    "d_processed"
   ]
  },
  {
   "cell_type": "code",
   "execution_count": 30,
   "metadata": {
    "pycharm": {
     "name": "#%%\n"
    }
   },
   "outputs": [
    {
     "data": {
      "text/plain": "array(['generator__ffg__amount_is_zero',\n       'generator__ffg__amount_is_bigger_mean',\n       'generator__ffg__amount_is_bigger_median',\n       'generator__ffg__oldbalanceOrg_amount_ratio',\n       'generator__ffg__oldbalanceOrg_is_zero',\n       'generator__ffg__oldbalanceOrg_is_bigger_mean',\n       'generator__ffg__oldbalanceOrg_is_bigger_median',\n       'generator__ffg__newbalanceOrig_amount_ratio',\n       'generator__ffg__newbalanceOrig_is_zero',\n       'generator__ffg__newbalanceOrig_is_bigger_mean',\n       'generator__ffg__newbalanceOrig_is_bigger_median',\n       'generator__ffg__oldbalanceDest_amount_ratio',\n       'generator__ffg__oldbalanceDest_is_zero',\n       'generator__ffg__oldbalanceDest_is_bigger_mean',\n       'generator__ffg__oldbalanceDest_is_bigger_median',\n       'generator__ffg__newbalanceDest_amount_ratio',\n       'generator__ffg__newbalanceDest_is_zero',\n       'generator__ffg__newbalanceDest_is_bigger_mean',\n       'generator__ffg__newbalanceDest_is_bigger_median',\n       'generator__ffg__dest_is_bigger_org',\n       'generator__cat__type_CASH_IN', 'generator__cat__type_CASH_OUT',\n       'generator__cat__type_DEBIT', 'generator__cat__type_PAYMENT',\n       'generator__cat__type_TRANSFER', 'preprocessor__log__amount',\n       'preprocessor__log__oldbalanceOrg',\n       'preprocessor__log__newbalanceOrig',\n       'preprocessor__log__oldbalanceDest',\n       'preprocessor__log__newbalanceDest', 'preprocessor__scl__amount',\n       'preprocessor__scl__oldbalanceOrg',\n       'preprocessor__scl__newbalanceOrig',\n       'preprocessor__scl__oldbalanceDest',\n       'preprocessor__scl__newbalanceDest'], dtype=object)"
     },
     "execution_count": 30,
     "metadata": {},
     "output_type": "execute_result"
    }
   ],
   "source": [
    "linear_data_pipeline.get_feature_names_out()"
   ]
  },
  {
   "cell_type": "markdown",
   "source": [
    "##### test pipeline with estimator"
   ],
   "metadata": {
    "collapsed": false,
    "pycharm": {
     "name": "#%% md\n"
    }
   }
  },
  {
   "cell_type": "code",
   "execution_count": 31,
   "metadata": {
    "pycharm": {
     "name": "#%%\n"
    }
   },
   "outputs": [
    {
     "name": "stderr",
     "output_type": "stream",
     "text": [
      "C:\\Users\\dzmit\\anaconda3\\envs\\eurostars\\lib\\site-packages\\pandas\\core\\internals\\blocks.py:352: RuntimeWarning: divide by zero encountered in log\n",
      "  result = func(self.values, **kwargs)\n",
      "C:\\Users\\dzmit\\anaconda3\\envs\\eurostars\\lib\\site-packages\\sklearn\\linear_model\\_logistic.py:444: ConvergenceWarning: lbfgs failed to converge (status=1):\n",
      "STOP: TOTAL NO. of ITERATIONS REACHED LIMIT.\n",
      "\n",
      "Increase the number of iterations (max_iter) or scale the data as shown in:\n",
      "    https://scikit-learn.org/stable/modules/preprocessing.html\n",
      "Please also refer to the documentation for alternative solver options:\n",
      "    https://scikit-learn.org/stable/modules/linear_model.html#logistic-regression\n",
      "  n_iter_i = _check_optimize_result(\n"
     ]
    },
    {
     "data": {
      "text/plain": "Pipeline(steps=[('general_proc',\n                 ColumnTransformer(transformers=[('generator',\n                                                  ColumnTransformer(transformers=[('ffg',\n                                                                                   FraudFeatureGenerator(),\n                                                                                   ['amount',\n                                                                                    'oldbalanceOrg',\n                                                                                    'newbalanceOrig',\n                                                                                    'oldbalanceDest',\n                                                                                    'newbalanceDest']),\n                                                                                  ('cat',\n                                                                                   OneHotEncoder(handle_unknown='ignore'),\n                                                                                   ['type'])]),\n                                                  ['step', 'type', 'amount',\n                                                   'oldbalanceOrg',\n                                                   'newbalanceOrig',\n                                                   'oldbalanceDest'...\n                                                                                   LogTransformer(handle_inf='const'),\n                                                                                   ['amount',\n                                                                                    'oldbalanceOrg',\n                                                                                    'newbalanceOrig',\n                                                                                    'oldbalanceDest',\n                                                                                    'newbalanceDest']),\n                                                                                  ('scl',\n                                                                                   StandardScaler(),\n                                                                                   ['amount',\n                                                                                    'oldbalanceOrg',\n                                                                                    'newbalanceOrig',\n                                                                                    'oldbalanceDest',\n                                                                                    'newbalanceDest'])]),\n                                                  ['step', 'type', 'amount',\n                                                   'oldbalanceOrg',\n                                                   'newbalanceOrig',\n                                                   'oldbalanceDest',\n                                                   'newbalanceDest'])])),\n                ('regressor', LogisticRegression())])",
      "text/html": "<style>#sk-container-id-1 {color: black;background-color: white;}#sk-container-id-1 pre{padding: 0;}#sk-container-id-1 div.sk-toggleable {background-color: white;}#sk-container-id-1 label.sk-toggleable__label {cursor: pointer;display: block;width: 100%;margin-bottom: 0;padding: 0.3em;box-sizing: border-box;text-align: center;}#sk-container-id-1 label.sk-toggleable__label-arrow:before {content: \"▸\";float: left;margin-right: 0.25em;color: #696969;}#sk-container-id-1 label.sk-toggleable__label-arrow:hover:before {color: black;}#sk-container-id-1 div.sk-estimator:hover label.sk-toggleable__label-arrow:before {color: black;}#sk-container-id-1 div.sk-toggleable__content {max-height: 0;max-width: 0;overflow: hidden;text-align: left;background-color: #f0f8ff;}#sk-container-id-1 div.sk-toggleable__content pre {margin: 0.2em;color: black;border-radius: 0.25em;background-color: #f0f8ff;}#sk-container-id-1 input.sk-toggleable__control:checked~div.sk-toggleable__content {max-height: 200px;max-width: 100%;overflow: auto;}#sk-container-id-1 input.sk-toggleable__control:checked~label.sk-toggleable__label-arrow:before {content: \"▾\";}#sk-container-id-1 div.sk-estimator input.sk-toggleable__control:checked~label.sk-toggleable__label {background-color: #d4ebff;}#sk-container-id-1 div.sk-label input.sk-toggleable__control:checked~label.sk-toggleable__label {background-color: #d4ebff;}#sk-container-id-1 input.sk-hidden--visually {border: 0;clip: rect(1px 1px 1px 1px);clip: rect(1px, 1px, 1px, 1px);height: 1px;margin: -1px;overflow: hidden;padding: 0;position: absolute;width: 1px;}#sk-container-id-1 div.sk-estimator {font-family: monospace;background-color: #f0f8ff;border: 1px dotted black;border-radius: 0.25em;box-sizing: border-box;margin-bottom: 0.5em;}#sk-container-id-1 div.sk-estimator:hover {background-color: #d4ebff;}#sk-container-id-1 div.sk-parallel-item::after {content: \"\";width: 100%;border-bottom: 1px solid gray;flex-grow: 1;}#sk-container-id-1 div.sk-label:hover label.sk-toggleable__label {background-color: #d4ebff;}#sk-container-id-1 div.sk-serial::before {content: \"\";position: absolute;border-left: 1px solid gray;box-sizing: border-box;top: 0;bottom: 0;left: 50%;z-index: 0;}#sk-container-id-1 div.sk-serial {display: flex;flex-direction: column;align-items: center;background-color: white;padding-right: 0.2em;padding-left: 0.2em;position: relative;}#sk-container-id-1 div.sk-item {position: relative;z-index: 1;}#sk-container-id-1 div.sk-parallel {display: flex;align-items: stretch;justify-content: center;background-color: white;position: relative;}#sk-container-id-1 div.sk-item::before, #sk-container-id-1 div.sk-parallel-item::before {content: \"\";position: absolute;border-left: 1px solid gray;box-sizing: border-box;top: 0;bottom: 0;left: 50%;z-index: -1;}#sk-container-id-1 div.sk-parallel-item {display: flex;flex-direction: column;z-index: 1;position: relative;background-color: white;}#sk-container-id-1 div.sk-parallel-item:first-child::after {align-self: flex-end;width: 50%;}#sk-container-id-1 div.sk-parallel-item:last-child::after {align-self: flex-start;width: 50%;}#sk-container-id-1 div.sk-parallel-item:only-child::after {width: 0;}#sk-container-id-1 div.sk-dashed-wrapped {border: 1px dashed gray;margin: 0 0.4em 0.5em 0.4em;box-sizing: border-box;padding-bottom: 0.4em;background-color: white;}#sk-container-id-1 div.sk-label label {font-family: monospace;font-weight: bold;display: inline-block;line-height: 1.2em;}#sk-container-id-1 div.sk-label-container {text-align: center;}#sk-container-id-1 div.sk-container {/* jupyter's `normalize.less` sets `[hidden] { display: none; }` but bootstrap.min.css set `[hidden] { display: none !important; }` so we also need the `!important` here to be able to override the default hidden behavior on the sphinx rendered scikit-learn.org. See: https://github.com/scikit-learn/scikit-learn/issues/21755 */display: inline-block !important;position: relative;}#sk-container-id-1 div.sk-text-repr-fallback {display: none;}</style><div id=\"sk-container-id-1\" class=\"sk-top-container\"><div class=\"sk-text-repr-fallback\"><pre>Pipeline(steps=[(&#x27;general_proc&#x27;,\n                 ColumnTransformer(transformers=[(&#x27;generator&#x27;,\n                                                  ColumnTransformer(transformers=[(&#x27;ffg&#x27;,\n                                                                                   FraudFeatureGenerator(),\n                                                                                   [&#x27;amount&#x27;,\n                                                                                    &#x27;oldbalanceOrg&#x27;,\n                                                                                    &#x27;newbalanceOrig&#x27;,\n                                                                                    &#x27;oldbalanceDest&#x27;,\n                                                                                    &#x27;newbalanceDest&#x27;]),\n                                                                                  (&#x27;cat&#x27;,\n                                                                                   OneHotEncoder(handle_unknown=&#x27;ignore&#x27;),\n                                                                                   [&#x27;type&#x27;])]),\n                                                  [&#x27;step&#x27;, &#x27;type&#x27;, &#x27;amount&#x27;,\n                                                   &#x27;oldbalanceOrg&#x27;,\n                                                   &#x27;newbalanceOrig&#x27;,\n                                                   &#x27;oldbalanceDest&#x27;...\n                                                                                   LogTransformer(handle_inf=&#x27;const&#x27;),\n                                                                                   [&#x27;amount&#x27;,\n                                                                                    &#x27;oldbalanceOrg&#x27;,\n                                                                                    &#x27;newbalanceOrig&#x27;,\n                                                                                    &#x27;oldbalanceDest&#x27;,\n                                                                                    &#x27;newbalanceDest&#x27;]),\n                                                                                  (&#x27;scl&#x27;,\n                                                                                   StandardScaler(),\n                                                                                   [&#x27;amount&#x27;,\n                                                                                    &#x27;oldbalanceOrg&#x27;,\n                                                                                    &#x27;newbalanceOrig&#x27;,\n                                                                                    &#x27;oldbalanceDest&#x27;,\n                                                                                    &#x27;newbalanceDest&#x27;])]),\n                                                  [&#x27;step&#x27;, &#x27;type&#x27;, &#x27;amount&#x27;,\n                                                   &#x27;oldbalanceOrg&#x27;,\n                                                   &#x27;newbalanceOrig&#x27;,\n                                                   &#x27;oldbalanceDest&#x27;,\n                                                   &#x27;newbalanceDest&#x27;])])),\n                (&#x27;regressor&#x27;, LogisticRegression())])</pre><b>In a Jupyter environment, please rerun this cell to show the HTML representation or trust the notebook. <br />On GitHub, the HTML representation is unable to render, please try loading this page with nbviewer.org.</b></div><div class=\"sk-container\" hidden><div class=\"sk-item sk-dashed-wrapped\"><div class=\"sk-label-container\"><div class=\"sk-label sk-toggleable\"><input class=\"sk-toggleable__control sk-hidden--visually\" id=\"sk-estimator-id-1\" type=\"checkbox\" ><label for=\"sk-estimator-id-1\" class=\"sk-toggleable__label sk-toggleable__label-arrow\">Pipeline</label><div class=\"sk-toggleable__content\"><pre>Pipeline(steps=[(&#x27;general_proc&#x27;,\n                 ColumnTransformer(transformers=[(&#x27;generator&#x27;,\n                                                  ColumnTransformer(transformers=[(&#x27;ffg&#x27;,\n                                                                                   FraudFeatureGenerator(),\n                                                                                   [&#x27;amount&#x27;,\n                                                                                    &#x27;oldbalanceOrg&#x27;,\n                                                                                    &#x27;newbalanceOrig&#x27;,\n                                                                                    &#x27;oldbalanceDest&#x27;,\n                                                                                    &#x27;newbalanceDest&#x27;]),\n                                                                                  (&#x27;cat&#x27;,\n                                                                                   OneHotEncoder(handle_unknown=&#x27;ignore&#x27;),\n                                                                                   [&#x27;type&#x27;])]),\n                                                  [&#x27;step&#x27;, &#x27;type&#x27;, &#x27;amount&#x27;,\n                                                   &#x27;oldbalanceOrg&#x27;,\n                                                   &#x27;newbalanceOrig&#x27;,\n                                                   &#x27;oldbalanceDest&#x27;...\n                                                                                   LogTransformer(handle_inf=&#x27;const&#x27;),\n                                                                                   [&#x27;amount&#x27;,\n                                                                                    &#x27;oldbalanceOrg&#x27;,\n                                                                                    &#x27;newbalanceOrig&#x27;,\n                                                                                    &#x27;oldbalanceDest&#x27;,\n                                                                                    &#x27;newbalanceDest&#x27;]),\n                                                                                  (&#x27;scl&#x27;,\n                                                                                   StandardScaler(),\n                                                                                   [&#x27;amount&#x27;,\n                                                                                    &#x27;oldbalanceOrg&#x27;,\n                                                                                    &#x27;newbalanceOrig&#x27;,\n                                                                                    &#x27;oldbalanceDest&#x27;,\n                                                                                    &#x27;newbalanceDest&#x27;])]),\n                                                  [&#x27;step&#x27;, &#x27;type&#x27;, &#x27;amount&#x27;,\n                                                   &#x27;oldbalanceOrg&#x27;,\n                                                   &#x27;newbalanceOrig&#x27;,\n                                                   &#x27;oldbalanceDest&#x27;,\n                                                   &#x27;newbalanceDest&#x27;])])),\n                (&#x27;regressor&#x27;, LogisticRegression())])</pre></div></div></div><div class=\"sk-serial\"><div class=\"sk-item sk-dashed-wrapped\"><div class=\"sk-label-container\"><div class=\"sk-label sk-toggleable\"><input class=\"sk-toggleable__control sk-hidden--visually\" id=\"sk-estimator-id-2\" type=\"checkbox\" ><label for=\"sk-estimator-id-2\" class=\"sk-toggleable__label sk-toggleable__label-arrow\">general_proc: ColumnTransformer</label><div class=\"sk-toggleable__content\"><pre>ColumnTransformer(transformers=[(&#x27;generator&#x27;,\n                                 ColumnTransformer(transformers=[(&#x27;ffg&#x27;,\n                                                                  FraudFeatureGenerator(),\n                                                                  [&#x27;amount&#x27;,\n                                                                   &#x27;oldbalanceOrg&#x27;,\n                                                                   &#x27;newbalanceOrig&#x27;,\n                                                                   &#x27;oldbalanceDest&#x27;,\n                                                                   &#x27;newbalanceDest&#x27;]),\n                                                                 (&#x27;cat&#x27;,\n                                                                  OneHotEncoder(handle_unknown=&#x27;ignore&#x27;),\n                                                                  [&#x27;type&#x27;])]),\n                                 [&#x27;step&#x27;, &#x27;type&#x27;, &#x27;amount&#x27;, &#x27;oldbalanceOrg&#x27;,\n                                  &#x27;newbalanceOrig&#x27;, &#x27;oldbalanceDest&#x27;,\n                                  &#x27;newbalanceDest&#x27;]),\n                                (&#x27;preprocess...\n                                 ColumnTransformer(transformers=[(&#x27;log&#x27;,\n                                                                  LogTransformer(handle_inf=&#x27;const&#x27;),\n                                                                  [&#x27;amount&#x27;,\n                                                                   &#x27;oldbalanceOrg&#x27;,\n                                                                   &#x27;newbalanceOrig&#x27;,\n                                                                   &#x27;oldbalanceDest&#x27;,\n                                                                   &#x27;newbalanceDest&#x27;]),\n                                                                 (&#x27;scl&#x27;,\n                                                                  StandardScaler(),\n                                                                  [&#x27;amount&#x27;,\n                                                                   &#x27;oldbalanceOrg&#x27;,\n                                                                   &#x27;newbalanceOrig&#x27;,\n                                                                   &#x27;oldbalanceDest&#x27;,\n                                                                   &#x27;newbalanceDest&#x27;])]),\n                                 [&#x27;step&#x27;, &#x27;type&#x27;, &#x27;amount&#x27;, &#x27;oldbalanceOrg&#x27;,\n                                  &#x27;newbalanceOrig&#x27;, &#x27;oldbalanceDest&#x27;,\n                                  &#x27;newbalanceDest&#x27;])])</pre></div></div></div><div class=\"sk-parallel\"><div class=\"sk-parallel-item\"><div class=\"sk-item\"><div class=\"sk-label-container\"><div class=\"sk-label sk-toggleable\"><input class=\"sk-toggleable__control sk-hidden--visually\" id=\"sk-estimator-id-3\" type=\"checkbox\" ><label for=\"sk-estimator-id-3\" class=\"sk-toggleable__label sk-toggleable__label-arrow\">generator</label><div class=\"sk-toggleable__content\"><pre>[&#x27;step&#x27;, &#x27;type&#x27;, &#x27;amount&#x27;, &#x27;oldbalanceOrg&#x27;, &#x27;newbalanceOrig&#x27;, &#x27;oldbalanceDest&#x27;, &#x27;newbalanceDest&#x27;]</pre></div></div></div><div class=\"sk-serial\"><div class=\"sk-item sk-dashed-wrapped\"><div class=\"sk-parallel\"><div class=\"sk-parallel-item\"><div class=\"sk-item\"><div class=\"sk-label-container\"><div class=\"sk-label sk-toggleable\"><input class=\"sk-toggleable__control sk-hidden--visually\" id=\"sk-estimator-id-4\" type=\"checkbox\" ><label for=\"sk-estimator-id-4\" class=\"sk-toggleable__label sk-toggleable__label-arrow\">ffg</label><div class=\"sk-toggleable__content\"><pre>[&#x27;amount&#x27;, &#x27;oldbalanceOrg&#x27;, &#x27;newbalanceOrig&#x27;, &#x27;oldbalanceDest&#x27;, &#x27;newbalanceDest&#x27;]</pre></div></div></div><div class=\"sk-serial\"><div class=\"sk-item\"><div class=\"sk-estimator sk-toggleable\"><input class=\"sk-toggleable__control sk-hidden--visually\" id=\"sk-estimator-id-5\" type=\"checkbox\" ><label for=\"sk-estimator-id-5\" class=\"sk-toggleable__label sk-toggleable__label-arrow\">FraudFeatureGenerator</label><div class=\"sk-toggleable__content\"><pre>FraudFeatureGenerator()</pre></div></div></div></div></div></div><div class=\"sk-parallel-item\"><div class=\"sk-item\"><div class=\"sk-label-container\"><div class=\"sk-label sk-toggleable\"><input class=\"sk-toggleable__control sk-hidden--visually\" id=\"sk-estimator-id-6\" type=\"checkbox\" ><label for=\"sk-estimator-id-6\" class=\"sk-toggleable__label sk-toggleable__label-arrow\">cat</label><div class=\"sk-toggleable__content\"><pre>[&#x27;type&#x27;]</pre></div></div></div><div class=\"sk-serial\"><div class=\"sk-item\"><div class=\"sk-estimator sk-toggleable\"><input class=\"sk-toggleable__control sk-hidden--visually\" id=\"sk-estimator-id-7\" type=\"checkbox\" ><label for=\"sk-estimator-id-7\" class=\"sk-toggleable__label sk-toggleable__label-arrow\">OneHotEncoder</label><div class=\"sk-toggleable__content\"><pre>OneHotEncoder(handle_unknown=&#x27;ignore&#x27;)</pre></div></div></div></div></div></div></div></div></div></div></div><div class=\"sk-parallel-item\"><div class=\"sk-item\"><div class=\"sk-label-container\"><div class=\"sk-label sk-toggleable\"><input class=\"sk-toggleable__control sk-hidden--visually\" id=\"sk-estimator-id-8\" type=\"checkbox\" ><label for=\"sk-estimator-id-8\" class=\"sk-toggleable__label sk-toggleable__label-arrow\">preprocessor</label><div class=\"sk-toggleable__content\"><pre>[&#x27;step&#x27;, &#x27;type&#x27;, &#x27;amount&#x27;, &#x27;oldbalanceOrg&#x27;, &#x27;newbalanceOrig&#x27;, &#x27;oldbalanceDest&#x27;, &#x27;newbalanceDest&#x27;]</pre></div></div></div><div class=\"sk-serial\"><div class=\"sk-item sk-dashed-wrapped\"><div class=\"sk-parallel\"><div class=\"sk-parallel-item\"><div class=\"sk-item\"><div class=\"sk-label-container\"><div class=\"sk-label sk-toggleable\"><input class=\"sk-toggleable__control sk-hidden--visually\" id=\"sk-estimator-id-9\" type=\"checkbox\" ><label for=\"sk-estimator-id-9\" class=\"sk-toggleable__label sk-toggleable__label-arrow\">log</label><div class=\"sk-toggleable__content\"><pre>[&#x27;amount&#x27;, &#x27;oldbalanceOrg&#x27;, &#x27;newbalanceOrig&#x27;, &#x27;oldbalanceDest&#x27;, &#x27;newbalanceDest&#x27;]</pre></div></div></div><div class=\"sk-serial\"><div class=\"sk-item\"><div class=\"sk-estimator sk-toggleable\"><input class=\"sk-toggleable__control sk-hidden--visually\" id=\"sk-estimator-id-10\" type=\"checkbox\" ><label for=\"sk-estimator-id-10\" class=\"sk-toggleable__label sk-toggleable__label-arrow\">LogTransformer</label><div class=\"sk-toggleable__content\"><pre>LogTransformer(handle_inf=&#x27;const&#x27;)</pre></div></div></div></div></div></div><div class=\"sk-parallel-item\"><div class=\"sk-item\"><div class=\"sk-label-container\"><div class=\"sk-label sk-toggleable\"><input class=\"sk-toggleable__control sk-hidden--visually\" id=\"sk-estimator-id-11\" type=\"checkbox\" ><label for=\"sk-estimator-id-11\" class=\"sk-toggleable__label sk-toggleable__label-arrow\">scl</label><div class=\"sk-toggleable__content\"><pre>[&#x27;amount&#x27;, &#x27;oldbalanceOrg&#x27;, &#x27;newbalanceOrig&#x27;, &#x27;oldbalanceDest&#x27;, &#x27;newbalanceDest&#x27;]</pre></div></div></div><div class=\"sk-serial\"><div class=\"sk-item\"><div class=\"sk-estimator sk-toggleable\"><input class=\"sk-toggleable__control sk-hidden--visually\" id=\"sk-estimator-id-12\" type=\"checkbox\" ><label for=\"sk-estimator-id-12\" class=\"sk-toggleable__label sk-toggleable__label-arrow\">StandardScaler</label><div class=\"sk-toggleable__content\"><pre>StandardScaler()</pre></div></div></div></div></div></div></div></div></div></div></div></div></div><div class=\"sk-item\"><div class=\"sk-estimator sk-toggleable\"><input class=\"sk-toggleable__control sk-hidden--visually\" id=\"sk-estimator-id-13\" type=\"checkbox\" ><label for=\"sk-estimator-id-13\" class=\"sk-toggleable__label sk-toggleable__label-arrow\">LogisticRegression</label><div class=\"sk-toggleable__content\"><pre>LogisticRegression()</pre></div></div></div></div></div></div></div>"
     },
     "execution_count": 31,
     "metadata": {},
     "output_type": "execute_result"
    }
   ],
   "source": [
    "pipeline.fit(data_sample, data_sample['isFraud'])"
   ]
  },
  {
   "cell_type": "code",
   "execution_count": 32,
   "metadata": {
    "pycharm": {
     "name": "#%%\n"
    }
   },
   "outputs": [
    {
     "data": {
      "text/plain": "    target                                          feature    weight\n0        1                                           <BIAS>  1.311024\n1        1                    generator__cat__type_CASH_OUT  1.310763\n2        1       generator__ffg__oldbalanceOrg_amount_ratio  0.899168\n3        1                preprocessor__scl__newbalanceDest  0.808727\n4        1           generator__ffg__oldbalanceDest_is_zero  0.679490\n5        1                    generator__cat__type_TRANSFER  0.644820\n6        1                        preprocessor__scl__amount  0.475510\n7        1          generator__ffg__amount_is_bigger_median  0.417234\n8        1     generator__ffg__oldbalanceOrg_is_bigger_mean  0.305304\n9        1               generator__ffg__dest_is_bigger_org  0.280502\n10       1    generator__ffg__newbalanceDest_is_bigger_mean  0.215370\n11       1   generator__ffg__oldbalanceOrg_is_bigger_median  0.213157\n12       1                 preprocessor__log__oldbalanceOrg  0.209563\n13       1                 preprocessor__scl__oldbalanceOrg  0.140447\n14       1            generator__ffg__amount_is_bigger_mean  0.031460\n15       1      generator__ffg__oldbalanceDest_amount_ratio  0.028582\n16       1                   generator__ffg__amount_is_zero  0.021527\n17       1                     generator__cat__type_CASH_IN  0.001855\n18       1    generator__ffg__newbalanceOrig_is_bigger_mean  0.000775\n19       1                preprocessor__scl__newbalanceOrig -0.008020\n20       1            generator__ffg__oldbalanceOrg_is_zero -0.017113\n21       1      generator__ffg__newbalanceDest_amount_ratio -0.017943\n22       1  generator__ffg__newbalanceDest_is_bigger_median -0.033254\n23       1           generator__ffg__newbalanceDest_is_zero -0.033254\n24       1                preprocessor__log__newbalanceDest -0.048142\n25       1  generator__ffg__newbalanceOrig_is_bigger_median -0.053570\n26       1           generator__ffg__newbalanceOrig_is_zero -0.073181\n27       1                       generator__cat__type_DEBIT -0.154416\n28       1                preprocessor__log__oldbalanceDest -0.249056\n29       1    generator__ffg__oldbalanceDest_is_bigger_mean -0.295132\n30       1                        preprocessor__log__amount -0.538627\n31       1                preprocessor__scl__oldbalanceDest -0.572132\n32       1                preprocessor__log__newbalanceOrig -0.663459\n33       1  generator__ffg__oldbalanceDest_is_bigger_median -0.866640\n34       1      generator__ffg__newbalanceOrig_amount_ratio -0.908359\n35       1                     generator__cat__type_PAYMENT -1.781494",
      "text/html": "<div>\n<style scoped>\n    .dataframe tbody tr th:only-of-type {\n        vertical-align: middle;\n    }\n\n    .dataframe tbody tr th {\n        vertical-align: top;\n    }\n\n    .dataframe thead th {\n        text-align: right;\n    }\n</style>\n<table border=\"1\" class=\"dataframe\">\n  <thead>\n    <tr style=\"text-align: right;\">\n      <th></th>\n      <th>target</th>\n      <th>feature</th>\n      <th>weight</th>\n    </tr>\n  </thead>\n  <tbody>\n    <tr>\n      <th>0</th>\n      <td>1</td>\n      <td>&lt;BIAS&gt;</td>\n      <td>1.311024</td>\n    </tr>\n    <tr>\n      <th>1</th>\n      <td>1</td>\n      <td>generator__cat__type_CASH_OUT</td>\n      <td>1.310763</td>\n    </tr>\n    <tr>\n      <th>2</th>\n      <td>1</td>\n      <td>generator__ffg__oldbalanceOrg_amount_ratio</td>\n      <td>0.899168</td>\n    </tr>\n    <tr>\n      <th>3</th>\n      <td>1</td>\n      <td>preprocessor__scl__newbalanceDest</td>\n      <td>0.808727</td>\n    </tr>\n    <tr>\n      <th>4</th>\n      <td>1</td>\n      <td>generator__ffg__oldbalanceDest_is_zero</td>\n      <td>0.679490</td>\n    </tr>\n    <tr>\n      <th>5</th>\n      <td>1</td>\n      <td>generator__cat__type_TRANSFER</td>\n      <td>0.644820</td>\n    </tr>\n    <tr>\n      <th>6</th>\n      <td>1</td>\n      <td>preprocessor__scl__amount</td>\n      <td>0.475510</td>\n    </tr>\n    <tr>\n      <th>7</th>\n      <td>1</td>\n      <td>generator__ffg__amount_is_bigger_median</td>\n      <td>0.417234</td>\n    </tr>\n    <tr>\n      <th>8</th>\n      <td>1</td>\n      <td>generator__ffg__oldbalanceOrg_is_bigger_mean</td>\n      <td>0.305304</td>\n    </tr>\n    <tr>\n      <th>9</th>\n      <td>1</td>\n      <td>generator__ffg__dest_is_bigger_org</td>\n      <td>0.280502</td>\n    </tr>\n    <tr>\n      <th>10</th>\n      <td>1</td>\n      <td>generator__ffg__newbalanceDest_is_bigger_mean</td>\n      <td>0.215370</td>\n    </tr>\n    <tr>\n      <th>11</th>\n      <td>1</td>\n      <td>generator__ffg__oldbalanceOrg_is_bigger_median</td>\n      <td>0.213157</td>\n    </tr>\n    <tr>\n      <th>12</th>\n      <td>1</td>\n      <td>preprocessor__log__oldbalanceOrg</td>\n      <td>0.209563</td>\n    </tr>\n    <tr>\n      <th>13</th>\n      <td>1</td>\n      <td>preprocessor__scl__oldbalanceOrg</td>\n      <td>0.140447</td>\n    </tr>\n    <tr>\n      <th>14</th>\n      <td>1</td>\n      <td>generator__ffg__amount_is_bigger_mean</td>\n      <td>0.031460</td>\n    </tr>\n    <tr>\n      <th>15</th>\n      <td>1</td>\n      <td>generator__ffg__oldbalanceDest_amount_ratio</td>\n      <td>0.028582</td>\n    </tr>\n    <tr>\n      <th>16</th>\n      <td>1</td>\n      <td>generator__ffg__amount_is_zero</td>\n      <td>0.021527</td>\n    </tr>\n    <tr>\n      <th>17</th>\n      <td>1</td>\n      <td>generator__cat__type_CASH_IN</td>\n      <td>0.001855</td>\n    </tr>\n    <tr>\n      <th>18</th>\n      <td>1</td>\n      <td>generator__ffg__newbalanceOrig_is_bigger_mean</td>\n      <td>0.000775</td>\n    </tr>\n    <tr>\n      <th>19</th>\n      <td>1</td>\n      <td>preprocessor__scl__newbalanceOrig</td>\n      <td>-0.008020</td>\n    </tr>\n    <tr>\n      <th>20</th>\n      <td>1</td>\n      <td>generator__ffg__oldbalanceOrg_is_zero</td>\n      <td>-0.017113</td>\n    </tr>\n    <tr>\n      <th>21</th>\n      <td>1</td>\n      <td>generator__ffg__newbalanceDest_amount_ratio</td>\n      <td>-0.017943</td>\n    </tr>\n    <tr>\n      <th>22</th>\n      <td>1</td>\n      <td>generator__ffg__newbalanceDest_is_bigger_median</td>\n      <td>-0.033254</td>\n    </tr>\n    <tr>\n      <th>23</th>\n      <td>1</td>\n      <td>generator__ffg__newbalanceDest_is_zero</td>\n      <td>-0.033254</td>\n    </tr>\n    <tr>\n      <th>24</th>\n      <td>1</td>\n      <td>preprocessor__log__newbalanceDest</td>\n      <td>-0.048142</td>\n    </tr>\n    <tr>\n      <th>25</th>\n      <td>1</td>\n      <td>generator__ffg__newbalanceOrig_is_bigger_median</td>\n      <td>-0.053570</td>\n    </tr>\n    <tr>\n      <th>26</th>\n      <td>1</td>\n      <td>generator__ffg__newbalanceOrig_is_zero</td>\n      <td>-0.073181</td>\n    </tr>\n    <tr>\n      <th>27</th>\n      <td>1</td>\n      <td>generator__cat__type_DEBIT</td>\n      <td>-0.154416</td>\n    </tr>\n    <tr>\n      <th>28</th>\n      <td>1</td>\n      <td>preprocessor__log__oldbalanceDest</td>\n      <td>-0.249056</td>\n    </tr>\n    <tr>\n      <th>29</th>\n      <td>1</td>\n      <td>generator__ffg__oldbalanceDest_is_bigger_mean</td>\n      <td>-0.295132</td>\n    </tr>\n    <tr>\n      <th>30</th>\n      <td>1</td>\n      <td>preprocessor__log__amount</td>\n      <td>-0.538627</td>\n    </tr>\n    <tr>\n      <th>31</th>\n      <td>1</td>\n      <td>preprocessor__scl__oldbalanceDest</td>\n      <td>-0.572132</td>\n    </tr>\n    <tr>\n      <th>32</th>\n      <td>1</td>\n      <td>preprocessor__log__newbalanceOrig</td>\n      <td>-0.663459</td>\n    </tr>\n    <tr>\n      <th>33</th>\n      <td>1</td>\n      <td>generator__ffg__oldbalanceDest_is_bigger_median</td>\n      <td>-0.866640</td>\n    </tr>\n    <tr>\n      <th>34</th>\n      <td>1</td>\n      <td>generator__ffg__newbalanceOrig_amount_ratio</td>\n      <td>-0.908359</td>\n    </tr>\n    <tr>\n      <th>35</th>\n      <td>1</td>\n      <td>generator__cat__type_PAYMENT</td>\n      <td>-1.781494</td>\n    </tr>\n  </tbody>\n</table>\n</div>"
     },
     "execution_count": 32,
     "metadata": {},
     "output_type": "execute_result"
    }
   ],
   "source": [
    "eli5.explain_weights_df(pipeline[-1], feature_names=pipeline[:-1].get_feature_names_out())"
   ]
  },
  {
   "cell_type": "markdown",
   "metadata": {
    "pycharm": {
     "name": "#%% md\n"
    }
   },
   "source": [
    "#### Models"
   ]
  },
  {
   "cell_type": "code",
   "execution_count": 33,
   "metadata": {
    "pycharm": {
     "name": "#%%\n"
    }
   },
   "outputs": [],
   "source": [
    "dummy_mf = make_pipeline(\n",
    "    DummyClassifier(strategy='most_frequent'),\n",
    ")\n",
    "\n",
    "dummy_strf = make_pipeline(\n",
    "    DummyClassifier(strategy='stratified'),\n",
    ")"
   ]
  },
  {
   "cell_type": "code",
   "execution_count": 34,
   "metadata": {
    "pycharm": {
     "name": "#%%\n"
    }
   },
   "outputs": [],
   "source": [
    "lr_par = {\n",
    "    'C': 100,\n",
    "    'penalty': 'l2',\n",
    "    'solver': 'liblinear'\n",
    "}\n",
    "lr = Pipeline([\n",
    "    ('general_proc', linear_data_pipeline),\n",
    "    ('regressor', LogisticRegression(**lr_par))\n",
    "])\n",
    "\n",
    "svm_par = {\n",
    "    'C': 10,\n",
    "    'gamma': 'auto',\n",
    "    'kernel': 'linear'\n",
    "}\n",
    "svm = Pipeline([\n",
    "    ('general_proc', linear_data_pipeline),\n",
    "    ('regressor', SVC(**svm_par))\n",
    "])\n",
    "\n",
    "mlp_par = {\n",
    "    \"activation\": \"relu\",\n",
    "    \"hidden_layer_sizes\": (100, 50),\n",
    "    \"learning_rate\": \"constant\",\n",
    "    \"solver\": \"adam\"\n",
    "}\n",
    "mlp = Pipeline([\n",
    "    ('general_proc', linear_data_pipeline),\n",
    "    ('regressor', MLPClassifier(**mlp_par))\n",
    "])"
   ]
  },
  {
   "cell_type": "code",
   "execution_count": 35,
   "metadata": {
    "pycharm": {
     "name": "#%%\n"
    }
   },
   "outputs": [],
   "source": [
    "ctb_par = {}\n",
    "\n",
    "ctb = Pipeline([\n",
    "    ('general_proc', tree_data_pipeline),\n",
    "    ('regressor', CatBoostClassifier(**ctb_par))\n",
    "])\n",
    "\n",
    "xgb_par = {\n",
    "    \"colsample_bytree\": 1.0,\n",
    "    \"learning_rate\": 0.1,\n",
    "    \"max_depth\": 5,\n",
    "    \"n_estimators\": 100,\n",
    "    \"subsample\": 0.9\n",
    "}\n",
    "\n",
    "xgb = Pipeline([\n",
    "    ('general_proc', tree_data_pipeline),\n",
    "    ('regressor', XGBClassifier())\n",
    "])\n",
    "\n",
    "lgbm_par = {\n",
    "    \"colsample_bytree\": 0.9,\n",
    "    \"learning_rate\": 0.01,\n",
    "    \"max_depth\": 5,\n",
    "    \"min_child_weight\": 3,\n",
    "    \"n_estimators\": 300,\n",
    "    \"subsample\": 0.8\n",
    "}\n",
    "\n",
    "lgbm = Pipeline([\n",
    "    ('general_proc', tree_data_pipeline),\n",
    "    ('regressor', LGBMClassifier(**lgbm_par))\n",
    "])\n",
    "\n",
    "rfc_par = {\n",
    "    'max_depth': None,\n",
    "    'min_samples_leaf': 1,\n",
    "    'min_samples_split': 2,\n",
    "    'n_estimators': 100\n",
    "}\n",
    "\n",
    "rfc = Pipeline([\n",
    "    ('general_proc', tree_data_pipeline),\n",
    "    ('regressor', RandomForestClassifier(**rfc_par))\n",
    "])"
   ]
  },
  {
   "cell_type": "code",
   "execution_count": 36,
   "metadata": {
    "pycharm": {
     "name": "#%%\n"
    }
   },
   "outputs": [],
   "source": [
    "pipelines = [\n",
    "    (\"Dummy_mf\", dummy_mf),\n",
    "    (\"Dummy_strf\", dummy_strf),\n",
    "    (\"LogReg\", lr),\n",
    "    (\"XGB\", xgb),\n",
    "    (\"LGBM\", lgbm),\n",
    "    (\"RFC\", rfc),\n",
    "    (\"CatBoost\", ctb),\n",
    "    (\"MLP\", mlp),\n",
    "    # (\"SVM\", svm),\n",
    "]"
   ]
  },
  {
   "cell_type": "code",
   "execution_count": 37,
   "metadata": {
    "pycharm": {
     "name": "#%%\n"
    }
   },
   "outputs": [
    {
     "data": {
      "text/plain": "Pipeline(steps=[('general_proc',\n                 ColumnTransformer(transformers=[('generator',\n                                                  ColumnTransformer(transformers=[('ffg',\n                                                                                   FraudFeatureGenerator(),\n                                                                                   ['amount',\n                                                                                    'oldbalanceOrg',\n                                                                                    'newbalanceOrig',\n                                                                                    'oldbalanceDest',\n                                                                                    'newbalanceDest']),\n                                                                                  ('cat',\n                                                                                   OneHotEncoder(handle_unknown='ignore'),\n                                                                                   ['type'])]),\n                                                  ['step', 'type', 'amount',\n                                                   'oldbalanceOrg',\n                                                   'newbalanceOrig',\n                                                   'oldbalanceDest'...\n                                                                                   LogTransformer(handle_inf='const'),\n                                                                                   ['amount',\n                                                                                    'oldbalanceOrg',\n                                                                                    'newbalanceOrig',\n                                                                                    'oldbalanceDest',\n                                                                                    'newbalanceDest']),\n                                                                                  ('scl',\n                                                                                   StandardScaler(),\n                                                                                   ['amount',\n                                                                                    'oldbalanceOrg',\n                                                                                    'newbalanceOrig',\n                                                                                    'oldbalanceDest',\n                                                                                    'newbalanceDest'])]),\n                                                  ['step', 'type', 'amount',\n                                                   'oldbalanceOrg',\n                                                   'newbalanceOrig',\n                                                   'oldbalanceDest',\n                                                   'newbalanceDest'])])),\n                ('regressor', LogisticRegression(C=100, solver='liblinear'))])",
      "text/html": "<style>#sk-container-id-2 {color: black;background-color: white;}#sk-container-id-2 pre{padding: 0;}#sk-container-id-2 div.sk-toggleable {background-color: white;}#sk-container-id-2 label.sk-toggleable__label {cursor: pointer;display: block;width: 100%;margin-bottom: 0;padding: 0.3em;box-sizing: border-box;text-align: center;}#sk-container-id-2 label.sk-toggleable__label-arrow:before {content: \"▸\";float: left;margin-right: 0.25em;color: #696969;}#sk-container-id-2 label.sk-toggleable__label-arrow:hover:before {color: black;}#sk-container-id-2 div.sk-estimator:hover label.sk-toggleable__label-arrow:before {color: black;}#sk-container-id-2 div.sk-toggleable__content {max-height: 0;max-width: 0;overflow: hidden;text-align: left;background-color: #f0f8ff;}#sk-container-id-2 div.sk-toggleable__content pre {margin: 0.2em;color: black;border-radius: 0.25em;background-color: #f0f8ff;}#sk-container-id-2 input.sk-toggleable__control:checked~div.sk-toggleable__content {max-height: 200px;max-width: 100%;overflow: auto;}#sk-container-id-2 input.sk-toggleable__control:checked~label.sk-toggleable__label-arrow:before {content: \"▾\";}#sk-container-id-2 div.sk-estimator input.sk-toggleable__control:checked~label.sk-toggleable__label {background-color: #d4ebff;}#sk-container-id-2 div.sk-label input.sk-toggleable__control:checked~label.sk-toggleable__label {background-color: #d4ebff;}#sk-container-id-2 input.sk-hidden--visually {border: 0;clip: rect(1px 1px 1px 1px);clip: rect(1px, 1px, 1px, 1px);height: 1px;margin: -1px;overflow: hidden;padding: 0;position: absolute;width: 1px;}#sk-container-id-2 div.sk-estimator {font-family: monospace;background-color: #f0f8ff;border: 1px dotted black;border-radius: 0.25em;box-sizing: border-box;margin-bottom: 0.5em;}#sk-container-id-2 div.sk-estimator:hover {background-color: #d4ebff;}#sk-container-id-2 div.sk-parallel-item::after {content: \"\";width: 100%;border-bottom: 1px solid gray;flex-grow: 1;}#sk-container-id-2 div.sk-label:hover label.sk-toggleable__label {background-color: #d4ebff;}#sk-container-id-2 div.sk-serial::before {content: \"\";position: absolute;border-left: 1px solid gray;box-sizing: border-box;top: 0;bottom: 0;left: 50%;z-index: 0;}#sk-container-id-2 div.sk-serial {display: flex;flex-direction: column;align-items: center;background-color: white;padding-right: 0.2em;padding-left: 0.2em;position: relative;}#sk-container-id-2 div.sk-item {position: relative;z-index: 1;}#sk-container-id-2 div.sk-parallel {display: flex;align-items: stretch;justify-content: center;background-color: white;position: relative;}#sk-container-id-2 div.sk-item::before, #sk-container-id-2 div.sk-parallel-item::before {content: \"\";position: absolute;border-left: 1px solid gray;box-sizing: border-box;top: 0;bottom: 0;left: 50%;z-index: -1;}#sk-container-id-2 div.sk-parallel-item {display: flex;flex-direction: column;z-index: 1;position: relative;background-color: white;}#sk-container-id-2 div.sk-parallel-item:first-child::after {align-self: flex-end;width: 50%;}#sk-container-id-2 div.sk-parallel-item:last-child::after {align-self: flex-start;width: 50%;}#sk-container-id-2 div.sk-parallel-item:only-child::after {width: 0;}#sk-container-id-2 div.sk-dashed-wrapped {border: 1px dashed gray;margin: 0 0.4em 0.5em 0.4em;box-sizing: border-box;padding-bottom: 0.4em;background-color: white;}#sk-container-id-2 div.sk-label label {font-family: monospace;font-weight: bold;display: inline-block;line-height: 1.2em;}#sk-container-id-2 div.sk-label-container {text-align: center;}#sk-container-id-2 div.sk-container {/* jupyter's `normalize.less` sets `[hidden] { display: none; }` but bootstrap.min.css set `[hidden] { display: none !important; }` so we also need the `!important` here to be able to override the default hidden behavior on the sphinx rendered scikit-learn.org. See: https://github.com/scikit-learn/scikit-learn/issues/21755 */display: inline-block !important;position: relative;}#sk-container-id-2 div.sk-text-repr-fallback {display: none;}</style><div id=\"sk-container-id-2\" class=\"sk-top-container\"><div class=\"sk-text-repr-fallback\"><pre>Pipeline(steps=[(&#x27;general_proc&#x27;,\n                 ColumnTransformer(transformers=[(&#x27;generator&#x27;,\n                                                  ColumnTransformer(transformers=[(&#x27;ffg&#x27;,\n                                                                                   FraudFeatureGenerator(),\n                                                                                   [&#x27;amount&#x27;,\n                                                                                    &#x27;oldbalanceOrg&#x27;,\n                                                                                    &#x27;newbalanceOrig&#x27;,\n                                                                                    &#x27;oldbalanceDest&#x27;,\n                                                                                    &#x27;newbalanceDest&#x27;]),\n                                                                                  (&#x27;cat&#x27;,\n                                                                                   OneHotEncoder(handle_unknown=&#x27;ignore&#x27;),\n                                                                                   [&#x27;type&#x27;])]),\n                                                  [&#x27;step&#x27;, &#x27;type&#x27;, &#x27;amount&#x27;,\n                                                   &#x27;oldbalanceOrg&#x27;,\n                                                   &#x27;newbalanceOrig&#x27;,\n                                                   &#x27;oldbalanceDest&#x27;...\n                                                                                   LogTransformer(handle_inf=&#x27;const&#x27;),\n                                                                                   [&#x27;amount&#x27;,\n                                                                                    &#x27;oldbalanceOrg&#x27;,\n                                                                                    &#x27;newbalanceOrig&#x27;,\n                                                                                    &#x27;oldbalanceDest&#x27;,\n                                                                                    &#x27;newbalanceDest&#x27;]),\n                                                                                  (&#x27;scl&#x27;,\n                                                                                   StandardScaler(),\n                                                                                   [&#x27;amount&#x27;,\n                                                                                    &#x27;oldbalanceOrg&#x27;,\n                                                                                    &#x27;newbalanceOrig&#x27;,\n                                                                                    &#x27;oldbalanceDest&#x27;,\n                                                                                    &#x27;newbalanceDest&#x27;])]),\n                                                  [&#x27;step&#x27;, &#x27;type&#x27;, &#x27;amount&#x27;,\n                                                   &#x27;oldbalanceOrg&#x27;,\n                                                   &#x27;newbalanceOrig&#x27;,\n                                                   &#x27;oldbalanceDest&#x27;,\n                                                   &#x27;newbalanceDest&#x27;])])),\n                (&#x27;regressor&#x27;, LogisticRegression(C=100, solver=&#x27;liblinear&#x27;))])</pre><b>In a Jupyter environment, please rerun this cell to show the HTML representation or trust the notebook. <br />On GitHub, the HTML representation is unable to render, please try loading this page with nbviewer.org.</b></div><div class=\"sk-container\" hidden><div class=\"sk-item sk-dashed-wrapped\"><div class=\"sk-label-container\"><div class=\"sk-label sk-toggleable\"><input class=\"sk-toggleable__control sk-hidden--visually\" id=\"sk-estimator-id-14\" type=\"checkbox\" ><label for=\"sk-estimator-id-14\" class=\"sk-toggleable__label sk-toggleable__label-arrow\">Pipeline</label><div class=\"sk-toggleable__content\"><pre>Pipeline(steps=[(&#x27;general_proc&#x27;,\n                 ColumnTransformer(transformers=[(&#x27;generator&#x27;,\n                                                  ColumnTransformer(transformers=[(&#x27;ffg&#x27;,\n                                                                                   FraudFeatureGenerator(),\n                                                                                   [&#x27;amount&#x27;,\n                                                                                    &#x27;oldbalanceOrg&#x27;,\n                                                                                    &#x27;newbalanceOrig&#x27;,\n                                                                                    &#x27;oldbalanceDest&#x27;,\n                                                                                    &#x27;newbalanceDest&#x27;]),\n                                                                                  (&#x27;cat&#x27;,\n                                                                                   OneHotEncoder(handle_unknown=&#x27;ignore&#x27;),\n                                                                                   [&#x27;type&#x27;])]),\n                                                  [&#x27;step&#x27;, &#x27;type&#x27;, &#x27;amount&#x27;,\n                                                   &#x27;oldbalanceOrg&#x27;,\n                                                   &#x27;newbalanceOrig&#x27;,\n                                                   &#x27;oldbalanceDest&#x27;...\n                                                                                   LogTransformer(handle_inf=&#x27;const&#x27;),\n                                                                                   [&#x27;amount&#x27;,\n                                                                                    &#x27;oldbalanceOrg&#x27;,\n                                                                                    &#x27;newbalanceOrig&#x27;,\n                                                                                    &#x27;oldbalanceDest&#x27;,\n                                                                                    &#x27;newbalanceDest&#x27;]),\n                                                                                  (&#x27;scl&#x27;,\n                                                                                   StandardScaler(),\n                                                                                   [&#x27;amount&#x27;,\n                                                                                    &#x27;oldbalanceOrg&#x27;,\n                                                                                    &#x27;newbalanceOrig&#x27;,\n                                                                                    &#x27;oldbalanceDest&#x27;,\n                                                                                    &#x27;newbalanceDest&#x27;])]),\n                                                  [&#x27;step&#x27;, &#x27;type&#x27;, &#x27;amount&#x27;,\n                                                   &#x27;oldbalanceOrg&#x27;,\n                                                   &#x27;newbalanceOrig&#x27;,\n                                                   &#x27;oldbalanceDest&#x27;,\n                                                   &#x27;newbalanceDest&#x27;])])),\n                (&#x27;regressor&#x27;, LogisticRegression(C=100, solver=&#x27;liblinear&#x27;))])</pre></div></div></div><div class=\"sk-serial\"><div class=\"sk-item sk-dashed-wrapped\"><div class=\"sk-label-container\"><div class=\"sk-label sk-toggleable\"><input class=\"sk-toggleable__control sk-hidden--visually\" id=\"sk-estimator-id-15\" type=\"checkbox\" ><label for=\"sk-estimator-id-15\" class=\"sk-toggleable__label sk-toggleable__label-arrow\">general_proc: ColumnTransformer</label><div class=\"sk-toggleable__content\"><pre>ColumnTransformer(transformers=[(&#x27;generator&#x27;,\n                                 ColumnTransformer(transformers=[(&#x27;ffg&#x27;,\n                                                                  FraudFeatureGenerator(),\n                                                                  [&#x27;amount&#x27;,\n                                                                   &#x27;oldbalanceOrg&#x27;,\n                                                                   &#x27;newbalanceOrig&#x27;,\n                                                                   &#x27;oldbalanceDest&#x27;,\n                                                                   &#x27;newbalanceDest&#x27;]),\n                                                                 (&#x27;cat&#x27;,\n                                                                  OneHotEncoder(handle_unknown=&#x27;ignore&#x27;),\n                                                                  [&#x27;type&#x27;])]),\n                                 [&#x27;step&#x27;, &#x27;type&#x27;, &#x27;amount&#x27;, &#x27;oldbalanceOrg&#x27;,\n                                  &#x27;newbalanceOrig&#x27;, &#x27;oldbalanceDest&#x27;,\n                                  &#x27;newbalanceDest&#x27;]),\n                                (&#x27;preprocess...\n                                 ColumnTransformer(transformers=[(&#x27;log&#x27;,\n                                                                  LogTransformer(handle_inf=&#x27;const&#x27;),\n                                                                  [&#x27;amount&#x27;,\n                                                                   &#x27;oldbalanceOrg&#x27;,\n                                                                   &#x27;newbalanceOrig&#x27;,\n                                                                   &#x27;oldbalanceDest&#x27;,\n                                                                   &#x27;newbalanceDest&#x27;]),\n                                                                 (&#x27;scl&#x27;,\n                                                                  StandardScaler(),\n                                                                  [&#x27;amount&#x27;,\n                                                                   &#x27;oldbalanceOrg&#x27;,\n                                                                   &#x27;newbalanceOrig&#x27;,\n                                                                   &#x27;oldbalanceDest&#x27;,\n                                                                   &#x27;newbalanceDest&#x27;])]),\n                                 [&#x27;step&#x27;, &#x27;type&#x27;, &#x27;amount&#x27;, &#x27;oldbalanceOrg&#x27;,\n                                  &#x27;newbalanceOrig&#x27;, &#x27;oldbalanceDest&#x27;,\n                                  &#x27;newbalanceDest&#x27;])])</pre></div></div></div><div class=\"sk-parallel\"><div class=\"sk-parallel-item\"><div class=\"sk-item\"><div class=\"sk-label-container\"><div class=\"sk-label sk-toggleable\"><input class=\"sk-toggleable__control sk-hidden--visually\" id=\"sk-estimator-id-16\" type=\"checkbox\" ><label for=\"sk-estimator-id-16\" class=\"sk-toggleable__label sk-toggleable__label-arrow\">generator</label><div class=\"sk-toggleable__content\"><pre>[&#x27;step&#x27;, &#x27;type&#x27;, &#x27;amount&#x27;, &#x27;oldbalanceOrg&#x27;, &#x27;newbalanceOrig&#x27;, &#x27;oldbalanceDest&#x27;, &#x27;newbalanceDest&#x27;]</pre></div></div></div><div class=\"sk-serial\"><div class=\"sk-item sk-dashed-wrapped\"><div class=\"sk-parallel\"><div class=\"sk-parallel-item\"><div class=\"sk-item\"><div class=\"sk-label-container\"><div class=\"sk-label sk-toggleable\"><input class=\"sk-toggleable__control sk-hidden--visually\" id=\"sk-estimator-id-17\" type=\"checkbox\" ><label for=\"sk-estimator-id-17\" class=\"sk-toggleable__label sk-toggleable__label-arrow\">ffg</label><div class=\"sk-toggleable__content\"><pre>[&#x27;amount&#x27;, &#x27;oldbalanceOrg&#x27;, &#x27;newbalanceOrig&#x27;, &#x27;oldbalanceDest&#x27;, &#x27;newbalanceDest&#x27;]</pre></div></div></div><div class=\"sk-serial\"><div class=\"sk-item\"><div class=\"sk-estimator sk-toggleable\"><input class=\"sk-toggleable__control sk-hidden--visually\" id=\"sk-estimator-id-18\" type=\"checkbox\" ><label for=\"sk-estimator-id-18\" class=\"sk-toggleable__label sk-toggleable__label-arrow\">FraudFeatureGenerator</label><div class=\"sk-toggleable__content\"><pre>FraudFeatureGenerator()</pre></div></div></div></div></div></div><div class=\"sk-parallel-item\"><div class=\"sk-item\"><div class=\"sk-label-container\"><div class=\"sk-label sk-toggleable\"><input class=\"sk-toggleable__control sk-hidden--visually\" id=\"sk-estimator-id-19\" type=\"checkbox\" ><label for=\"sk-estimator-id-19\" class=\"sk-toggleable__label sk-toggleable__label-arrow\">cat</label><div class=\"sk-toggleable__content\"><pre>[&#x27;type&#x27;]</pre></div></div></div><div class=\"sk-serial\"><div class=\"sk-item\"><div class=\"sk-estimator sk-toggleable\"><input class=\"sk-toggleable__control sk-hidden--visually\" id=\"sk-estimator-id-20\" type=\"checkbox\" ><label for=\"sk-estimator-id-20\" class=\"sk-toggleable__label sk-toggleable__label-arrow\">OneHotEncoder</label><div class=\"sk-toggleable__content\"><pre>OneHotEncoder(handle_unknown=&#x27;ignore&#x27;)</pre></div></div></div></div></div></div></div></div></div></div></div><div class=\"sk-parallel-item\"><div class=\"sk-item\"><div class=\"sk-label-container\"><div class=\"sk-label sk-toggleable\"><input class=\"sk-toggleable__control sk-hidden--visually\" id=\"sk-estimator-id-21\" type=\"checkbox\" ><label for=\"sk-estimator-id-21\" class=\"sk-toggleable__label sk-toggleable__label-arrow\">preprocessor</label><div class=\"sk-toggleable__content\"><pre>[&#x27;step&#x27;, &#x27;type&#x27;, &#x27;amount&#x27;, &#x27;oldbalanceOrg&#x27;, &#x27;newbalanceOrig&#x27;, &#x27;oldbalanceDest&#x27;, &#x27;newbalanceDest&#x27;]</pre></div></div></div><div class=\"sk-serial\"><div class=\"sk-item sk-dashed-wrapped\"><div class=\"sk-parallel\"><div class=\"sk-parallel-item\"><div class=\"sk-item\"><div class=\"sk-label-container\"><div class=\"sk-label sk-toggleable\"><input class=\"sk-toggleable__control sk-hidden--visually\" id=\"sk-estimator-id-22\" type=\"checkbox\" ><label for=\"sk-estimator-id-22\" class=\"sk-toggleable__label sk-toggleable__label-arrow\">log</label><div class=\"sk-toggleable__content\"><pre>[&#x27;amount&#x27;, &#x27;oldbalanceOrg&#x27;, &#x27;newbalanceOrig&#x27;, &#x27;oldbalanceDest&#x27;, &#x27;newbalanceDest&#x27;]</pre></div></div></div><div class=\"sk-serial\"><div class=\"sk-item\"><div class=\"sk-estimator sk-toggleable\"><input class=\"sk-toggleable__control sk-hidden--visually\" id=\"sk-estimator-id-23\" type=\"checkbox\" ><label for=\"sk-estimator-id-23\" class=\"sk-toggleable__label sk-toggleable__label-arrow\">LogTransformer</label><div class=\"sk-toggleable__content\"><pre>LogTransformer(handle_inf=&#x27;const&#x27;)</pre></div></div></div></div></div></div><div class=\"sk-parallel-item\"><div class=\"sk-item\"><div class=\"sk-label-container\"><div class=\"sk-label sk-toggleable\"><input class=\"sk-toggleable__control sk-hidden--visually\" id=\"sk-estimator-id-24\" type=\"checkbox\" ><label for=\"sk-estimator-id-24\" class=\"sk-toggleable__label sk-toggleable__label-arrow\">scl</label><div class=\"sk-toggleable__content\"><pre>[&#x27;amount&#x27;, &#x27;oldbalanceOrg&#x27;, &#x27;newbalanceOrig&#x27;, &#x27;oldbalanceDest&#x27;, &#x27;newbalanceDest&#x27;]</pre></div></div></div><div class=\"sk-serial\"><div class=\"sk-item\"><div class=\"sk-estimator sk-toggleable\"><input class=\"sk-toggleable__control sk-hidden--visually\" id=\"sk-estimator-id-25\" type=\"checkbox\" ><label for=\"sk-estimator-id-25\" class=\"sk-toggleable__label sk-toggleable__label-arrow\">StandardScaler</label><div class=\"sk-toggleable__content\"><pre>StandardScaler()</pre></div></div></div></div></div></div></div></div></div></div></div></div></div><div class=\"sk-item\"><div class=\"sk-estimator sk-toggleable\"><input class=\"sk-toggleable__control sk-hidden--visually\" id=\"sk-estimator-id-26\" type=\"checkbox\" ><label for=\"sk-estimator-id-26\" class=\"sk-toggleable__label sk-toggleable__label-arrow\">LogisticRegression</label><div class=\"sk-toggleable__content\"><pre>LogisticRegression(C=100, solver=&#x27;liblinear&#x27;)</pre></div></div></div></div></div></div></div>"
     },
     "execution_count": 37,
     "metadata": {},
     "output_type": "execute_result"
    }
   ],
   "source": [
    "lr"
   ]
  },
  {
   "cell_type": "code",
   "execution_count": 38,
   "metadata": {
    "pycharm": {
     "name": "#%%\n"
    }
   },
   "outputs": [
    {
     "data": {
      "text/plain": "Pipeline(steps=[('general_proc',\n                 ColumnTransformer(transformers=[('generator',\n                                                  ColumnTransformer(transformers=[('ffg',\n                                                                                   FraudFeatureGenerator(algorithm='tree'),\n                                                                                   ['amount',\n                                                                                    'oldbalanceOrg',\n                                                                                    'newbalanceOrig',\n                                                                                    'oldbalanceDest',\n                                                                                    'newbalanceDest']),\n                                                                                  ('cat',\n                                                                                   TargetEncoderFixed(handle_unknown='median'),\n                                                                                   ['type'])]),\n                                                  ['step', 'type', 'amount',\n                                                   'oldbalanceOrg',\n                                                   'newbalanceOrig',\n                                                   'oldbalanceDest',\n                                                   'newbalanceDest']),\n                                                 ('preprocessor',\n                                                  ColumnTransformer(transformers=[('imputer',\n                                                                                   SimpleImputer(fill_value=-1),\n                                                                                   ['amount',\n                                                                                    'oldbalanceOrg',\n                                                                                    'newbalanceOrig',\n                                                                                    'oldbalanceDest',\n                                                                                    'newbalanceDest'])]),\n                                                  ['step', 'type', 'amount',\n                                                   'oldbalanceOrg',\n                                                   'newbalanceOrig',\n                                                   'oldbalanceDest',\n                                                   'newbalanceDest'])])),\n                ('regressor', RandomForestClassifier())])",
      "text/html": "<style>#sk-container-id-3 {color: black;background-color: white;}#sk-container-id-3 pre{padding: 0;}#sk-container-id-3 div.sk-toggleable {background-color: white;}#sk-container-id-3 label.sk-toggleable__label {cursor: pointer;display: block;width: 100%;margin-bottom: 0;padding: 0.3em;box-sizing: border-box;text-align: center;}#sk-container-id-3 label.sk-toggleable__label-arrow:before {content: \"▸\";float: left;margin-right: 0.25em;color: #696969;}#sk-container-id-3 label.sk-toggleable__label-arrow:hover:before {color: black;}#sk-container-id-3 div.sk-estimator:hover label.sk-toggleable__label-arrow:before {color: black;}#sk-container-id-3 div.sk-toggleable__content {max-height: 0;max-width: 0;overflow: hidden;text-align: left;background-color: #f0f8ff;}#sk-container-id-3 div.sk-toggleable__content pre {margin: 0.2em;color: black;border-radius: 0.25em;background-color: #f0f8ff;}#sk-container-id-3 input.sk-toggleable__control:checked~div.sk-toggleable__content {max-height: 200px;max-width: 100%;overflow: auto;}#sk-container-id-3 input.sk-toggleable__control:checked~label.sk-toggleable__label-arrow:before {content: \"▾\";}#sk-container-id-3 div.sk-estimator input.sk-toggleable__control:checked~label.sk-toggleable__label {background-color: #d4ebff;}#sk-container-id-3 div.sk-label input.sk-toggleable__control:checked~label.sk-toggleable__label {background-color: #d4ebff;}#sk-container-id-3 input.sk-hidden--visually {border: 0;clip: rect(1px 1px 1px 1px);clip: rect(1px, 1px, 1px, 1px);height: 1px;margin: -1px;overflow: hidden;padding: 0;position: absolute;width: 1px;}#sk-container-id-3 div.sk-estimator {font-family: monospace;background-color: #f0f8ff;border: 1px dotted black;border-radius: 0.25em;box-sizing: border-box;margin-bottom: 0.5em;}#sk-container-id-3 div.sk-estimator:hover {background-color: #d4ebff;}#sk-container-id-3 div.sk-parallel-item::after {content: \"\";width: 100%;border-bottom: 1px solid gray;flex-grow: 1;}#sk-container-id-3 div.sk-label:hover label.sk-toggleable__label {background-color: #d4ebff;}#sk-container-id-3 div.sk-serial::before {content: \"\";position: absolute;border-left: 1px solid gray;box-sizing: border-box;top: 0;bottom: 0;left: 50%;z-index: 0;}#sk-container-id-3 div.sk-serial {display: flex;flex-direction: column;align-items: center;background-color: white;padding-right: 0.2em;padding-left: 0.2em;position: relative;}#sk-container-id-3 div.sk-item {position: relative;z-index: 1;}#sk-container-id-3 div.sk-parallel {display: flex;align-items: stretch;justify-content: center;background-color: white;position: relative;}#sk-container-id-3 div.sk-item::before, #sk-container-id-3 div.sk-parallel-item::before {content: \"\";position: absolute;border-left: 1px solid gray;box-sizing: border-box;top: 0;bottom: 0;left: 50%;z-index: -1;}#sk-container-id-3 div.sk-parallel-item {display: flex;flex-direction: column;z-index: 1;position: relative;background-color: white;}#sk-container-id-3 div.sk-parallel-item:first-child::after {align-self: flex-end;width: 50%;}#sk-container-id-3 div.sk-parallel-item:last-child::after {align-self: flex-start;width: 50%;}#sk-container-id-3 div.sk-parallel-item:only-child::after {width: 0;}#sk-container-id-3 div.sk-dashed-wrapped {border: 1px dashed gray;margin: 0 0.4em 0.5em 0.4em;box-sizing: border-box;padding-bottom: 0.4em;background-color: white;}#sk-container-id-3 div.sk-label label {font-family: monospace;font-weight: bold;display: inline-block;line-height: 1.2em;}#sk-container-id-3 div.sk-label-container {text-align: center;}#sk-container-id-3 div.sk-container {/* jupyter's `normalize.less` sets `[hidden] { display: none; }` but bootstrap.min.css set `[hidden] { display: none !important; }` so we also need the `!important` here to be able to override the default hidden behavior on the sphinx rendered scikit-learn.org. See: https://github.com/scikit-learn/scikit-learn/issues/21755 */display: inline-block !important;position: relative;}#sk-container-id-3 div.sk-text-repr-fallback {display: none;}</style><div id=\"sk-container-id-3\" class=\"sk-top-container\"><div class=\"sk-text-repr-fallback\"><pre>Pipeline(steps=[(&#x27;general_proc&#x27;,\n                 ColumnTransformer(transformers=[(&#x27;generator&#x27;,\n                                                  ColumnTransformer(transformers=[(&#x27;ffg&#x27;,\n                                                                                   FraudFeatureGenerator(algorithm=&#x27;tree&#x27;),\n                                                                                   [&#x27;amount&#x27;,\n                                                                                    &#x27;oldbalanceOrg&#x27;,\n                                                                                    &#x27;newbalanceOrig&#x27;,\n                                                                                    &#x27;oldbalanceDest&#x27;,\n                                                                                    &#x27;newbalanceDest&#x27;]),\n                                                                                  (&#x27;cat&#x27;,\n                                                                                   TargetEncoderFixed(handle_unknown=&#x27;median&#x27;),\n                                                                                   [&#x27;type&#x27;])]),\n                                                  [&#x27;step&#x27;, &#x27;type&#x27;, &#x27;amount&#x27;,\n                                                   &#x27;oldbalanceOrg&#x27;,\n                                                   &#x27;newbalanceOrig&#x27;,\n                                                   &#x27;oldbalanceDest&#x27;,\n                                                   &#x27;newbalanceDest&#x27;]),\n                                                 (&#x27;preprocessor&#x27;,\n                                                  ColumnTransformer(transformers=[(&#x27;imputer&#x27;,\n                                                                                   SimpleImputer(fill_value=-1),\n                                                                                   [&#x27;amount&#x27;,\n                                                                                    &#x27;oldbalanceOrg&#x27;,\n                                                                                    &#x27;newbalanceOrig&#x27;,\n                                                                                    &#x27;oldbalanceDest&#x27;,\n                                                                                    &#x27;newbalanceDest&#x27;])]),\n                                                  [&#x27;step&#x27;, &#x27;type&#x27;, &#x27;amount&#x27;,\n                                                   &#x27;oldbalanceOrg&#x27;,\n                                                   &#x27;newbalanceOrig&#x27;,\n                                                   &#x27;oldbalanceDest&#x27;,\n                                                   &#x27;newbalanceDest&#x27;])])),\n                (&#x27;regressor&#x27;, RandomForestClassifier())])</pre><b>In a Jupyter environment, please rerun this cell to show the HTML representation or trust the notebook. <br />On GitHub, the HTML representation is unable to render, please try loading this page with nbviewer.org.</b></div><div class=\"sk-container\" hidden><div class=\"sk-item sk-dashed-wrapped\"><div class=\"sk-label-container\"><div class=\"sk-label sk-toggleable\"><input class=\"sk-toggleable__control sk-hidden--visually\" id=\"sk-estimator-id-27\" type=\"checkbox\" ><label for=\"sk-estimator-id-27\" class=\"sk-toggleable__label sk-toggleable__label-arrow\">Pipeline</label><div class=\"sk-toggleable__content\"><pre>Pipeline(steps=[(&#x27;general_proc&#x27;,\n                 ColumnTransformer(transformers=[(&#x27;generator&#x27;,\n                                                  ColumnTransformer(transformers=[(&#x27;ffg&#x27;,\n                                                                                   FraudFeatureGenerator(algorithm=&#x27;tree&#x27;),\n                                                                                   [&#x27;amount&#x27;,\n                                                                                    &#x27;oldbalanceOrg&#x27;,\n                                                                                    &#x27;newbalanceOrig&#x27;,\n                                                                                    &#x27;oldbalanceDest&#x27;,\n                                                                                    &#x27;newbalanceDest&#x27;]),\n                                                                                  (&#x27;cat&#x27;,\n                                                                                   TargetEncoderFixed(handle_unknown=&#x27;median&#x27;),\n                                                                                   [&#x27;type&#x27;])]),\n                                                  [&#x27;step&#x27;, &#x27;type&#x27;, &#x27;amount&#x27;,\n                                                   &#x27;oldbalanceOrg&#x27;,\n                                                   &#x27;newbalanceOrig&#x27;,\n                                                   &#x27;oldbalanceDest&#x27;,\n                                                   &#x27;newbalanceDest&#x27;]),\n                                                 (&#x27;preprocessor&#x27;,\n                                                  ColumnTransformer(transformers=[(&#x27;imputer&#x27;,\n                                                                                   SimpleImputer(fill_value=-1),\n                                                                                   [&#x27;amount&#x27;,\n                                                                                    &#x27;oldbalanceOrg&#x27;,\n                                                                                    &#x27;newbalanceOrig&#x27;,\n                                                                                    &#x27;oldbalanceDest&#x27;,\n                                                                                    &#x27;newbalanceDest&#x27;])]),\n                                                  [&#x27;step&#x27;, &#x27;type&#x27;, &#x27;amount&#x27;,\n                                                   &#x27;oldbalanceOrg&#x27;,\n                                                   &#x27;newbalanceOrig&#x27;,\n                                                   &#x27;oldbalanceDest&#x27;,\n                                                   &#x27;newbalanceDest&#x27;])])),\n                (&#x27;regressor&#x27;, RandomForestClassifier())])</pre></div></div></div><div class=\"sk-serial\"><div class=\"sk-item sk-dashed-wrapped\"><div class=\"sk-label-container\"><div class=\"sk-label sk-toggleable\"><input class=\"sk-toggleable__control sk-hidden--visually\" id=\"sk-estimator-id-28\" type=\"checkbox\" ><label for=\"sk-estimator-id-28\" class=\"sk-toggleable__label sk-toggleable__label-arrow\">general_proc: ColumnTransformer</label><div class=\"sk-toggleable__content\"><pre>ColumnTransformer(transformers=[(&#x27;generator&#x27;,\n                                 ColumnTransformer(transformers=[(&#x27;ffg&#x27;,\n                                                                  FraudFeatureGenerator(algorithm=&#x27;tree&#x27;),\n                                                                  [&#x27;amount&#x27;,\n                                                                   &#x27;oldbalanceOrg&#x27;,\n                                                                   &#x27;newbalanceOrig&#x27;,\n                                                                   &#x27;oldbalanceDest&#x27;,\n                                                                   &#x27;newbalanceDest&#x27;]),\n                                                                 (&#x27;cat&#x27;,\n                                                                  TargetEncoderFixed(handle_unknown=&#x27;median&#x27;),\n                                                                  [&#x27;type&#x27;])]),\n                                 [&#x27;step&#x27;, &#x27;type&#x27;, &#x27;amount&#x27;, &#x27;oldbalanceOrg&#x27;,\n                                  &#x27;newbalanceOrig&#x27;, &#x27;oldbalanceDest&#x27;,\n                                  &#x27;newbalanceDest&#x27;]),\n                                (&#x27;preprocessor&#x27;,\n                                 ColumnTransformer(transformers=[(&#x27;imputer&#x27;,\n                                                                  SimpleImputer(fill_value=-1),\n                                                                  [&#x27;amount&#x27;,\n                                                                   &#x27;oldbalanceOrg&#x27;,\n                                                                   &#x27;newbalanceOrig&#x27;,\n                                                                   &#x27;oldbalanceDest&#x27;,\n                                                                   &#x27;newbalanceDest&#x27;])]),\n                                 [&#x27;step&#x27;, &#x27;type&#x27;, &#x27;amount&#x27;, &#x27;oldbalanceOrg&#x27;,\n                                  &#x27;newbalanceOrig&#x27;, &#x27;oldbalanceDest&#x27;,\n                                  &#x27;newbalanceDest&#x27;])])</pre></div></div></div><div class=\"sk-parallel\"><div class=\"sk-parallel-item\"><div class=\"sk-item\"><div class=\"sk-label-container\"><div class=\"sk-label sk-toggleable\"><input class=\"sk-toggleable__control sk-hidden--visually\" id=\"sk-estimator-id-29\" type=\"checkbox\" ><label for=\"sk-estimator-id-29\" class=\"sk-toggleable__label sk-toggleable__label-arrow\">generator</label><div class=\"sk-toggleable__content\"><pre>[&#x27;step&#x27;, &#x27;type&#x27;, &#x27;amount&#x27;, &#x27;oldbalanceOrg&#x27;, &#x27;newbalanceOrig&#x27;, &#x27;oldbalanceDest&#x27;, &#x27;newbalanceDest&#x27;]</pre></div></div></div><div class=\"sk-serial\"><div class=\"sk-item sk-dashed-wrapped\"><div class=\"sk-parallel\"><div class=\"sk-parallel-item\"><div class=\"sk-item\"><div class=\"sk-label-container\"><div class=\"sk-label sk-toggleable\"><input class=\"sk-toggleable__control sk-hidden--visually\" id=\"sk-estimator-id-30\" type=\"checkbox\" ><label for=\"sk-estimator-id-30\" class=\"sk-toggleable__label sk-toggleable__label-arrow\">ffg</label><div class=\"sk-toggleable__content\"><pre>[&#x27;amount&#x27;, &#x27;oldbalanceOrg&#x27;, &#x27;newbalanceOrig&#x27;, &#x27;oldbalanceDest&#x27;, &#x27;newbalanceDest&#x27;]</pre></div></div></div><div class=\"sk-serial\"><div class=\"sk-item\"><div class=\"sk-estimator sk-toggleable\"><input class=\"sk-toggleable__control sk-hidden--visually\" id=\"sk-estimator-id-31\" type=\"checkbox\" ><label for=\"sk-estimator-id-31\" class=\"sk-toggleable__label sk-toggleable__label-arrow\">FraudFeatureGenerator</label><div class=\"sk-toggleable__content\"><pre>FraudFeatureGenerator(algorithm=&#x27;tree&#x27;)</pre></div></div></div></div></div></div><div class=\"sk-parallel-item\"><div class=\"sk-item\"><div class=\"sk-label-container\"><div class=\"sk-label sk-toggleable\"><input class=\"sk-toggleable__control sk-hidden--visually\" id=\"sk-estimator-id-32\" type=\"checkbox\" ><label for=\"sk-estimator-id-32\" class=\"sk-toggleable__label sk-toggleable__label-arrow\">cat</label><div class=\"sk-toggleable__content\"><pre>[&#x27;type&#x27;]</pre></div></div></div><div class=\"sk-serial\"><div class=\"sk-item\"><div class=\"sk-estimator sk-toggleable\"><input class=\"sk-toggleable__control sk-hidden--visually\" id=\"sk-estimator-id-33\" type=\"checkbox\" ><label for=\"sk-estimator-id-33\" class=\"sk-toggleable__label sk-toggleable__label-arrow\">TargetEncoderFixed</label><div class=\"sk-toggleable__content\"><pre>TargetEncoderFixed(handle_unknown=&#x27;median&#x27;)</pre></div></div></div></div></div></div></div></div></div></div></div><div class=\"sk-parallel-item\"><div class=\"sk-item\"><div class=\"sk-label-container\"><div class=\"sk-label sk-toggleable\"><input class=\"sk-toggleable__control sk-hidden--visually\" id=\"sk-estimator-id-34\" type=\"checkbox\" ><label for=\"sk-estimator-id-34\" class=\"sk-toggleable__label sk-toggleable__label-arrow\">preprocessor</label><div class=\"sk-toggleable__content\"><pre>[&#x27;step&#x27;, &#x27;type&#x27;, &#x27;amount&#x27;, &#x27;oldbalanceOrg&#x27;, &#x27;newbalanceOrig&#x27;, &#x27;oldbalanceDest&#x27;, &#x27;newbalanceDest&#x27;]</pre></div></div></div><div class=\"sk-serial\"><div class=\"sk-item sk-dashed-wrapped\"><div class=\"sk-parallel\"><div class=\"sk-parallel-item\"><div class=\"sk-item\"><div class=\"sk-label-container\"><div class=\"sk-label sk-toggleable\"><input class=\"sk-toggleable__control sk-hidden--visually\" id=\"sk-estimator-id-35\" type=\"checkbox\" ><label for=\"sk-estimator-id-35\" class=\"sk-toggleable__label sk-toggleable__label-arrow\">imputer</label><div class=\"sk-toggleable__content\"><pre>[&#x27;amount&#x27;, &#x27;oldbalanceOrg&#x27;, &#x27;newbalanceOrig&#x27;, &#x27;oldbalanceDest&#x27;, &#x27;newbalanceDest&#x27;]</pre></div></div></div><div class=\"sk-serial\"><div class=\"sk-item\"><div class=\"sk-estimator sk-toggleable\"><input class=\"sk-toggleable__control sk-hidden--visually\" id=\"sk-estimator-id-36\" type=\"checkbox\" ><label for=\"sk-estimator-id-36\" class=\"sk-toggleable__label sk-toggleable__label-arrow\">SimpleImputer</label><div class=\"sk-toggleable__content\"><pre>SimpleImputer(fill_value=-1)</pre></div></div></div></div></div></div></div></div></div></div></div></div></div><div class=\"sk-item\"><div class=\"sk-estimator sk-toggleable\"><input class=\"sk-toggleable__control sk-hidden--visually\" id=\"sk-estimator-id-37\" type=\"checkbox\" ><label for=\"sk-estimator-id-37\" class=\"sk-toggleable__label sk-toggleable__label-arrow\">RandomForestClassifier</label><div class=\"sk-toggleable__content\"><pre>RandomForestClassifier()</pre></div></div></div></div></div></div></div>"
     },
     "execution_count": 38,
     "metadata": {},
     "output_type": "execute_result"
    }
   ],
   "source": [
    "rfc"
   ]
  },
  {
   "cell_type": "markdown",
   "source": [
    "#### Load pipelines from files"
   ],
   "metadata": {
    "collapsed": false,
    "pycharm": {
     "name": "#%% md\n"
    }
   }
  },
  {
   "cell_type": "code",
   "execution_count": 45,
   "outputs": [],
   "source": [
    "filenames = [\n",
    "    \"data_mining_CatBoost_Pipeline_2023-05-23.bin.gz\",\n",
    "    \"data_mining_Dummy_mf_Pipeline_2023-05-23.bin.gz\",\n",
    "    \"data_mining_Dummy_strf_Pipeline_2023-05-23.bin.gz\",\n",
    "    \"data_mining_LGBM_Pipeline_2023-05-23.bin.gz\",\n",
    "    \"data_mining_LinReg_Pipeline_2023-05-23.bin.gz\",\n",
    "    \"data_mining_MLP_Pipeline_2023-05-23.bin.gz\",\n",
    "    \"data_mining_RFC_Pipeline_2023-05-23.bin.gz\",\n",
    "    \"data_mining_XGB_Pipeline_2023-05-23.bin.gz\"\n",
    "]"
   ],
   "metadata": {
    "collapsed": false,
    "pycharm": {
     "name": "#%%\n"
    }
   }
  },
  {
   "cell_type": "code",
   "execution_count": 46,
   "outputs": [],
   "source": [
    "def read(file):\n",
    "    with gzip.open(file, mode=\"rb\") as f:\n",
    "        return pickle.load(f)"
   ],
   "metadata": {
    "collapsed": false,
    "pycharm": {
     "name": "#%%\n"
    }
   }
  },
  {
   "cell_type": "code",
   "execution_count": null,
   "outputs": [],
   "source": [
    "load_from_file = True\n",
    "\n",
    "if load_from_file:\n",
    "    pipelines = [\n",
    "        (filename.split('data_mining_')[1].split('_Pipeline')[0], read(filename).pipeline\n",
    "         ) for filename in filenames]"
   ],
   "metadata": {
    "collapsed": false,
    "pycharm": {
     "name": "#%%\n"
    }
   }
  },
  {
   "cell_type": "markdown",
   "metadata": {
    "pycharm": {
     "name": "#%% md\n"
    }
   },
   "source": [
    "#### Data split"
   ]
  },
  {
   "cell_type": "code",
   "execution_count": 49,
   "metadata": {
    "pycharm": {
     "name": "#%%\n"
    }
   },
   "outputs": [],
   "source": [
    "X_train, X_test, y_train, y_test = train_test_split(data[features], data[target], test_size=0.2, stratify=data[target])"
   ]
  },
  {
   "cell_type": "code",
   "execution_count": 50,
   "metadata": {
    "pycharm": {
     "name": "#%%\n"
    }
   },
   "outputs": [
    {
     "data": {
      "text/plain": "((5090096, 7), (1272524, 7))"
     },
     "execution_count": 50,
     "metadata": {},
     "output_type": "execute_result"
    }
   ],
   "source": [
    "X_train.shape, X_test.shape"
   ]
  },
  {
   "cell_type": "code",
   "execution_count": 51,
   "metadata": {
    "pycharm": {
     "name": "#%%\n"
    }
   },
   "outputs": [
    {
     "data": {
      "text/plain": "0    5083526\n1       6570\nName: isFraud, dtype: int64"
     },
     "execution_count": 51,
     "metadata": {},
     "output_type": "execute_result"
    }
   ],
   "source": [
    "y_train.value_counts()"
   ]
  },
  {
   "cell_type": "code",
   "execution_count": 52,
   "metadata": {
    "pycharm": {
     "name": "#%%\n"
    }
   },
   "outputs": [
    {
     "data": {
      "text/plain": "0    1270881\n1       1643\nName: isFraud, dtype: int64"
     },
     "execution_count": 52,
     "metadata": {},
     "output_type": "execute_result"
    }
   ],
   "source": [
    "y_test.value_counts()"
   ]
  },
  {
   "cell_type": "markdown",
   "source": [
    "#### Train single model"
   ],
   "metadata": {
    "collapsed": false,
    "pycharm": {
     "name": "#%% md\n"
    }
   }
  },
  {
   "cell_type": "code",
   "execution_count": 55,
   "metadata": {
    "pycharm": {
     "name": "#%%\n"
    }
   },
   "outputs": [],
   "source": [
    "model = rfc"
   ]
  },
  {
   "cell_type": "code",
   "execution_count": 56,
   "metadata": {
    "pycharm": {
     "name": "#%%\n"
    }
   },
   "outputs": [
    {
     "data": {
      "text/plain": "Pipeline(steps=[('general_proc',\n                 ColumnTransformer(transformers=[('generator',\n                                                  ColumnTransformer(transformers=[('ffg',\n                                                                                   FraudFeatureGenerator(algorithm='tree'),\n                                                                                   ['amount',\n                                                                                    'oldbalanceOrg',\n                                                                                    'newbalanceOrig',\n                                                                                    'oldbalanceDest',\n                                                                                    'newbalanceDest']),\n                                                                                  ('cat',\n                                                                                   TargetEncoderFixed(handle_unknown='median'),\n                                                                                   ['type'])]),\n                                                  ['step', 'type', 'amount',\n                                                   'oldbalanceOrg',\n                                                   'newbalanceOrig',\n                                                   'oldbalanceDest',\n                                                   'newbalanceDest']),\n                                                 ('preprocessor',\n                                                  ColumnTransformer(transformers=[('imputer',\n                                                                                   SimpleImputer(fill_value=-1),\n                                                                                   ['amount',\n                                                                                    'oldbalanceOrg',\n                                                                                    'newbalanceOrig',\n                                                                                    'oldbalanceDest',\n                                                                                    'newbalanceDest'])]),\n                                                  ['step', 'type', 'amount',\n                                                   'oldbalanceOrg',\n                                                   'newbalanceOrig',\n                                                   'oldbalanceDest',\n                                                   'newbalanceDest'])])),\n                ('regressor', RandomForestClassifier())])",
      "text/html": "<style>#sk-container-id-4 {color: black;background-color: white;}#sk-container-id-4 pre{padding: 0;}#sk-container-id-4 div.sk-toggleable {background-color: white;}#sk-container-id-4 label.sk-toggleable__label {cursor: pointer;display: block;width: 100%;margin-bottom: 0;padding: 0.3em;box-sizing: border-box;text-align: center;}#sk-container-id-4 label.sk-toggleable__label-arrow:before {content: \"▸\";float: left;margin-right: 0.25em;color: #696969;}#sk-container-id-4 label.sk-toggleable__label-arrow:hover:before {color: black;}#sk-container-id-4 div.sk-estimator:hover label.sk-toggleable__label-arrow:before {color: black;}#sk-container-id-4 div.sk-toggleable__content {max-height: 0;max-width: 0;overflow: hidden;text-align: left;background-color: #f0f8ff;}#sk-container-id-4 div.sk-toggleable__content pre {margin: 0.2em;color: black;border-radius: 0.25em;background-color: #f0f8ff;}#sk-container-id-4 input.sk-toggleable__control:checked~div.sk-toggleable__content {max-height: 200px;max-width: 100%;overflow: auto;}#sk-container-id-4 input.sk-toggleable__control:checked~label.sk-toggleable__label-arrow:before {content: \"▾\";}#sk-container-id-4 div.sk-estimator input.sk-toggleable__control:checked~label.sk-toggleable__label {background-color: #d4ebff;}#sk-container-id-4 div.sk-label input.sk-toggleable__control:checked~label.sk-toggleable__label {background-color: #d4ebff;}#sk-container-id-4 input.sk-hidden--visually {border: 0;clip: rect(1px 1px 1px 1px);clip: rect(1px, 1px, 1px, 1px);height: 1px;margin: -1px;overflow: hidden;padding: 0;position: absolute;width: 1px;}#sk-container-id-4 div.sk-estimator {font-family: monospace;background-color: #f0f8ff;border: 1px dotted black;border-radius: 0.25em;box-sizing: border-box;margin-bottom: 0.5em;}#sk-container-id-4 div.sk-estimator:hover {background-color: #d4ebff;}#sk-container-id-4 div.sk-parallel-item::after {content: \"\";width: 100%;border-bottom: 1px solid gray;flex-grow: 1;}#sk-container-id-4 div.sk-label:hover label.sk-toggleable__label {background-color: #d4ebff;}#sk-container-id-4 div.sk-serial::before {content: \"\";position: absolute;border-left: 1px solid gray;box-sizing: border-box;top: 0;bottom: 0;left: 50%;z-index: 0;}#sk-container-id-4 div.sk-serial {display: flex;flex-direction: column;align-items: center;background-color: white;padding-right: 0.2em;padding-left: 0.2em;position: relative;}#sk-container-id-4 div.sk-item {position: relative;z-index: 1;}#sk-container-id-4 div.sk-parallel {display: flex;align-items: stretch;justify-content: center;background-color: white;position: relative;}#sk-container-id-4 div.sk-item::before, #sk-container-id-4 div.sk-parallel-item::before {content: \"\";position: absolute;border-left: 1px solid gray;box-sizing: border-box;top: 0;bottom: 0;left: 50%;z-index: -1;}#sk-container-id-4 div.sk-parallel-item {display: flex;flex-direction: column;z-index: 1;position: relative;background-color: white;}#sk-container-id-4 div.sk-parallel-item:first-child::after {align-self: flex-end;width: 50%;}#sk-container-id-4 div.sk-parallel-item:last-child::after {align-self: flex-start;width: 50%;}#sk-container-id-4 div.sk-parallel-item:only-child::after {width: 0;}#sk-container-id-4 div.sk-dashed-wrapped {border: 1px dashed gray;margin: 0 0.4em 0.5em 0.4em;box-sizing: border-box;padding-bottom: 0.4em;background-color: white;}#sk-container-id-4 div.sk-label label {font-family: monospace;font-weight: bold;display: inline-block;line-height: 1.2em;}#sk-container-id-4 div.sk-label-container {text-align: center;}#sk-container-id-4 div.sk-container {/* jupyter's `normalize.less` sets `[hidden] { display: none; }` but bootstrap.min.css set `[hidden] { display: none !important; }` so we also need the `!important` here to be able to override the default hidden behavior on the sphinx rendered scikit-learn.org. See: https://github.com/scikit-learn/scikit-learn/issues/21755 */display: inline-block !important;position: relative;}#sk-container-id-4 div.sk-text-repr-fallback {display: none;}</style><div id=\"sk-container-id-4\" class=\"sk-top-container\"><div class=\"sk-text-repr-fallback\"><pre>Pipeline(steps=[(&#x27;general_proc&#x27;,\n                 ColumnTransformer(transformers=[(&#x27;generator&#x27;,\n                                                  ColumnTransformer(transformers=[(&#x27;ffg&#x27;,\n                                                                                   FraudFeatureGenerator(algorithm=&#x27;tree&#x27;),\n                                                                                   [&#x27;amount&#x27;,\n                                                                                    &#x27;oldbalanceOrg&#x27;,\n                                                                                    &#x27;newbalanceOrig&#x27;,\n                                                                                    &#x27;oldbalanceDest&#x27;,\n                                                                                    &#x27;newbalanceDest&#x27;]),\n                                                                                  (&#x27;cat&#x27;,\n                                                                                   TargetEncoderFixed(handle_unknown=&#x27;median&#x27;),\n                                                                                   [&#x27;type&#x27;])]),\n                                                  [&#x27;step&#x27;, &#x27;type&#x27;, &#x27;amount&#x27;,\n                                                   &#x27;oldbalanceOrg&#x27;,\n                                                   &#x27;newbalanceOrig&#x27;,\n                                                   &#x27;oldbalanceDest&#x27;,\n                                                   &#x27;newbalanceDest&#x27;]),\n                                                 (&#x27;preprocessor&#x27;,\n                                                  ColumnTransformer(transformers=[(&#x27;imputer&#x27;,\n                                                                                   SimpleImputer(fill_value=-1),\n                                                                                   [&#x27;amount&#x27;,\n                                                                                    &#x27;oldbalanceOrg&#x27;,\n                                                                                    &#x27;newbalanceOrig&#x27;,\n                                                                                    &#x27;oldbalanceDest&#x27;,\n                                                                                    &#x27;newbalanceDest&#x27;])]),\n                                                  [&#x27;step&#x27;, &#x27;type&#x27;, &#x27;amount&#x27;,\n                                                   &#x27;oldbalanceOrg&#x27;,\n                                                   &#x27;newbalanceOrig&#x27;,\n                                                   &#x27;oldbalanceDest&#x27;,\n                                                   &#x27;newbalanceDest&#x27;])])),\n                (&#x27;regressor&#x27;, RandomForestClassifier())])</pre><b>In a Jupyter environment, please rerun this cell to show the HTML representation or trust the notebook. <br />On GitHub, the HTML representation is unable to render, please try loading this page with nbviewer.org.</b></div><div class=\"sk-container\" hidden><div class=\"sk-item sk-dashed-wrapped\"><div class=\"sk-label-container\"><div class=\"sk-label sk-toggleable\"><input class=\"sk-toggleable__control sk-hidden--visually\" id=\"sk-estimator-id-38\" type=\"checkbox\" ><label for=\"sk-estimator-id-38\" class=\"sk-toggleable__label sk-toggleable__label-arrow\">Pipeline</label><div class=\"sk-toggleable__content\"><pre>Pipeline(steps=[(&#x27;general_proc&#x27;,\n                 ColumnTransformer(transformers=[(&#x27;generator&#x27;,\n                                                  ColumnTransformer(transformers=[(&#x27;ffg&#x27;,\n                                                                                   FraudFeatureGenerator(algorithm=&#x27;tree&#x27;),\n                                                                                   [&#x27;amount&#x27;,\n                                                                                    &#x27;oldbalanceOrg&#x27;,\n                                                                                    &#x27;newbalanceOrig&#x27;,\n                                                                                    &#x27;oldbalanceDest&#x27;,\n                                                                                    &#x27;newbalanceDest&#x27;]),\n                                                                                  (&#x27;cat&#x27;,\n                                                                                   TargetEncoderFixed(handle_unknown=&#x27;median&#x27;),\n                                                                                   [&#x27;type&#x27;])]),\n                                                  [&#x27;step&#x27;, &#x27;type&#x27;, &#x27;amount&#x27;,\n                                                   &#x27;oldbalanceOrg&#x27;,\n                                                   &#x27;newbalanceOrig&#x27;,\n                                                   &#x27;oldbalanceDest&#x27;,\n                                                   &#x27;newbalanceDest&#x27;]),\n                                                 (&#x27;preprocessor&#x27;,\n                                                  ColumnTransformer(transformers=[(&#x27;imputer&#x27;,\n                                                                                   SimpleImputer(fill_value=-1),\n                                                                                   [&#x27;amount&#x27;,\n                                                                                    &#x27;oldbalanceOrg&#x27;,\n                                                                                    &#x27;newbalanceOrig&#x27;,\n                                                                                    &#x27;oldbalanceDest&#x27;,\n                                                                                    &#x27;newbalanceDest&#x27;])]),\n                                                  [&#x27;step&#x27;, &#x27;type&#x27;, &#x27;amount&#x27;,\n                                                   &#x27;oldbalanceOrg&#x27;,\n                                                   &#x27;newbalanceOrig&#x27;,\n                                                   &#x27;oldbalanceDest&#x27;,\n                                                   &#x27;newbalanceDest&#x27;])])),\n                (&#x27;regressor&#x27;, RandomForestClassifier())])</pre></div></div></div><div class=\"sk-serial\"><div class=\"sk-item sk-dashed-wrapped\"><div class=\"sk-label-container\"><div class=\"sk-label sk-toggleable\"><input class=\"sk-toggleable__control sk-hidden--visually\" id=\"sk-estimator-id-39\" type=\"checkbox\" ><label for=\"sk-estimator-id-39\" class=\"sk-toggleable__label sk-toggleable__label-arrow\">general_proc: ColumnTransformer</label><div class=\"sk-toggleable__content\"><pre>ColumnTransformer(transformers=[(&#x27;generator&#x27;,\n                                 ColumnTransformer(transformers=[(&#x27;ffg&#x27;,\n                                                                  FraudFeatureGenerator(algorithm=&#x27;tree&#x27;),\n                                                                  [&#x27;amount&#x27;,\n                                                                   &#x27;oldbalanceOrg&#x27;,\n                                                                   &#x27;newbalanceOrig&#x27;,\n                                                                   &#x27;oldbalanceDest&#x27;,\n                                                                   &#x27;newbalanceDest&#x27;]),\n                                                                 (&#x27;cat&#x27;,\n                                                                  TargetEncoderFixed(handle_unknown=&#x27;median&#x27;),\n                                                                  [&#x27;type&#x27;])]),\n                                 [&#x27;step&#x27;, &#x27;type&#x27;, &#x27;amount&#x27;, &#x27;oldbalanceOrg&#x27;,\n                                  &#x27;newbalanceOrig&#x27;, &#x27;oldbalanceDest&#x27;,\n                                  &#x27;newbalanceDest&#x27;]),\n                                (&#x27;preprocessor&#x27;,\n                                 ColumnTransformer(transformers=[(&#x27;imputer&#x27;,\n                                                                  SimpleImputer(fill_value=-1),\n                                                                  [&#x27;amount&#x27;,\n                                                                   &#x27;oldbalanceOrg&#x27;,\n                                                                   &#x27;newbalanceOrig&#x27;,\n                                                                   &#x27;oldbalanceDest&#x27;,\n                                                                   &#x27;newbalanceDest&#x27;])]),\n                                 [&#x27;step&#x27;, &#x27;type&#x27;, &#x27;amount&#x27;, &#x27;oldbalanceOrg&#x27;,\n                                  &#x27;newbalanceOrig&#x27;, &#x27;oldbalanceDest&#x27;,\n                                  &#x27;newbalanceDest&#x27;])])</pre></div></div></div><div class=\"sk-parallel\"><div class=\"sk-parallel-item\"><div class=\"sk-item\"><div class=\"sk-label-container\"><div class=\"sk-label sk-toggleable\"><input class=\"sk-toggleable__control sk-hidden--visually\" id=\"sk-estimator-id-40\" type=\"checkbox\" ><label for=\"sk-estimator-id-40\" class=\"sk-toggleable__label sk-toggleable__label-arrow\">generator</label><div class=\"sk-toggleable__content\"><pre>[&#x27;step&#x27;, &#x27;type&#x27;, &#x27;amount&#x27;, &#x27;oldbalanceOrg&#x27;, &#x27;newbalanceOrig&#x27;, &#x27;oldbalanceDest&#x27;, &#x27;newbalanceDest&#x27;]</pre></div></div></div><div class=\"sk-serial\"><div class=\"sk-item sk-dashed-wrapped\"><div class=\"sk-parallel\"><div class=\"sk-parallel-item\"><div class=\"sk-item\"><div class=\"sk-label-container\"><div class=\"sk-label sk-toggleable\"><input class=\"sk-toggleable__control sk-hidden--visually\" id=\"sk-estimator-id-41\" type=\"checkbox\" ><label for=\"sk-estimator-id-41\" class=\"sk-toggleable__label sk-toggleable__label-arrow\">ffg</label><div class=\"sk-toggleable__content\"><pre>[&#x27;amount&#x27;, &#x27;oldbalanceOrg&#x27;, &#x27;newbalanceOrig&#x27;, &#x27;oldbalanceDest&#x27;, &#x27;newbalanceDest&#x27;]</pre></div></div></div><div class=\"sk-serial\"><div class=\"sk-item\"><div class=\"sk-estimator sk-toggleable\"><input class=\"sk-toggleable__control sk-hidden--visually\" id=\"sk-estimator-id-42\" type=\"checkbox\" ><label for=\"sk-estimator-id-42\" class=\"sk-toggleable__label sk-toggleable__label-arrow\">FraudFeatureGenerator</label><div class=\"sk-toggleable__content\"><pre>FraudFeatureGenerator(algorithm=&#x27;tree&#x27;)</pre></div></div></div></div></div></div><div class=\"sk-parallel-item\"><div class=\"sk-item\"><div class=\"sk-label-container\"><div class=\"sk-label sk-toggleable\"><input class=\"sk-toggleable__control sk-hidden--visually\" id=\"sk-estimator-id-43\" type=\"checkbox\" ><label for=\"sk-estimator-id-43\" class=\"sk-toggleable__label sk-toggleable__label-arrow\">cat</label><div class=\"sk-toggleable__content\"><pre>[&#x27;type&#x27;]</pre></div></div></div><div class=\"sk-serial\"><div class=\"sk-item\"><div class=\"sk-estimator sk-toggleable\"><input class=\"sk-toggleable__control sk-hidden--visually\" id=\"sk-estimator-id-44\" type=\"checkbox\" ><label for=\"sk-estimator-id-44\" class=\"sk-toggleable__label sk-toggleable__label-arrow\">TargetEncoderFixed</label><div class=\"sk-toggleable__content\"><pre>TargetEncoderFixed(handle_unknown=&#x27;median&#x27;)</pre></div></div></div></div></div></div></div></div></div></div></div><div class=\"sk-parallel-item\"><div class=\"sk-item\"><div class=\"sk-label-container\"><div class=\"sk-label sk-toggleable\"><input class=\"sk-toggleable__control sk-hidden--visually\" id=\"sk-estimator-id-45\" type=\"checkbox\" ><label for=\"sk-estimator-id-45\" class=\"sk-toggleable__label sk-toggleable__label-arrow\">preprocessor</label><div class=\"sk-toggleable__content\"><pre>[&#x27;step&#x27;, &#x27;type&#x27;, &#x27;amount&#x27;, &#x27;oldbalanceOrg&#x27;, &#x27;newbalanceOrig&#x27;, &#x27;oldbalanceDest&#x27;, &#x27;newbalanceDest&#x27;]</pre></div></div></div><div class=\"sk-serial\"><div class=\"sk-item sk-dashed-wrapped\"><div class=\"sk-parallel\"><div class=\"sk-parallel-item\"><div class=\"sk-item\"><div class=\"sk-label-container\"><div class=\"sk-label sk-toggleable\"><input class=\"sk-toggleable__control sk-hidden--visually\" id=\"sk-estimator-id-46\" type=\"checkbox\" ><label for=\"sk-estimator-id-46\" class=\"sk-toggleable__label sk-toggleable__label-arrow\">imputer</label><div class=\"sk-toggleable__content\"><pre>[&#x27;amount&#x27;, &#x27;oldbalanceOrg&#x27;, &#x27;newbalanceOrig&#x27;, &#x27;oldbalanceDest&#x27;, &#x27;newbalanceDest&#x27;]</pre></div></div></div><div class=\"sk-serial\"><div class=\"sk-item\"><div class=\"sk-estimator sk-toggleable\"><input class=\"sk-toggleable__control sk-hidden--visually\" id=\"sk-estimator-id-47\" type=\"checkbox\" ><label for=\"sk-estimator-id-47\" class=\"sk-toggleable__label sk-toggleable__label-arrow\">SimpleImputer</label><div class=\"sk-toggleable__content\"><pre>SimpleImputer(fill_value=-1)</pre></div></div></div></div></div></div></div></div></div></div></div></div></div><div class=\"sk-item\"><div class=\"sk-estimator sk-toggleable\"><input class=\"sk-toggleable__control sk-hidden--visually\" id=\"sk-estimator-id-48\" type=\"checkbox\" ><label for=\"sk-estimator-id-48\" class=\"sk-toggleable__label sk-toggleable__label-arrow\">RandomForestClassifier</label><div class=\"sk-toggleable__content\"><pre>RandomForestClassifier()</pre></div></div></div></div></div></div></div>"
     },
     "execution_count": 56,
     "metadata": {},
     "output_type": "execute_result"
    }
   ],
   "source": [
    "model.fit(X_train, y_train)"
   ]
  },
  {
   "cell_type": "code",
   "execution_count": 57,
   "metadata": {
    "pycharm": {
     "name": "#%%\n"
    }
   },
   "outputs": [
    {
     "name": "stdout",
     "output_type": "stream",
     "text": [
      "              precision    recall  f1-score   support\n",
      "\n",
      "           0       1.00      1.00      1.00   1270881\n",
      "           1       1.00      1.00      1.00      1643\n",
      "\n",
      "    accuracy                           1.00   1272524\n",
      "   macro avg       1.00      1.00      1.00   1272524\n",
      "weighted avg       1.00      1.00      1.00   1272524\n",
      "\n",
      "Confusion matrix:\n",
      "[[1270880       1]\n",
      " [      7    1636]]\n"
     ]
    }
   ],
   "source": [
    "y_pred_test = model.predict(X_test)\n",
    "cm = confusion_matrix(y_test, y_pred_test)\n",
    "\n",
    "print(classification_report(y_test, y_pred_test))\n",
    "\n",
    "print(\"Confusion matrix:\")\n",
    "print(cm)"
   ]
  },
  {
   "cell_type": "code",
   "execution_count": 58,
   "metadata": {
    "pycharm": {
     "name": "#%%\n"
    }
   },
   "outputs": [
    {
     "name": "stdout",
     "output_type": "stream",
     "text": [
      "              precision    recall  f1-score   support\n",
      "\n",
      "           0       1.00      1.00      1.00   5083526\n",
      "           1       1.00      1.00      1.00      6570\n",
      "\n",
      "    accuracy                           1.00   5090096\n",
      "   macro avg       1.00      1.00      1.00   5090096\n",
      "weighted avg       1.00      1.00      1.00   5090096\n",
      "\n",
      "Confusion matrix:\n",
      "[[5083526       0]\n",
      " [      0    6570]]\n"
     ]
    }
   ],
   "source": [
    "y_pred_train = model.predict(X_train)\n",
    "cm = confusion_matrix(y_train, y_pred_train)\n",
    "\n",
    "print(classification_report(y_train, y_pred_train))\n",
    "\n",
    "print(\"Confusion matrix:\")\n",
    "print(cm)"
   ]
  },
  {
   "cell_type": "code",
   "execution_count": 59,
   "metadata": {
    "pycharm": {
     "name": "#%%\n"
    }
   },
   "outputs": [],
   "source": [
    "weights = eli5.explain_weights_df(model[-1], feature_names=model[:-1].get_feature_names_out())"
   ]
  },
  {
   "cell_type": "code",
   "execution_count": 60,
   "metadata": {
    "pycharm": {
     "name": "#%%\n"
    }
   },
   "outputs": [
    {
     "data": {
      "text/plain": "                                        feature    weight       std\n0    generator__ffg__oldbalanceOrg_amount_ratio  0.450685  0.286889\n1         preprocessor__imputer__newbalanceOrig  0.099617  0.219738\n2   generator__ffg__newbalanceOrig_amount_ratio  0.097383  0.229305\n3         preprocessor__imputer__newbalanceDest  0.088682  0.133235\n4   generator__ffg__newbalanceDest_amount_ratio  0.084570  0.135342\n5          preprocessor__imputer__oldbalanceOrg  0.082678  0.098342\n6                 preprocessor__imputer__amount  0.045902  0.060084\n7                          generator__cat__type  0.020649  0.031374\n8         preprocessor__imputer__oldbalanceDest  0.012296  0.026873\n9   generator__ffg__oldbalanceDest_amount_ratio  0.012126  0.021787\n10           generator__ffg__dest_is_bigger_org  0.005413  0.013330",
      "text/html": "<div>\n<style scoped>\n    .dataframe tbody tr th:only-of-type {\n        vertical-align: middle;\n    }\n\n    .dataframe tbody tr th {\n        vertical-align: top;\n    }\n\n    .dataframe thead th {\n        text-align: right;\n    }\n</style>\n<table border=\"1\" class=\"dataframe\">\n  <thead>\n    <tr style=\"text-align: right;\">\n      <th></th>\n      <th>feature</th>\n      <th>weight</th>\n      <th>std</th>\n    </tr>\n  </thead>\n  <tbody>\n    <tr>\n      <th>0</th>\n      <td>generator__ffg__oldbalanceOrg_amount_ratio</td>\n      <td>0.450685</td>\n      <td>0.286889</td>\n    </tr>\n    <tr>\n      <th>1</th>\n      <td>preprocessor__imputer__newbalanceOrig</td>\n      <td>0.099617</td>\n      <td>0.219738</td>\n    </tr>\n    <tr>\n      <th>2</th>\n      <td>generator__ffg__newbalanceOrig_amount_ratio</td>\n      <td>0.097383</td>\n      <td>0.229305</td>\n    </tr>\n    <tr>\n      <th>3</th>\n      <td>preprocessor__imputer__newbalanceDest</td>\n      <td>0.088682</td>\n      <td>0.133235</td>\n    </tr>\n    <tr>\n      <th>4</th>\n      <td>generator__ffg__newbalanceDest_amount_ratio</td>\n      <td>0.084570</td>\n      <td>0.135342</td>\n    </tr>\n    <tr>\n      <th>5</th>\n      <td>preprocessor__imputer__oldbalanceOrg</td>\n      <td>0.082678</td>\n      <td>0.098342</td>\n    </tr>\n    <tr>\n      <th>6</th>\n      <td>preprocessor__imputer__amount</td>\n      <td>0.045902</td>\n      <td>0.060084</td>\n    </tr>\n    <tr>\n      <th>7</th>\n      <td>generator__cat__type</td>\n      <td>0.020649</td>\n      <td>0.031374</td>\n    </tr>\n    <tr>\n      <th>8</th>\n      <td>preprocessor__imputer__oldbalanceDest</td>\n      <td>0.012296</td>\n      <td>0.026873</td>\n    </tr>\n    <tr>\n      <th>9</th>\n      <td>generator__ffg__oldbalanceDest_amount_ratio</td>\n      <td>0.012126</td>\n      <td>0.021787</td>\n    </tr>\n    <tr>\n      <th>10</th>\n      <td>generator__ffg__dest_is_bigger_org</td>\n      <td>0.005413</td>\n      <td>0.013330</td>\n    </tr>\n  </tbody>\n</table>\n</div>"
     },
     "execution_count": 60,
     "metadata": {},
     "output_type": "execute_result"
    }
   ],
   "source": [
    "weights"
   ]
  },
  {
   "cell_type": "markdown",
   "metadata": {
    "pycharm": {
     "name": "#%% md\n"
    }
   },
   "source": [
    "#### Advanced training (don't run)"
   ]
  },
  {
   "cell_type": "code",
   "execution_count": 54,
   "metadata": {
    "pycharm": {
     "name": "#%%\n"
    }
   },
   "outputs": [
    {
     "name": "stderr",
     "output_type": "stream",
     "text": [
      "C:\\Users\\dzmit\\anaconda3\\envs\\eurostars\\lib\\site-packages\\sklearn\\metrics\\_classification.py:1334: UndefinedMetricWarning: Precision is ill-defined and being set to 0.0 due to no predicted samples. Use `zero_division` parameter to control this behavior.\n",
      "  _warn_prf(average, modifier, msg_start, len(result))\n",
      "C:\\Users\\dzmit\\anaconda3\\envs\\eurostars\\lib\\site-packages\\sklearn\\metrics\\_classification.py:1334: UndefinedMetricWarning: Precision is ill-defined and being set to 0.0 due to no predicted samples. Use `zero_division` parameter to control this behavior.\n",
      "  _warn_prf(average, modifier, msg_start, len(result))\n",
      "C:\\Users\\dzmit\\anaconda3\\envs\\eurostars\\lib\\site-packages\\pandas\\core\\internals\\blocks.py:352: RuntimeWarning: divide by zero encountered in log\n",
      "  result = func(self.values, **kwargs)\n",
      "C:\\Users\\dzmit\\anaconda3\\envs\\eurostars\\lib\\site-packages\\sklearn\\svm\\_base.py:1225: ConvergenceWarning: Liblinear failed to converge, increase the number of iterations.\n",
      "  warnings.warn(\n",
      "C:\\Users\\dzmit\\anaconda3\\envs\\eurostars\\lib\\site-packages\\pandas\\core\\internals\\blocks.py:352: RuntimeWarning: divide by zero encountered in log\n",
      "  result = func(self.values, **kwargs)\n",
      "C:\\Users\\dzmit\\anaconda3\\envs\\eurostars\\lib\\site-packages\\pandas\\core\\internals\\blocks.py:352: RuntimeWarning: divide by zero encountered in log\n",
      "  result = func(self.values, **kwargs)\n"
     ]
    },
    {
     "name": "stdout",
     "output_type": "stream",
     "text": [
      "Learning rate set to 0.39419\n",
      "0:\tlearn: 0.0296316\ttotal: 817ms\tremaining: 13m 36s\n",
      "1:\tlearn: 0.0074548\ttotal: 1.38s\tremaining: 11m 30s\n",
      "2:\tlearn: 0.0039688\ttotal: 1.89s\tremaining: 10m 26s\n",
      "3:\tlearn: 0.0004088\ttotal: 2.62s\tremaining: 10m 53s\n",
      "4:\tlearn: 0.0001723\ttotal: 3.21s\tremaining: 10m 38s\n",
      "5:\tlearn: 0.0001242\ttotal: 3.78s\tremaining: 10m 26s\n",
      "6:\tlearn: 0.0001007\ttotal: 4.34s\tremaining: 10m 15s\n",
      "7:\tlearn: 0.0000904\ttotal: 4.88s\tremaining: 10m 4s\n",
      "8:\tlearn: 0.0000812\ttotal: 5.42s\tremaining: 9m 57s\n",
      "9:\tlearn: 0.0000770\ttotal: 6.03s\tremaining: 9m 56s\n",
      "10:\tlearn: 0.0000747\ttotal: 6.52s\tremaining: 9m 46s\n",
      "11:\tlearn: 0.0000664\ttotal: 7.03s\tremaining: 9m 39s\n",
      "12:\tlearn: 0.0000628\ttotal: 7.62s\tremaining: 9m 38s\n",
      "13:\tlearn: 0.0000604\ttotal: 8.14s\tremaining: 9m 33s\n",
      "14:\tlearn: 0.0000590\ttotal: 8.69s\tremaining: 9m 30s\n",
      "15:\tlearn: 0.0000580\ttotal: 9.22s\tremaining: 9m 27s\n",
      "16:\tlearn: 0.0000577\ttotal: 9.73s\tremaining: 9m 22s\n",
      "17:\tlearn: 0.0000569\ttotal: 10.3s\tremaining: 9m 21s\n",
      "18:\tlearn: 0.0000565\ttotal: 10.8s\tremaining: 9m 19s\n",
      "19:\tlearn: 0.0000559\ttotal: 11.4s\tremaining: 9m 16s\n",
      "20:\tlearn: 0.0000544\ttotal: 11.9s\tremaining: 9m 15s\n",
      "21:\tlearn: 0.0000534\ttotal: 12.5s\tremaining: 9m 14s\n",
      "22:\tlearn: 0.0000507\ttotal: 13s\tremaining: 9m 12s\n",
      "23:\tlearn: 0.0000507\ttotal: 13.6s\tremaining: 9m 12s\n",
      "24:\tlearn: 0.0000503\ttotal: 14.2s\tremaining: 9m 13s\n",
      "25:\tlearn: 0.0000496\ttotal: 14.8s\tremaining: 9m 15s\n",
      "26:\tlearn: 0.0000489\ttotal: 15.4s\tremaining: 9m 16s\n",
      "27:\tlearn: 0.0000489\ttotal: 16s\tremaining: 9m 15s\n",
      "28:\tlearn: 0.0000479\ttotal: 16.6s\tremaining: 9m 15s\n",
      "29:\tlearn: 0.0000477\ttotal: 17.2s\tremaining: 9m 15s\n",
      "30:\tlearn: 0.0000475\ttotal: 17.8s\tremaining: 9m 16s\n",
      "31:\tlearn: 0.0000474\ttotal: 18.3s\tremaining: 9m 13s\n",
      "32:\tlearn: 0.0000464\ttotal: 19s\tremaining: 9m 16s\n",
      "33:\tlearn: 0.0000456\ttotal: 19.6s\tremaining: 9m 17s\n",
      "34:\tlearn: 0.0000446\ttotal: 20.3s\tremaining: 9m 18s\n",
      "35:\tlearn: 0.0000446\ttotal: 20.8s\tremaining: 9m 16s\n",
      "36:\tlearn: 0.0000446\ttotal: 21.3s\tremaining: 9m 15s\n",
      "37:\tlearn: 0.0000441\ttotal: 21.9s\tremaining: 9m 15s\n",
      "38:\tlearn: 0.0000430\ttotal: 22.5s\tremaining: 9m 14s\n",
      "39:\tlearn: 0.0000426\ttotal: 23.1s\tremaining: 9m 13s\n",
      "40:\tlearn: 0.0000416\ttotal: 23.7s\tremaining: 9m 15s\n",
      "41:\tlearn: 0.0000412\ttotal: 24.4s\tremaining: 9m 16s\n",
      "42:\tlearn: 0.0000411\ttotal: 25s\tremaining: 9m 15s\n",
      "43:\tlearn: 0.0000411\ttotal: 25.5s\tremaining: 9m 13s\n",
      "44:\tlearn: 0.0000411\ttotal: 26.1s\tremaining: 9m 12s\n",
      "45:\tlearn: 0.0000406\ttotal: 26.7s\tremaining: 9m 13s\n",
      "46:\tlearn: 0.0000404\ttotal: 27.3s\tremaining: 9m 13s\n",
      "47:\tlearn: 0.0000393\ttotal: 27.9s\tremaining: 9m 13s\n",
      "48:\tlearn: 0.0000393\ttotal: 28.4s\tremaining: 9m 11s\n",
      "49:\tlearn: 0.0000393\ttotal: 28.9s\tremaining: 9m 8s\n",
      "50:\tlearn: 0.0000393\ttotal: 29.4s\tremaining: 9m 6s\n",
      "51:\tlearn: 0.0000393\ttotal: 29.9s\tremaining: 9m 4s\n",
      "52:\tlearn: 0.0000393\ttotal: 30.3s\tremaining: 9m 2s\n",
      "53:\tlearn: 0.0000393\ttotal: 30.8s\tremaining: 9m\n",
      "54:\tlearn: 0.0000393\ttotal: 31.4s\tremaining: 8m 59s\n",
      "55:\tlearn: 0.0000393\ttotal: 31.9s\tremaining: 8m 57s\n",
      "56:\tlearn: 0.0000393\ttotal: 32.4s\tremaining: 8m 55s\n",
      "57:\tlearn: 0.0000393\ttotal: 32.9s\tremaining: 8m 55s\n",
      "58:\tlearn: 0.0000393\ttotal: 33.4s\tremaining: 8m 53s\n",
      "59:\tlearn: 0.0000393\ttotal: 34s\tremaining: 8m 51s\n",
      "60:\tlearn: 0.0000393\ttotal: 34.5s\tremaining: 8m 50s\n",
      "61:\tlearn: 0.0000393\ttotal: 35s\tremaining: 8m 49s\n",
      "62:\tlearn: 0.0000393\ttotal: 35.5s\tremaining: 8m 47s\n",
      "63:\tlearn: 0.0000393\ttotal: 36s\tremaining: 8m 46s\n",
      "64:\tlearn: 0.0000393\ttotal: 36.5s\tremaining: 8m 44s\n",
      "65:\tlearn: 0.0000393\ttotal: 37s\tremaining: 8m 43s\n",
      "66:\tlearn: 0.0000393\ttotal: 37.5s\tremaining: 8m 41s\n",
      "67:\tlearn: 0.0000393\ttotal: 37.9s\tremaining: 8m 39s\n",
      "68:\tlearn: 0.0000393\ttotal: 38.4s\tremaining: 8m 38s\n",
      "69:\tlearn: 0.0000393\ttotal: 38.9s\tremaining: 8m 36s\n",
      "70:\tlearn: 0.0000393\ttotal: 39.3s\tremaining: 8m 34s\n",
      "71:\tlearn: 0.0000393\ttotal: 39.8s\tremaining: 8m 33s\n",
      "72:\tlearn: 0.0000393\ttotal: 40.3s\tremaining: 8m 31s\n",
      "73:\tlearn: 0.0000393\ttotal: 40.7s\tremaining: 8m 29s\n",
      "74:\tlearn: 0.0000393\ttotal: 41.2s\tremaining: 8m 27s\n",
      "75:\tlearn: 0.0000393\ttotal: 41.6s\tremaining: 8m 26s\n",
      "76:\tlearn: 0.0000393\ttotal: 42.1s\tremaining: 8m 25s\n",
      "77:\tlearn: 0.0000393\ttotal: 42.6s\tremaining: 8m 23s\n",
      "78:\tlearn: 0.0000393\ttotal: 43.1s\tremaining: 8m 22s\n",
      "79:\tlearn: 0.0000393\ttotal: 43.5s\tremaining: 8m 20s\n",
      "80:\tlearn: 0.0000393\ttotal: 44s\tremaining: 8m 19s\n",
      "81:\tlearn: 0.0000393\ttotal: 44.4s\tremaining: 8m 17s\n",
      "82:\tlearn: 0.0000393\ttotal: 44.9s\tremaining: 8m 16s\n",
      "83:\tlearn: 0.0000393\ttotal: 45.4s\tremaining: 8m 14s\n",
      "84:\tlearn: 0.0000393\ttotal: 45.8s\tremaining: 8m 13s\n",
      "85:\tlearn: 0.0000393\ttotal: 46.3s\tremaining: 8m 11s\n",
      "86:\tlearn: 0.0000393\ttotal: 46.8s\tremaining: 8m 10s\n",
      "87:\tlearn: 0.0000393\ttotal: 47.2s\tremaining: 8m 9s\n",
      "88:\tlearn: 0.0000393\ttotal: 47.7s\tremaining: 8m 8s\n",
      "89:\tlearn: 0.0000393\ttotal: 48.1s\tremaining: 8m 6s\n",
      "90:\tlearn: 0.0000393\ttotal: 48.6s\tremaining: 8m 5s\n",
      "91:\tlearn: 0.0000393\ttotal: 49.1s\tremaining: 8m 4s\n",
      "92:\tlearn: 0.0000393\ttotal: 49.6s\tremaining: 8m 3s\n",
      "93:\tlearn: 0.0000393\ttotal: 50s\tremaining: 8m 2s\n",
      "94:\tlearn: 0.0000393\ttotal: 50.5s\tremaining: 8m 1s\n",
      "95:\tlearn: 0.0000393\ttotal: 51s\tremaining: 8m\n",
      "96:\tlearn: 0.0000393\ttotal: 51.5s\tremaining: 7m 59s\n",
      "97:\tlearn: 0.0000393\ttotal: 51.9s\tremaining: 7m 57s\n",
      "98:\tlearn: 0.0000393\ttotal: 52.4s\tremaining: 7m 56s\n",
      "99:\tlearn: 0.0000393\ttotal: 52.9s\tremaining: 7m 55s\n",
      "100:\tlearn: 0.0000393\ttotal: 53.4s\tremaining: 7m 55s\n",
      "101:\tlearn: 0.0000393\ttotal: 53.9s\tremaining: 7m 54s\n",
      "102:\tlearn: 0.0000393\ttotal: 54.3s\tremaining: 7m 53s\n",
      "103:\tlearn: 0.0000393\ttotal: 54.8s\tremaining: 7m 52s\n",
      "104:\tlearn: 0.0000393\ttotal: 55.2s\tremaining: 7m 50s\n",
      "105:\tlearn: 0.0000393\ttotal: 55.7s\tremaining: 7m 49s\n",
      "106:\tlearn: 0.0000393\ttotal: 56.1s\tremaining: 7m 47s\n",
      "107:\tlearn: 0.0000393\ttotal: 56.6s\tremaining: 7m 47s\n",
      "108:\tlearn: 0.0000393\ttotal: 57s\tremaining: 7m 46s\n",
      "109:\tlearn: 0.0000393\ttotal: 57.5s\tremaining: 7m 44s\n",
      "110:\tlearn: 0.0000393\ttotal: 58s\tremaining: 7m 44s\n",
      "111:\tlearn: 0.0000393\ttotal: 58.5s\tremaining: 7m 44s\n",
      "112:\tlearn: 0.0000393\ttotal: 59s\tremaining: 7m 43s\n",
      "113:\tlearn: 0.0000393\ttotal: 59.5s\tremaining: 7m 42s\n",
      "114:\tlearn: 0.0000393\ttotal: 60s\tremaining: 7m 41s\n",
      "115:\tlearn: 0.0000393\ttotal: 1m\tremaining: 7m 40s\n",
      "116:\tlearn: 0.0000393\ttotal: 1m\tremaining: 7m 40s\n",
      "117:\tlearn: 0.0000393\ttotal: 1m 1s\tremaining: 7m 38s\n",
      "118:\tlearn: 0.0000393\ttotal: 1m 1s\tremaining: 7m 38s\n",
      "119:\tlearn: 0.0000393\ttotal: 1m 2s\tremaining: 7m 37s\n",
      "120:\tlearn: 0.0000393\ttotal: 1m 2s\tremaining: 7m 36s\n",
      "121:\tlearn: 0.0000393\ttotal: 1m 3s\tremaining: 7m 35s\n",
      "122:\tlearn: 0.0000393\ttotal: 1m 3s\tremaining: 7m 34s\n",
      "123:\tlearn: 0.0000393\ttotal: 1m 4s\tremaining: 7m 34s\n",
      "124:\tlearn: 0.0000393\ttotal: 1m 4s\tremaining: 7m 33s\n",
      "125:\tlearn: 0.0000393\ttotal: 1m 5s\tremaining: 7m 32s\n",
      "126:\tlearn: 0.0000393\ttotal: 1m 5s\tremaining: 7m 32s\n",
      "127:\tlearn: 0.0000393\ttotal: 1m 6s\tremaining: 7m 31s\n",
      "128:\tlearn: 0.0000393\ttotal: 1m 6s\tremaining: 7m 30s\n",
      "129:\tlearn: 0.0000393\ttotal: 1m 7s\tremaining: 7m 29s\n",
      "130:\tlearn: 0.0000393\ttotal: 1m 7s\tremaining: 7m 29s\n",
      "131:\tlearn: 0.0000393\ttotal: 1m 8s\tremaining: 7m 28s\n",
      "132:\tlearn: 0.0000393\ttotal: 1m 8s\tremaining: 7m 27s\n",
      "133:\tlearn: 0.0000393\ttotal: 1m 9s\tremaining: 7m 27s\n",
      "134:\tlearn: 0.0000393\ttotal: 1m 9s\tremaining: 7m 26s\n",
      "135:\tlearn: 0.0000393\ttotal: 1m 10s\tremaining: 7m 25s\n",
      "136:\tlearn: 0.0000393\ttotal: 1m 10s\tremaining: 7m 24s\n",
      "137:\tlearn: 0.0000393\ttotal: 1m 11s\tremaining: 7m 24s\n",
      "138:\tlearn: 0.0000393\ttotal: 1m 11s\tremaining: 7m 23s\n",
      "139:\tlearn: 0.0000393\ttotal: 1m 12s\tremaining: 7m 22s\n",
      "140:\tlearn: 0.0000393\ttotal: 1m 12s\tremaining: 7m 21s\n",
      "141:\tlearn: 0.0000393\ttotal: 1m 12s\tremaining: 7m 20s\n",
      "142:\tlearn: 0.0000393\ttotal: 1m 13s\tremaining: 7m 19s\n",
      "143:\tlearn: 0.0000393\ttotal: 1m 13s\tremaining: 7m 19s\n",
      "144:\tlearn: 0.0000393\ttotal: 1m 14s\tremaining: 7m 18s\n",
      "145:\tlearn: 0.0000393\ttotal: 1m 14s\tremaining: 7m 17s\n",
      "146:\tlearn: 0.0000393\ttotal: 1m 15s\tremaining: 7m 16s\n",
      "147:\tlearn: 0.0000393\ttotal: 1m 15s\tremaining: 7m 15s\n",
      "148:\tlearn: 0.0000393\ttotal: 1m 16s\tremaining: 7m 15s\n",
      "149:\tlearn: 0.0000393\ttotal: 1m 16s\tremaining: 7m 14s\n",
      "150:\tlearn: 0.0000393\ttotal: 1m 17s\tremaining: 7m 13s\n",
      "151:\tlearn: 0.0000393\ttotal: 1m 17s\tremaining: 7m 13s\n",
      "152:\tlearn: 0.0000393\ttotal: 1m 18s\tremaining: 7m 12s\n",
      "153:\tlearn: 0.0000393\ttotal: 1m 18s\tremaining: 7m 12s\n",
      "154:\tlearn: 0.0000393\ttotal: 1m 19s\tremaining: 7m 11s\n",
      "155:\tlearn: 0.0000393\ttotal: 1m 19s\tremaining: 7m 10s\n",
      "156:\tlearn: 0.0000393\ttotal: 1m 20s\tremaining: 7m 10s\n",
      "157:\tlearn: 0.0000393\ttotal: 1m 20s\tremaining: 7m 9s\n",
      "158:\tlearn: 0.0000393\ttotal: 1m 21s\tremaining: 7m 8s\n",
      "159:\tlearn: 0.0000393\ttotal: 1m 21s\tremaining: 7m 8s\n",
      "160:\tlearn: 0.0000393\ttotal: 1m 22s\tremaining: 7m 7s\n",
      "161:\tlearn: 0.0000393\ttotal: 1m 22s\tremaining: 7m 7s\n",
      "162:\tlearn: 0.0000393\ttotal: 1m 23s\tremaining: 7m 6s\n",
      "163:\tlearn: 0.0000393\ttotal: 1m 23s\tremaining: 7m 5s\n",
      "164:\tlearn: 0.0000393\ttotal: 1m 24s\tremaining: 7m 5s\n",
      "165:\tlearn: 0.0000393\ttotal: 1m 24s\tremaining: 7m 4s\n",
      "166:\tlearn: 0.0000393\ttotal: 1m 25s\tremaining: 7m 4s\n",
      "167:\tlearn: 0.0000393\ttotal: 1m 25s\tremaining: 7m 3s\n",
      "168:\tlearn: 0.0000393\ttotal: 1m 25s\tremaining: 7m 2s\n",
      "169:\tlearn: 0.0000393\ttotal: 1m 26s\tremaining: 7m 2s\n",
      "170:\tlearn: 0.0000393\ttotal: 1m 26s\tremaining: 7m 1s\n",
      "171:\tlearn: 0.0000393\ttotal: 1m 27s\tremaining: 7m\n",
      "172:\tlearn: 0.0000393\ttotal: 1m 27s\tremaining: 6m 59s\n",
      "173:\tlearn: 0.0000393\ttotal: 1m 28s\tremaining: 6m 59s\n",
      "174:\tlearn: 0.0000393\ttotal: 1m 28s\tremaining: 6m 58s\n",
      "175:\tlearn: 0.0000393\ttotal: 1m 29s\tremaining: 6m 57s\n",
      "176:\tlearn: 0.0000393\ttotal: 1m 29s\tremaining: 6m 56s\n",
      "177:\tlearn: 0.0000393\ttotal: 1m 30s\tremaining: 6m 56s\n",
      "178:\tlearn: 0.0000393\ttotal: 1m 30s\tremaining: 6m 55s\n",
      "179:\tlearn: 0.0000393\ttotal: 1m 31s\tremaining: 6m 54s\n",
      "180:\tlearn: 0.0000393\ttotal: 1m 31s\tremaining: 6m 54s\n",
      "181:\tlearn: 0.0000393\ttotal: 1m 31s\tremaining: 6m 53s\n",
      "182:\tlearn: 0.0000393\ttotal: 1m 32s\tremaining: 6m 52s\n",
      "183:\tlearn: 0.0000393\ttotal: 1m 32s\tremaining: 6m 52s\n",
      "184:\tlearn: 0.0000393\ttotal: 1m 33s\tremaining: 6m 51s\n",
      "185:\tlearn: 0.0000393\ttotal: 1m 33s\tremaining: 6m 50s\n",
      "186:\tlearn: 0.0000393\ttotal: 1m 34s\tremaining: 6m 50s\n",
      "187:\tlearn: 0.0000393\ttotal: 1m 34s\tremaining: 6m 49s\n",
      "188:\tlearn: 0.0000393\ttotal: 1m 35s\tremaining: 6m 48s\n",
      "189:\tlearn: 0.0000393\ttotal: 1m 35s\tremaining: 6m 48s\n",
      "190:\tlearn: 0.0000393\ttotal: 1m 36s\tremaining: 6m 47s\n",
      "191:\tlearn: 0.0000393\ttotal: 1m 36s\tremaining: 6m 46s\n",
      "192:\tlearn: 0.0000393\ttotal: 1m 37s\tremaining: 6m 46s\n",
      "193:\tlearn: 0.0000393\ttotal: 1m 37s\tremaining: 6m 45s\n",
      "194:\tlearn: 0.0000393\ttotal: 1m 38s\tremaining: 6m 45s\n",
      "195:\tlearn: 0.0000393\ttotal: 1m 38s\tremaining: 6m 44s\n",
      "196:\tlearn: 0.0000393\ttotal: 1m 39s\tremaining: 6m 43s\n",
      "197:\tlearn: 0.0000393\ttotal: 1m 39s\tremaining: 6m 43s\n",
      "198:\tlearn: 0.0000393\ttotal: 1m 40s\tremaining: 6m 42s\n",
      "199:\tlearn: 0.0000393\ttotal: 1m 40s\tremaining: 6m 42s\n",
      "200:\tlearn: 0.0000393\ttotal: 1m 41s\tremaining: 6m 41s\n",
      "201:\tlearn: 0.0000393\ttotal: 1m 41s\tremaining: 6m 41s\n",
      "202:\tlearn: 0.0000393\ttotal: 1m 42s\tremaining: 6m 40s\n",
      "203:\tlearn: 0.0000393\ttotal: 1m 42s\tremaining: 6m 39s\n",
      "204:\tlearn: 0.0000393\ttotal: 1m 42s\tremaining: 6m 39s\n",
      "205:\tlearn: 0.0000393\ttotal: 1m 43s\tremaining: 6m 38s\n",
      "206:\tlearn: 0.0000393\ttotal: 1m 43s\tremaining: 6m 37s\n",
      "207:\tlearn: 0.0000393\ttotal: 1m 44s\tremaining: 6m 37s\n",
      "208:\tlearn: 0.0000393\ttotal: 1m 44s\tremaining: 6m 36s\n",
      "209:\tlearn: 0.0000393\ttotal: 1m 45s\tremaining: 6m 36s\n",
      "210:\tlearn: 0.0000393\ttotal: 1m 45s\tremaining: 6m 35s\n",
      "211:\tlearn: 0.0000393\ttotal: 1m 46s\tremaining: 6m 34s\n",
      "212:\tlearn: 0.0000393\ttotal: 1m 46s\tremaining: 6m 34s\n",
      "213:\tlearn: 0.0000393\ttotal: 1m 47s\tremaining: 6m 33s\n",
      "214:\tlearn: 0.0000393\ttotal: 1m 47s\tremaining: 6m 32s\n",
      "215:\tlearn: 0.0000393\ttotal: 1m 48s\tremaining: 6m 32s\n",
      "216:\tlearn: 0.0000393\ttotal: 1m 48s\tremaining: 6m 31s\n",
      "217:\tlearn: 0.0000393\ttotal: 1m 49s\tremaining: 6m 31s\n",
      "218:\tlearn: 0.0000393\ttotal: 1m 49s\tremaining: 6m 30s\n",
      "219:\tlearn: 0.0000393\ttotal: 1m 49s\tremaining: 6m 29s\n",
      "220:\tlearn: 0.0000393\ttotal: 1m 50s\tremaining: 6m 29s\n",
      "221:\tlearn: 0.0000393\ttotal: 1m 50s\tremaining: 6m 28s\n",
      "222:\tlearn: 0.0000393\ttotal: 1m 51s\tremaining: 6m 28s\n",
      "223:\tlearn: 0.0000393\ttotal: 1m 51s\tremaining: 6m 27s\n",
      "224:\tlearn: 0.0000393\ttotal: 1m 52s\tremaining: 6m 27s\n",
      "225:\tlearn: 0.0000393\ttotal: 1m 52s\tremaining: 6m 26s\n",
      "226:\tlearn: 0.0000393\ttotal: 1m 53s\tremaining: 6m 26s\n",
      "227:\tlearn: 0.0000393\ttotal: 1m 53s\tremaining: 6m 25s\n",
      "228:\tlearn: 0.0000393\ttotal: 1m 54s\tremaining: 6m 25s\n",
      "229:\tlearn: 0.0000393\ttotal: 1m 54s\tremaining: 6m 24s\n",
      "230:\tlearn: 0.0000393\ttotal: 1m 55s\tremaining: 6m 24s\n",
      "231:\tlearn: 0.0000393\ttotal: 1m 55s\tremaining: 6m 23s\n",
      "232:\tlearn: 0.0000393\ttotal: 1m 56s\tremaining: 6m 23s\n",
      "233:\tlearn: 0.0000393\ttotal: 1m 56s\tremaining: 6m 22s\n",
      "234:\tlearn: 0.0000393\ttotal: 1m 57s\tremaining: 6m 22s\n",
      "235:\tlearn: 0.0000393\ttotal: 1m 57s\tremaining: 6m 21s\n",
      "236:\tlearn: 0.0000393\ttotal: 1m 58s\tremaining: 6m 21s\n",
      "237:\tlearn: 0.0000393\ttotal: 1m 58s\tremaining: 6m 20s\n",
      "238:\tlearn: 0.0000393\ttotal: 1m 59s\tremaining: 6m 20s\n",
      "239:\tlearn: 0.0000393\ttotal: 1m 59s\tremaining: 6m 19s\n",
      "240:\tlearn: 0.0000393\ttotal: 2m\tremaining: 6m 19s\n",
      "241:\tlearn: 0.0000393\ttotal: 2m\tremaining: 6m 18s\n",
      "242:\tlearn: 0.0000393\ttotal: 2m 1s\tremaining: 6m 18s\n",
      "243:\tlearn: 0.0000393\ttotal: 2m 1s\tremaining: 6m 17s\n",
      "244:\tlearn: 0.0000393\ttotal: 2m 2s\tremaining: 6m 17s\n",
      "245:\tlearn: 0.0000393\ttotal: 2m 2s\tremaining: 6m 16s\n",
      "246:\tlearn: 0.0000393\ttotal: 2m 3s\tremaining: 6m 16s\n",
      "247:\tlearn: 0.0000393\ttotal: 2m 3s\tremaining: 6m 15s\n",
      "248:\tlearn: 0.0000393\ttotal: 2m 4s\tremaining: 6m 14s\n",
      "249:\tlearn: 0.0000393\ttotal: 2m 4s\tremaining: 6m 14s\n",
      "250:\tlearn: 0.0000393\ttotal: 2m 5s\tremaining: 6m 13s\n",
      "251:\tlearn: 0.0000393\ttotal: 2m 5s\tremaining: 6m 13s\n",
      "252:\tlearn: 0.0000393\ttotal: 2m 6s\tremaining: 6m 12s\n",
      "253:\tlearn: 0.0000393\ttotal: 2m 6s\tremaining: 6m 12s\n",
      "254:\tlearn: 0.0000393\ttotal: 2m 7s\tremaining: 6m 11s\n",
      "255:\tlearn: 0.0000393\ttotal: 2m 7s\tremaining: 6m 11s\n",
      "256:\tlearn: 0.0000393\ttotal: 2m 8s\tremaining: 6m 10s\n",
      "257:\tlearn: 0.0000393\ttotal: 2m 8s\tremaining: 6m 10s\n",
      "258:\tlearn: 0.0000393\ttotal: 2m 9s\tremaining: 6m 9s\n",
      "259:\tlearn: 0.0000393\ttotal: 2m 9s\tremaining: 6m 8s\n",
      "260:\tlearn: 0.0000393\ttotal: 2m 10s\tremaining: 6m 8s\n",
      "261:\tlearn: 0.0000393\ttotal: 2m 10s\tremaining: 6m 7s\n",
      "262:\tlearn: 0.0000393\ttotal: 2m 11s\tremaining: 6m 7s\n",
      "263:\tlearn: 0.0000393\ttotal: 2m 11s\tremaining: 6m 6s\n",
      "264:\tlearn: 0.0000393\ttotal: 2m 12s\tremaining: 6m 6s\n",
      "265:\tlearn: 0.0000393\ttotal: 2m 12s\tremaining: 6m 6s\n",
      "266:\tlearn: 0.0000393\ttotal: 2m 13s\tremaining: 6m 5s\n",
      "267:\tlearn: 0.0000393\ttotal: 2m 13s\tremaining: 6m 5s\n",
      "268:\tlearn: 0.0000393\ttotal: 2m 14s\tremaining: 6m 4s\n",
      "269:\tlearn: 0.0000393\ttotal: 2m 14s\tremaining: 6m 3s\n",
      "270:\tlearn: 0.0000393\ttotal: 2m 15s\tremaining: 6m 3s\n",
      "271:\tlearn: 0.0000393\ttotal: 2m 15s\tremaining: 6m 2s\n",
      "272:\tlearn: 0.0000393\ttotal: 2m 16s\tremaining: 6m 2s\n",
      "273:\tlearn: 0.0000393\ttotal: 2m 16s\tremaining: 6m 1s\n",
      "274:\tlearn: 0.0000393\ttotal: 2m 16s\tremaining: 6m\n",
      "275:\tlearn: 0.0000393\ttotal: 2m 17s\tremaining: 6m\n",
      "276:\tlearn: 0.0000393\ttotal: 2m 17s\tremaining: 5m 59s\n",
      "277:\tlearn: 0.0000393\ttotal: 2m 18s\tremaining: 5m 59s\n",
      "278:\tlearn: 0.0000393\ttotal: 2m 18s\tremaining: 5m 58s\n",
      "279:\tlearn: 0.0000393\ttotal: 2m 19s\tremaining: 5m 58s\n",
      "280:\tlearn: 0.0000393\ttotal: 2m 19s\tremaining: 5m 57s\n",
      "281:\tlearn: 0.0000393\ttotal: 2m 20s\tremaining: 5m 56s\n",
      "282:\tlearn: 0.0000393\ttotal: 2m 20s\tremaining: 5m 56s\n",
      "283:\tlearn: 0.0000393\ttotal: 2m 21s\tremaining: 5m 55s\n",
      "284:\tlearn: 0.0000393\ttotal: 2m 21s\tremaining: 5m 55s\n",
      "285:\tlearn: 0.0000393\ttotal: 2m 22s\tremaining: 5m 54s\n",
      "286:\tlearn: 0.0000393\ttotal: 2m 22s\tremaining: 5m 54s\n",
      "287:\tlearn: 0.0000393\ttotal: 2m 23s\tremaining: 5m 53s\n",
      "288:\tlearn: 0.0000393\ttotal: 2m 23s\tremaining: 5m 53s\n",
      "289:\tlearn: 0.0000393\ttotal: 2m 24s\tremaining: 5m 52s\n",
      "290:\tlearn: 0.0000393\ttotal: 2m 24s\tremaining: 5m 52s\n",
      "291:\tlearn: 0.0000393\ttotal: 2m 25s\tremaining: 5m 51s\n",
      "292:\tlearn: 0.0000393\ttotal: 2m 25s\tremaining: 5m 51s\n",
      "293:\tlearn: 0.0000393\ttotal: 2m 26s\tremaining: 5m 50s\n",
      "294:\tlearn: 0.0000393\ttotal: 2m 26s\tremaining: 5m 50s\n",
      "295:\tlearn: 0.0000393\ttotal: 2m 27s\tremaining: 5m 49s\n",
      "296:\tlearn: 0.0000393\ttotal: 2m 27s\tremaining: 5m 49s\n",
      "297:\tlearn: 0.0000393\ttotal: 2m 28s\tremaining: 5m 48s\n",
      "298:\tlearn: 0.0000393\ttotal: 2m 28s\tremaining: 5m 48s\n",
      "299:\tlearn: 0.0000393\ttotal: 2m 29s\tremaining: 5m 47s\n",
      "300:\tlearn: 0.0000393\ttotal: 2m 29s\tremaining: 5m 47s\n",
      "301:\tlearn: 0.0000393\ttotal: 2m 30s\tremaining: 5m 46s\n",
      "302:\tlearn: 0.0000393\ttotal: 2m 30s\tremaining: 5m 46s\n",
      "303:\tlearn: 0.0000393\ttotal: 2m 31s\tremaining: 5m 46s\n",
      "304:\tlearn: 0.0000393\ttotal: 2m 31s\tremaining: 5m 45s\n",
      "305:\tlearn: 0.0000393\ttotal: 2m 32s\tremaining: 5m 45s\n",
      "306:\tlearn: 0.0000393\ttotal: 2m 32s\tremaining: 5m 44s\n",
      "307:\tlearn: 0.0000393\ttotal: 2m 33s\tremaining: 5m 44s\n",
      "308:\tlearn: 0.0000393\ttotal: 2m 33s\tremaining: 5m 43s\n",
      "309:\tlearn: 0.0000393\ttotal: 2m 34s\tremaining: 5m 43s\n",
      "310:\tlearn: 0.0000393\ttotal: 2m 34s\tremaining: 5m 42s\n",
      "311:\tlearn: 0.0000393\ttotal: 2m 35s\tremaining: 5m 42s\n",
      "312:\tlearn: 0.0000393\ttotal: 2m 35s\tremaining: 5m 41s\n",
      "313:\tlearn: 0.0000393\ttotal: 2m 36s\tremaining: 5m 41s\n",
      "314:\tlearn: 0.0000393\ttotal: 2m 36s\tremaining: 5m 40s\n",
      "315:\tlearn: 0.0000393\ttotal: 2m 37s\tremaining: 5m 40s\n",
      "316:\tlearn: 0.0000393\ttotal: 2m 37s\tremaining: 5m 39s\n",
      "317:\tlearn: 0.0000393\ttotal: 2m 38s\tremaining: 5m 39s\n",
      "318:\tlearn: 0.0000393\ttotal: 2m 38s\tremaining: 5m 38s\n",
      "319:\tlearn: 0.0000393\ttotal: 2m 39s\tremaining: 5m 38s\n",
      "320:\tlearn: 0.0000393\ttotal: 2m 39s\tremaining: 5m 37s\n",
      "321:\tlearn: 0.0000393\ttotal: 2m 40s\tremaining: 5m 37s\n",
      "322:\tlearn: 0.0000393\ttotal: 2m 40s\tremaining: 5m 36s\n",
      "323:\tlearn: 0.0000393\ttotal: 2m 41s\tremaining: 5m 36s\n",
      "324:\tlearn: 0.0000393\ttotal: 2m 41s\tremaining: 5m 35s\n",
      "325:\tlearn: 0.0000393\ttotal: 2m 42s\tremaining: 5m 35s\n",
      "326:\tlearn: 0.0000393\ttotal: 2m 42s\tremaining: 5m 35s\n",
      "327:\tlearn: 0.0000393\ttotal: 2m 43s\tremaining: 5m 34s\n",
      "328:\tlearn: 0.0000393\ttotal: 2m 43s\tremaining: 5m 34s\n",
      "329:\tlearn: 0.0000393\ttotal: 2m 44s\tremaining: 5m 33s\n",
      "330:\tlearn: 0.0000393\ttotal: 2m 44s\tremaining: 5m 33s\n",
      "331:\tlearn: 0.0000393\ttotal: 2m 45s\tremaining: 5m 32s\n",
      "332:\tlearn: 0.0000393\ttotal: 2m 45s\tremaining: 5m 32s\n",
      "333:\tlearn: 0.0000393\ttotal: 2m 46s\tremaining: 5m 31s\n",
      "334:\tlearn: 0.0000393\ttotal: 2m 46s\tremaining: 5m 31s\n",
      "335:\tlearn: 0.0000393\ttotal: 2m 47s\tremaining: 5m 30s\n",
      "336:\tlearn: 0.0000393\ttotal: 2m 48s\tremaining: 5m 30s\n",
      "337:\tlearn: 0.0000393\ttotal: 2m 48s\tremaining: 5m 30s\n",
      "338:\tlearn: 0.0000393\ttotal: 2m 49s\tremaining: 5m 29s\n",
      "339:\tlearn: 0.0000393\ttotal: 2m 49s\tremaining: 5m 29s\n",
      "340:\tlearn: 0.0000393\ttotal: 2m 50s\tremaining: 5m 28s\n",
      "341:\tlearn: 0.0000393\ttotal: 2m 50s\tremaining: 5m 28s\n",
      "342:\tlearn: 0.0000393\ttotal: 2m 51s\tremaining: 5m 27s\n",
      "343:\tlearn: 0.0000393\ttotal: 2m 51s\tremaining: 5m 27s\n",
      "344:\tlearn: 0.0000393\ttotal: 2m 52s\tremaining: 5m 26s\n",
      "345:\tlearn: 0.0000393\ttotal: 2m 52s\tremaining: 5m 26s\n",
      "346:\tlearn: 0.0000393\ttotal: 2m 53s\tremaining: 5m 25s\n",
      "347:\tlearn: 0.0000393\ttotal: 2m 53s\tremaining: 5m 25s\n",
      "348:\tlearn: 0.0000393\ttotal: 2m 54s\tremaining: 5m 24s\n",
      "349:\tlearn: 0.0000393\ttotal: 2m 54s\tremaining: 5m 24s\n",
      "350:\tlearn: 0.0000393\ttotal: 2m 55s\tremaining: 5m 23s\n",
      "351:\tlearn: 0.0000393\ttotal: 2m 55s\tremaining: 5m 23s\n",
      "352:\tlearn: 0.0000393\ttotal: 2m 56s\tremaining: 5m 22s\n",
      "353:\tlearn: 0.0000393\ttotal: 2m 56s\tremaining: 5m 22s\n",
      "354:\tlearn: 0.0000393\ttotal: 2m 57s\tremaining: 5m 21s\n",
      "355:\tlearn: 0.0000393\ttotal: 2m 57s\tremaining: 5m 21s\n",
      "356:\tlearn: 0.0000393\ttotal: 2m 58s\tremaining: 5m 20s\n",
      "357:\tlearn: 0.0000393\ttotal: 2m 58s\tremaining: 5m 20s\n",
      "358:\tlearn: 0.0000393\ttotal: 2m 59s\tremaining: 5m 19s\n",
      "359:\tlearn: 0.0000393\ttotal: 2m 59s\tremaining: 5m 19s\n",
      "360:\tlearn: 0.0000393\ttotal: 3m\tremaining: 5m 18s\n",
      "361:\tlearn: 0.0000393\ttotal: 3m\tremaining: 5m 18s\n",
      "362:\tlearn: 0.0000393\ttotal: 3m 1s\tremaining: 5m 17s\n",
      "363:\tlearn: 0.0000393\ttotal: 3m 1s\tremaining: 5m 17s\n",
      "364:\tlearn: 0.0000393\ttotal: 3m 2s\tremaining: 5m 16s\n",
      "365:\tlearn: 0.0000393\ttotal: 3m 2s\tremaining: 5m 16s\n",
      "366:\tlearn: 0.0000393\ttotal: 3m 3s\tremaining: 5m 15s\n",
      "367:\tlearn: 0.0000393\ttotal: 3m 3s\tremaining: 5m 15s\n",
      "368:\tlearn: 0.0000393\ttotal: 3m 4s\tremaining: 5m 14s\n",
      "369:\tlearn: 0.0000393\ttotal: 3m 4s\tremaining: 5m 14s\n",
      "370:\tlearn: 0.0000393\ttotal: 3m 5s\tremaining: 5m 13s\n",
      "371:\tlearn: 0.0000393\ttotal: 3m 5s\tremaining: 5m 13s\n",
      "372:\tlearn: 0.0000393\ttotal: 3m 6s\tremaining: 5m 12s\n",
      "373:\tlearn: 0.0000393\ttotal: 3m 6s\tremaining: 5m 12s\n",
      "374:\tlearn: 0.0000393\ttotal: 3m 7s\tremaining: 5m 11s\n",
      "375:\tlearn: 0.0000393\ttotal: 3m 7s\tremaining: 5m 11s\n",
      "376:\tlearn: 0.0000393\ttotal: 3m 8s\tremaining: 5m 10s\n",
      "377:\tlearn: 0.0000393\ttotal: 3m 8s\tremaining: 5m 10s\n",
      "378:\tlearn: 0.0000393\ttotal: 3m 9s\tremaining: 5m 9s\n",
      "379:\tlearn: 0.0000393\ttotal: 3m 9s\tremaining: 5m 9s\n",
      "380:\tlearn: 0.0000393\ttotal: 3m 10s\tremaining: 5m 8s\n",
      "381:\tlearn: 0.0000393\ttotal: 3m 10s\tremaining: 5m 8s\n",
      "382:\tlearn: 0.0000393\ttotal: 3m 11s\tremaining: 5m 7s\n",
      "383:\tlearn: 0.0000393\ttotal: 3m 11s\tremaining: 5m 7s\n",
      "384:\tlearn: 0.0000393\ttotal: 3m 12s\tremaining: 5m 6s\n",
      "385:\tlearn: 0.0000393\ttotal: 3m 12s\tremaining: 5m 6s\n",
      "386:\tlearn: 0.0000393\ttotal: 3m 13s\tremaining: 5m 5s\n",
      "387:\tlearn: 0.0000393\ttotal: 3m 13s\tremaining: 5m 5s\n",
      "388:\tlearn: 0.0000393\ttotal: 3m 14s\tremaining: 5m 4s\n",
      "389:\tlearn: 0.0000393\ttotal: 3m 14s\tremaining: 5m 4s\n",
      "390:\tlearn: 0.0000393\ttotal: 3m 14s\tremaining: 5m 3s\n",
      "391:\tlearn: 0.0000393\ttotal: 3m 15s\tremaining: 5m 2s\n",
      "392:\tlearn: 0.0000393\ttotal: 3m 15s\tremaining: 5m 2s\n",
      "393:\tlearn: 0.0000393\ttotal: 3m 16s\tremaining: 5m 1s\n",
      "394:\tlearn: 0.0000393\ttotal: 3m 16s\tremaining: 5m 1s\n",
      "395:\tlearn: 0.0000393\ttotal: 3m 17s\tremaining: 5m\n",
      "396:\tlearn: 0.0000393\ttotal: 3m 17s\tremaining: 4m 59s\n",
      "397:\tlearn: 0.0000393\ttotal: 3m 17s\tremaining: 4m 59s\n",
      "398:\tlearn: 0.0000393\ttotal: 3m 18s\tremaining: 4m 58s\n",
      "399:\tlearn: 0.0000393\ttotal: 3m 18s\tremaining: 4m 58s\n",
      "400:\tlearn: 0.0000393\ttotal: 3m 19s\tremaining: 4m 57s\n",
      "401:\tlearn: 0.0000393\ttotal: 3m 19s\tremaining: 4m 56s\n",
      "402:\tlearn: 0.0000393\ttotal: 3m 19s\tremaining: 4m 56s\n",
      "403:\tlearn: 0.0000393\ttotal: 3m 20s\tremaining: 4m 55s\n",
      "404:\tlearn: 0.0000393\ttotal: 3m 20s\tremaining: 4m 55s\n",
      "405:\tlearn: 0.0000393\ttotal: 3m 21s\tremaining: 4m 54s\n",
      "406:\tlearn: 0.0000393\ttotal: 3m 21s\tremaining: 4m 53s\n",
      "407:\tlearn: 0.0000393\ttotal: 3m 22s\tremaining: 4m 53s\n",
      "408:\tlearn: 0.0000393\ttotal: 3m 22s\tremaining: 4m 52s\n",
      "409:\tlearn: 0.0000393\ttotal: 3m 22s\tremaining: 4m 52s\n",
      "410:\tlearn: 0.0000393\ttotal: 3m 23s\tremaining: 4m 51s\n",
      "411:\tlearn: 0.0000393\ttotal: 3m 23s\tremaining: 4m 50s\n",
      "412:\tlearn: 0.0000393\ttotal: 3m 24s\tremaining: 4m 50s\n",
      "413:\tlearn: 0.0000393\ttotal: 3m 24s\tremaining: 4m 49s\n",
      "414:\tlearn: 0.0000393\ttotal: 3m 25s\tremaining: 4m 48s\n",
      "415:\tlearn: 0.0000393\ttotal: 3m 25s\tremaining: 4m 48s\n",
      "416:\tlearn: 0.0000393\ttotal: 3m 25s\tremaining: 4m 47s\n",
      "417:\tlearn: 0.0000393\ttotal: 3m 26s\tremaining: 4m 47s\n",
      "418:\tlearn: 0.0000393\ttotal: 3m 26s\tremaining: 4m 46s\n",
      "419:\tlearn: 0.0000393\ttotal: 3m 27s\tremaining: 4m 46s\n",
      "420:\tlearn: 0.0000393\ttotal: 3m 27s\tremaining: 4m 45s\n",
      "421:\tlearn: 0.0000393\ttotal: 3m 27s\tremaining: 4m 44s\n",
      "422:\tlearn: 0.0000393\ttotal: 3m 28s\tremaining: 4m 44s\n",
      "423:\tlearn: 0.0000393\ttotal: 3m 28s\tremaining: 4m 43s\n",
      "424:\tlearn: 0.0000393\ttotal: 3m 29s\tremaining: 4m 43s\n",
      "425:\tlearn: 0.0000393\ttotal: 3m 29s\tremaining: 4m 42s\n",
      "426:\tlearn: 0.0000393\ttotal: 3m 30s\tremaining: 4m 41s\n",
      "427:\tlearn: 0.0000393\ttotal: 3m 30s\tremaining: 4m 41s\n",
      "428:\tlearn: 0.0000393\ttotal: 3m 30s\tremaining: 4m 40s\n",
      "429:\tlearn: 0.0000393\ttotal: 3m 31s\tremaining: 4m 40s\n",
      "430:\tlearn: 0.0000393\ttotal: 3m 31s\tremaining: 4m 39s\n",
      "431:\tlearn: 0.0000393\ttotal: 3m 32s\tremaining: 4m 39s\n",
      "432:\tlearn: 0.0000393\ttotal: 3m 32s\tremaining: 4m 38s\n",
      "433:\tlearn: 0.0000393\ttotal: 3m 33s\tremaining: 4m 37s\n",
      "434:\tlearn: 0.0000393\ttotal: 3m 33s\tremaining: 4m 37s\n",
      "435:\tlearn: 0.0000393\ttotal: 3m 33s\tremaining: 4m 36s\n",
      "436:\tlearn: 0.0000393\ttotal: 3m 34s\tremaining: 4m 36s\n",
      "437:\tlearn: 0.0000393\ttotal: 3m 34s\tremaining: 4m 35s\n",
      "438:\tlearn: 0.0000393\ttotal: 3m 35s\tremaining: 4m 34s\n",
      "439:\tlearn: 0.0000393\ttotal: 3m 35s\tremaining: 4m 34s\n",
      "440:\tlearn: 0.0000393\ttotal: 3m 36s\tremaining: 4m 33s\n",
      "441:\tlearn: 0.0000393\ttotal: 3m 36s\tremaining: 4m 33s\n",
      "442:\tlearn: 0.0000393\ttotal: 3m 36s\tremaining: 4m 32s\n",
      "443:\tlearn: 0.0000393\ttotal: 3m 37s\tremaining: 4m 32s\n",
      "444:\tlearn: 0.0000393\ttotal: 3m 37s\tremaining: 4m 31s\n",
      "445:\tlearn: 0.0000393\ttotal: 3m 38s\tremaining: 4m 30s\n",
      "446:\tlearn: 0.0000393\ttotal: 3m 38s\tremaining: 4m 30s\n",
      "447:\tlearn: 0.0000393\ttotal: 3m 38s\tremaining: 4m 29s\n",
      "448:\tlearn: 0.0000393\ttotal: 3m 39s\tremaining: 4m 29s\n",
      "449:\tlearn: 0.0000393\ttotal: 3m 39s\tremaining: 4m 28s\n",
      "450:\tlearn: 0.0000393\ttotal: 3m 40s\tremaining: 4m 27s\n",
      "451:\tlearn: 0.0000393\ttotal: 3m 40s\tremaining: 4m 27s\n",
      "452:\tlearn: 0.0000393\ttotal: 3m 40s\tremaining: 4m 26s\n",
      "453:\tlearn: 0.0000393\ttotal: 3m 41s\tremaining: 4m 26s\n",
      "454:\tlearn: 0.0000393\ttotal: 3m 41s\tremaining: 4m 25s\n",
      "455:\tlearn: 0.0000393\ttotal: 3m 42s\tremaining: 4m 25s\n",
      "456:\tlearn: 0.0000393\ttotal: 3m 42s\tremaining: 4m 24s\n",
      "457:\tlearn: 0.0000393\ttotal: 3m 43s\tremaining: 4m 23s\n",
      "458:\tlearn: 0.0000393\ttotal: 3m 43s\tremaining: 4m 23s\n",
      "459:\tlearn: 0.0000393\ttotal: 3m 43s\tremaining: 4m 22s\n",
      "460:\tlearn: 0.0000393\ttotal: 3m 44s\tremaining: 4m 22s\n",
      "461:\tlearn: 0.0000393\ttotal: 3m 44s\tremaining: 4m 21s\n",
      "462:\tlearn: 0.0000393\ttotal: 3m 45s\tremaining: 4m 21s\n",
      "463:\tlearn: 0.0000393\ttotal: 3m 45s\tremaining: 4m 20s\n",
      "464:\tlearn: 0.0000393\ttotal: 3m 46s\tremaining: 4m 20s\n",
      "465:\tlearn: 0.0000393\ttotal: 3m 46s\tremaining: 4m 19s\n",
      "466:\tlearn: 0.0000393\ttotal: 3m 46s\tremaining: 4m 18s\n",
      "467:\tlearn: 0.0000393\ttotal: 3m 47s\tremaining: 4m 18s\n",
      "468:\tlearn: 0.0000393\ttotal: 3m 47s\tremaining: 4m 17s\n",
      "469:\tlearn: 0.0000393\ttotal: 3m 48s\tremaining: 4m 17s\n",
      "470:\tlearn: 0.0000393\ttotal: 3m 48s\tremaining: 4m 16s\n",
      "471:\tlearn: 0.0000393\ttotal: 3m 49s\tremaining: 4m 16s\n",
      "472:\tlearn: 0.0000393\ttotal: 3m 49s\tremaining: 4m 15s\n",
      "473:\tlearn: 0.0000393\ttotal: 3m 49s\tremaining: 4m 15s\n",
      "474:\tlearn: 0.0000393\ttotal: 3m 50s\tremaining: 4m 14s\n",
      "475:\tlearn: 0.0000393\ttotal: 3m 50s\tremaining: 4m 14s\n",
      "476:\tlearn: 0.0000393\ttotal: 3m 51s\tremaining: 4m 13s\n",
      "477:\tlearn: 0.0000393\ttotal: 3m 51s\tremaining: 4m 12s\n",
      "478:\tlearn: 0.0000393\ttotal: 3m 52s\tremaining: 4m 12s\n",
      "479:\tlearn: 0.0000393\ttotal: 3m 52s\tremaining: 4m 11s\n",
      "480:\tlearn: 0.0000393\ttotal: 3m 52s\tremaining: 4m 11s\n",
      "481:\tlearn: 0.0000393\ttotal: 3m 53s\tremaining: 4m 10s\n",
      "482:\tlearn: 0.0000393\ttotal: 3m 53s\tremaining: 4m 10s\n",
      "483:\tlearn: 0.0000393\ttotal: 3m 54s\tremaining: 4m 9s\n",
      "484:\tlearn: 0.0000393\ttotal: 3m 54s\tremaining: 4m 9s\n",
      "485:\tlearn: 0.0000393\ttotal: 3m 54s\tremaining: 4m 8s\n",
      "486:\tlearn: 0.0000393\ttotal: 3m 55s\tremaining: 4m 7s\n",
      "487:\tlearn: 0.0000393\ttotal: 3m 55s\tremaining: 4m 7s\n",
      "488:\tlearn: 0.0000393\ttotal: 3m 56s\tremaining: 4m 6s\n",
      "489:\tlearn: 0.0000393\ttotal: 3m 56s\tremaining: 4m 6s\n",
      "490:\tlearn: 0.0000393\ttotal: 3m 56s\tremaining: 4m 5s\n",
      "491:\tlearn: 0.0000393\ttotal: 3m 57s\tremaining: 4m 5s\n",
      "492:\tlearn: 0.0000393\ttotal: 3m 57s\tremaining: 4m 4s\n",
      "493:\tlearn: 0.0000393\ttotal: 3m 58s\tremaining: 4m 4s\n",
      "494:\tlearn: 0.0000393\ttotal: 3m 58s\tremaining: 4m 3s\n",
      "495:\tlearn: 0.0000393\ttotal: 3m 59s\tremaining: 4m 2s\n",
      "496:\tlearn: 0.0000393\ttotal: 3m 59s\tremaining: 4m 2s\n",
      "497:\tlearn: 0.0000393\ttotal: 3m 59s\tremaining: 4m 1s\n",
      "498:\tlearn: 0.0000393\ttotal: 4m\tremaining: 4m 1s\n",
      "499:\tlearn: 0.0000393\ttotal: 4m\tremaining: 4m\n",
      "500:\tlearn: 0.0000393\ttotal: 4m 1s\tremaining: 4m\n",
      "501:\tlearn: 0.0000393\ttotal: 4m 1s\tremaining: 3m 59s\n",
      "502:\tlearn: 0.0000393\ttotal: 4m 2s\tremaining: 3m 59s\n",
      "503:\tlearn: 0.0000393\ttotal: 4m 2s\tremaining: 3m 58s\n",
      "504:\tlearn: 0.0000393\ttotal: 4m 2s\tremaining: 3m 58s\n",
      "505:\tlearn: 0.0000393\ttotal: 4m 3s\tremaining: 3m 57s\n",
      "506:\tlearn: 0.0000393\ttotal: 4m 3s\tremaining: 3m 57s\n",
      "507:\tlearn: 0.0000393\ttotal: 4m 4s\tremaining: 3m 56s\n",
      "508:\tlearn: 0.0000393\ttotal: 4m 4s\tremaining: 3m 56s\n",
      "509:\tlearn: 0.0000393\ttotal: 4m 5s\tremaining: 3m 55s\n",
      "510:\tlearn: 0.0000393\ttotal: 4m 5s\tremaining: 3m 55s\n",
      "511:\tlearn: 0.0000393\ttotal: 4m 5s\tremaining: 3m 54s\n",
      "512:\tlearn: 0.0000393\ttotal: 4m 6s\tremaining: 3m 53s\n",
      "513:\tlearn: 0.0000393\ttotal: 4m 6s\tremaining: 3m 53s\n",
      "514:\tlearn: 0.0000393\ttotal: 4m 7s\tremaining: 3m 52s\n",
      "515:\tlearn: 0.0000393\ttotal: 4m 7s\tremaining: 3m 52s\n",
      "516:\tlearn: 0.0000393\ttotal: 4m 8s\tremaining: 3m 51s\n",
      "517:\tlearn: 0.0000393\ttotal: 4m 8s\tremaining: 3m 51s\n",
      "518:\tlearn: 0.0000393\ttotal: 4m 8s\tremaining: 3m 50s\n",
      "519:\tlearn: 0.0000393\ttotal: 4m 9s\tremaining: 3m 50s\n",
      "520:\tlearn: 0.0000393\ttotal: 4m 9s\tremaining: 3m 49s\n",
      "521:\tlearn: 0.0000393\ttotal: 4m 10s\tremaining: 3m 49s\n",
      "522:\tlearn: 0.0000393\ttotal: 4m 10s\tremaining: 3m 48s\n",
      "523:\tlearn: 0.0000393\ttotal: 4m 10s\tremaining: 3m 47s\n",
      "524:\tlearn: 0.0000393\ttotal: 4m 11s\tremaining: 3m 47s\n",
      "525:\tlearn: 0.0000393\ttotal: 4m 11s\tremaining: 3m 46s\n",
      "526:\tlearn: 0.0000393\ttotal: 4m 12s\tremaining: 3m 46s\n",
      "527:\tlearn: 0.0000393\ttotal: 4m 12s\tremaining: 3m 45s\n",
      "528:\tlearn: 0.0000393\ttotal: 4m 13s\tremaining: 3m 45s\n",
      "529:\tlearn: 0.0000393\ttotal: 4m 13s\tremaining: 3m 44s\n",
      "530:\tlearn: 0.0000393\ttotal: 4m 13s\tremaining: 3m 44s\n",
      "531:\tlearn: 0.0000393\ttotal: 4m 14s\tremaining: 3m 43s\n",
      "532:\tlearn: 0.0000393\ttotal: 4m 14s\tremaining: 3m 43s\n",
      "533:\tlearn: 0.0000393\ttotal: 4m 15s\tremaining: 3m 42s\n",
      "534:\tlearn: 0.0000393\ttotal: 4m 15s\tremaining: 3m 42s\n",
      "535:\tlearn: 0.0000393\ttotal: 4m 16s\tremaining: 3m 41s\n",
      "536:\tlearn: 0.0000393\ttotal: 4m 16s\tremaining: 3m 41s\n",
      "537:\tlearn: 0.0000393\ttotal: 4m 16s\tremaining: 3m 40s\n",
      "538:\tlearn: 0.0000393\ttotal: 4m 17s\tremaining: 3m 40s\n",
      "539:\tlearn: 0.0000393\ttotal: 4m 17s\tremaining: 3m 39s\n",
      "540:\tlearn: 0.0000393\ttotal: 4m 18s\tremaining: 3m 39s\n",
      "541:\tlearn: 0.0000393\ttotal: 4m 18s\tremaining: 3m 38s\n",
      "542:\tlearn: 0.0000393\ttotal: 4m 18s\tremaining: 3m 37s\n",
      "543:\tlearn: 0.0000393\ttotal: 4m 19s\tremaining: 3m 37s\n",
      "544:\tlearn: 0.0000393\ttotal: 4m 19s\tremaining: 3m 36s\n",
      "545:\tlearn: 0.0000393\ttotal: 4m 20s\tremaining: 3m 36s\n",
      "546:\tlearn: 0.0000393\ttotal: 4m 20s\tremaining: 3m 35s\n",
      "547:\tlearn: 0.0000393\ttotal: 4m 21s\tremaining: 3m 35s\n",
      "548:\tlearn: 0.0000393\ttotal: 4m 21s\tremaining: 3m 34s\n",
      "549:\tlearn: 0.0000393\ttotal: 4m 21s\tremaining: 3m 34s\n",
      "550:\tlearn: 0.0000393\ttotal: 4m 22s\tremaining: 3m 33s\n",
      "551:\tlearn: 0.0000393\ttotal: 4m 22s\tremaining: 3m 33s\n",
      "552:\tlearn: 0.0000393\ttotal: 4m 23s\tremaining: 3m 32s\n",
      "553:\tlearn: 0.0000393\ttotal: 4m 23s\tremaining: 3m 32s\n",
      "554:\tlearn: 0.0000393\ttotal: 4m 24s\tremaining: 3m 31s\n",
      "555:\tlearn: 0.0000393\ttotal: 4m 24s\tremaining: 3m 31s\n",
      "556:\tlearn: 0.0000393\ttotal: 4m 24s\tremaining: 3m 30s\n",
      "557:\tlearn: 0.0000393\ttotal: 4m 25s\tremaining: 3m 30s\n",
      "558:\tlearn: 0.0000393\ttotal: 4m 25s\tremaining: 3m 29s\n",
      "559:\tlearn: 0.0000393\ttotal: 4m 26s\tremaining: 3m 29s\n",
      "560:\tlearn: 0.0000393\ttotal: 4m 26s\tremaining: 3m 28s\n",
      "561:\tlearn: 0.0000393\ttotal: 4m 26s\tremaining: 3m 28s\n",
      "562:\tlearn: 0.0000393\ttotal: 4m 27s\tremaining: 3m 27s\n",
      "563:\tlearn: 0.0000393\ttotal: 4m 27s\tremaining: 3m 26s\n",
      "564:\tlearn: 0.0000393\ttotal: 4m 28s\tremaining: 3m 26s\n",
      "565:\tlearn: 0.0000393\ttotal: 4m 28s\tremaining: 3m 25s\n",
      "566:\tlearn: 0.0000393\ttotal: 4m 29s\tremaining: 3m 25s\n",
      "567:\tlearn: 0.0000393\ttotal: 4m 29s\tremaining: 3m 24s\n",
      "568:\tlearn: 0.0000393\ttotal: 4m 29s\tremaining: 3m 24s\n",
      "569:\tlearn: 0.0000393\ttotal: 4m 30s\tremaining: 3m 23s\n",
      "570:\tlearn: 0.0000393\ttotal: 4m 30s\tremaining: 3m 23s\n",
      "571:\tlearn: 0.0000393\ttotal: 4m 31s\tremaining: 3m 22s\n",
      "572:\tlearn: 0.0000393\ttotal: 4m 31s\tremaining: 3m 22s\n",
      "573:\tlearn: 0.0000393\ttotal: 4m 31s\tremaining: 3m 21s\n",
      "574:\tlearn: 0.0000393\ttotal: 4m 32s\tremaining: 3m 21s\n",
      "575:\tlearn: 0.0000393\ttotal: 4m 32s\tremaining: 3m 20s\n",
      "576:\tlearn: 0.0000393\ttotal: 4m 33s\tremaining: 3m 20s\n",
      "577:\tlearn: 0.0000393\ttotal: 4m 33s\tremaining: 3m 19s\n",
      "578:\tlearn: 0.0000393\ttotal: 4m 34s\tremaining: 3m 19s\n",
      "579:\tlearn: 0.0000393\ttotal: 4m 34s\tremaining: 3m 18s\n",
      "580:\tlearn: 0.0000393\ttotal: 4m 34s\tremaining: 3m 18s\n",
      "581:\tlearn: 0.0000393\ttotal: 4m 35s\tremaining: 3m 17s\n",
      "582:\tlearn: 0.0000393\ttotal: 4m 35s\tremaining: 3m 17s\n",
      "583:\tlearn: 0.0000393\ttotal: 4m 36s\tremaining: 3m 16s\n",
      "584:\tlearn: 0.0000393\ttotal: 4m 36s\tremaining: 3m 16s\n",
      "585:\tlearn: 0.0000393\ttotal: 4m 37s\tremaining: 3m 15s\n",
      "586:\tlearn: 0.0000393\ttotal: 4m 37s\tremaining: 3m 15s\n",
      "587:\tlearn: 0.0000393\ttotal: 4m 37s\tremaining: 3m 14s\n",
      "588:\tlearn: 0.0000393\ttotal: 4m 38s\tremaining: 3m 14s\n",
      "589:\tlearn: 0.0000393\ttotal: 4m 38s\tremaining: 3m 13s\n",
      "590:\tlearn: 0.0000393\ttotal: 4m 39s\tremaining: 3m 13s\n",
      "591:\tlearn: 0.0000393\ttotal: 4m 39s\tremaining: 3m 12s\n",
      "592:\tlearn: 0.0000393\ttotal: 4m 39s\tremaining: 3m 12s\n",
      "593:\tlearn: 0.0000393\ttotal: 4m 40s\tremaining: 3m 11s\n",
      "594:\tlearn: 0.0000393\ttotal: 4m 40s\tremaining: 3m 11s\n",
      "595:\tlearn: 0.0000393\ttotal: 4m 41s\tremaining: 3m 10s\n",
      "596:\tlearn: 0.0000393\ttotal: 4m 41s\tremaining: 3m 10s\n",
      "597:\tlearn: 0.0000393\ttotal: 4m 42s\tremaining: 3m 9s\n",
      "598:\tlearn: 0.0000393\ttotal: 4m 42s\tremaining: 3m 9s\n",
      "599:\tlearn: 0.0000393\ttotal: 4m 42s\tremaining: 3m 8s\n",
      "600:\tlearn: 0.0000393\ttotal: 4m 43s\tremaining: 3m 8s\n",
      "601:\tlearn: 0.0000393\ttotal: 4m 43s\tremaining: 3m 7s\n",
      "602:\tlearn: 0.0000393\ttotal: 4m 44s\tremaining: 3m 7s\n",
      "603:\tlearn: 0.0000393\ttotal: 4m 44s\tremaining: 3m 6s\n",
      "604:\tlearn: 0.0000393\ttotal: 4m 44s\tremaining: 3m 6s\n",
      "605:\tlearn: 0.0000393\ttotal: 4m 45s\tremaining: 3m 5s\n",
      "606:\tlearn: 0.0000393\ttotal: 4m 45s\tremaining: 3m 5s\n",
      "607:\tlearn: 0.0000393\ttotal: 4m 46s\tremaining: 3m 4s\n",
      "608:\tlearn: 0.0000393\ttotal: 4m 46s\tremaining: 3m 4s\n",
      "609:\tlearn: 0.0000393\ttotal: 4m 47s\tremaining: 3m 3s\n",
      "610:\tlearn: 0.0000393\ttotal: 4m 47s\tremaining: 3m 3s\n",
      "611:\tlearn: 0.0000393\ttotal: 4m 47s\tremaining: 3m 2s\n",
      "612:\tlearn: 0.0000393\ttotal: 4m 48s\tremaining: 3m 2s\n",
      "613:\tlearn: 0.0000393\ttotal: 4m 48s\tremaining: 3m 1s\n",
      "614:\tlearn: 0.0000393\ttotal: 4m 49s\tremaining: 3m 1s\n",
      "615:\tlearn: 0.0000393\ttotal: 4m 49s\tremaining: 3m\n",
      "616:\tlearn: 0.0000393\ttotal: 4m 50s\tremaining: 3m\n",
      "617:\tlearn: 0.0000393\ttotal: 4m 50s\tremaining: 2m 59s\n",
      "618:\tlearn: 0.0000393\ttotal: 4m 50s\tremaining: 2m 59s\n",
      "619:\tlearn: 0.0000393\ttotal: 4m 51s\tremaining: 2m 58s\n",
      "620:\tlearn: 0.0000393\ttotal: 4m 51s\tremaining: 2m 58s\n",
      "621:\tlearn: 0.0000393\ttotal: 4m 52s\tremaining: 2m 57s\n",
      "622:\tlearn: 0.0000393\ttotal: 4m 52s\tremaining: 2m 57s\n",
      "623:\tlearn: 0.0000393\ttotal: 4m 53s\tremaining: 2m 56s\n",
      "624:\tlearn: 0.0000393\ttotal: 4m 53s\tremaining: 2m 56s\n",
      "625:\tlearn: 0.0000393\ttotal: 4m 53s\tremaining: 2m 55s\n",
      "626:\tlearn: 0.0000393\ttotal: 4m 54s\tremaining: 2m 55s\n",
      "627:\tlearn: 0.0000393\ttotal: 4m 54s\tremaining: 2m 54s\n",
      "628:\tlearn: 0.0000393\ttotal: 4m 55s\tremaining: 2m 54s\n",
      "629:\tlearn: 0.0000393\ttotal: 4m 55s\tremaining: 2m 53s\n",
      "630:\tlearn: 0.0000393\ttotal: 4m 55s\tremaining: 2m 53s\n",
      "631:\tlearn: 0.0000393\ttotal: 4m 56s\tremaining: 2m 52s\n",
      "632:\tlearn: 0.0000393\ttotal: 4m 56s\tremaining: 2m 52s\n",
      "633:\tlearn: 0.0000393\ttotal: 4m 57s\tremaining: 2m 51s\n",
      "634:\tlearn: 0.0000393\ttotal: 4m 57s\tremaining: 2m 51s\n",
      "635:\tlearn: 0.0000393\ttotal: 4m 58s\tremaining: 2m 50s\n",
      "636:\tlearn: 0.0000393\ttotal: 4m 58s\tremaining: 2m 50s\n",
      "637:\tlearn: 0.0000393\ttotal: 4m 58s\tremaining: 2m 49s\n",
      "638:\tlearn: 0.0000393\ttotal: 4m 59s\tremaining: 2m 49s\n",
      "639:\tlearn: 0.0000393\ttotal: 4m 59s\tremaining: 2m 48s\n",
      "640:\tlearn: 0.0000393\ttotal: 5m\tremaining: 2m 48s\n",
      "641:\tlearn: 0.0000393\ttotal: 5m\tremaining: 2m 47s\n",
      "642:\tlearn: 0.0000393\ttotal: 5m\tremaining: 2m 47s\n",
      "643:\tlearn: 0.0000393\ttotal: 5m 1s\tremaining: 2m 46s\n",
      "644:\tlearn: 0.0000393\ttotal: 5m 1s\tremaining: 2m 46s\n",
      "645:\tlearn: 0.0000393\ttotal: 5m 2s\tremaining: 2m 45s\n",
      "646:\tlearn: 0.0000393\ttotal: 5m 2s\tremaining: 2m 45s\n",
      "647:\tlearn: 0.0000393\ttotal: 5m 3s\tremaining: 2m 44s\n",
      "648:\tlearn: 0.0000393\ttotal: 5m 3s\tremaining: 2m 44s\n",
      "649:\tlearn: 0.0000393\ttotal: 5m 3s\tremaining: 2m 43s\n",
      "650:\tlearn: 0.0000393\ttotal: 5m 4s\tremaining: 2m 43s\n",
      "651:\tlearn: 0.0000393\ttotal: 5m 4s\tremaining: 2m 42s\n",
      "652:\tlearn: 0.0000393\ttotal: 5m 5s\tremaining: 2m 42s\n",
      "653:\tlearn: 0.0000393\ttotal: 5m 5s\tremaining: 2m 41s\n",
      "654:\tlearn: 0.0000393\ttotal: 5m 6s\tremaining: 2m 41s\n",
      "655:\tlearn: 0.0000393\ttotal: 5m 6s\tremaining: 2m 40s\n",
      "656:\tlearn: 0.0000393\ttotal: 5m 6s\tremaining: 2m 40s\n",
      "657:\tlearn: 0.0000393\ttotal: 5m 7s\tremaining: 2m 39s\n",
      "658:\tlearn: 0.0000393\ttotal: 5m 7s\tremaining: 2m 39s\n",
      "659:\tlearn: 0.0000393\ttotal: 5m 8s\tremaining: 2m 38s\n",
      "660:\tlearn: 0.0000393\ttotal: 5m 8s\tremaining: 2m 38s\n",
      "661:\tlearn: 0.0000393\ttotal: 5m 9s\tremaining: 2m 37s\n",
      "662:\tlearn: 0.0000393\ttotal: 5m 9s\tremaining: 2m 37s\n",
      "663:\tlearn: 0.0000393\ttotal: 5m 9s\tremaining: 2m 36s\n",
      "664:\tlearn: 0.0000393\ttotal: 5m 10s\tremaining: 2m 36s\n",
      "665:\tlearn: 0.0000393\ttotal: 5m 10s\tremaining: 2m 35s\n",
      "666:\tlearn: 0.0000393\ttotal: 5m 11s\tremaining: 2m 35s\n",
      "667:\tlearn: 0.0000393\ttotal: 5m 11s\tremaining: 2m 34s\n",
      "668:\tlearn: 0.0000393\ttotal: 5m 11s\tremaining: 2m 34s\n",
      "669:\tlearn: 0.0000393\ttotal: 5m 12s\tremaining: 2m 33s\n",
      "670:\tlearn: 0.0000393\ttotal: 5m 12s\tremaining: 2m 33s\n",
      "671:\tlearn: 0.0000393\ttotal: 5m 13s\tremaining: 2m 32s\n",
      "672:\tlearn: 0.0000393\ttotal: 5m 13s\tremaining: 2m 32s\n",
      "673:\tlearn: 0.0000393\ttotal: 5m 14s\tremaining: 2m 31s\n",
      "674:\tlearn: 0.0000393\ttotal: 5m 14s\tremaining: 2m 31s\n",
      "675:\tlearn: 0.0000393\ttotal: 5m 14s\tremaining: 2m 30s\n",
      "676:\tlearn: 0.0000393\ttotal: 5m 15s\tremaining: 2m 30s\n",
      "677:\tlearn: 0.0000393\ttotal: 5m 15s\tremaining: 2m 29s\n",
      "678:\tlearn: 0.0000393\ttotal: 5m 16s\tremaining: 2m 29s\n",
      "679:\tlearn: 0.0000393\ttotal: 5m 16s\tremaining: 2m 28s\n",
      "680:\tlearn: 0.0000393\ttotal: 5m 16s\tremaining: 2m 28s\n",
      "681:\tlearn: 0.0000393\ttotal: 5m 17s\tremaining: 2m 27s\n",
      "682:\tlearn: 0.0000393\ttotal: 5m 17s\tremaining: 2m 27s\n",
      "683:\tlearn: 0.0000393\ttotal: 5m 18s\tremaining: 2m 27s\n",
      "684:\tlearn: 0.0000393\ttotal: 5m 18s\tremaining: 2m 26s\n",
      "685:\tlearn: 0.0000393\ttotal: 5m 19s\tremaining: 2m 26s\n",
      "686:\tlearn: 0.0000393\ttotal: 5m 19s\tremaining: 2m 25s\n",
      "687:\tlearn: 0.0000393\ttotal: 5m 19s\tremaining: 2m 25s\n",
      "688:\tlearn: 0.0000393\ttotal: 5m 20s\tremaining: 2m 24s\n",
      "689:\tlearn: 0.0000393\ttotal: 5m 20s\tremaining: 2m 24s\n",
      "690:\tlearn: 0.0000393\ttotal: 5m 21s\tremaining: 2m 23s\n",
      "691:\tlearn: 0.0000393\ttotal: 5m 21s\tremaining: 2m 23s\n",
      "692:\tlearn: 0.0000393\ttotal: 5m 22s\tremaining: 2m 22s\n",
      "693:\tlearn: 0.0000393\ttotal: 5m 22s\tremaining: 2m 22s\n",
      "694:\tlearn: 0.0000393\ttotal: 5m 22s\tremaining: 2m 21s\n",
      "695:\tlearn: 0.0000393\ttotal: 5m 23s\tremaining: 2m 21s\n",
      "696:\tlearn: 0.0000393\ttotal: 5m 23s\tremaining: 2m 20s\n",
      "697:\tlearn: 0.0000393\ttotal: 5m 24s\tremaining: 2m 20s\n",
      "698:\tlearn: 0.0000393\ttotal: 5m 24s\tremaining: 2m 19s\n",
      "699:\tlearn: 0.0000393\ttotal: 5m 25s\tremaining: 2m 19s\n",
      "700:\tlearn: 0.0000393\ttotal: 5m 25s\tremaining: 2m 18s\n",
      "701:\tlearn: 0.0000393\ttotal: 5m 25s\tremaining: 2m 18s\n",
      "702:\tlearn: 0.0000393\ttotal: 5m 26s\tremaining: 2m 17s\n",
      "703:\tlearn: 0.0000393\ttotal: 5m 26s\tremaining: 2m 17s\n",
      "704:\tlearn: 0.0000393\ttotal: 5m 27s\tremaining: 2m 16s\n",
      "705:\tlearn: 0.0000393\ttotal: 5m 27s\tremaining: 2m 16s\n",
      "706:\tlearn: 0.0000393\ttotal: 5m 27s\tremaining: 2m 15s\n",
      "707:\tlearn: 0.0000393\ttotal: 5m 28s\tremaining: 2m 15s\n",
      "708:\tlearn: 0.0000393\ttotal: 5m 28s\tremaining: 2m 14s\n",
      "709:\tlearn: 0.0000393\ttotal: 5m 29s\tremaining: 2m 14s\n",
      "710:\tlearn: 0.0000393\ttotal: 5m 29s\tremaining: 2m 13s\n",
      "711:\tlearn: 0.0000393\ttotal: 5m 30s\tremaining: 2m 13s\n",
      "712:\tlearn: 0.0000393\ttotal: 5m 30s\tremaining: 2m 13s\n",
      "713:\tlearn: 0.0000393\ttotal: 5m 30s\tremaining: 2m 12s\n",
      "714:\tlearn: 0.0000393\ttotal: 5m 31s\tremaining: 2m 12s\n",
      "715:\tlearn: 0.0000393\ttotal: 5m 31s\tremaining: 2m 11s\n",
      "716:\tlearn: 0.0000393\ttotal: 5m 32s\tremaining: 2m 11s\n",
      "717:\tlearn: 0.0000393\ttotal: 5m 32s\tremaining: 2m 10s\n",
      "718:\tlearn: 0.0000393\ttotal: 5m 32s\tremaining: 2m 10s\n",
      "719:\tlearn: 0.0000393\ttotal: 5m 33s\tremaining: 2m 9s\n",
      "720:\tlearn: 0.0000393\ttotal: 5m 33s\tremaining: 2m 9s\n",
      "721:\tlearn: 0.0000393\ttotal: 5m 34s\tremaining: 2m 8s\n",
      "722:\tlearn: 0.0000393\ttotal: 5m 34s\tremaining: 2m 8s\n",
      "723:\tlearn: 0.0000393\ttotal: 5m 35s\tremaining: 2m 7s\n",
      "724:\tlearn: 0.0000393\ttotal: 5m 35s\tremaining: 2m 7s\n",
      "725:\tlearn: 0.0000393\ttotal: 5m 35s\tremaining: 2m 6s\n",
      "726:\tlearn: 0.0000393\ttotal: 5m 36s\tremaining: 2m 6s\n",
      "727:\tlearn: 0.0000393\ttotal: 5m 36s\tremaining: 2m 5s\n",
      "728:\tlearn: 0.0000393\ttotal: 5m 37s\tremaining: 2m 5s\n",
      "729:\tlearn: 0.0000393\ttotal: 5m 37s\tremaining: 2m 4s\n",
      "730:\tlearn: 0.0000393\ttotal: 5m 38s\tremaining: 2m 4s\n",
      "731:\tlearn: 0.0000393\ttotal: 5m 38s\tremaining: 2m 3s\n",
      "732:\tlearn: 0.0000393\ttotal: 5m 38s\tremaining: 2m 3s\n",
      "733:\tlearn: 0.0000393\ttotal: 5m 39s\tremaining: 2m 2s\n",
      "734:\tlearn: 0.0000393\ttotal: 5m 39s\tremaining: 2m 2s\n",
      "735:\tlearn: 0.0000393\ttotal: 5m 40s\tremaining: 2m 2s\n",
      "736:\tlearn: 0.0000393\ttotal: 5m 40s\tremaining: 2m 1s\n",
      "737:\tlearn: 0.0000393\ttotal: 5m 41s\tremaining: 2m 1s\n",
      "738:\tlearn: 0.0000393\ttotal: 5m 41s\tremaining: 2m\n",
      "739:\tlearn: 0.0000393\ttotal: 5m 41s\tremaining: 2m\n",
      "740:\tlearn: 0.0000393\ttotal: 5m 42s\tremaining: 1m 59s\n",
      "741:\tlearn: 0.0000393\ttotal: 5m 42s\tremaining: 1m 59s\n",
      "742:\tlearn: 0.0000393\ttotal: 5m 43s\tremaining: 1m 58s\n",
      "743:\tlearn: 0.0000393\ttotal: 5m 43s\tremaining: 1m 58s\n",
      "744:\tlearn: 0.0000393\ttotal: 5m 43s\tremaining: 1m 57s\n",
      "745:\tlearn: 0.0000393\ttotal: 5m 44s\tremaining: 1m 57s\n",
      "746:\tlearn: 0.0000393\ttotal: 5m 44s\tremaining: 1m 56s\n",
      "747:\tlearn: 0.0000393\ttotal: 5m 45s\tremaining: 1m 56s\n",
      "748:\tlearn: 0.0000393\ttotal: 5m 45s\tremaining: 1m 55s\n",
      "749:\tlearn: 0.0000393\ttotal: 5m 46s\tremaining: 1m 55s\n",
      "750:\tlearn: 0.0000393\ttotal: 5m 46s\tremaining: 1m 54s\n",
      "751:\tlearn: 0.0000393\ttotal: 5m 46s\tremaining: 1m 54s\n",
      "752:\tlearn: 0.0000393\ttotal: 5m 47s\tremaining: 1m 53s\n",
      "753:\tlearn: 0.0000393\ttotal: 5m 47s\tremaining: 1m 53s\n",
      "754:\tlearn: 0.0000393\ttotal: 5m 48s\tremaining: 1m 52s\n",
      "755:\tlearn: 0.0000393\ttotal: 5m 48s\tremaining: 1m 52s\n",
      "756:\tlearn: 0.0000393\ttotal: 5m 49s\tremaining: 1m 52s\n",
      "757:\tlearn: 0.0000393\ttotal: 5m 49s\tremaining: 1m 51s\n",
      "758:\tlearn: 0.0000393\ttotal: 5m 49s\tremaining: 1m 51s\n",
      "759:\tlearn: 0.0000393\ttotal: 5m 50s\tremaining: 1m 50s\n",
      "760:\tlearn: 0.0000393\ttotal: 5m 50s\tremaining: 1m 50s\n",
      "761:\tlearn: 0.0000393\ttotal: 5m 51s\tremaining: 1m 49s\n",
      "762:\tlearn: 0.0000393\ttotal: 5m 51s\tremaining: 1m 49s\n",
      "763:\tlearn: 0.0000393\ttotal: 5m 52s\tremaining: 1m 48s\n",
      "764:\tlearn: 0.0000393\ttotal: 5m 52s\tremaining: 1m 48s\n",
      "765:\tlearn: 0.0000393\ttotal: 5m 53s\tremaining: 1m 47s\n",
      "766:\tlearn: 0.0000393\ttotal: 5m 53s\tremaining: 1m 47s\n",
      "767:\tlearn: 0.0000393\ttotal: 5m 53s\tremaining: 1m 46s\n",
      "768:\tlearn: 0.0000393\ttotal: 5m 54s\tremaining: 1m 46s\n",
      "769:\tlearn: 0.0000393\ttotal: 5m 55s\tremaining: 1m 46s\n",
      "770:\tlearn: 0.0000393\ttotal: 5m 55s\tremaining: 1m 45s\n",
      "771:\tlearn: 0.0000393\ttotal: 5m 55s\tremaining: 1m 45s\n",
      "772:\tlearn: 0.0000393\ttotal: 5m 56s\tremaining: 1m 44s\n",
      "773:\tlearn: 0.0000393\ttotal: 5m 56s\tremaining: 1m 44s\n",
      "774:\tlearn: 0.0000393\ttotal: 5m 57s\tremaining: 1m 43s\n",
      "775:\tlearn: 0.0000393\ttotal: 5m 57s\tremaining: 1m 43s\n",
      "776:\tlearn: 0.0000393\ttotal: 5m 58s\tremaining: 1m 42s\n",
      "777:\tlearn: 0.0000393\ttotal: 5m 58s\tremaining: 1m 42s\n",
      "778:\tlearn: 0.0000393\ttotal: 5m 59s\tremaining: 1m 41s\n",
      "779:\tlearn: 0.0000393\ttotal: 5m 59s\tremaining: 1m 41s\n",
      "780:\tlearn: 0.0000393\ttotal: 5m 59s\tremaining: 1m 40s\n",
      "781:\tlearn: 0.0000393\ttotal: 6m\tremaining: 1m 40s\n",
      "782:\tlearn: 0.0000393\ttotal: 6m\tremaining: 1m 39s\n",
      "783:\tlearn: 0.0000393\ttotal: 6m 1s\tremaining: 1m 39s\n",
      "784:\tlearn: 0.0000393\ttotal: 6m 1s\tremaining: 1m 39s\n",
      "785:\tlearn: 0.0000393\ttotal: 6m 1s\tremaining: 1m 38s\n",
      "786:\tlearn: 0.0000393\ttotal: 6m 2s\tremaining: 1m 38s\n",
      "787:\tlearn: 0.0000393\ttotal: 6m 2s\tremaining: 1m 37s\n",
      "788:\tlearn: 0.0000393\ttotal: 6m 3s\tremaining: 1m 37s\n",
      "789:\tlearn: 0.0000393\ttotal: 6m 3s\tremaining: 1m 36s\n",
      "790:\tlearn: 0.0000393\ttotal: 6m 3s\tremaining: 1m 36s\n",
      "791:\tlearn: 0.0000393\ttotal: 6m 4s\tremaining: 1m 35s\n",
      "792:\tlearn: 0.0000393\ttotal: 6m 4s\tremaining: 1m 35s\n",
      "793:\tlearn: 0.0000393\ttotal: 6m 5s\tremaining: 1m 34s\n",
      "794:\tlearn: 0.0000393\ttotal: 6m 5s\tremaining: 1m 34s\n",
      "795:\tlearn: 0.0000393\ttotal: 6m 6s\tremaining: 1m 33s\n",
      "796:\tlearn: 0.0000393\ttotal: 6m 6s\tremaining: 1m 33s\n",
      "797:\tlearn: 0.0000393\ttotal: 6m 6s\tremaining: 1m 32s\n",
      "798:\tlearn: 0.0000393\ttotal: 6m 7s\tremaining: 1m 32s\n",
      "799:\tlearn: 0.0000393\ttotal: 6m 7s\tremaining: 1m 31s\n",
      "800:\tlearn: 0.0000393\ttotal: 6m 8s\tremaining: 1m 31s\n",
      "801:\tlearn: 0.0000393\ttotal: 6m 8s\tremaining: 1m 30s\n",
      "802:\tlearn: 0.0000393\ttotal: 6m 8s\tremaining: 1m 30s\n",
      "803:\tlearn: 0.0000393\ttotal: 6m 9s\tremaining: 1m 30s\n",
      "804:\tlearn: 0.0000393\ttotal: 6m 9s\tremaining: 1m 29s\n",
      "805:\tlearn: 0.0000393\ttotal: 6m 10s\tremaining: 1m 29s\n",
      "806:\tlearn: 0.0000393\ttotal: 6m 10s\tremaining: 1m 28s\n",
      "807:\tlearn: 0.0000393\ttotal: 6m 11s\tremaining: 1m 28s\n",
      "808:\tlearn: 0.0000393\ttotal: 6m 11s\tremaining: 1m 27s\n",
      "809:\tlearn: 0.0000393\ttotal: 6m 11s\tremaining: 1m 27s\n",
      "810:\tlearn: 0.0000393\ttotal: 6m 12s\tremaining: 1m 26s\n",
      "811:\tlearn: 0.0000393\ttotal: 6m 12s\tremaining: 1m 26s\n",
      "812:\tlearn: 0.0000393\ttotal: 6m 13s\tremaining: 1m 25s\n",
      "813:\tlearn: 0.0000393\ttotal: 6m 13s\tremaining: 1m 25s\n",
      "814:\tlearn: 0.0000393\ttotal: 6m 14s\tremaining: 1m 24s\n",
      "815:\tlearn: 0.0000393\ttotal: 6m 14s\tremaining: 1m 24s\n",
      "816:\tlearn: 0.0000393\ttotal: 6m 14s\tremaining: 1m 23s\n",
      "817:\tlearn: 0.0000393\ttotal: 6m 15s\tremaining: 1m 23s\n",
      "818:\tlearn: 0.0000393\ttotal: 6m 15s\tremaining: 1m 23s\n",
      "819:\tlearn: 0.0000393\ttotal: 6m 16s\tremaining: 1m 22s\n",
      "820:\tlearn: 0.0000393\ttotal: 6m 16s\tremaining: 1m 22s\n",
      "821:\tlearn: 0.0000393\ttotal: 6m 16s\tremaining: 1m 21s\n",
      "822:\tlearn: 0.0000393\ttotal: 6m 17s\tremaining: 1m 21s\n",
      "823:\tlearn: 0.0000393\ttotal: 6m 17s\tremaining: 1m 20s\n",
      "824:\tlearn: 0.0000393\ttotal: 6m 18s\tremaining: 1m 20s\n",
      "825:\tlearn: 0.0000393\ttotal: 6m 18s\tremaining: 1m 19s\n",
      "826:\tlearn: 0.0000393\ttotal: 6m 19s\tremaining: 1m 19s\n",
      "827:\tlearn: 0.0000393\ttotal: 6m 19s\tremaining: 1m 18s\n",
      "828:\tlearn: 0.0000393\ttotal: 6m 19s\tremaining: 1m 18s\n",
      "829:\tlearn: 0.0000393\ttotal: 6m 20s\tremaining: 1m 17s\n",
      "830:\tlearn: 0.0000393\ttotal: 6m 20s\tremaining: 1m 17s\n",
      "831:\tlearn: 0.0000393\ttotal: 6m 21s\tremaining: 1m 16s\n",
      "832:\tlearn: 0.0000393\ttotal: 6m 21s\tremaining: 1m 16s\n",
      "833:\tlearn: 0.0000393\ttotal: 6m 22s\tremaining: 1m 16s\n",
      "834:\tlearn: 0.0000393\ttotal: 6m 22s\tremaining: 1m 15s\n",
      "835:\tlearn: 0.0000393\ttotal: 6m 23s\tremaining: 1m 15s\n",
      "836:\tlearn: 0.0000393\ttotal: 6m 23s\tremaining: 1m 14s\n",
      "837:\tlearn: 0.0000393\ttotal: 6m 24s\tremaining: 1m 14s\n",
      "838:\tlearn: 0.0000393\ttotal: 6m 24s\tremaining: 1m 13s\n",
      "839:\tlearn: 0.0000393\ttotal: 6m 25s\tremaining: 1m 13s\n",
      "840:\tlearn: 0.0000393\ttotal: 6m 25s\tremaining: 1m 12s\n",
      "841:\tlearn: 0.0000393\ttotal: 6m 26s\tremaining: 1m 12s\n",
      "842:\tlearn: 0.0000393\ttotal: 6m 26s\tremaining: 1m 12s\n",
      "843:\tlearn: 0.0000393\ttotal: 6m 27s\tremaining: 1m 11s\n",
      "844:\tlearn: 0.0000393\ttotal: 6m 27s\tremaining: 1m 11s\n",
      "845:\tlearn: 0.0000393\ttotal: 6m 28s\tremaining: 1m 10s\n",
      "846:\tlearn: 0.0000393\ttotal: 6m 28s\tremaining: 1m 10s\n",
      "847:\tlearn: 0.0000393\ttotal: 6m 29s\tremaining: 1m 9s\n",
      "848:\tlearn: 0.0000393\ttotal: 6m 29s\tremaining: 1m 9s\n",
      "849:\tlearn: 0.0000393\ttotal: 6m 29s\tremaining: 1m 8s\n",
      "850:\tlearn: 0.0000393\ttotal: 6m 30s\tremaining: 1m 8s\n",
      "851:\tlearn: 0.0000393\ttotal: 6m 30s\tremaining: 1m 7s\n",
      "852:\tlearn: 0.0000393\ttotal: 6m 31s\tremaining: 1m 7s\n",
      "853:\tlearn: 0.0000393\ttotal: 6m 31s\tremaining: 1m 6s\n",
      "854:\tlearn: 0.0000393\ttotal: 6m 32s\tremaining: 1m 6s\n",
      "855:\tlearn: 0.0000393\ttotal: 6m 32s\tremaining: 1m 6s\n",
      "856:\tlearn: 0.0000393\ttotal: 6m 33s\tremaining: 1m 5s\n",
      "857:\tlearn: 0.0000393\ttotal: 6m 33s\tremaining: 1m 5s\n",
      "858:\tlearn: 0.0000393\ttotal: 6m 33s\tremaining: 1m 4s\n",
      "859:\tlearn: 0.0000393\ttotal: 6m 34s\tremaining: 1m 4s\n",
      "860:\tlearn: 0.0000393\ttotal: 6m 34s\tremaining: 1m 3s\n",
      "861:\tlearn: 0.0000393\ttotal: 6m 35s\tremaining: 1m 3s\n",
      "862:\tlearn: 0.0000393\ttotal: 6m 35s\tremaining: 1m 2s\n",
      "863:\tlearn: 0.0000393\ttotal: 6m 36s\tremaining: 1m 2s\n",
      "864:\tlearn: 0.0000393\ttotal: 6m 36s\tremaining: 1m 1s\n",
      "865:\tlearn: 0.0000393\ttotal: 6m 36s\tremaining: 1m 1s\n",
      "866:\tlearn: 0.0000393\ttotal: 6m 37s\tremaining: 1m\n",
      "867:\tlearn: 0.0000393\ttotal: 6m 37s\tremaining: 1m\n",
      "868:\tlearn: 0.0000393\ttotal: 6m 38s\tremaining: 1m\n",
      "869:\tlearn: 0.0000393\ttotal: 6m 38s\tremaining: 59.6s\n",
      "870:\tlearn: 0.0000393\ttotal: 6m 39s\tremaining: 59.1s\n",
      "871:\tlearn: 0.0000393\ttotal: 6m 39s\tremaining: 58.6s\n",
      "872:\tlearn: 0.0000393\ttotal: 6m 39s\tremaining: 58.2s\n",
      "873:\tlearn: 0.0000393\ttotal: 6m 40s\tremaining: 57.7s\n",
      "874:\tlearn: 0.0000393\ttotal: 6m 40s\tremaining: 57.3s\n",
      "875:\tlearn: 0.0000393\ttotal: 6m 41s\tremaining: 56.8s\n",
      "876:\tlearn: 0.0000393\ttotal: 6m 41s\tremaining: 56.3s\n",
      "877:\tlearn: 0.0000393\ttotal: 6m 42s\tremaining: 55.9s\n",
      "878:\tlearn: 0.0000393\ttotal: 6m 42s\tremaining: 55.4s\n",
      "879:\tlearn: 0.0000393\ttotal: 6m 42s\tremaining: 54.9s\n",
      "880:\tlearn: 0.0000393\ttotal: 6m 43s\tremaining: 54.5s\n",
      "881:\tlearn: 0.0000393\ttotal: 6m 43s\tremaining: 54s\n",
      "882:\tlearn: 0.0000393\ttotal: 6m 44s\tremaining: 53.6s\n",
      "883:\tlearn: 0.0000393\ttotal: 6m 44s\tremaining: 53.1s\n",
      "884:\tlearn: 0.0000393\ttotal: 6m 45s\tremaining: 52.6s\n",
      "885:\tlearn: 0.0000393\ttotal: 6m 45s\tremaining: 52.2s\n",
      "886:\tlearn: 0.0000393\ttotal: 6m 45s\tremaining: 51.7s\n",
      "887:\tlearn: 0.0000393\ttotal: 6m 46s\tremaining: 51.2s\n",
      "888:\tlearn: 0.0000393\ttotal: 6m 46s\tremaining: 50.8s\n",
      "889:\tlearn: 0.0000393\ttotal: 6m 47s\tremaining: 50.3s\n",
      "890:\tlearn: 0.0000393\ttotal: 6m 47s\tremaining: 49.9s\n",
      "891:\tlearn: 0.0000393\ttotal: 6m 47s\tremaining: 49.4s\n",
      "892:\tlearn: 0.0000393\ttotal: 6m 48s\tremaining: 48.9s\n",
      "893:\tlearn: 0.0000393\ttotal: 6m 48s\tremaining: 48.5s\n",
      "894:\tlearn: 0.0000393\ttotal: 6m 49s\tremaining: 48s\n",
      "895:\tlearn: 0.0000393\ttotal: 6m 49s\tremaining: 47.5s\n",
      "896:\tlearn: 0.0000393\ttotal: 6m 50s\tremaining: 47.1s\n",
      "897:\tlearn: 0.0000393\ttotal: 6m 50s\tremaining: 46.6s\n",
      "898:\tlearn: 0.0000393\ttotal: 6m 50s\tremaining: 46.2s\n",
      "899:\tlearn: 0.0000393\ttotal: 6m 51s\tremaining: 45.7s\n",
      "900:\tlearn: 0.0000393\ttotal: 6m 51s\tremaining: 45.2s\n",
      "901:\tlearn: 0.0000393\ttotal: 6m 52s\tremaining: 44.8s\n",
      "902:\tlearn: 0.0000393\ttotal: 6m 52s\tremaining: 44.3s\n",
      "903:\tlearn: 0.0000393\ttotal: 6m 52s\tremaining: 43.9s\n",
      "904:\tlearn: 0.0000393\ttotal: 6m 53s\tremaining: 43.4s\n",
      "905:\tlearn: 0.0000393\ttotal: 6m 53s\tremaining: 42.9s\n",
      "906:\tlearn: 0.0000393\ttotal: 6m 54s\tremaining: 42.5s\n",
      "907:\tlearn: 0.0000393\ttotal: 6m 54s\tremaining: 42s\n",
      "908:\tlearn: 0.0000393\ttotal: 6m 55s\tremaining: 41.6s\n",
      "909:\tlearn: 0.0000393\ttotal: 6m 55s\tremaining: 41.1s\n",
      "910:\tlearn: 0.0000393\ttotal: 6m 56s\tremaining: 40.7s\n",
      "911:\tlearn: 0.0000393\ttotal: 6m 56s\tremaining: 40.2s\n",
      "912:\tlearn: 0.0000393\ttotal: 6m 57s\tremaining: 39.8s\n",
      "913:\tlearn: 0.0000393\ttotal: 6m 57s\tremaining: 39.3s\n",
      "914:\tlearn: 0.0000393\ttotal: 6m 58s\tremaining: 38.8s\n",
      "915:\tlearn: 0.0000393\ttotal: 6m 58s\tremaining: 38.4s\n",
      "916:\tlearn: 0.0000393\ttotal: 6m 59s\tremaining: 37.9s\n",
      "917:\tlearn: 0.0000393\ttotal: 6m 59s\tremaining: 37.5s\n",
      "918:\tlearn: 0.0000393\ttotal: 7m\tremaining: 37s\n",
      "919:\tlearn: 0.0000393\ttotal: 7m\tremaining: 36.6s\n",
      "920:\tlearn: 0.0000393\ttotal: 7m\tremaining: 36.1s\n",
      "921:\tlearn: 0.0000393\ttotal: 7m 1s\tremaining: 35.7s\n",
      "922:\tlearn: 0.0000393\ttotal: 7m 2s\tremaining: 35.2s\n",
      "923:\tlearn: 0.0000393\ttotal: 7m 2s\tremaining: 34.8s\n",
      "924:\tlearn: 0.0000393\ttotal: 7m 3s\tremaining: 34.3s\n",
      "925:\tlearn: 0.0000393\ttotal: 7m 3s\tremaining: 33.9s\n",
      "926:\tlearn: 0.0000393\ttotal: 7m 4s\tremaining: 33.4s\n",
      "927:\tlearn: 0.0000393\ttotal: 7m 4s\tremaining: 33s\n",
      "928:\tlearn: 0.0000393\ttotal: 7m 5s\tremaining: 32.5s\n",
      "929:\tlearn: 0.0000393\ttotal: 7m 5s\tremaining: 32.1s\n",
      "930:\tlearn: 0.0000393\ttotal: 7m 6s\tremaining: 31.6s\n",
      "931:\tlearn: 0.0000393\ttotal: 7m 7s\tremaining: 31.2s\n",
      "932:\tlearn: 0.0000393\ttotal: 7m 7s\tremaining: 30.7s\n",
      "933:\tlearn: 0.0000393\ttotal: 7m 8s\tremaining: 30.3s\n",
      "934:\tlearn: 0.0000393\ttotal: 7m 8s\tremaining: 29.8s\n",
      "935:\tlearn: 0.0000393\ttotal: 7m 9s\tremaining: 29.4s\n",
      "936:\tlearn: 0.0000393\ttotal: 7m 10s\tremaining: 28.9s\n",
      "937:\tlearn: 0.0000393\ttotal: 7m 10s\tremaining: 28.5s\n",
      "938:\tlearn: 0.0000393\ttotal: 7m 11s\tremaining: 28s\n",
      "939:\tlearn: 0.0000393\ttotal: 7m 11s\tremaining: 27.6s\n",
      "940:\tlearn: 0.0000393\ttotal: 7m 12s\tremaining: 27.1s\n",
      "941:\tlearn: 0.0000393\ttotal: 7m 12s\tremaining: 26.7s\n",
      "942:\tlearn: 0.0000393\ttotal: 7m 13s\tremaining: 26.2s\n",
      "943:\tlearn: 0.0000393\ttotal: 7m 14s\tremaining: 25.7s\n",
      "944:\tlearn: 0.0000393\ttotal: 7m 14s\tremaining: 25.3s\n",
      "945:\tlearn: 0.0000393\ttotal: 7m 15s\tremaining: 24.8s\n",
      "946:\tlearn: 0.0000393\ttotal: 7m 15s\tremaining: 24.4s\n",
      "947:\tlearn: 0.0000393\ttotal: 7m 16s\tremaining: 23.9s\n",
      "948:\tlearn: 0.0000393\ttotal: 7m 17s\tremaining: 23.5s\n",
      "949:\tlearn: 0.0000393\ttotal: 7m 17s\tremaining: 23s\n",
      "950:\tlearn: 0.0000393\ttotal: 7m 18s\tremaining: 22.6s\n",
      "951:\tlearn: 0.0000393\ttotal: 7m 18s\tremaining: 22.1s\n",
      "952:\tlearn: 0.0000393\ttotal: 7m 19s\tremaining: 21.7s\n",
      "953:\tlearn: 0.0000393\ttotal: 7m 20s\tremaining: 21.2s\n",
      "954:\tlearn: 0.0000393\ttotal: 7m 20s\tremaining: 20.8s\n",
      "955:\tlearn: 0.0000393\ttotal: 7m 21s\tremaining: 20.3s\n",
      "956:\tlearn: 0.0000393\ttotal: 7m 21s\tremaining: 19.8s\n",
      "957:\tlearn: 0.0000393\ttotal: 7m 22s\tremaining: 19.4s\n",
      "958:\tlearn: 0.0000393\ttotal: 7m 22s\tremaining: 18.9s\n",
      "959:\tlearn: 0.0000393\ttotal: 7m 23s\tremaining: 18.5s\n",
      "960:\tlearn: 0.0000393\ttotal: 7m 23s\tremaining: 18s\n",
      "961:\tlearn: 0.0000393\ttotal: 7m 24s\tremaining: 17.6s\n",
      "962:\tlearn: 0.0000393\ttotal: 7m 24s\tremaining: 17.1s\n",
      "963:\tlearn: 0.0000393\ttotal: 7m 25s\tremaining: 16.6s\n",
      "964:\tlearn: 0.0000393\ttotal: 7m 26s\tremaining: 16.2s\n",
      "965:\tlearn: 0.0000393\ttotal: 7m 26s\tremaining: 15.7s\n",
      "966:\tlearn: 0.0000393\ttotal: 7m 27s\tremaining: 15.3s\n",
      "967:\tlearn: 0.0000393\ttotal: 7m 27s\tremaining: 14.8s\n",
      "968:\tlearn: 0.0000393\ttotal: 7m 28s\tremaining: 14.3s\n",
      "969:\tlearn: 0.0000393\ttotal: 7m 28s\tremaining: 13.9s\n",
      "970:\tlearn: 0.0000393\ttotal: 7m 29s\tremaining: 13.4s\n",
      "971:\tlearn: 0.0000393\ttotal: 7m 30s\tremaining: 13s\n",
      "972:\tlearn: 0.0000393\ttotal: 7m 30s\tremaining: 12.5s\n",
      "973:\tlearn: 0.0000393\ttotal: 7m 31s\tremaining: 12s\n",
      "974:\tlearn: 0.0000393\ttotal: 7m 31s\tremaining: 11.6s\n",
      "975:\tlearn: 0.0000393\ttotal: 7m 32s\tremaining: 11.1s\n",
      "976:\tlearn: 0.0000393\ttotal: 7m 32s\tremaining: 10.7s\n",
      "977:\tlearn: 0.0000393\ttotal: 7m 33s\tremaining: 10.2s\n",
      "978:\tlearn: 0.0000393\ttotal: 7m 33s\tremaining: 9.73s\n",
      "979:\tlearn: 0.0000393\ttotal: 7m 34s\tremaining: 9.27s\n",
      "980:\tlearn: 0.0000393\ttotal: 7m 34s\tremaining: 8.8s\n",
      "981:\tlearn: 0.0000393\ttotal: 7m 35s\tremaining: 8.34s\n",
      "982:\tlearn: 0.0000393\ttotal: 7m 35s\tremaining: 7.88s\n",
      "983:\tlearn: 0.0000393\ttotal: 7m 36s\tremaining: 7.42s\n",
      "984:\tlearn: 0.0000393\ttotal: 7m 36s\tremaining: 6.95s\n",
      "985:\tlearn: 0.0000393\ttotal: 7m 37s\tremaining: 6.49s\n",
      "986:\tlearn: 0.0000393\ttotal: 7m 37s\tremaining: 6.03s\n",
      "987:\tlearn: 0.0000393\ttotal: 7m 37s\tremaining: 5.56s\n",
      "988:\tlearn: 0.0000393\ttotal: 7m 38s\tremaining: 5.1s\n",
      "989:\tlearn: 0.0000393\ttotal: 7m 38s\tremaining: 4.63s\n",
      "990:\tlearn: 0.0000393\ttotal: 7m 39s\tremaining: 4.17s\n",
      "991:\tlearn: 0.0000393\ttotal: 7m 39s\tremaining: 3.71s\n",
      "992:\tlearn: 0.0000393\ttotal: 7m 40s\tremaining: 3.24s\n",
      "993:\tlearn: 0.0000393\ttotal: 7m 40s\tremaining: 2.78s\n",
      "994:\tlearn: 0.0000393\ttotal: 7m 41s\tremaining: 2.32s\n",
      "995:\tlearn: 0.0000393\ttotal: 7m 41s\tremaining: 1.85s\n",
      "996:\tlearn: 0.0000393\ttotal: 7m 42s\tremaining: 1.39s\n",
      "997:\tlearn: 0.0000393\ttotal: 7m 42s\tremaining: 927ms\n",
      "998:\tlearn: 0.0000393\ttotal: 7m 43s\tremaining: 464ms\n",
      "999:\tlearn: 0.0000393\ttotal: 7m 43s\tremaining: 0us\n"
     ]
    },
    {
     "name": "stderr",
     "output_type": "stream",
     "text": [
      "C:\\Users\\dzmit\\anaconda3\\envs\\eurostars\\lib\\site-packages\\pandas\\core\\internals\\blocks.py:352: RuntimeWarning: divide by zero encountered in log\n",
      "  result = func(self.values, **kwargs)\n",
      "C:\\Users\\dzmit\\anaconda3\\envs\\eurostars\\lib\\site-packages\\pandas\\core\\internals\\blocks.py:352: RuntimeWarning: divide by zero encountered in log\n",
      "  result = func(self.values, **kwargs)\n",
      "C:\\Users\\dzmit\\anaconda3\\envs\\eurostars\\lib\\site-packages\\pandas\\core\\internals\\blocks.py:352: RuntimeWarning: divide by zero encountered in log\n",
      "  result = func(self.values, **kwargs)\n"
     ]
    }
   ],
   "source": [
    "from notebooks.Dzim.data_mining.validation.training import estimate_multiple_models\n",
    "from notebooks.Dzim.data_mining.validation.training import estimate_model\n",
    "\n",
    "#### training\n",
    "model_names, model_pipelines = zip(*pipelines)\n",
    "metrics, weights = estimate_multiple_models(\n",
    "    model_pipelines,\n",
    "    lambda pipeline, _: estimate_model(\n",
    "        pipeline,\n",
    "        (X_train, X_test, y_train, y_test),\n",
    "    ),\n",
    "    model_names\n",
    ")"
   ]
  },
  {
   "cell_type": "code",
   "execution_count": 55,
   "metadata": {
    "pycharm": {
     "name": "#%%\n"
    }
   },
   "outputs": [
    {
     "data": {
      "text/plain": "set           train                                                    test  \\\nmetric     f1_score cohen_kappa_score precision_score recall_score f1_score   \nmodel                                                                         \nDummy_mf      0.000             0.000           0.000        0.000    0.000   \nDummy_strf    0.001            -0.000           0.001        0.001    0.001   \nLinReg        0.851             0.851           0.967        0.759    0.850   \nXGB           0.999             0.999           1.000        0.997    0.997   \nLGBM          0.868             0.868           0.962        0.791    0.872   \nRFC           1.000             1.000           1.000        1.000    0.996   \nCatBoost      0.998             0.998           0.999        0.997    0.997   \nMLP           0.862             0.862           0.936        0.800    0.862   \n\nset                                                        \nmetric     cohen_kappa_score precision_score recall_score  \nmodel                                                      \nDummy_mf               0.000           0.000        0.000  \nDummy_strf            -0.001           0.001        0.001  \nLinReg                 0.850           0.967        0.758  \nXGB                    0.997           1.000        0.995  \nLGBM                   0.872           0.963        0.797  \nRFC                    0.996           0.998        0.995  \nCatBoost               0.997           0.999        0.995  \nMLP                    0.862           0.934        0.801  ",
      "text/html": "<div>\n<style scoped>\n    .dataframe tbody tr th:only-of-type {\n        vertical-align: middle;\n    }\n\n    .dataframe tbody tr th {\n        vertical-align: top;\n    }\n\n    .dataframe thead tr th {\n        text-align: left;\n    }\n\n    .dataframe thead tr:last-of-type th {\n        text-align: right;\n    }\n</style>\n<table border=\"1\" class=\"dataframe\">\n  <thead>\n    <tr>\n      <th>set</th>\n      <th colspan=\"4\" halign=\"left\">train</th>\n      <th colspan=\"4\" halign=\"left\">test</th>\n    </tr>\n    <tr>\n      <th>metric</th>\n      <th>f1_score</th>\n      <th>cohen_kappa_score</th>\n      <th>precision_score</th>\n      <th>recall_score</th>\n      <th>f1_score</th>\n      <th>cohen_kappa_score</th>\n      <th>precision_score</th>\n      <th>recall_score</th>\n    </tr>\n    <tr>\n      <th>model</th>\n      <th></th>\n      <th></th>\n      <th></th>\n      <th></th>\n      <th></th>\n      <th></th>\n      <th></th>\n      <th></th>\n    </tr>\n  </thead>\n  <tbody>\n    <tr>\n      <th>Dummy_mf</th>\n      <td>0.000</td>\n      <td>0.000</td>\n      <td>0.000</td>\n      <td>0.000</td>\n      <td>0.000</td>\n      <td>0.000</td>\n      <td>0.000</td>\n      <td>0.000</td>\n    </tr>\n    <tr>\n      <th>Dummy_strf</th>\n      <td>0.001</td>\n      <td>-0.000</td>\n      <td>0.001</td>\n      <td>0.001</td>\n      <td>0.001</td>\n      <td>-0.001</td>\n      <td>0.001</td>\n      <td>0.001</td>\n    </tr>\n    <tr>\n      <th>LinReg</th>\n      <td>0.851</td>\n      <td>0.851</td>\n      <td>0.967</td>\n      <td>0.759</td>\n      <td>0.850</td>\n      <td>0.850</td>\n      <td>0.967</td>\n      <td>0.758</td>\n    </tr>\n    <tr>\n      <th>XGB</th>\n      <td>0.999</td>\n      <td>0.999</td>\n      <td>1.000</td>\n      <td>0.997</td>\n      <td>0.997</td>\n      <td>0.997</td>\n      <td>1.000</td>\n      <td>0.995</td>\n    </tr>\n    <tr>\n      <th>LGBM</th>\n      <td>0.868</td>\n      <td>0.868</td>\n      <td>0.962</td>\n      <td>0.791</td>\n      <td>0.872</td>\n      <td>0.872</td>\n      <td>0.963</td>\n      <td>0.797</td>\n    </tr>\n    <tr>\n      <th>RFC</th>\n      <td>1.000</td>\n      <td>1.000</td>\n      <td>1.000</td>\n      <td>1.000</td>\n      <td>0.996</td>\n      <td>0.996</td>\n      <td>0.998</td>\n      <td>0.995</td>\n    </tr>\n    <tr>\n      <th>CatBoost</th>\n      <td>0.998</td>\n      <td>0.998</td>\n      <td>0.999</td>\n      <td>0.997</td>\n      <td>0.997</td>\n      <td>0.997</td>\n      <td>0.999</td>\n      <td>0.995</td>\n    </tr>\n    <tr>\n      <th>MLP</th>\n      <td>0.862</td>\n      <td>0.862</td>\n      <td>0.936</td>\n      <td>0.800</td>\n      <td>0.862</td>\n      <td>0.862</td>\n      <td>0.934</td>\n      <td>0.801</td>\n    </tr>\n  </tbody>\n</table>\n</div>"
     },
     "execution_count": 55,
     "metadata": {},
     "output_type": "execute_result"
    }
   ],
   "source": [
    "metrics"
   ]
  },
  {
   "cell_type": "markdown",
   "source": [
    "#### Feature importance"
   ],
   "metadata": {
    "collapsed": false,
    "pycharm": {
     "name": "#%% md\n"
    }
   }
  },
  {
   "cell_type": "code",
   "execution_count": 86,
   "outputs": [
    {
     "name": "stdout",
     "output_type": "stream",
     "text": [
      "################################################################################\n",
      "CatBoost\n",
      "                                        feature    weight\n",
      "0    generator__ffg__oldbalanceOrg_amount_ratio  0.349343\n",
      "1   generator__ffg__newbalanceOrig_amount_ratio  0.188489\n",
      "2          preprocessor__imputer__oldbalanceOrg  0.140353\n",
      "3                 preprocessor__imputer__amount  0.074140\n",
      "4                          generator__cat__type  0.057856\n",
      "5         preprocessor__imputer__newbalanceOrig  0.050635\n",
      "6         preprocessor__imputer__newbalanceDest  0.050307\n",
      "7   generator__ffg__newbalanceDest_amount_ratio  0.037419\n",
      "8         preprocessor__imputer__oldbalanceDest  0.031583\n",
      "9   generator__ffg__oldbalanceDest_amount_ratio  0.017259\n",
      "10           generator__ffg__dest_is_bigger_org  0.002616\n",
      "################################################################################\n",
      "Dummy_mf\n",
      "None\n",
      "################################################################################\n",
      "Dummy_strf\n",
      "None\n",
      "################################################################################\n",
      "LGBM\n",
      "                                        feature    weight\n",
      "0    generator__ffg__oldbalanceOrg_amount_ratio  0.369803\n",
      "1         preprocessor__imputer__newbalanceDest  0.315173\n",
      "2          preprocessor__imputer__oldbalanceOrg  0.109082\n",
      "3   generator__ffg__newbalanceOrig_amount_ratio  0.088959\n",
      "4   generator__ffg__newbalanceDest_amount_ratio  0.046895\n",
      "5                 preprocessor__imputer__amount  0.045422\n",
      "6                          generator__cat__type  0.022255\n",
      "7   generator__ffg__oldbalanceDest_amount_ratio  0.001456\n",
      "8         preprocessor__imputer__newbalanceOrig  0.000782\n",
      "9         preprocessor__imputer__oldbalanceDest  0.000131\n",
      "10           generator__ffg__dest_is_bigger_org  0.000042\n",
      "################################################################################\n",
      "LinReg\n",
      "    target                                          feature     weight\n",
      "0        1       generator__ffg__oldbalanceOrg_amount_ratio  35.854360\n",
      "1        1                 preprocessor__scl__oldbalanceOrg  11.051487\n",
      "2        1                preprocessor__scl__oldbalanceDest   4.139001\n",
      "3        1                    generator__cat__type_CASH_OUT   3.858479\n",
      "4        1    generator__ffg__newbalanceOrig_is_bigger_mean   3.224142\n",
      "5        1                    generator__cat__type_TRANSFER   2.934538\n",
      "6        1                        preprocessor__scl__amount   0.865050\n",
      "7        1     generator__ffg__oldbalanceOrg_is_bigger_mean   0.575378\n",
      "8        1                        preprocessor__log__amount   0.375089\n",
      "9        1  generator__ffg__newbalanceDest_is_bigger_median   0.351278\n",
      "10       1                preprocessor__log__oldbalanceDest   0.227869\n",
      "11       1            generator__ffg__amount_is_bigger_mean   0.172384\n",
      "12       1                preprocessor__log__newbalanceDest   0.147542\n",
      "13       1      generator__ffg__newbalanceDest_amount_ratio   0.048621\n",
      "14       1          generator__ffg__amount_is_bigger_median   0.025847\n",
      "15       1      generator__ffg__oldbalanceDest_amount_ratio  -0.046557\n",
      "16       1                     generator__cat__type_CASH_IN  -0.079740\n",
      "17       1    generator__ffg__newbalanceDest_is_bigger_mean  -0.099919\n",
      "18       1                preprocessor__log__newbalanceOrig  -0.279190\n",
      "19       1  generator__ffg__oldbalanceDest_is_bigger_median  -0.434072\n",
      "20       1    generator__ffg__oldbalanceDest_is_bigger_mean  -0.482075\n",
      "21       1   generator__ffg__oldbalanceOrg_is_bigger_median  -0.617283\n",
      "22       1                 preprocessor__log__oldbalanceOrg  -0.719457\n",
      "23       1               generator__ffg__dest_is_bigger_org  -0.723822\n",
      "24       1                       generator__cat__type_DEBIT  -1.033292\n",
      "25       1           generator__ffg__oldbalanceDest_is_zero  -2.846923\n",
      "26       1  generator__ffg__newbalanceOrig_is_bigger_median  -3.246078\n",
      "27       1           generator__ffg__newbalanceOrig_is_zero  -3.246078\n",
      "28       1                                           <BIAS>  -3.262540\n",
      "29       1                preprocessor__scl__newbalanceDest  -4.735977\n",
      "30       1                preprocessor__scl__newbalanceOrig  -5.883361\n",
      "31       1           generator__ffg__newbalanceDest_is_zero  -6.061582\n",
      "32       1                     generator__cat__type_PAYMENT  -8.942525\n",
      "33       1                   generator__ffg__amount_is_zero -10.100492\n",
      "34       1            generator__ffg__oldbalanceOrg_is_zero -17.421039\n",
      "35       1      generator__ffg__newbalanceOrig_amount_ratio -36.919995\n",
      "################################################################################\n",
      "MLP\n",
      "None\n",
      "################################################################################\n",
      "RFC\n",
      "                                        feature    weight       std\n",
      "0    generator__ffg__oldbalanceOrg_amount_ratio  0.472007  0.307366\n",
      "1         preprocessor__imputer__newbalanceOrig  0.105778  0.229187\n",
      "2   generator__ffg__newbalanceOrig_amount_ratio  0.091541  0.225669\n",
      "3         preprocessor__imputer__newbalanceDest  0.080824  0.138410\n",
      "4          preprocessor__imputer__oldbalanceOrg  0.077679  0.094075\n",
      "5   generator__ffg__newbalanceDest_amount_ratio  0.069159  0.127475\n",
      "6                 preprocessor__imputer__amount  0.059567  0.081612\n",
      "7                          generator__cat__type  0.014559  0.026707\n",
      "8   generator__ffg__oldbalanceDest_amount_ratio  0.013628  0.024451\n",
      "9         preprocessor__imputer__oldbalanceDest  0.011055  0.026836\n",
      "10           generator__ffg__dest_is_bigger_org  0.004202  0.010690\n",
      "################################################################################\n",
      "XGB\n",
      "Not Supported\n"
     ]
    }
   ],
   "source": [
    "for name, pipeline in pipelines:\n",
    "    try:\n",
    "        print(\"#\" * 80)\n",
    "        print(name)\n",
    "        print(eli5.explain_weights_df(pipeline[-1], feature_names=pipeline[:-1].get_feature_names_out()))\n",
    "    except Exception:\n",
    "        print('Not Supported')"
   ],
   "metadata": {
    "collapsed": false,
    "pycharm": {
     "name": "#%%\n"
    }
   }
  },
  {
   "cell_type": "markdown",
   "source": [
    "#### AUC scores (takes long time to compute)"
   ],
   "metadata": {
    "collapsed": false,
    "pycharm": {
     "name": "#%% md\n"
    }
   }
  },
  {
   "cell_type": "markdown",
   "source": [
    "##### tree"
   ],
   "metadata": {
    "collapsed": false,
    "pycharm": {
     "name": "#%% md\n"
    }
   }
  },
  {
   "cell_type": "code",
   "execution_count": 127,
   "outputs": [],
   "source": [
    "X_train_transformed_tree = pipelines[0][1][:-1].transform(X_train)"
   ],
   "metadata": {
    "collapsed": false,
    "pycharm": {
     "name": "#%%\n"
    }
   }
  },
  {
   "cell_type": "code",
   "execution_count": 128,
   "outputs": [],
   "source": [
    "X_test_transformed_tree = pipelines[0][1][:-1].transform(X_test)"
   ],
   "metadata": {
    "collapsed": false,
    "pycharm": {
     "name": "#%%\n"
    }
   }
  },
  {
   "cell_type": "code",
   "execution_count": 52,
   "outputs": [
    {
     "data": {
      "text/plain": "<Figure size 1200x600 with 2 Axes>",
      "image/png": "[encoded data removed]"
     },
     "metadata": {},
     "output_type": "display_data"
    },
    {
     "data": {
      "text/plain": "<Figure size 1200x600 with 2 Axes>",
      "image/png": "[encoded data removed]"
     },
     "metadata": {},
     "output_type": "display_data"
    },
    {
     "data": {
      "text/plain": "<Figure size 1200x600 with 2 Axes>",
      "image/png": "[encoded data removed]"
     },
     "metadata": {},
     "output_type": "display_data"
    },
    {
     "data": {
      "text/plain": "<Figure size 1200x600 with 2 Axes>",
      "image/png": "[encoded data removed]"
     },
     "metadata": {},
     "output_type": "display_data"
    }
   ],
   "source": [
    "import warnings\n",
    "\n",
    "results = pd.DataFrame(columns=[\"auc_train\", \"auc_test\"])\n",
    "\n",
    "with warnings.catch_warnings():\n",
    "    warnings.simplefilter(\"ignore\")\n",
    "    for name, pipeline in pipelines:\n",
    "        if name in ['XGB', 'LGBM', 'CatBoost', 'RFC']:\n",
    "            # Predict probabilities for training and test data\n",
    "            y_train_pred_proba = pipeline[-1].predict_proba(X_train_transformed_tree)[:, 1]\n",
    "            y_test_pred_proba = pipeline[-1].predict_proba(X_test_transformed_tree)[:, 1]\n",
    "\n",
    "            # Calculate AUC scores\n",
    "            auc_train = roc_auc_score(y_train, y_train_pred_proba)\n",
    "            auc_test = roc_auc_score(y_test, y_test_pred_proba)\n",
    "\n",
    "            # Add the results to the DataFrame\n",
    "            results.loc[name] = [auc_train, auc_test]\n",
    "\n",
    "            # Plot AUC curve\n",
    "            fig, axs = plt.subplots(1, 2, figsize=(12, 6))  # Create a figure with 1 row and 2 columns\n",
    "\n",
    "            # First subplot\n",
    "            axs[0].plot([0, 1], [0, 1], \"k--\")  # Diagonal line\n",
    "            plot_roc_curve(pipeline[-1], X_train_transformed_tree, y_train, ax=axs[0], label=f\"{name} (Train)\")\n",
    "            axs[0].set_title(f\"AUC Curve - {name} (Train)\")\n",
    "            axs[0].legend()\n",
    "\n",
    "            # Second subplot\n",
    "            axs[1].plot([0, 1], [0, 1], \"k--\")  # Diagonal line\n",
    "            plot_roc_curve(pipeline[-1], X_test_transformed_tree, y_test, ax=axs[1], label=f\"{name} (Test)\")\n",
    "            axs[1].set_title(f\"AUC Curve - {name} (Test)\")\n",
    "            axs[1].legend()\n",
    "\n",
    "            plt.tight_layout()  # Adjust spacing between subplots\n",
    "            plt.show()\n"
   ],
   "metadata": {
    "collapsed": false,
    "pycharm": {
     "name": "#%%\n"
    }
   }
  },
  {
   "cell_type": "code",
   "execution_count": 53,
   "outputs": [
    {
     "data": {
      "text/plain": "          auc_train  auc_test\nCatBoost   0.999825  0.999492\nLGBM       0.999635  0.999818\nRFC        0.999543  0.999391\nXGB        0.999831  0.999784",
      "text/html": "<div>\n<style scoped>\n    .dataframe tbody tr th:only-of-type {\n        vertical-align: middle;\n    }\n\n    .dataframe tbody tr th {\n        vertical-align: top;\n    }\n\n    .dataframe thead th {\n        text-align: right;\n    }\n</style>\n<table border=\"1\" class=\"dataframe\">\n  <thead>\n    <tr style=\"text-align: right;\">\n      <th></th>\n      <th>auc_train</th>\n      <th>auc_test</th>\n    </tr>\n  </thead>\n  <tbody>\n    <tr>\n      <th>CatBoost</th>\n      <td>0.999825</td>\n      <td>0.999492</td>\n    </tr>\n    <tr>\n      <th>LGBM</th>\n      <td>0.999635</td>\n      <td>0.999818</td>\n    </tr>\n    <tr>\n      <th>RFC</th>\n      <td>0.999543</td>\n      <td>0.999391</td>\n    </tr>\n    <tr>\n      <th>XGB</th>\n      <td>0.999831</td>\n      <td>0.999784</td>\n    </tr>\n  </tbody>\n</table>\n</div>"
     },
     "execution_count": 53,
     "metadata": {},
     "output_type": "execute_result"
    }
   ],
   "source": [
    "results"
   ],
   "metadata": {
    "collapsed": false,
    "pycharm": {
     "name": "#%%\n"
    }
   }
  },
  {
   "cell_type": "markdown",
   "source": [
    "##### linear"
   ],
   "metadata": {
    "collapsed": false,
    "pycharm": {
     "name": "#%% md\n"
    }
   }
  },
  {
   "cell_type": "code",
   "execution_count": 53,
   "outputs": [
    {
     "name": "stderr",
     "output_type": "stream",
     "text": [
      "\n",
      "KeyboardInterrupt\n",
      "\n"
     ]
    }
   ],
   "source": [
    "# 4 is Logistic Regression pipeline in my case\n",
    "X_train_transformed_linear = pipelines[4][1][:-1].transform(X_train)"
   ],
   "metadata": {
    "collapsed": false,
    "pycharm": {
     "name": "#%%\n"
    }
   }
  },
  {
   "cell_type": "code",
   "execution_count": 67,
   "outputs": [
    {
     "name": "stderr",
     "output_type": "stream",
     "text": [
      "C:\\Users\\dzmit\\anaconda3\\envs\\eurostars\\lib\\site-packages\\pandas\\core\\internals\\blocks.py:352: RuntimeWarning: divide by zero encountered in log\n",
      "  result = func(self.values, **kwargs)\n"
     ]
    }
   ],
   "source": [
    "X_test_transformed_linear = pipelines[4][1][:-1].transform(X_test)"
   ],
   "metadata": {
    "collapsed": false,
    "pycharm": {
     "name": "#%%\n"
    }
   }
  },
  {
   "cell_type": "code",
   "execution_count": 70,
   "outputs": [
    {
     "data": {
      "text/plain": "<Figure size 1200x600 with 2 Axes>",
      "image/png": "[encoded data removed]"
     },
     "metadata": {},
     "output_type": "display_data"
    },
    {
     "data": {
      "text/plain": "<Figure size 1200x600 with 2 Axes>",
      "image/png": "[encoded data removed]"
     },
     "metadata": {},
     "output_type": "display_data"
    }
   ],
   "source": [
    "with warnings.catch_warnings():\n",
    "    warnings.simplefilter(\"ignore\")\n",
    "    for name, pipeline in pipelines:\n",
    "        if name in ['LinReg', 'MLP']:\n",
    "            # Predict probabilities for training and test data\n",
    "            y_train_pred_proba = pipeline[-1].predict_proba(X_train_transformed_linear)[:, 1]\n",
    "            y_test_pred_proba = pipeline[-1].predict_proba(X_test_transformed_linear)[:, 1]\n",
    "\n",
    "            # Calculate AUC scores\n",
    "            auc_train = roc_auc_score(y_train, y_train_pred_proba)\n",
    "            auc_test = roc_auc_score(y_test, y_test_pred_proba)\n",
    "\n",
    "            # Add the results to the DataFrame\n",
    "            results.loc[name] = [auc_train, auc_test]\n",
    "\n",
    "            # Plot AUC curve\n",
    "            fig, axs = plt.subplots(1, 2, figsize=(12, 6))  # Create a figure with 1 row and 2 columns\n",
    "\n",
    "            # First subplot\n",
    "            axs[0].plot([0, 1], [0, 1], \"k--\")  # Diagonal line\n",
    "            plot_roc_curve(pipeline[-1], X_train_transformed_linear, y_train, ax=axs[0], label=f\"{name} (Train)\")\n",
    "            axs[0].set_title(f\"AUC Curve - {name} (Train)\")\n",
    "            axs[0].legend()\n",
    "\n",
    "            # Second subplot\n",
    "            axs[1].plot([0, 1], [0, 1], \"k--\")  # Diagonal line\n",
    "            plot_roc_curve(pipeline[-1], X_test_transformed_linear, y_test, ax=axs[1], label=f\"{name} (Test)\")\n",
    "            axs[1].set_title(f\"AUC Curve - {name} (Test)\")\n",
    "            axs[1].legend()\n",
    "\n",
    "            plt.tight_layout()  # Adjust spacing between subplots\n",
    "            plt.show()\n"
   ],
   "metadata": {
    "collapsed": false,
    "pycharm": {
     "name": "#%%\n"
    }
   }
  },
  {
   "cell_type": "code",
   "execution_count": 71,
   "outputs": [
    {
     "data": {
      "text/plain": "          auc_train  auc_test\nCatBoost   0.999825  0.999492\nLGBM       0.999635  0.999818\nRFC        0.999543  0.999391\nXGB        0.999831  0.999784\nMLP        0.998684  0.999271\nLinReg     0.998363  0.998757",
      "text/html": "<div>\n<style scoped>\n    .dataframe tbody tr th:only-of-type {\n        vertical-align: middle;\n    }\n\n    .dataframe tbody tr th {\n        vertical-align: top;\n    }\n\n    .dataframe thead th {\n        text-align: right;\n    }\n</style>\n<table border=\"1\" class=\"dataframe\">\n  <thead>\n    <tr style=\"text-align: right;\">\n      <th></th>\n      <th>auc_train</th>\n      <th>auc_test</th>\n    </tr>\n  </thead>\n  <tbody>\n    <tr>\n      <th>CatBoost</th>\n      <td>0.999825</td>\n      <td>0.999492</td>\n    </tr>\n    <tr>\n      <th>LGBM</th>\n      <td>0.999635</td>\n      <td>0.999818</td>\n    </tr>\n    <tr>\n      <th>RFC</th>\n      <td>0.999543</td>\n      <td>0.999391</td>\n    </tr>\n    <tr>\n      <th>XGB</th>\n      <td>0.999831</td>\n      <td>0.999784</td>\n    </tr>\n    <tr>\n      <th>MLP</th>\n      <td>0.998684</td>\n      <td>0.999271</td>\n    </tr>\n    <tr>\n      <th>LinReg</th>\n      <td>0.998363</td>\n      <td>0.998757</td>\n    </tr>\n  </tbody>\n</table>\n</div>"
     },
     "execution_count": 71,
     "metadata": {},
     "output_type": "execute_result"
    }
   ],
   "source": [
    "results"
   ],
   "metadata": {
    "collapsed": false,
    "pycharm": {
     "name": "#%%\n"
    }
   }
  },
  {
   "cell_type": "markdown",
   "source": [
    "#### Save model"
   ],
   "metadata": {
    "collapsed": false,
    "pycharm": {
     "name": "#%% md\n"
    }
   }
  },
  {
   "cell_type": "code",
   "execution_count": 65,
   "outputs": [],
   "source": [
    "from dataclasses import dataclass\n",
    "\n",
    "\n",
    "@dataclass(frozen=True)\n",
    "class ModelContainer:\n",
    "    pipeline_name: str\n",
    "    pipeline: Pipeline\n",
    "\n",
    "    @staticmethod\n",
    "    def create(\n",
    "            pipeline_name: str,\n",
    "            pipeline: Pipeline):\n",
    "        return ModelContainer(\n",
    "            pipeline_name=pipeline_name,\n",
    "            pipeline=pipeline,\n",
    "        )"
   ],
   "metadata": {
    "collapsed": false,
    "pycharm": {
     "name": "#%%\n"
    }
   }
  },
  {
   "cell_type": "code",
   "execution_count": 83,
   "outputs": [],
   "source": [
    "def save(filename: str, container: ModelContainer):\n",
    "    with gzip.open(filename, 'wb') as fp:\n",
    "        protocol = 3\n",
    "        pickle.dump(container, fp, protocol=protocol)"
   ],
   "metadata": {
    "collapsed": false,
    "pycharm": {
     "name": "#%%\n"
    }
   }
  },
  {
   "cell_type": "code",
   "execution_count": null,
   "outputs": [],
   "source": [
    "model_to_save = rfc\n",
    "model_to_save_name = 'RFC_pipeline'"
   ],
   "metadata": {
    "collapsed": false,
    "pycharm": {
     "name": "#%%\n"
    }
   }
  },
  {
   "cell_type": "code",
   "execution_count": null,
   "outputs": [],
   "source": [
    "save(\n",
    "    filename='some_file',\n",
    "    container=ModelContainer.create(\n",
    "        pipeline=model_to_save,\n",
    "        pipeline_name=model_to_save_name\n",
    "    )\n",
    ")"
   ],
   "metadata": {
    "collapsed": false,
    "pycharm": {
     "name": "#%%\n",
     "is_executing": true
    }
   }
  },
  {
   "cell_type": "markdown",
   "source": [
    "#### Advanced save models (don't run)"
   ],
   "metadata": {
    "collapsed": false,
    "pycharm": {
     "name": "#%% md\n"
    }
   }
  },
  {
   "cell_type": "code",
   "execution_count": 74,
   "outputs": [
    {
     "name": "stdout",
     "output_type": "stream",
     "text": [
      "data_mining_Dummy_mf_Pipeline_2023-05-23.bin.gz\n",
      "data_mining_Dummy_strf_Pipeline_2023-05-23.bin.gz\n",
      "data_mining_LinReg_Pipeline_2023-05-23.bin.gz\n",
      "data_mining_XGB_Pipeline_2023-05-23.bin.gz\n",
      "data_mining_LGBM_Pipeline_2023-05-23.bin.gz\n",
      "data_mining_RFC_Pipeline_2023-05-23.bin.gz\n",
      "data_mining_CatBoost_Pipeline_2023-05-23.bin.gz\n",
      "data_mining_MLP_Pipeline_2023-05-23.bin.gz\n"
     ]
    }
   ],
   "source": [
    "from src.common.prediction_model.persistence import FsModelPersistence\n",
    "from src.common.validation.metrics import aggregate_metrics\n",
    "from src.common.prediction_model.prediction_model import ModelContainer, ModelMetadata\n",
    "\n",
    "for name, pipeline in pipelines:\n",
    "    container = ModelContainer.create(\n",
    "        pipeline_name=f'data_mining_{name}',\n",
    "        pipeline=pipeline,\n",
    "        feature_names=[],\n",
    "        metadata=ModelMetadata(\n",
    "            model_name=str(pipeline.__class__.__name__),\n",
    "            **aggregate_metrics(metrics)['test'].loc[name]\n",
    "        )\n",
    "    )\n",
    "    persistor = FsModelPersistence()\n",
    "    filename = persistor.save(container)\n",
    "    print(filename)"
   ],
   "metadata": {
    "collapsed": false,
    "pycharm": {
     "name": "#%%\n"
    }
   }
  },
  {
   "cell_type": "markdown",
   "metadata": {
    "pycharm": {
     "name": "#%% md\n"
    }
   },
   "source": [
    "##### Hyperparameter optimization"
   ]
  },
  {
   "cell_type": "code",
   "execution_count": 52,
   "metadata": {
    "pycharm": {
     "name": "#%%\n"
    }
   },
   "outputs": [],
   "source": [
    "# processed_data = tree_data_pipeline.fit_transform(data[features], data[target])\n",
    "processed_data = linear_data_pipeline.fit_transform(data[features], data[target])"
   ]
  },
  {
   "cell_type": "code",
   "execution_count": 114,
   "metadata": {
    "pycharm": {
     "name": "#%%\n"
    }
   },
   "outputs": [],
   "source": [
    "X_train, X_test, y_train, y_test = train_test_split(processed_data, data[target], test_size=0.2, stratify=data[target])"
   ]
  },
  {
   "cell_type": "code",
   "execution_count": 98,
   "metadata": {
    "pycharm": {
     "name": "#%%\n"
    }
   },
   "outputs": [
    {
     "data": {
      "text/plain": [
       "((400000, 11), (100000, 11))"
      ]
     },
     "execution_count": 98,
     "metadata": {},
     "output_type": "execute_result"
    }
   ],
   "source": [
    "X_train.shape, X_test.shape  # X_cv.shape"
   ]
  },
  {
   "cell_type": "code",
   "execution_count": 56,
   "metadata": {
    "pycharm": {
     "name": "#%%\n"
    }
   },
   "outputs": [
    {
     "data": {
      "text/plain": "\"\\nbest_parameters = {'max_depth': None, 'min_samples_leaf': 1, 'min_samples_split': 2, 'n_estimators': 100}\\n\""
     },
     "execution_count": 56,
     "metadata": {},
     "output_type": "execute_result"
    }
   ],
   "source": [
    "# Define the parameter grid to search over\n",
    "param_grid = {\n",
    "    'n_estimators': [20, 50, 100, 200],\n",
    "    'max_depth': [None, 2, 5, 10],\n",
    "    'min_samples_split': [2, 5, 10],\n",
    "    'min_samples_leaf': [1, 2, 4],\n",
    "}\n",
    "\n",
    "# Create a RandomForestClassifier object\n",
    "rfc = RandomForestClassifier()\n",
    "\n",
    "\"\"\"\n",
    "best_parameters = {'max_depth': None, 'min_samples_leaf': 1, 'min_samples_split': 2, 'n_estimators': 100}\n",
    "\"\"\""
   ]
  },
  {
   "cell_type": "code",
   "execution_count": 100,
   "metadata": {
    "pycharm": {
     "name": "#%%\n"
    }
   },
   "outputs": [
    {
     "name": "stdout",
     "output_type": "stream",
     "text": [
      "Best parameters:  {'max_depth': None, 'min_samples_leaf': 1, 'min_samples_split': 2, 'n_estimators': 100}\n",
      "Best accuracy:  0.9999549999812495\n",
      "Computation tmie: 1992.9114995002747\n"
     ]
    }
   ],
   "source": [
    "# Create a GridSearchCV object and fit the data\n",
    "start = time.time()\n",
    "grid_search = GridSearchCV(rfc, param_grid=param_grid, cv=3, n_jobs=-1)\n",
    "grid_search.fit(X_train, y_train)\n",
    "\n",
    "# Print the best hyperparameters and accuracy score\n",
    "print(\"Best parameters: \", grid_search.best_params_)\n",
    "print(\"Best accuracy: \", grid_search.best_score_)\n",
    "end = time.time()\n",
    "print(f\"Computation tmie: {end - start}\")"
   ]
  },
  {
   "cell_type": "code",
   "execution_count": 57,
   "metadata": {
    "pycharm": {
     "name": "#%%\n"
    }
   },
   "outputs": [
    {
     "data": {
      "text/plain": "\"\\n{'C': 100, 'penalty': 'l2', 'solver': 'liblinear'}\\n\""
     },
     "execution_count": 57,
     "metadata": {},
     "output_type": "execute_result"
    }
   ],
   "source": [
    "# Define the parameter grid to search over\n",
    "param_grid = {\n",
    "    'penalty': ['l1', 'l2'],\n",
    "    'C': [0.1, 1, 10, 100],\n",
    "    'solver': ['liblinear', 'saga']\n",
    "}\n",
    "\n",
    "# Create a RandomForestClassifier object\n",
    "lr = LogisticRegression()\n",
    "\n",
    "\"\"\"\n",
    "{'C': 100, 'penalty': 'l2', 'solver': 'liblinear'}\n",
    "\"\"\""
   ]
  },
  {
   "cell_type": "code",
   "execution_count": 117,
   "metadata": {
    "pycharm": {
     "name": "#%%\n"
    }
   },
   "outputs": [
    {
     "name": "stdout",
     "output_type": "stream",
     "text": [
      "Best parameters:  {'C': 100, 'penalty': 'l2', 'solver': 'liblinear'}\n",
      "Best accuracy:  0.9998024998624979\n",
      "Computation tmie: 1396.4422016143799\n"
     ]
    }
   ],
   "source": [
    "# Create a GridSearchCV object and fit the data\n",
    "start = time.time()\n",
    "grid_search = GridSearchCV(lr, param_grid=param_grid, cv=3, n_jobs=-1)\n",
    "grid_search.fit(X_train, y_train)\n",
    "\n",
    "# Print the best hyperparameters and accuracy scoreB\n",
    "print(\"Best parameters: \", grid_search.best_params_)\n",
    "print(\"Best accuracy: \", grid_search.best_score_)\n",
    "end = time.time()\n",
    "print(f\"Computation tmie: {end - start}\")"
   ]
  },
  {
   "cell_type": "code",
   "execution_count": null,
   "outputs": [],
   "source": [],
   "metadata": {
    "collapsed": false,
    "pycharm": {
     "name": "#%%\n"
    }
   }
  },
  {
   "cell_type": "code",
   "execution_count": null,
   "outputs": [],
   "source": [],
   "metadata": {
    "collapsed": false,
    "pycharm": {
     "name": "#%%\n"
    }
   }
  },
  {
   "cell_type": "code",
   "execution_count": null,
   "outputs": [],
   "source": [],
   "metadata": {
    "collapsed": false,
    "pycharm": {
     "name": "#%%\n"
    }
   }
  },
  {
   "cell_type": "markdown",
   "source": [
    "#### Error analysis"
   ],
   "metadata": {
    "collapsed": false,
    "pycharm": {
     "name": "#%% md\n"
    }
   }
  },
  {
   "cell_type": "code",
   "execution_count": 180,
   "outputs": [],
   "source": [
    "misclassified_rows_not_processed = X_test.loc[y_pred_test != y_test]"
   ],
   "metadata": {
    "collapsed": false,
    "pycharm": {
     "name": "#%%\n"
    }
   }
  },
  {
   "cell_type": "code",
   "execution_count": 183,
   "outputs": [],
   "source": [
    "misclassified_rows = rfc[:-1].transform(misclassified_rows_not_processed)\n",
    "misclassified_rows = pd.DataFrame(misclassified_rows)\n",
    "misclassified_rows.columns = rfc[:-1].get_feature_names_out()"
   ],
   "metadata": {
    "collapsed": false,
    "pycharm": {
     "name": "#%%\n"
    }
   }
  },
  {
   "cell_type": "code",
   "execution_count": 189,
   "outputs": [],
   "source": [
    "misclassified_rows['isFraud'] = list(y_test[y_pred_test != y_test])"
   ],
   "metadata": {
    "collapsed": false,
    "pycharm": {
     "name": "#%%\n"
    }
   }
  },
  {
   "cell_type": "code",
   "execution_count": 191,
   "outputs": [
    {
     "data": {
      "text/plain": "   generator__ffg__oldbalanceOrg_amount_ratio  \\\n0                                    0.000000   \n1                                    0.000000   \n2                                    0.000000   \n3                                    0.645046   \n4                                    0.000000   \n5                                    0.000000   \n6                                    0.000000   \n7                                    0.000000   \n\n   generator__ffg__newbalanceOrig_amount_ratio  \\\n0                                          0.0   \n1                                          0.0   \n2                                          0.0   \n3                                          0.0   \n4                                          0.0   \n5                                          0.0   \n6                                          0.0   \n7                                          0.0   \n\n   generator__ffg__oldbalanceDest_amount_ratio  \\\n0                                     0.000000   \n1                                     0.000000   \n2                                     0.013416   \n3                                     4.350285   \n4                                     2.287159   \n5                                     0.000000   \n6                                     0.000000   \n7                                     1.844478   \n\n   generator__ffg__newbalanceDest_amount_ratio  \\\n0                                     1.000000   \n1                                     1.000000   \n2                                     1.013416   \n3                                     2.142205   \n4                                     3.287159   \n5                                     1.000000   \n6                                     1.000000   \n7                                     2.844478   \n\n   generator__ffg__dest_is_bigger_org  generator__cat__type  \\\n0                                 0.0              0.001814   \n1                                 0.0              0.001814   \n2                                 1.0              0.001814   \n3                                 1.0              0.007793   \n4                                 1.0              0.001814   \n5                                 0.0              0.001814   \n6                                 0.0              0.001814   \n7                                 1.0              0.001814   \n\n   preprocessor__imputer__amount  preprocessor__imputer__oldbalanceOrg  \\\n0                      454859.39                                  0.00   \n1                      277970.88                                  0.00   \n2                      222048.71                                  0.00   \n3                      123194.95                              79466.45   \n4                      112486.46                                  0.00   \n5                       40611.22                                  0.00   \n6                      230430.65                                  0.00   \n7                      332729.54                                  0.00   \n\n   preprocessor__imputer__newbalanceOrig  \\\n0                                    0.0   \n1                                    0.0   \n2                                    0.0   \n3                                    0.0   \n4                                    0.0   \n5                                    0.0   \n6                                    0.0   \n7                                    0.0   \n\n   preprocessor__imputer__oldbalanceDest  \\\n0                                   0.00   \n1                                   0.00   \n2                                2979.00   \n3                              535933.16   \n4                              257274.47   \n5                                   0.00   \n6                                   0.00   \n7                              613712.35   \n\n   preprocessor__imputer__newbalanceDest  isFraud  \n0                              454859.39        1  \n1                              277970.88        1  \n2                              225027.71        1  \n3                              263908.84        1  \n4                              369760.93        1  \n5                               40611.22        1  \n6                              230430.65        0  \n7                              946441.90        1  ",
      "text/html": "<div>\n<style scoped>\n    .dataframe tbody tr th:only-of-type {\n        vertical-align: middle;\n    }\n\n    .dataframe tbody tr th {\n        vertical-align: top;\n    }\n\n    .dataframe thead th {\n        text-align: right;\n    }\n</style>\n<table border=\"1\" class=\"dataframe\">\n  <thead>\n    <tr style=\"text-align: right;\">\n      <th></th>\n      <th>generator__ffg__oldbalanceOrg_amount_ratio</th>\n      <th>generator__ffg__newbalanceOrig_amount_ratio</th>\n      <th>generator__ffg__oldbalanceDest_amount_ratio</th>\n      <th>generator__ffg__newbalanceDest_amount_ratio</th>\n      <th>generator__ffg__dest_is_bigger_org</th>\n      <th>generator__cat__type</th>\n      <th>preprocessor__imputer__amount</th>\n      <th>preprocessor__imputer__oldbalanceOrg</th>\n      <th>preprocessor__imputer__newbalanceOrig</th>\n      <th>preprocessor__imputer__oldbalanceDest</th>\n      <th>preprocessor__imputer__newbalanceDest</th>\n      <th>isFraud</th>\n    </tr>\n  </thead>\n  <tbody>\n    <tr>\n      <th>0</th>\n      <td>0.000000</td>\n      <td>0.0</td>\n      <td>0.000000</td>\n      <td>1.000000</td>\n      <td>0.0</td>\n      <td>0.001814</td>\n      <td>454859.39</td>\n      <td>0.00</td>\n      <td>0.0</td>\n      <td>0.00</td>\n      <td>454859.39</td>\n      <td>1</td>\n    </tr>\n    <tr>\n      <th>1</th>\n      <td>0.000000</td>\n      <td>0.0</td>\n      <td>0.000000</td>\n      <td>1.000000</td>\n      <td>0.0</td>\n      <td>0.001814</td>\n      <td>277970.88</td>\n      <td>0.00</td>\n      <td>0.0</td>\n      <td>0.00</td>\n      <td>277970.88</td>\n      <td>1</td>\n    </tr>\n    <tr>\n      <th>2</th>\n      <td>0.000000</td>\n      <td>0.0</td>\n      <td>0.013416</td>\n      <td>1.013416</td>\n      <td>1.0</td>\n      <td>0.001814</td>\n      <td>222048.71</td>\n      <td>0.00</td>\n      <td>0.0</td>\n      <td>2979.00</td>\n      <td>225027.71</td>\n      <td>1</td>\n    </tr>\n    <tr>\n      <th>3</th>\n      <td>0.645046</td>\n      <td>0.0</td>\n      <td>4.350285</td>\n      <td>2.142205</td>\n      <td>1.0</td>\n      <td>0.007793</td>\n      <td>123194.95</td>\n      <td>79466.45</td>\n      <td>0.0</td>\n      <td>535933.16</td>\n      <td>263908.84</td>\n      <td>1</td>\n    </tr>\n    <tr>\n      <th>4</th>\n      <td>0.000000</td>\n      <td>0.0</td>\n      <td>2.287159</td>\n      <td>3.287159</td>\n      <td>1.0</td>\n      <td>0.001814</td>\n      <td>112486.46</td>\n      <td>0.00</td>\n      <td>0.0</td>\n      <td>257274.47</td>\n      <td>369760.93</td>\n      <td>1</td>\n    </tr>\n    <tr>\n      <th>5</th>\n      <td>0.000000</td>\n      <td>0.0</td>\n      <td>0.000000</td>\n      <td>1.000000</td>\n      <td>0.0</td>\n      <td>0.001814</td>\n      <td>40611.22</td>\n      <td>0.00</td>\n      <td>0.0</td>\n      <td>0.00</td>\n      <td>40611.22</td>\n      <td>1</td>\n    </tr>\n    <tr>\n      <th>6</th>\n      <td>0.000000</td>\n      <td>0.0</td>\n      <td>0.000000</td>\n      <td>1.000000</td>\n      <td>0.0</td>\n      <td>0.001814</td>\n      <td>230430.65</td>\n      <td>0.00</td>\n      <td>0.0</td>\n      <td>0.00</td>\n      <td>230430.65</td>\n      <td>0</td>\n    </tr>\n    <tr>\n      <th>7</th>\n      <td>0.000000</td>\n      <td>0.0</td>\n      <td>1.844478</td>\n      <td>2.844478</td>\n      <td>1.0</td>\n      <td>0.001814</td>\n      <td>332729.54</td>\n      <td>0.00</td>\n      <td>0.0</td>\n      <td>613712.35</td>\n      <td>946441.90</td>\n      <td>1</td>\n    </tr>\n  </tbody>\n</table>\n</div>"
     },
     "execution_count": 191,
     "metadata": {},
     "output_type": "execute_result"
    }
   ],
   "source": [
    "misclassified_rows"
   ],
   "metadata": {
    "collapsed": false,
    "pycharm": {
     "name": "#%%\n"
    }
   }
  },
  {
   "cell_type": "code",
   "execution_count": 204,
   "outputs": [],
   "source": [
    "fn = misclassified_rows.loc[misclassified_rows['isFraud'] == 1]\n",
    "fp = misclassified_rows.loc[misclassified_rows['isFraud'] == 0]"
   ],
   "metadata": {
    "collapsed": false,
    "pycharm": {
     "name": "#%%\n"
    }
   }
  },
  {
   "cell_type": "code",
   "execution_count": 193,
   "outputs": [],
   "source": [
    "# fn"
   ],
   "metadata": {
    "collapsed": false,
    "pycharm": {
     "name": "#%%\n"
    }
   }
  },
  {
   "cell_type": "code",
   "execution_count": 194,
   "outputs": [],
   "source": [
    "# fp"
   ],
   "metadata": {
    "collapsed": false,
    "pycharm": {
     "name": "#%%\n"
    }
   }
  },
  {
   "cell_type": "code",
   "execution_count": 208,
   "outputs": [],
   "source": [
    "standard_deviations_1 = pd.DataFrame(\n",
    "    X_train_transformed_tree,\n",
    "    columns=rfc[:-1].get_feature_names_out()\n",
    ").loc[pd.Series(y_train == 1).values].std()\n",
    "\n",
    "standard_deviations_0 = pd.DataFrame(\n",
    "    X_train_transformed_tree,\n",
    "    columns=rfc[:-1].get_feature_names_out()\n",
    ").loc[pd.Series(y_train == 0).values].std()"
   ],
   "metadata": {
    "collapsed": false,
    "pycharm": {
     "name": "#%%\n"
    }
   }
  },
  {
   "cell_type": "code",
   "execution_count": 209,
   "outputs": [
    {
     "data": {
      "text/plain": "generator__ffg__oldbalanceOrg_amount_ratio     3.820397e-01\ngenerator__ffg__newbalanceOrig_amount_ratio    3.897800e-01\ngenerator__ffg__oldbalanceDest_amount_ratio    1.401551e+01\ngenerator__ffg__newbalanceDest_amount_ratio    1.419892e+01\ngenerator__ffg__dest_is_bigger_org             3.796376e-01\ngenerator__cat__type                           2.938974e-03\npreprocessor__imputer__amount                  2.408219e+06\npreprocessor__imputer__oldbalanceOrg           3.565011e+06\npreprocessor__imputer__newbalanceOrig          1.990604e+06\npreprocessor__imputer__oldbalanceDest          3.512185e+06\npreprocessor__imputer__newbalanceDest          4.044634e+06\ndtype: float64"
     },
     "execution_count": 209,
     "metadata": {},
     "output_type": "execute_result"
    }
   ],
   "source": [
    "standard_deviations_1"
   ],
   "metadata": {
    "collapsed": false,
    "pycharm": {
     "name": "#%%\n"
    }
   }
  },
  {
   "cell_type": "code",
   "execution_count": 214,
   "outputs": [
    {
     "data": {
      "text/plain": "generator__ffg__oldbalanceOrg_amount_ratio      1.688427\ngenerator__ffg__newbalanceOrig_amount_ratio     0.000000\ngenerator__ffg__oldbalanceDest_amount_ratio     0.606138\ngenerator__ffg__newbalanceDest_amount_ratio     0.865366\ngenerator__ffg__dest_is_bigger_org             10.536365\ngenerator__cat__type                            6.355374\npreprocessor__imputer__amount                   0.649401\npreprocessor__imputer__oldbalanceOrg            0.022291\npreprocessor__imputer__newbalanceOrig           0.000000\npreprocessor__imputer__oldbalanceDest           0.401431\npreprocessor__imputer__newbalanceDest           0.637531\ndtype: float64"
     },
     "execution_count": 214,
     "metadata": {},
     "output_type": "execute_result"
    }
   ],
   "source": [
    "(fn[standard_deviations_1.index] / standard_deviations_1).sum(axis=0)"
   ],
   "metadata": {
    "collapsed": false,
    "pycharm": {
     "name": "#%%\n"
    }
   }
  },
  {
   "cell_type": "code",
   "execution_count": 241,
   "outputs": [],
   "source": [
    "fn_deviations = fn[standard_deviations_1.index] / standard_deviations_1\n",
    "fp_deviations = fp[standard_deviations_0.index] / standard_deviations_0"
   ],
   "metadata": {
    "collapsed": false,
    "pycharm": {
     "name": "#%%\n"
    }
   }
  },
  {
   "cell_type": "code",
   "execution_count": 242,
   "outputs": [
    {
     "data": {
      "text/plain": "   generator__ffg__oldbalanceOrg_amount_ratio  \\\n0                                    0.000000   \n1                                    0.000000   \n2                                    0.000000   \n3                                    1.688427   \n4                                    0.000000   \n5                                    0.000000   \n7                                    0.000000   \n\n   generator__ffg__newbalanceOrig_amount_ratio  \\\n0                                          0.0   \n1                                          0.0   \n2                                          0.0   \n3                                          0.0   \n4                                          0.0   \n5                                          0.0   \n7                                          0.0   \n\n   generator__ffg__oldbalanceDest_amount_ratio  \\\n0                                     0.000000   \n1                                     0.000000   \n2                                     0.000957   \n3                                     0.310391   \n4                                     0.163188   \n5                                     0.000000   \n7                                     0.131603   \n\n   generator__ffg__newbalanceDest_amount_ratio  \\\n0                                     0.070428   \n1                                     0.070428   \n2                                     0.071373   \n3                                     0.150871   \n4                                     0.231508   \n5                                     0.070428   \n7                                     0.200331   \n\n   generator__ffg__dest_is_bigger_org  generator__cat__type  \\\n0                            0.000000              0.617266   \n1                            0.000000              0.617266   \n2                            2.634091              0.617266   \n3                            2.634091              2.651776   \n4                            2.634091              0.617266   \n5                            0.000000              0.617266   \n7                            2.634091              0.617266   \n\n   preprocessor__imputer__amount  preprocessor__imputer__oldbalanceOrg  \\\n0                       0.188878                              0.000000   \n1                       0.115426                              0.000000   \n2                       0.092205                              0.000000   \n3                       0.051156                              0.022291   \n4                       0.046709                              0.000000   \n5                       0.016864                              0.000000   \n7                       0.138164                              0.000000   \n\n   preprocessor__imputer__newbalanceOrig  \\\n0                                    0.0   \n1                                    0.0   \n2                                    0.0   \n3                                    0.0   \n4                                    0.0   \n5                                    0.0   \n7                                    0.0   \n\n   preprocessor__imputer__oldbalanceDest  \\\n0                               0.000000   \n1                               0.000000   \n2                               0.000848   \n3                               0.152593   \n4                               0.073252   \n5                               0.000000   \n7                               0.174738   \n\n   preprocessor__imputer__newbalanceDest  \n0                               0.112460  \n1                               0.068726  \n2                               0.055636  \n3                               0.065249  \n4                               0.091420  \n5                               0.010041  \n7                               0.233999  ",
      "text/html": "<div>\n<style scoped>\n    .dataframe tbody tr th:only-of-type {\n        vertical-align: middle;\n    }\n\n    .dataframe tbody tr th {\n        vertical-align: top;\n    }\n\n    .dataframe thead th {\n        text-align: right;\n    }\n</style>\n<table border=\"1\" class=\"dataframe\">\n  <thead>\n    <tr style=\"text-align: right;\">\n      <th></th>\n      <th>generator__ffg__oldbalanceOrg_amount_ratio</th>\n      <th>generator__ffg__newbalanceOrig_amount_ratio</th>\n      <th>generator__ffg__oldbalanceDest_amount_ratio</th>\n      <th>generator__ffg__newbalanceDest_amount_ratio</th>\n      <th>generator__ffg__dest_is_bigger_org</th>\n      <th>generator__cat__type</th>\n      <th>preprocessor__imputer__amount</th>\n      <th>preprocessor__imputer__oldbalanceOrg</th>\n      <th>preprocessor__imputer__newbalanceOrig</th>\n      <th>preprocessor__imputer__oldbalanceDest</th>\n      <th>preprocessor__imputer__newbalanceDest</th>\n    </tr>\n  </thead>\n  <tbody>\n    <tr>\n      <th>0</th>\n      <td>0.000000</td>\n      <td>0.0</td>\n      <td>0.000000</td>\n      <td>0.070428</td>\n      <td>0.000000</td>\n      <td>0.617266</td>\n      <td>0.188878</td>\n      <td>0.000000</td>\n      <td>0.0</td>\n      <td>0.000000</td>\n      <td>0.112460</td>\n    </tr>\n    <tr>\n      <th>1</th>\n      <td>0.000000</td>\n      <td>0.0</td>\n      <td>0.000000</td>\n      <td>0.070428</td>\n      <td>0.000000</td>\n      <td>0.617266</td>\n      <td>0.115426</td>\n      <td>0.000000</td>\n      <td>0.0</td>\n      <td>0.000000</td>\n      <td>0.068726</td>\n    </tr>\n    <tr>\n      <th>2</th>\n      <td>0.000000</td>\n      <td>0.0</td>\n      <td>0.000957</td>\n      <td>0.071373</td>\n      <td>2.634091</td>\n      <td>0.617266</td>\n      <td>0.092205</td>\n      <td>0.000000</td>\n      <td>0.0</td>\n      <td>0.000848</td>\n      <td>0.055636</td>\n    </tr>\n    <tr>\n      <th>3</th>\n      <td>1.688427</td>\n      <td>0.0</td>\n      <td>0.310391</td>\n      <td>0.150871</td>\n      <td>2.634091</td>\n      <td>2.651776</td>\n      <td>0.051156</td>\n      <td>0.022291</td>\n      <td>0.0</td>\n      <td>0.152593</td>\n      <td>0.065249</td>\n    </tr>\n    <tr>\n      <th>4</th>\n      <td>0.000000</td>\n      <td>0.0</td>\n      <td>0.163188</td>\n      <td>0.231508</td>\n      <td>2.634091</td>\n      <td>0.617266</td>\n      <td>0.046709</td>\n      <td>0.000000</td>\n      <td>0.0</td>\n      <td>0.073252</td>\n      <td>0.091420</td>\n    </tr>\n    <tr>\n      <th>5</th>\n      <td>0.000000</td>\n      <td>0.0</td>\n      <td>0.000000</td>\n      <td>0.070428</td>\n      <td>0.000000</td>\n      <td>0.617266</td>\n      <td>0.016864</td>\n      <td>0.000000</td>\n      <td>0.0</td>\n      <td>0.000000</td>\n      <td>0.010041</td>\n    </tr>\n    <tr>\n      <th>7</th>\n      <td>0.000000</td>\n      <td>0.0</td>\n      <td>0.131603</td>\n      <td>0.200331</td>\n      <td>2.634091</td>\n      <td>0.617266</td>\n      <td>0.138164</td>\n      <td>0.000000</td>\n      <td>0.0</td>\n      <td>0.174738</td>\n      <td>0.233999</td>\n    </tr>\n  </tbody>\n</table>\n</div>"
     },
     "execution_count": 242,
     "metadata": {},
     "output_type": "execute_result"
    }
   ],
   "source": [
    "fn_deviations"
   ],
   "metadata": {
    "collapsed": false,
    "pycharm": {
     "name": "#%%\n"
    }
   }
  },
  {
   "cell_type": "code",
   "execution_count": 255,
   "outputs": [
    {
     "name": "stdout",
     "output_type": "stream",
     "text": [
      "Maximum deviation in row 0: generator__cat__type               0.6172664159444816\n",
      "Maximum deviation in row 1: generator__cat__type               0.6172664159444816\n",
      "Maximum deviation in row 2: generator__ffg__dest_is_bigger_org 2.6340911824381865\n",
      "Maximum deviation in row 3: generator__cat__type               2.651775931395681\n",
      "Maximum deviation in row 4: generator__ffg__dest_is_bigger_org 2.6340911824381865\n",
      "Maximum deviation in row 5: generator__cat__type               0.6172664159444816\n",
      "Maximum deviation in row 7: generator__ffg__dest_is_bigger_org 2.6340911824381865\n"
     ]
    }
   ],
   "source": [
    "# Iterate over rows and get index of maximum value\n",
    "for index, row in fn_deviations.iterrows():\n",
    "    max_index = row.idxmax()\n",
    "    max_value = row.max()\n",
    "    print(f\"Maximum deviation in row {index}: {max_index:<35}{max_value}\")\n"
   ],
   "metadata": {
    "collapsed": false,
    "pycharm": {
     "name": "#%%\n"
    }
   }
  },
  {
   "cell_type": "code",
   "execution_count": 256,
   "outputs": [
    {
     "name": "stdout",
     "output_type": "stream",
     "text": [
      "Index of maximum value in row 6: generator__cat__type               0.8573807052441013\n"
     ]
    }
   ],
   "source": [
    "# Iterate over rows and get index of maximum value\n",
    "for index, row in fp_deviations.iterrows():\n",
    "    max_index = row.idxmax()\n",
    "    max_value = row.max()\n",
    "    print(f\"Index of maximum value in row {index}: {max_index:<35}{max_value}\")\n"
   ],
   "metadata": {
    "collapsed": false,
    "pycharm": {
     "name": "#%%\n"
    }
   }
  },
  {
   "cell_type": "code",
   "execution_count": 246,
   "outputs": [],
   "source": [
    "# misclassified_rows_not_processed"
   ],
   "metadata": {
    "collapsed": false,
    "pycharm": {
     "name": "#%%\n"
    }
   }
  },
  {
   "cell_type": "code",
   "execution_count": 247,
   "outputs": [
    {
     "data": {
      "text/plain": "   generator__ffg__oldbalanceOrg_amount_ratio  \\\n6                                         0.0   \n\n   generator__ffg__newbalanceOrig_amount_ratio  \\\n6                                          0.0   \n\n   generator__ffg__oldbalanceDest_amount_ratio  \\\n6                                          0.0   \n\n   generator__ffg__newbalanceDest_amount_ratio  \\\n6                                     0.047831   \n\n   generator__ffg__dest_is_bigger_org  generator__cat__type  \\\n6                                 0.0              0.857381   \n\n   preprocessor__imputer__amount  preprocessor__imputer__oldbalanceOrg  \\\n6                       0.389018                                   0.0   \n\n   preprocessor__imputer__newbalanceOrig  \\\n6                                    0.0   \n\n   preprocessor__imputer__oldbalanceDest  \\\n6                                    0.0   \n\n   preprocessor__imputer__newbalanceDest  \n6                               0.062952  ",
      "text/html": "<div>\n<style scoped>\n    .dataframe tbody tr th:only-of-type {\n        vertical-align: middle;\n    }\n\n    .dataframe tbody tr th {\n        vertical-align: top;\n    }\n\n    .dataframe thead th {\n        text-align: right;\n    }\n</style>\n<table border=\"1\" class=\"dataframe\">\n  <thead>\n    <tr style=\"text-align: right;\">\n      <th></th>\n      <th>generator__ffg__oldbalanceOrg_amount_ratio</th>\n      <th>generator__ffg__newbalanceOrig_amount_ratio</th>\n      <th>generator__ffg__oldbalanceDest_amount_ratio</th>\n      <th>generator__ffg__newbalanceDest_amount_ratio</th>\n      <th>generator__ffg__dest_is_bigger_org</th>\n      <th>generator__cat__type</th>\n      <th>preprocessor__imputer__amount</th>\n      <th>preprocessor__imputer__oldbalanceOrg</th>\n      <th>preprocessor__imputer__newbalanceOrig</th>\n      <th>preprocessor__imputer__oldbalanceDest</th>\n      <th>preprocessor__imputer__newbalanceDest</th>\n    </tr>\n  </thead>\n  <tbody>\n    <tr>\n      <th>6</th>\n      <td>0.0</td>\n      <td>0.0</td>\n      <td>0.0</td>\n      <td>0.047831</td>\n      <td>0.0</td>\n      <td>0.857381</td>\n      <td>0.389018</td>\n      <td>0.0</td>\n      <td>0.0</td>\n      <td>0.0</td>\n      <td>0.062952</td>\n    </tr>\n  </tbody>\n</table>\n</div>"
     },
     "execution_count": 247,
     "metadata": {},
     "output_type": "execute_result"
    }
   ],
   "source": [
    "fp_deviations"
   ],
   "metadata": {
    "collapsed": false,
    "pycharm": {
     "name": "#%%\n"
    }
   }
  },
  {
   "cell_type": "code",
   "execution_count": null,
   "outputs": [],
   "source": [],
   "metadata": {
    "collapsed": false,
    "pycharm": {
     "name": "#%%\n"
    }
   }
  }
 ],
 "metadata": {
  "kernelspec": {
   "display_name": "Python 3 (ipykernel)",
   "language": "python",
   "name": "python3"
  },
  "language_info": {
   "codemirror_mode": {
    "name": "ipython",
    "version": 3
   },
   "file_extension": ".py",
   "mimetype": "text/x-python",
   "name": "python",
   "nbconvert_exporter": "python",
   "pygments_lexer": "ipython3",
   "version": "3.9.12"
  },
  "vscode": {
   "interpreter": {
    "hash": "7f55550e77323d67b6ecc193cd2e5d66a57e017d7db72e2119e5097fca24649a"
   }
  }
 },
 "nbformat": 4,
 "nbformat_minor": 2
}